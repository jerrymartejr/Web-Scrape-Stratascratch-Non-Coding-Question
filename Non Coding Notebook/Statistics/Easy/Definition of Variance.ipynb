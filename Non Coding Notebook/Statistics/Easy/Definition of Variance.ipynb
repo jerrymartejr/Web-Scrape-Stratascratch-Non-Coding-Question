{
 "cells": [
  {
   "cell_type": "markdown",
   "id": "3b040376",
   "metadata": {},
   "source": [
    "### **Link:** https://platform.stratascratch.com/technical/2243-definition-of-variance"
   ]
  },
  {
   "cell_type": "markdown",
   "id": "723fc371",
   "metadata": {},
   "source": [
    "### **ID:** ID 2243"
   ]
  },
  {
   "cell_type": "markdown",
   "id": "284d0c62",
   "metadata": {},
   "source": [
    "# Definition of Variance"
   ]
  },
  {
   "cell_type": "markdown",
   "id": "3363ab1b",
   "metadata": {},
   "source": [
    "### **Difficulty:** Easy"
   ]
  },
  {
   "cell_type": "markdown",
   "id": "47a86a0c",
   "metadata": {},
   "source": [
    "### **Question Type:** Statistics"
   ]
  },
  {
   "cell_type": "markdown",
   "id": "61b5882b",
   "metadata": {},
   "source": [
    "### **Company:** Microsoft"
   ]
  },
  {
   "cell_type": "markdown",
   "id": "013fd264",
   "metadata": {},
   "source": [
    "## **Description:**"
   ]
  },
  {
   "cell_type": "markdown",
   "id": "15341b88",
   "metadata": {},
   "source": [
    "What is the definition of the variance?"
   ]
  },
  {
   "cell_type": "markdown",
   "id": "f2492495",
   "metadata": {},
   "source": [
    "## **Solution:**"
   ]
  },
  {
   "cell_type": "code",
   "execution_count": null,
   "id": "fecd3ed8",
   "metadata": {},
   "outputs": [],
   "source": []
  }
 ],
 "metadata": {},
 "nbformat": 4,
 "nbformat_minor": 5
}
