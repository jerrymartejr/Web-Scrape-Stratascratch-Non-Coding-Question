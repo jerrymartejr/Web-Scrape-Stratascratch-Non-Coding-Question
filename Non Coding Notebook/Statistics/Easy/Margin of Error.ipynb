{
 "cells": [
  {
   "cell_type": "markdown",
   "id": "d4449384",
   "metadata": {},
   "source": [
    "### **Link:** https://platform.stratascratch.com/technical/2315-margin-of-error"
   ]
  },
  {
   "cell_type": "markdown",
   "id": "05d55475",
   "metadata": {},
   "source": [
    "### **ID:** ID 2315"
   ]
  },
  {
   "cell_type": "markdown",
   "id": "616c81ad",
   "metadata": {},
   "source": [
    "# Margin of Error"
   ]
  },
  {
   "cell_type": "markdown",
   "id": "308a6132",
   "metadata": {},
   "source": [
    "### **Difficulty:** Easy"
   ]
  },
  {
   "cell_type": "markdown",
   "id": "c6a6bb09",
   "metadata": {},
   "source": [
    "### **Question Type:** Statistics"
   ]
  },
  {
   "cell_type": "markdown",
   "id": "43fc8f0a",
   "metadata": {},
   "source": [
    "### **Company:** Google, Microsoft"
   ]
  },
  {
   "cell_type": "markdown",
   "id": "52377c64",
   "metadata": {},
   "source": [
    "## **Description:**"
   ]
  },
  {
   "cell_type": "markdown",
   "id": "0592b478",
   "metadata": {},
   "source": [
    "For sample size n, the margin of error is 3. How many more samples do we need to bring the margin of error down to 0.3?"
   ]
  },
  {
   "cell_type": "markdown",
   "id": "e09a44b1",
   "metadata": {},
   "source": [
    "## **Solution:**"
   ]
  },
  {
   "cell_type": "code",
   "execution_count": null,
   "id": "89501eb2",
   "metadata": {},
   "outputs": [],
   "source": []
  }
 ],
 "metadata": {},
 "nbformat": 4,
 "nbformat_minor": 5
}
