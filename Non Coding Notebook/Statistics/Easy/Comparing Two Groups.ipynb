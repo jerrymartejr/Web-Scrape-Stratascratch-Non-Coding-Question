{
 "cells": [
  {
   "cell_type": "markdown",
   "id": "bffb976a",
   "metadata": {},
   "source": [
    "### **Link:** https://platform.stratascratch.com/technical/2343-comparing-two-groups"
   ]
  },
  {
   "cell_type": "markdown",
   "id": "ebba8c37",
   "metadata": {},
   "source": [
    "### **ID:** ID 2343"
   ]
  },
  {
   "cell_type": "markdown",
   "id": "90f495c9",
   "metadata": {},
   "source": [
    "# Comparing Two Groups"
   ]
  },
  {
   "cell_type": "markdown",
   "id": "229aa381",
   "metadata": {},
   "source": [
    "### **Difficulty:** Easy"
   ]
  },
  {
   "cell_type": "markdown",
   "id": "e50ba3e8",
   "metadata": {},
   "source": [
    "### **Question Type:** Statistics"
   ]
  },
  {
   "cell_type": "markdown",
   "id": "5247b6b5",
   "metadata": {},
   "source": [
    "### **Company:** Glassdoor"
   ]
  },
  {
   "cell_type": "markdown",
   "id": "b45fbf3a",
   "metadata": {},
   "source": [
    "## **Description:**"
   ]
  },
  {
   "cell_type": "markdown",
   "id": "dcd956d4",
   "metadata": {},
   "source": [
    "What statistical methods would you use to compare two populations or groups of a population to find significant differences or similarities?"
   ]
  },
  {
   "cell_type": "markdown",
   "id": "3ea9a11c",
   "metadata": {},
   "source": [
    "## **Solution:**"
   ]
  },
  {
   "cell_type": "code",
   "execution_count": null,
   "id": "35c84791",
   "metadata": {},
   "outputs": [],
   "source": []
  }
 ],
 "metadata": {},
 "nbformat": 4,
 "nbformat_minor": 5
}
