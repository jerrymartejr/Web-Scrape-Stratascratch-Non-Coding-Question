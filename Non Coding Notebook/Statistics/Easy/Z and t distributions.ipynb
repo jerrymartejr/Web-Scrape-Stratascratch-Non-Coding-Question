{
 "cells": [
  {
   "cell_type": "markdown",
   "id": "5bce7551",
   "metadata": {},
   "source": [
    "### **Link:** https://platform.stratascratch.com/technical/2371-z-and-t-distributions"
   ]
  },
  {
   "cell_type": "markdown",
   "id": "37501f49",
   "metadata": {},
   "source": [
    "### **ID:** ID 2371"
   ]
  },
  {
   "cell_type": "markdown",
   "id": "8e34eb8f",
   "metadata": {},
   "source": [
    "# Z and t distributions"
   ]
  },
  {
   "cell_type": "markdown",
   "id": "181e0780",
   "metadata": {},
   "source": [
    "### **Difficulty:** Easy"
   ]
  },
  {
   "cell_type": "markdown",
   "id": "ba607c75",
   "metadata": {},
   "source": [
    "### **Question Type:** Statistics"
   ]
  },
  {
   "cell_type": "markdown",
   "id": "ca54ed46",
   "metadata": {},
   "source": [
    "### **Company:** SAP"
   ]
  },
  {
   "cell_type": "markdown",
   "id": "b2a70708",
   "metadata": {},
   "source": [
    "## **Description:**"
   ]
  },
  {
   "cell_type": "markdown",
   "id": "a7a40ac0",
   "metadata": {},
   "source": [
    "What is the difference between the standard normal distribution (Z-distribution) and the Student's t-distribution?"
   ]
  },
  {
   "cell_type": "markdown",
   "id": "153617c5",
   "metadata": {},
   "source": [
    "## **Solution:**"
   ]
  },
  {
   "cell_type": "code",
   "execution_count": null,
   "id": "e52176ce",
   "metadata": {},
   "outputs": [],
   "source": []
  }
 ],
 "metadata": {},
 "nbformat": 4,
 "nbformat_minor": 5
}
