{
 "cells": [
  {
   "cell_type": "markdown",
   "id": "5c3da3d7",
   "metadata": {},
   "source": [
    "### **Link:** https://platform.stratascratch.com/technical/2327-precision-and-recall"
   ]
  },
  {
   "cell_type": "markdown",
   "id": "d59107ea",
   "metadata": {},
   "source": [
    "### **ID:** ID 2327"
   ]
  },
  {
   "cell_type": "markdown",
   "id": "3f8c8fa4",
   "metadata": {},
   "source": [
    "# Precision and Recall"
   ]
  },
  {
   "cell_type": "markdown",
   "id": "44e33e39",
   "metadata": {},
   "source": [
    "### **Difficulty:** Easy"
   ]
  },
  {
   "cell_type": "markdown",
   "id": "aa70f22f",
   "metadata": {},
   "source": [
    "### **Question Type:** Statistics"
   ]
  },
  {
   "cell_type": "markdown",
   "id": "77fe2ed5",
   "metadata": {},
   "source": [
    "### **Company:** Intuit"
   ]
  },
  {
   "cell_type": "markdown",
   "id": "56dde97e",
   "metadata": {},
   "source": [
    "## **Description:**"
   ]
  },
  {
   "cell_type": "markdown",
   "id": "e966ca88",
   "metadata": {},
   "source": [
    "Provide formulas for precision and recall."
   ]
  },
  {
   "cell_type": "markdown",
   "id": "c157c1c4",
   "metadata": {},
   "source": [
    "## **Solution:**"
   ]
  },
  {
   "cell_type": "code",
   "execution_count": null,
   "id": "edc8822e",
   "metadata": {},
   "outputs": [],
   "source": []
  }
 ],
 "metadata": {},
 "nbformat": 4,
 "nbformat_minor": 5
}
