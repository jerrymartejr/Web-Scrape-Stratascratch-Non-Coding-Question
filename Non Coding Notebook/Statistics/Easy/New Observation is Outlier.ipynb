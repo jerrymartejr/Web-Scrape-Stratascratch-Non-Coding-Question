{
 "cells": [
  {
   "cell_type": "markdown",
   "id": "a8f95056",
   "metadata": {},
   "source": [
    "### **Link:** https://platform.stratascratch.com/technical/2231-new-observation-is-outlier"
   ]
  },
  {
   "cell_type": "markdown",
   "id": "33e9b97f",
   "metadata": {},
   "source": [
    "### **ID:** ID 2231"
   ]
  },
  {
   "cell_type": "markdown",
   "id": "25419f4b",
   "metadata": {},
   "source": [
    "# New Observation is Outlier"
   ]
  },
  {
   "cell_type": "markdown",
   "id": "24e18587",
   "metadata": {},
   "source": [
    "### **Difficulty:** Easy"
   ]
  },
  {
   "cell_type": "markdown",
   "id": "ecb577ae",
   "metadata": {},
   "source": [
    "### **Question Type:** Statistics"
   ]
  },
  {
   "cell_type": "markdown",
   "id": "0c290a2e",
   "metadata": {},
   "source": [
    "### **Company:** Microsoft"
   ]
  },
  {
   "cell_type": "markdown",
   "id": "7ccc6e73",
   "metadata": {},
   "source": [
    "## **Description:**"
   ]
  },
  {
   "cell_type": "markdown",
   "id": "9bfb2360",
   "metadata": {},
   "source": [
    "How do you detect if a new observation is outlier?"
   ]
  },
  {
   "cell_type": "markdown",
   "id": "8f6ba228",
   "metadata": {},
   "source": [
    "## **Solution:**"
   ]
  },
  {
   "cell_type": "code",
   "execution_count": null,
   "id": "77a0c0c9",
   "metadata": {},
   "outputs": [],
   "source": []
  }
 ],
 "metadata": {},
 "nbformat": 4,
 "nbformat_minor": 5
}
