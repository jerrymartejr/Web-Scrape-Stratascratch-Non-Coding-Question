{
 "cells": [
  {
   "cell_type": "markdown",
   "id": "0a83f624",
   "metadata": {},
   "source": [
    "### **Link:** https://platform.stratascratch.com/technical/2372-outliers-detection"
   ]
  },
  {
   "cell_type": "markdown",
   "id": "01cbaef3",
   "metadata": {},
   "source": [
    "### **ID:** ID 2372"
   ]
  },
  {
   "cell_type": "markdown",
   "id": "ee58e489",
   "metadata": {},
   "source": [
    "# Outliers Detection"
   ]
  },
  {
   "cell_type": "markdown",
   "id": "b0e2e271",
   "metadata": {},
   "source": [
    "### **Difficulty:** Easy"
   ]
  },
  {
   "cell_type": "markdown",
   "id": "be238f84",
   "metadata": {},
   "source": [
    "### **Question Type:** Statistics"
   ]
  },
  {
   "cell_type": "markdown",
   "id": "3be5450b",
   "metadata": {},
   "source": [
    "### **Company:** IBM, Dell"
   ]
  },
  {
   "cell_type": "markdown",
   "id": "cf213aed",
   "metadata": {},
   "source": [
    "## **Description:**"
   ]
  },
  {
   "cell_type": "markdown",
   "id": "6bf9e317",
   "metadata": {},
   "source": [
    "What methods would you use to detect outliers in a dataset?"
   ]
  },
  {
   "cell_type": "markdown",
   "id": "de326854",
   "metadata": {},
   "source": [
    "## **Solution:**"
   ]
  },
  {
   "cell_type": "code",
   "execution_count": null,
   "id": "082253f6",
   "metadata": {},
   "outputs": [],
   "source": []
  }
 ],
 "metadata": {},
 "nbformat": 4,
 "nbformat_minor": 5
}
