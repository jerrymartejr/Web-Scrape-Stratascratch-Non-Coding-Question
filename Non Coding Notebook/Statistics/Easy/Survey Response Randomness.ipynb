{
 "cells": [
  {
   "cell_type": "markdown",
   "id": "4ccef1f6",
   "metadata": {},
   "source": [
    "### **Link:** https://platform.stratascratch.com/technical/2205-survey-response-randomness"
   ]
  },
  {
   "cell_type": "markdown",
   "id": "d886be18",
   "metadata": {},
   "source": [
    "### **ID:** ID 2205"
   ]
  },
  {
   "cell_type": "markdown",
   "id": "b65b1905",
   "metadata": {},
   "source": [
    "# Survey Response Randomness"
   ]
  },
  {
   "cell_type": "markdown",
   "id": "ff576fa9",
   "metadata": {},
   "source": [
    "### **Difficulty:** Easy"
   ]
  },
  {
   "cell_type": "markdown",
   "id": "95ff5df2",
   "metadata": {},
   "source": [
    "### **Question Type:** Statistics"
   ]
  },
  {
   "cell_type": "markdown",
   "id": "a4947bbb",
   "metadata": {},
   "source": [
    "### **Company:** Glassdoor"
   ]
  },
  {
   "cell_type": "markdown",
   "id": "17556e93",
   "metadata": {},
   "source": [
    "## **Description:**"
   ]
  },
  {
   "cell_type": "markdown",
   "id": "3f73d726",
   "metadata": {},
   "source": [
    "How would you test if survey responses were filled at random by certain individuals, as opposed to truthful selections?"
   ]
  },
  {
   "cell_type": "markdown",
   "id": "bdb55677",
   "metadata": {},
   "source": [
    "## **Solution:**"
   ]
  },
  {
   "cell_type": "code",
   "execution_count": null,
   "id": "2c2e7542",
   "metadata": {},
   "outputs": [],
   "source": []
  }
 ],
 "metadata": {},
 "nbformat": 4,
 "nbformat_minor": 5
}
