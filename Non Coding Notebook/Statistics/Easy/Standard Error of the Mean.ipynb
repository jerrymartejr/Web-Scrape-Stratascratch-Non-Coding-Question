{
 "cells": [
  {
   "cell_type": "markdown",
   "id": "4f570fe0",
   "metadata": {},
   "source": [
    "### **Link:** https://platform.stratascratch.com/technical/2361-standard-error-of-the-mean"
   ]
  },
  {
   "cell_type": "markdown",
   "id": "79e41ca0",
   "metadata": {},
   "source": [
    "### **ID:** ID 2361"
   ]
  },
  {
   "cell_type": "markdown",
   "id": "ea2999f4",
   "metadata": {},
   "source": [
    "# Standard Error of the Mean"
   ]
  },
  {
   "cell_type": "markdown",
   "id": "fea8311f",
   "metadata": {},
   "source": [
    "### **Difficulty:** Easy"
   ]
  },
  {
   "cell_type": "markdown",
   "id": "88d900af",
   "metadata": {},
   "source": [
    "### **Question Type:** Statistics"
   ]
  },
  {
   "cell_type": "markdown",
   "id": "abccede5",
   "metadata": {},
   "source": [
    "### **Company:** Google"
   ]
  },
  {
   "cell_type": "markdown",
   "id": "adb766be",
   "metadata": {},
   "source": [
    "## **Description:**"
   ]
  },
  {
   "cell_type": "markdown",
   "id": "659316b6",
   "metadata": {},
   "source": [
    "What is the standard error of the mean?"
   ]
  },
  {
   "cell_type": "markdown",
   "id": "d92c08ae",
   "metadata": {},
   "source": [
    "## **Solution:**"
   ]
  },
  {
   "cell_type": "code",
   "execution_count": null,
   "id": "fb4432f9",
   "metadata": {},
   "outputs": [],
   "source": []
  }
 ],
 "metadata": {},
 "nbformat": 4,
 "nbformat_minor": 5
}
