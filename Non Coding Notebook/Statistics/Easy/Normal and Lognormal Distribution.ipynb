{
 "cells": [
  {
   "cell_type": "markdown",
   "id": "7605b80a",
   "metadata": {},
   "source": [
    "### **Link:** https://platform.stratascratch.com/technical/2420-normal-and-lognormal-distribution"
   ]
  },
  {
   "cell_type": "markdown",
   "id": "907970ba",
   "metadata": {},
   "source": [
    "### **ID:** ID 2420"
   ]
  },
  {
   "cell_type": "markdown",
   "id": "fbf3e7ab",
   "metadata": {},
   "source": [
    "# Normal and Lognormal Distribution"
   ]
  },
  {
   "cell_type": "markdown",
   "id": "20f0ca81",
   "metadata": {},
   "source": [
    "### **Difficulty:** Easy"
   ]
  },
  {
   "cell_type": "markdown",
   "id": "de3ffdfb",
   "metadata": {},
   "source": [
    "### **Question Type:** Statistics"
   ]
  },
  {
   "cell_type": "markdown",
   "id": "480fded9",
   "metadata": {},
   "source": [
    "### **Company:** Apple, Western Digital"
   ]
  },
  {
   "cell_type": "markdown",
   "id": "8f659089",
   "metadata": {},
   "source": [
    "## **Description:**"
   ]
  },
  {
   "cell_type": "markdown",
   "id": "84d0510e",
   "metadata": {},
   "source": [
    "Describe normal and lognormal distribution."
   ]
  },
  {
   "cell_type": "markdown",
   "id": "81c03776",
   "metadata": {},
   "source": [
    "## **Solution:**"
   ]
  },
  {
   "cell_type": "code",
   "execution_count": null,
   "id": "14c6c057",
   "metadata": {},
   "outputs": [],
   "source": []
  }
 ],
 "metadata": {},
 "nbformat": 4,
 "nbformat_minor": 5
}
