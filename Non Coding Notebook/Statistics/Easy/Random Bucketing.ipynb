{
 "cells": [
  {
   "cell_type": "markdown",
   "id": "c24b9c73",
   "metadata": {},
   "source": [
    "### **Link:** https://platform.stratascratch.com/technical/2055-random-bucketing"
   ]
  },
  {
   "cell_type": "markdown",
   "id": "30dc1cf2",
   "metadata": {},
   "source": [
    "### **ID:** ID 2055"
   ]
  },
  {
   "cell_type": "markdown",
   "id": "94ae4b3f",
   "metadata": {},
   "source": [
    "# Random Bucketing"
   ]
  },
  {
   "cell_type": "markdown",
   "id": "bd0cba20",
   "metadata": {},
   "source": [
    "### **Difficulty:** Easy"
   ]
  },
  {
   "cell_type": "markdown",
   "id": "8da944c6",
   "metadata": {},
   "source": [
    "### **Question Type:** Statistics"
   ]
  },
  {
   "cell_type": "markdown",
   "id": "b8f87655",
   "metadata": {},
   "source": [
    "### **Company:** Amazon, Meta"
   ]
  },
  {
   "cell_type": "markdown",
   "id": "2ebed1c9",
   "metadata": {},
   "source": [
    "## **Description:**"
   ]
  },
  {
   "cell_type": "markdown",
   "id": "08ba38fd",
   "metadata": {},
   "source": [
    "In an A/B test, how can you check if assignment to the various buckets was truly random?"
   ]
  },
  {
   "cell_type": "markdown",
   "id": "1923392d",
   "metadata": {},
   "source": [
    "## **Solution:**"
   ]
  },
  {
   "cell_type": "code",
   "execution_count": null,
   "id": "09c52520",
   "metadata": {},
   "outputs": [],
   "source": []
  }
 ],
 "metadata": {},
 "nbformat": 4,
 "nbformat_minor": 5
}
