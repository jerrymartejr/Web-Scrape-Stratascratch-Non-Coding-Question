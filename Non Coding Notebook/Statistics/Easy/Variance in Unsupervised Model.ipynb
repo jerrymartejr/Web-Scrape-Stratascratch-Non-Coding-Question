{
 "cells": [
  {
   "cell_type": "markdown",
   "id": "e486da19",
   "metadata": {},
   "source": [
    "### **Link:** https://platform.stratascratch.com/technical/2210-variance-in-unsupervised-model"
   ]
  },
  {
   "cell_type": "markdown",
   "id": "b967604d",
   "metadata": {},
   "source": [
    "### **ID:** ID 2210"
   ]
  },
  {
   "cell_type": "markdown",
   "id": "62017d72",
   "metadata": {},
   "source": [
    "# Variance in Unsupervised Model"
   ]
  },
  {
   "cell_type": "markdown",
   "id": "bd52fb48",
   "metadata": {},
   "source": [
    "### **Difficulty:** Easy"
   ]
  },
  {
   "cell_type": "markdown",
   "id": "3e147ba9",
   "metadata": {},
   "source": [
    "### **Question Type:** Statistics"
   ]
  },
  {
   "cell_type": "markdown",
   "id": "d1dea12f",
   "metadata": {},
   "source": [
    "### **Company:** DST Systems"
   ]
  },
  {
   "cell_type": "markdown",
   "id": "83faaaa4",
   "metadata": {},
   "source": [
    "## **Description:**"
   ]
  },
  {
   "cell_type": "markdown",
   "id": "8a2b028a",
   "metadata": {},
   "source": [
    "How to calculate variance in an unsupervised model?"
   ]
  },
  {
   "cell_type": "markdown",
   "id": "28979caa",
   "metadata": {},
   "source": [
    "## **Solution:**"
   ]
  },
  {
   "cell_type": "code",
   "execution_count": null,
   "id": "0385ed80",
   "metadata": {},
   "outputs": [],
   "source": []
  }
 ],
 "metadata": {},
 "nbformat": 4,
 "nbformat_minor": 5
}
