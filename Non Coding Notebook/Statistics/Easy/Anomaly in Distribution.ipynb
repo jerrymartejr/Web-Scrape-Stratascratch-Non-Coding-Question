{
 "cells": [
  {
   "cell_type": "markdown",
   "id": "b85f8b5b",
   "metadata": {},
   "source": [
    "### **Link:** https://platform.stratascratch.com/technical/2228-anomaly-in-distribution"
   ]
  },
  {
   "cell_type": "markdown",
   "id": "817f3560",
   "metadata": {},
   "source": [
    "### **ID:** ID 2228"
   ]
  },
  {
   "cell_type": "markdown",
   "id": "5cb916de",
   "metadata": {},
   "source": [
    "# Anomaly in Distribution"
   ]
  },
  {
   "cell_type": "markdown",
   "id": "9a65db42",
   "metadata": {},
   "source": [
    "### **Difficulty:** Easy"
   ]
  },
  {
   "cell_type": "markdown",
   "id": "b9160775",
   "metadata": {},
   "source": [
    "### **Question Type:** Statistics"
   ]
  },
  {
   "cell_type": "markdown",
   "id": "b7edfa0f",
   "metadata": {},
   "source": [
    "### **Company:** Uber"
   ]
  },
  {
   "cell_type": "markdown",
   "id": "75c3fe6e",
   "metadata": {},
   "source": [
    "## **Description:**"
   ]
  },
  {
   "cell_type": "markdown",
   "id": "8c7871e0",
   "metadata": {},
   "source": [
    "How do you find an anomaly in a distribution?"
   ]
  },
  {
   "cell_type": "markdown",
   "id": "d5f3d84a",
   "metadata": {},
   "source": [
    "## **Solution:**"
   ]
  },
  {
   "cell_type": "code",
   "execution_count": null,
   "id": "09407f54",
   "metadata": {},
   "outputs": [],
   "source": []
  }
 ],
 "metadata": {},
 "nbformat": 4,
 "nbformat_minor": 5
}
