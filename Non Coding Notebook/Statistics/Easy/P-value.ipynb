{
 "cells": [
  {
   "cell_type": "markdown",
   "id": "2da125ca",
   "metadata": {},
   "source": [
    "### **Link:** https://platform.stratascratch.com/technical/2043-p-value"
   ]
  },
  {
   "cell_type": "markdown",
   "id": "095c1e6f",
   "metadata": {},
   "source": [
    "### **ID:** ID 2043"
   ]
  },
  {
   "cell_type": "markdown",
   "id": "79e519a7",
   "metadata": {},
   "source": [
    "# P-value"
   ]
  },
  {
   "cell_type": "markdown",
   "id": "999a0ea1",
   "metadata": {},
   "source": [
    "### **Difficulty:** Easy"
   ]
  },
  {
   "cell_type": "markdown",
   "id": "bd490e38",
   "metadata": {},
   "source": [
    "### **Question Type:** Statistics"
   ]
  },
  {
   "cell_type": "markdown",
   "id": "32f4bde0",
   "metadata": {},
   "source": [
    "### **Company:** State Farm, Allstate"
   ]
  },
  {
   "cell_type": "markdown",
   "id": "116d9336",
   "metadata": {},
   "source": [
    "## **Description:**"
   ]
  },
  {
   "cell_type": "markdown",
   "id": "5b40dbcc",
   "metadata": {},
   "source": [
    "Would your interpretation of p-value change if you had a different (much bigger, 3 mil records for ex.) data set?"
   ]
  },
  {
   "cell_type": "markdown",
   "id": "72cd40cd",
   "metadata": {},
   "source": [
    "## **Solution:**"
   ]
  },
  {
   "cell_type": "code",
   "execution_count": null,
   "id": "b9aab976",
   "metadata": {},
   "outputs": [],
   "source": []
  }
 ],
 "metadata": {},
 "nbformat": 4,
 "nbformat_minor": 5
}
