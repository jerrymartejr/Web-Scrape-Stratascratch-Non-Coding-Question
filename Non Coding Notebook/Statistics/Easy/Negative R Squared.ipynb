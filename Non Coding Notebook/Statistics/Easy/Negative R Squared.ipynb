{
 "cells": [
  {
   "cell_type": "markdown",
   "id": "0381862c",
   "metadata": {},
   "source": [
    "### **Link:** https://platform.stratascratch.com/technical/2325-negative-r-squared"
   ]
  },
  {
   "cell_type": "markdown",
   "id": "22cccc8a",
   "metadata": {},
   "source": [
    "### **ID:** ID 2325"
   ]
  },
  {
   "cell_type": "markdown",
   "id": "80af54ec",
   "metadata": {},
   "source": [
    "# Negative R Squared"
   ]
  },
  {
   "cell_type": "markdown",
   "id": "d0a23dc7",
   "metadata": {},
   "source": [
    "### **Difficulty:** Easy"
   ]
  },
  {
   "cell_type": "markdown",
   "id": "a647c5b8",
   "metadata": {},
   "source": [
    "### **Question Type:** Statistics"
   ]
  },
  {
   "cell_type": "markdown",
   "id": "58bd1683",
   "metadata": {},
   "source": [
    "### **Company:** Meta"
   ]
  },
  {
   "cell_type": "markdown",
   "id": "fc64a963",
   "metadata": {},
   "source": [
    "## **Description:**"
   ]
  },
  {
   "cell_type": "markdown",
   "id": "a2f11c5c",
   "metadata": {},
   "source": [
    "In what cases does the coefficient of determination take negative values?"
   ]
  },
  {
   "cell_type": "markdown",
   "id": "761d9131",
   "metadata": {},
   "source": [
    "## **Solution:**"
   ]
  },
  {
   "cell_type": "code",
   "execution_count": null,
   "id": "a99ca7a2",
   "metadata": {},
   "outputs": [],
   "source": []
  }
 ],
 "metadata": {},
 "nbformat": 4,
 "nbformat_minor": 5
}
