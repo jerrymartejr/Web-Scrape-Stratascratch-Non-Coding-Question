{
 "cells": [
  {
   "cell_type": "markdown",
   "id": "4c2f3904",
   "metadata": {},
   "source": [
    "### **Link:** https://platform.stratascratch.com/technical/2240-box-plot-and-histogram"
   ]
  },
  {
   "cell_type": "markdown",
   "id": "a66d31da",
   "metadata": {},
   "source": [
    "### **ID:** ID 2240"
   ]
  },
  {
   "cell_type": "markdown",
   "id": "be227b0f",
   "metadata": {},
   "source": [
    "# Box Plot and Histogram"
   ]
  },
  {
   "cell_type": "markdown",
   "id": "99a7617b",
   "metadata": {},
   "source": [
    "### **Difficulty:** Easy"
   ]
  },
  {
   "cell_type": "markdown",
   "id": "07d5ce46",
   "metadata": {},
   "source": [
    "### **Question Type:** Statistics"
   ]
  },
  {
   "cell_type": "markdown",
   "id": "a26c7edb",
   "metadata": {},
   "source": [
    "### **Company:** Microsoft, Dell"
   ]
  },
  {
   "cell_type": "markdown",
   "id": "367ea823",
   "metadata": {},
   "source": [
    "## **Description:**"
   ]
  },
  {
   "cell_type": "markdown",
   "id": "a3e39497",
   "metadata": {},
   "source": [
    "What is the difference between a box plot and a histogram?"
   ]
  },
  {
   "cell_type": "markdown",
   "id": "3872bd1d",
   "metadata": {},
   "source": [
    "## **Solution:**"
   ]
  },
  {
   "cell_type": "code",
   "execution_count": null,
   "id": "c0ee9020",
   "metadata": {},
   "outputs": [],
   "source": []
  }
 ],
 "metadata": {},
 "nbformat": 4,
 "nbformat_minor": 5
}
