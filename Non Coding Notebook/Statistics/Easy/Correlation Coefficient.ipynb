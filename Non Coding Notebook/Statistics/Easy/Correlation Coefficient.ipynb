{
 "cells": [
  {
   "cell_type": "markdown",
   "id": "521cd592",
   "metadata": {},
   "source": [
    "### **Link:** https://platform.stratascratch.com/technical/2418-correlation-coefficient"
   ]
  },
  {
   "cell_type": "markdown",
   "id": "e3bcbc1c",
   "metadata": {},
   "source": [
    "### **ID:** ID 2418"
   ]
  },
  {
   "cell_type": "markdown",
   "id": "0add4ae1",
   "metadata": {},
   "source": [
    "# Correlation Coefficient"
   ]
  },
  {
   "cell_type": "markdown",
   "id": "3e85cdac",
   "metadata": {},
   "source": [
    "### **Difficulty:** Easy"
   ]
  },
  {
   "cell_type": "markdown",
   "id": "4d50ac71",
   "metadata": {},
   "source": [
    "### **Question Type:** Statistics"
   ]
  },
  {
   "cell_type": "markdown",
   "id": "f0d19a36",
   "metadata": {},
   "source": [
    "### **Company:** EY, KPMG, Deloitte"
   ]
  },
  {
   "cell_type": "markdown",
   "id": "b4847a54",
   "metadata": {},
   "source": [
    "## **Description:**"
   ]
  },
  {
   "cell_type": "markdown",
   "id": "dc086886",
   "metadata": {},
   "source": [
    "What is the correlation coefficient, and how much it has to be the ratio?"
   ]
  },
  {
   "cell_type": "markdown",
   "id": "064747fd",
   "metadata": {},
   "source": [
    "## **Solution:**"
   ]
  },
  {
   "cell_type": "code",
   "execution_count": null,
   "id": "530414e5",
   "metadata": {},
   "outputs": [],
   "source": []
  }
 ],
 "metadata": {},
 "nbformat": 4,
 "nbformat_minor": 5
}
