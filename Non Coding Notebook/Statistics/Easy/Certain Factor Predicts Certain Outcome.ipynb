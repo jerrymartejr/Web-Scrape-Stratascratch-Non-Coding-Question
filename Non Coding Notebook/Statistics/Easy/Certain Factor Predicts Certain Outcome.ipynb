{
 "cells": [
  {
   "cell_type": "markdown",
   "id": "391b24b8",
   "metadata": {},
   "source": [
    "### **Link:** https://platform.stratascratch.com/technical/2236-certain-factor-predicts-certain-outcome"
   ]
  },
  {
   "cell_type": "markdown",
   "id": "b13b70d9",
   "metadata": {},
   "source": [
    "### **ID:** ID 2236"
   ]
  },
  {
   "cell_type": "markdown",
   "id": "46152032",
   "metadata": {},
   "source": [
    "# Certain Factor Predicts Certain Outcome"
   ]
  },
  {
   "cell_type": "markdown",
   "id": "3b3002b1",
   "metadata": {},
   "source": [
    "### **Difficulty:** Easy"
   ]
  },
  {
   "cell_type": "markdown",
   "id": "aafc0da2",
   "metadata": {},
   "source": [
    "### **Question Type:** Statistics"
   ]
  },
  {
   "cell_type": "markdown",
   "id": "db130371",
   "metadata": {},
   "source": [
    "### **Company:** General Assembly, Pearson, Treehouse"
   ]
  },
  {
   "cell_type": "markdown",
   "id": "f35dc962",
   "metadata": {},
   "source": [
    "## **Description:**"
   ]
  },
  {
   "cell_type": "markdown",
   "id": "58396d9d",
   "metadata": {},
   "source": [
    "Suppose you run an analysis that suggests a certain factor predicts a certain outcome. How would you gauge whether it's actually causation or just correlation?"
   ]
  },
  {
   "cell_type": "markdown",
   "id": "3a78c996",
   "metadata": {},
   "source": [
    "## **Solution:**"
   ]
  },
  {
   "cell_type": "code",
   "execution_count": null,
   "id": "1036c86c",
   "metadata": {},
   "outputs": [],
   "source": []
  }
 ],
 "metadata": {},
 "nbformat": 4,
 "nbformat_minor": 5
}
