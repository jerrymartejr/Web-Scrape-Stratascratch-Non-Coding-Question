{
 "cells": [
  {
   "cell_type": "markdown",
   "id": "f029c436",
   "metadata": {},
   "source": [
    "### **Link:** https://platform.stratascratch.com/technical/2397-mean-and-median"
   ]
  },
  {
   "cell_type": "markdown",
   "id": "cc4eeb3d",
   "metadata": {},
   "source": [
    "### **ID:** ID 2397"
   ]
  },
  {
   "cell_type": "markdown",
   "id": "fa7ab298",
   "metadata": {},
   "source": [
    "# Mean and Median"
   ]
  },
  {
   "cell_type": "markdown",
   "id": "f776b36e",
   "metadata": {},
   "source": [
    "### **Difficulty:** Easy"
   ]
  },
  {
   "cell_type": "markdown",
   "id": "c2cc5baa",
   "metadata": {},
   "source": [
    "### **Question Type:** Statistics"
   ]
  },
  {
   "cell_type": "markdown",
   "id": "605f1cf1",
   "metadata": {},
   "source": [
    "### **Company:** Google, Quora"
   ]
  },
  {
   "cell_type": "markdown",
   "id": "bd3fc69c",
   "metadata": {},
   "source": [
    "## **Description:**"
   ]
  },
  {
   "cell_type": "markdown",
   "id": "4576f9db",
   "metadata": {},
   "source": [
    "When do you use mean vs median?"
   ]
  },
  {
   "cell_type": "markdown",
   "id": "9be1250a",
   "metadata": {},
   "source": [
    "## **Solution:**"
   ]
  },
  {
   "cell_type": "code",
   "execution_count": null,
   "id": "2051bbf8",
   "metadata": {},
   "outputs": [],
   "source": []
  }
 ],
 "metadata": {},
 "nbformat": 4,
 "nbformat_minor": 5
}
