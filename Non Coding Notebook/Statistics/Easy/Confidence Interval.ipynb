{
 "cells": [
  {
   "cell_type": "markdown",
   "id": "8cb5f205",
   "metadata": {},
   "source": [
    "### **Link:** https://platform.stratascratch.com/technical/2093-confidence-interval"
   ]
  },
  {
   "cell_type": "markdown",
   "id": "323f4e1e",
   "metadata": {},
   "source": [
    "### **ID:** ID 2093"
   ]
  },
  {
   "cell_type": "markdown",
   "id": "50a332e5",
   "metadata": {},
   "source": [
    "# Confidence Interval"
   ]
  },
  {
   "cell_type": "markdown",
   "id": "97e2cb09",
   "metadata": {},
   "source": [
    "### **Difficulty:** Easy"
   ]
  },
  {
   "cell_type": "markdown",
   "id": "d9d4e827",
   "metadata": {},
   "source": [
    "### **Question Type:** Statistics"
   ]
  },
  {
   "cell_type": "markdown",
   "id": "0e183c7f",
   "metadata": {},
   "source": [
    "### **Company:** Tesla"
   ]
  },
  {
   "cell_type": "markdown",
   "id": "72029abc",
   "metadata": {},
   "source": [
    "## **Description:**"
   ]
  },
  {
   "cell_type": "markdown",
   "id": "2ddf2b9d",
   "metadata": {},
   "source": [
    "There are 100 products and 25 of them are bad. What is the confidence interval?"
   ]
  },
  {
   "cell_type": "markdown",
   "id": "986c2648",
   "metadata": {},
   "source": [
    "## **Solution:**"
   ]
  },
  {
   "cell_type": "code",
   "execution_count": null,
   "id": "c0cdb190",
   "metadata": {},
   "outputs": [],
   "source": []
  }
 ],
 "metadata": {},
 "nbformat": 4,
 "nbformat_minor": 5
}
