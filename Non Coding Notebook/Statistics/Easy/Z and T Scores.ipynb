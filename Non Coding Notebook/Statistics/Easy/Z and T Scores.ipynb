{
 "cells": [
  {
   "cell_type": "markdown",
   "id": "6768a0ac",
   "metadata": {},
   "source": [
    "### **Link:** https://platform.stratascratch.com/technical/2429-z-and-t-scores"
   ]
  },
  {
   "cell_type": "markdown",
   "id": "9c952f0f",
   "metadata": {},
   "source": [
    "### **ID:** ID 2429"
   ]
  },
  {
   "cell_type": "markdown",
   "id": "6423d4ae",
   "metadata": {},
   "source": [
    "# Z and T Scores"
   ]
  },
  {
   "cell_type": "markdown",
   "id": "dc812420",
   "metadata": {},
   "source": [
    "### **Difficulty:** Easy"
   ]
  },
  {
   "cell_type": "markdown",
   "id": "9d8f446a",
   "metadata": {},
   "source": [
    "### **Question Type:** Statistics"
   ]
  },
  {
   "cell_type": "markdown",
   "id": "ab02bf51",
   "metadata": {},
   "source": [
    "### **Company:** PayPal"
   ]
  },
  {
   "cell_type": "markdown",
   "id": "a724ab8b",
   "metadata": {},
   "source": [
    "## **Description:**"
   ]
  },
  {
   "cell_type": "markdown",
   "id": "0a9383cb",
   "metadata": {},
   "source": [
    "How do you calculate Z and T scores?"
   ]
  },
  {
   "cell_type": "markdown",
   "id": "84cd7fab",
   "metadata": {},
   "source": [
    "## **Solution:**"
   ]
  },
  {
   "cell_type": "code",
   "execution_count": null,
   "id": "223d0a83",
   "metadata": {},
   "outputs": [],
   "source": []
  }
 ],
 "metadata": {},
 "nbformat": 4,
 "nbformat_minor": 5
}
