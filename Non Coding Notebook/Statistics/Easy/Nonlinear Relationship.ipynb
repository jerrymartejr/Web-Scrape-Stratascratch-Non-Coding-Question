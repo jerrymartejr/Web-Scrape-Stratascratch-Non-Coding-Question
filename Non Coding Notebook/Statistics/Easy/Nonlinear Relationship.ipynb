{
 "cells": [
  {
   "cell_type": "markdown",
   "id": "5a8228cd",
   "metadata": {},
   "source": [
    "### **Link:** https://platform.stratascratch.com/technical/2408-nonlinear-relationship"
   ]
  },
  {
   "cell_type": "markdown",
   "id": "1d922b65",
   "metadata": {},
   "source": [
    "### **ID:** ID 2408"
   ]
  },
  {
   "cell_type": "markdown",
   "id": "27f84077",
   "metadata": {},
   "source": [
    "# Nonlinear Relationship"
   ]
  },
  {
   "cell_type": "markdown",
   "id": "d06520d0",
   "metadata": {},
   "source": [
    "### **Difficulty:** Easy"
   ]
  },
  {
   "cell_type": "markdown",
   "id": "febb2e43",
   "metadata": {},
   "source": [
    "### **Question Type:** Statistics"
   ]
  },
  {
   "cell_type": "markdown",
   "id": "60353cc2",
   "metadata": {},
   "source": [
    "### **Company:** Revolut, N26"
   ]
  },
  {
   "cell_type": "markdown",
   "id": "d783fec3",
   "metadata": {},
   "source": [
    "## **Description:**"
   ]
  },
  {
   "cell_type": "markdown",
   "id": "74318b80",
   "metadata": {},
   "source": [
    "Can we model a nonlinear relationship with a linear regression?"
   ]
  },
  {
   "cell_type": "markdown",
   "id": "6999e23b",
   "metadata": {},
   "source": [
    "## **Solution:**"
   ]
  },
  {
   "cell_type": "code",
   "execution_count": null,
   "id": "f189780c",
   "metadata": {},
   "outputs": [],
   "source": []
  }
 ],
 "metadata": {},
 "nbformat": 4,
 "nbformat_minor": 5
}
