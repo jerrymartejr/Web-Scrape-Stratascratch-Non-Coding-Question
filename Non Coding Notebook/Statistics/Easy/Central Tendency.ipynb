{
 "cells": [
  {
   "cell_type": "markdown",
   "id": "ec16bbde",
   "metadata": {},
   "source": [
    "### **Link:** https://platform.stratascratch.com/technical/2352-central-tendency"
   ]
  },
  {
   "cell_type": "markdown",
   "id": "bd9dfdea",
   "metadata": {},
   "source": [
    "### **ID:** ID 2352"
   ]
  },
  {
   "cell_type": "markdown",
   "id": "38be98e8",
   "metadata": {},
   "source": [
    "# Central Tendency"
   ]
  },
  {
   "cell_type": "markdown",
   "id": "68155f4e",
   "metadata": {},
   "source": [
    "### **Difficulty:** Easy"
   ]
  },
  {
   "cell_type": "markdown",
   "id": "7587a346",
   "metadata": {},
   "source": [
    "### **Question Type:** Statistics"
   ]
  },
  {
   "cell_type": "markdown",
   "id": "ece04a0a",
   "metadata": {},
   "source": [
    "### **Company:** Tata Consultancy"
   ]
  },
  {
   "cell_type": "markdown",
   "id": "92a6ec5c",
   "metadata": {},
   "source": [
    "## **Description:**"
   ]
  },
  {
   "cell_type": "markdown",
   "id": "9a8935ee",
   "metadata": {},
   "source": [
    "What is best describing the central tendency of the data set?"
   ]
  },
  {
   "cell_type": "markdown",
   "id": "10c5ac95",
   "metadata": {},
   "source": [
    "## **Solution:**"
   ]
  },
  {
   "cell_type": "code",
   "execution_count": null,
   "id": "569fefaa",
   "metadata": {},
   "outputs": [],
   "source": []
  }
 ],
 "metadata": {},
 "nbformat": 4,
 "nbformat_minor": 5
}
