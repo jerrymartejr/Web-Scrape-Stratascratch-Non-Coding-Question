{
 "cells": [
  {
   "cell_type": "markdown",
   "id": "1708be6a",
   "metadata": {},
   "source": [
    "### **Link:** https://platform.stratascratch.com/technical/2185-calculation-of-test-duration"
   ]
  },
  {
   "cell_type": "markdown",
   "id": "80d1f538",
   "metadata": {},
   "source": [
    "### **ID:** ID 2185"
   ]
  },
  {
   "cell_type": "markdown",
   "id": "bdc02447",
   "metadata": {},
   "source": [
    "# Calculation of Test Duration"
   ]
  },
  {
   "cell_type": "markdown",
   "id": "3f33a23b",
   "metadata": {},
   "source": [
    "### **Difficulty:** Easy"
   ]
  },
  {
   "cell_type": "markdown",
   "id": "3431f8bf",
   "metadata": {},
   "source": [
    "### **Question Type:** Statistics"
   ]
  },
  {
   "cell_type": "markdown",
   "id": "93c0e480",
   "metadata": {},
   "source": [
    "### **Company:** Rosetta, Thumbtack"
   ]
  },
  {
   "cell_type": "markdown",
   "id": "6aab0287",
   "metadata": {},
   "source": [
    "## **Description:**"
   ]
  },
  {
   "cell_type": "markdown",
   "id": "b20d2fd4",
   "metadata": {},
   "source": [
    "What goes into the calculation of test duration?"
   ]
  },
  {
   "cell_type": "markdown",
   "id": "bdde0666",
   "metadata": {},
   "source": [
    "## **Solution:**"
   ]
  },
  {
   "cell_type": "code",
   "execution_count": null,
   "id": "ad73a286",
   "metadata": {},
   "outputs": [],
   "source": []
  }
 ],
 "metadata": {},
 "nbformat": 4,
 "nbformat_minor": 5
}
