{
 "cells": [
  {
   "cell_type": "markdown",
   "id": "1e42ec19",
   "metadata": {},
   "source": [
    "### **Link:** https://platform.stratascratch.com/technical/2153-r2-value"
   ]
  },
  {
   "cell_type": "markdown",
   "id": "2e41b443",
   "metadata": {},
   "source": [
    "### **ID:** ID 2153"
   ]
  },
  {
   "cell_type": "markdown",
   "id": "34e0bd0b",
   "metadata": {},
   "source": [
    "# R^2 Value"
   ]
  },
  {
   "cell_type": "markdown",
   "id": "e12d06d4",
   "metadata": {},
   "source": [
    "### **Difficulty:** Easy"
   ]
  },
  {
   "cell_type": "markdown",
   "id": "a71ab6ec",
   "metadata": {},
   "source": [
    "### **Question Type:** Statistics"
   ]
  },
  {
   "cell_type": "markdown",
   "id": "f4419710",
   "metadata": {},
   "source": [
    "### **Company:** Travelport"
   ]
  },
  {
   "cell_type": "markdown",
   "id": "f453bdee",
   "metadata": {},
   "source": [
    "## **Description:**"
   ]
  },
  {
   "cell_type": "markdown",
   "id": "2dd348f3",
   "metadata": {},
   "source": [
    "What is R2R^2R2 value? Why do we need it? How to calculate it? What is the difference between R2R^2R2 and adjusted R2R^2R2?"
   ]
  },
  {
   "cell_type": "markdown",
   "id": "0f9fa2cd",
   "metadata": {},
   "source": [
    "## **Solution:**"
   ]
  },
  {
   "cell_type": "code",
   "execution_count": null,
   "id": "1656f9ed",
   "metadata": {},
   "outputs": [],
   "source": []
  }
 ],
 "metadata": {},
 "nbformat": 4,
 "nbformat_minor": 5
}
