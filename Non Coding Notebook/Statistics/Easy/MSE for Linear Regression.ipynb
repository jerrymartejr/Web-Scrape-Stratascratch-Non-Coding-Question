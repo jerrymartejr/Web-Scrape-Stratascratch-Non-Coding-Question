{
 "cells": [
  {
   "cell_type": "markdown",
   "id": "f4cd36ff",
   "metadata": {},
   "source": [
    "### **Link:** https://platform.stratascratch.com/technical/2419-mse-for-linear-regression"
   ]
  },
  {
   "cell_type": "markdown",
   "id": "460498f5",
   "metadata": {},
   "source": [
    "### **ID:** ID 2419"
   ]
  },
  {
   "cell_type": "markdown",
   "id": "42d7b6e9",
   "metadata": {},
   "source": [
    "# MSE for Linear Regression"
   ]
  },
  {
   "cell_type": "markdown",
   "id": "732a57a0",
   "metadata": {},
   "source": [
    "### **Difficulty:** Easy"
   ]
  },
  {
   "cell_type": "markdown",
   "id": "cab099d0",
   "metadata": {},
   "source": [
    "### **Question Type:** Statistics"
   ]
  },
  {
   "cell_type": "markdown",
   "id": "ccc2e255",
   "metadata": {},
   "source": [
    "### **Company:** PayPal, American Express"
   ]
  },
  {
   "cell_type": "markdown",
   "id": "9e9d8f5c",
   "metadata": {},
   "source": [
    "## **Description:**"
   ]
  },
  {
   "cell_type": "markdown",
   "id": "ce548eef",
   "metadata": {},
   "source": [
    "Why is MSE frequently used as a loss function for Linear Regression?"
   ]
  },
  {
   "cell_type": "markdown",
   "id": "3bccd6fb",
   "metadata": {},
   "source": [
    "## **Solution:**"
   ]
  },
  {
   "cell_type": "code",
   "execution_count": null,
   "id": "7b0f1bde",
   "metadata": {},
   "outputs": [],
   "source": []
  }
 ],
 "metadata": {},
 "nbformat": 4,
 "nbformat_minor": 5
}
