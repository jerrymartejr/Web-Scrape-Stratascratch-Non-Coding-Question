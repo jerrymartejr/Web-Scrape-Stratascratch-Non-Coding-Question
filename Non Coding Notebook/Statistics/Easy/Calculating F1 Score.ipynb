{
 "cells": [
  {
   "cell_type": "markdown",
   "id": "25ca86ec",
   "metadata": {},
   "source": [
    "### **Link:** https://platform.stratascratch.com/technical/2412-calculating-f1-score"
   ]
  },
  {
   "cell_type": "markdown",
   "id": "dff1a28f",
   "metadata": {},
   "source": [
    "### **ID:** ID 2412"
   ]
  },
  {
   "cell_type": "markdown",
   "id": "c4f605aa",
   "metadata": {},
   "source": [
    "# Calculating F1 Score"
   ]
  },
  {
   "cell_type": "markdown",
   "id": "33e628e2",
   "metadata": {},
   "source": [
    "### **Difficulty:** Easy"
   ]
  },
  {
   "cell_type": "markdown",
   "id": "509fc02a",
   "metadata": {},
   "source": [
    "### **Question Type:** Statistics"
   ]
  },
  {
   "cell_type": "markdown",
   "id": "fd02afab",
   "metadata": {},
   "source": [
    "### **Company:** Google, Apple, Amazon"
   ]
  },
  {
   "cell_type": "markdown",
   "id": "749f14b2",
   "metadata": {},
   "source": [
    "## **Description:**"
   ]
  },
  {
   "cell_type": "markdown",
   "id": "5e2f6e04",
   "metadata": {},
   "source": [
    "What is the F1 score, and how to calculate it?"
   ]
  },
  {
   "cell_type": "markdown",
   "id": "a2d3d1dc",
   "metadata": {},
   "source": [
    "## **Solution:**"
   ]
  },
  {
   "cell_type": "code",
   "execution_count": null,
   "id": "4e83d18d",
   "metadata": {},
   "outputs": [],
   "source": []
  }
 ],
 "metadata": {},
 "nbformat": 4,
 "nbformat_minor": 5
}
