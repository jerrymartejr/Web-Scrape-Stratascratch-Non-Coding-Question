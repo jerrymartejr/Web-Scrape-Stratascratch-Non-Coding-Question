{
 "cells": [
  {
   "cell_type": "markdown",
   "id": "0efe2fc9",
   "metadata": {},
   "source": [
    "### **Link:** https://platform.stratascratch.com/technical/2380-assessing-multicollinearity"
   ]
  },
  {
   "cell_type": "markdown",
   "id": "a4f74590",
   "metadata": {},
   "source": [
    "### **ID:** ID 2380"
   ]
  },
  {
   "cell_type": "markdown",
   "id": "3eaddeda",
   "metadata": {},
   "source": [
    "# Assessing Multicollinearity"
   ]
  },
  {
   "cell_type": "markdown",
   "id": "ede7a138",
   "metadata": {},
   "source": [
    "### **Difficulty:** Easy"
   ]
  },
  {
   "cell_type": "markdown",
   "id": "3793583a",
   "metadata": {},
   "source": [
    "### **Question Type:** Statistics"
   ]
  },
  {
   "cell_type": "markdown",
   "id": "a22b304d",
   "metadata": {},
   "source": [
    "### **Company:** Amazon, Ebay"
   ]
  },
  {
   "cell_type": "markdown",
   "id": "47bfec35",
   "metadata": {},
   "source": [
    "## **Description:**"
   ]
  },
  {
   "cell_type": "markdown",
   "id": "8ce2dc44",
   "metadata": {},
   "source": [
    "What are different techniques to assess multicollinearity?"
   ]
  },
  {
   "cell_type": "markdown",
   "id": "532df02f",
   "metadata": {},
   "source": [
    "## **Solution:**"
   ]
  },
  {
   "cell_type": "code",
   "execution_count": null,
   "id": "24ab17e1",
   "metadata": {},
   "outputs": [],
   "source": []
  }
 ],
 "metadata": {},
 "nbformat": 4,
 "nbformat_minor": 5
}
