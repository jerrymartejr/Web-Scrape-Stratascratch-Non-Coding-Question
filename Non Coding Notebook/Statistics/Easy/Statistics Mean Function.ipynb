{
 "cells": [
  {
   "cell_type": "markdown",
   "id": "74427524",
   "metadata": {},
   "source": [
    "### **Link:** https://platform.stratascratch.com/technical/2162-statistics-mean-function"
   ]
  },
  {
   "cell_type": "markdown",
   "id": "68a13822",
   "metadata": {},
   "source": [
    "### **ID:** ID 2162"
   ]
  },
  {
   "cell_type": "markdown",
   "id": "7948b582",
   "metadata": {},
   "source": [
    "# Statistics Mean Function"
   ]
  },
  {
   "cell_type": "markdown",
   "id": "f7bb84d3",
   "metadata": {},
   "source": [
    "### **Difficulty:** Easy"
   ]
  },
  {
   "cell_type": "markdown",
   "id": "b509a728",
   "metadata": {},
   "source": [
    "### **Question Type:** Statistics"
   ]
  },
  {
   "cell_type": "markdown",
   "id": "e556f20c",
   "metadata": {},
   "source": [
    "### **Company:** Square, OnDeck, Mastercard"
   ]
  },
  {
   "cell_type": "markdown",
   "id": "9d2d5bb7",
   "metadata": {},
   "source": [
    "## **Description:**"
   ]
  },
  {
   "cell_type": "markdown",
   "id": "c2dd13f5",
   "metadata": {},
   "source": [
    "How to implement statistics mean function in Python?"
   ]
  },
  {
   "cell_type": "markdown",
   "id": "ac80f9b7",
   "metadata": {},
   "source": [
    "## **Solution:**"
   ]
  },
  {
   "cell_type": "code",
   "execution_count": null,
   "id": "e1fb1867",
   "metadata": {},
   "outputs": [],
   "source": []
  }
 ],
 "metadata": {},
 "nbformat": 4,
 "nbformat_minor": 5
}
