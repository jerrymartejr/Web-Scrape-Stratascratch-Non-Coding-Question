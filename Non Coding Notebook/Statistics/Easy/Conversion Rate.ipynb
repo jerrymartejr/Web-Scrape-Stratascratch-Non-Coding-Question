{
 "cells": [
  {
   "cell_type": "markdown",
   "id": "8740804d",
   "metadata": {},
   "source": [
    "### **Link:** https://platform.stratascratch.com/technical/2320-conversion-rate"
   ]
  },
  {
   "cell_type": "markdown",
   "id": "25dbdba5",
   "metadata": {},
   "source": [
    "### **ID:** ID 2320"
   ]
  },
  {
   "cell_type": "markdown",
   "id": "008d8073",
   "metadata": {},
   "source": [
    "# Conversion Rate"
   ]
  },
  {
   "cell_type": "markdown",
   "id": "9ce63af4",
   "metadata": {},
   "source": [
    "### **Difficulty:** Easy"
   ]
  },
  {
   "cell_type": "markdown",
   "id": "0c2d915b",
   "metadata": {},
   "source": [
    "### **Question Type:** Statistics"
   ]
  },
  {
   "cell_type": "markdown",
   "id": "b4061fac",
   "metadata": {},
   "source": [
    "### **Company:** LinkedIn, Meta"
   ]
  },
  {
   "cell_type": "markdown",
   "id": "57d2fc7c",
   "metadata": {},
   "source": [
    "## **Description:**"
   ]
  },
  {
   "cell_type": "markdown",
   "id": "766a727e",
   "metadata": {},
   "source": [
    "There are 590381 visitors of an online store including 269400 mobile app users and 320981 desktop site users. 701 visitors made a purchase: 507 via the mobile app and 194 via the desktop site. What is the base conversion rate for mobile app versus desktop site?"
   ]
  },
  {
   "cell_type": "markdown",
   "id": "80517ec2",
   "metadata": {},
   "source": [
    "## **Solution:**"
   ]
  },
  {
   "cell_type": "code",
   "execution_count": null,
   "id": "49e0a2b9",
   "metadata": {},
   "outputs": [],
   "source": []
  }
 ],
 "metadata": {},
 "nbformat": 4,
 "nbformat_minor": 5
}
