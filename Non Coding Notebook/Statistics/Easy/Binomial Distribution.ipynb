{
 "cells": [
  {
   "cell_type": "markdown",
   "id": "09c45cf0",
   "metadata": {},
   "source": [
    "### **Link:** https://platform.stratascratch.com/technical/2421-binomial-distribution"
   ]
  },
  {
   "cell_type": "markdown",
   "id": "84948449",
   "metadata": {},
   "source": [
    "### **ID:** ID 2421"
   ]
  },
  {
   "cell_type": "markdown",
   "id": "a9e6077d",
   "metadata": {},
   "source": [
    "# Binomial Distribution"
   ]
  },
  {
   "cell_type": "markdown",
   "id": "b5c7e02c",
   "metadata": {},
   "source": [
    "### **Difficulty:** Easy"
   ]
  },
  {
   "cell_type": "markdown",
   "id": "c77f622f",
   "metadata": {},
   "source": [
    "### **Question Type:** Statistics"
   ]
  },
  {
   "cell_type": "markdown",
   "id": "6556e4aa",
   "metadata": {},
   "source": [
    "### **Company:** Google, Lyft"
   ]
  },
  {
   "cell_type": "markdown",
   "id": "8393a7c9",
   "metadata": {},
   "source": [
    "## **Description:**"
   ]
  },
  {
   "cell_type": "markdown",
   "id": "0d1ebd30",
   "metadata": {},
   "source": [
    "How do you find the expected value of a binomial distribution?"
   ]
  },
  {
   "cell_type": "markdown",
   "id": "595dc97c",
   "metadata": {},
   "source": [
    "## **Solution:**"
   ]
  },
  {
   "cell_type": "code",
   "execution_count": null,
   "id": "c4dba9a7",
   "metadata": {},
   "outputs": [],
   "source": []
  }
 ],
 "metadata": {},
 "nbformat": 4,
 "nbformat_minor": 5
}
