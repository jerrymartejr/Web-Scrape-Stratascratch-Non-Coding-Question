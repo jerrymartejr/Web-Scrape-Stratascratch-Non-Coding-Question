{
 "cells": [
  {
   "cell_type": "markdown",
   "id": "56475142",
   "metadata": {},
   "source": [
    "### **Link:** https://platform.stratascratch.com/technical/2422-mean-median-and-mode"
   ]
  },
  {
   "cell_type": "markdown",
   "id": "a93a0105",
   "metadata": {},
   "source": [
    "### **ID:** ID 2422"
   ]
  },
  {
   "cell_type": "markdown",
   "id": "b891e3eb",
   "metadata": {},
   "source": [
    "# Mean, Median and Mode"
   ]
  },
  {
   "cell_type": "markdown",
   "id": "d5ade6ee",
   "metadata": {},
   "source": [
    "### **Difficulty:** Hard"
   ]
  },
  {
   "cell_type": "markdown",
   "id": "344026f6",
   "metadata": {},
   "source": [
    "### **Question Type:** Statistics"
   ]
  },
  {
   "cell_type": "markdown",
   "id": "601a89b9",
   "metadata": {},
   "source": [
    "### **Company:** Microsoft"
   ]
  },
  {
   "cell_type": "markdown",
   "id": "485acb6c",
   "metadata": {},
   "source": [
    "## **Description:**"
   ]
  },
  {
   "cell_type": "markdown",
   "id": "65755812",
   "metadata": {},
   "source": [
    "How do you find the mean, median and mode of a gradient distribution?"
   ]
  },
  {
   "cell_type": "markdown",
   "id": "ecf6cd19",
   "metadata": {},
   "source": [
    "## **Solution:**"
   ]
  },
  {
   "cell_type": "code",
   "execution_count": null,
   "id": "a9c48e12",
   "metadata": {},
   "outputs": [],
   "source": []
  }
 ],
 "metadata": {},
 "nbformat": 4,
 "nbformat_minor": 5
}
