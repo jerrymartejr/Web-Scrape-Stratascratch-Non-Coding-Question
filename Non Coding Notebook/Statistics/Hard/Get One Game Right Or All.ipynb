{
 "cells": [
  {
   "cell_type": "markdown",
   "id": "2f1a771d",
   "metadata": {},
   "source": [
    "### **Link:** https://platform.stratascratch.com/technical/2298-get-one-game-right-or-all"
   ]
  },
  {
   "cell_type": "markdown",
   "id": "73cc04ab",
   "metadata": {},
   "source": [
    "### **ID:** ID 2298"
   ]
  },
  {
   "cell_type": "markdown",
   "id": "9d700949",
   "metadata": {},
   "source": [
    "# Get One Game Right Or All"
   ]
  },
  {
   "cell_type": "markdown",
   "id": "3762e672",
   "metadata": {},
   "source": [
    "### **Difficulty:** Hard"
   ]
  },
  {
   "cell_type": "markdown",
   "id": "5ed10abb",
   "metadata": {},
   "source": [
    "### **Question Type:** Statistics"
   ]
  },
  {
   "cell_type": "markdown",
   "id": "7eb7a1d6",
   "metadata": {},
   "source": [
    "### **Company:** OnDeck, Belvedere Trading, Jump Trading"
   ]
  },
  {
   "cell_type": "markdown",
   "id": "e139ac6a",
   "metadata": {},
   "source": [
    "## **Description:**"
   ]
  },
  {
   "cell_type": "markdown",
   "id": "c12b8e9b",
   "metadata": {},
   "source": [
    "If you have 8 teams playing in a simple bracket would you rather win 1 million dollars for getting all of the game outcomes correct or receive 10,000 for getting at least one game correct?"
   ]
  },
  {
   "cell_type": "markdown",
   "id": "3556c19a",
   "metadata": {},
   "source": [
    "## **Solution:**"
   ]
  },
  {
   "cell_type": "code",
   "execution_count": null,
   "id": "34f13637",
   "metadata": {},
   "outputs": [],
   "source": []
  }
 ],
 "metadata": {},
 "nbformat": 4,
 "nbformat_minor": 5
}
