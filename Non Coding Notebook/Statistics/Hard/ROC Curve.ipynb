{
 "cells": [
  {
   "cell_type": "markdown",
   "id": "c2613b36",
   "metadata": {},
   "source": [
    "### **Link:** https://platform.stratascratch.com/technical/2333-roc-curve"
   ]
  },
  {
   "cell_type": "markdown",
   "id": "e1f6e0bc",
   "metadata": {},
   "source": [
    "### **ID:** ID 2333"
   ]
  },
  {
   "cell_type": "markdown",
   "id": "65a0ac89",
   "metadata": {},
   "source": [
    "# ROC Curve"
   ]
  },
  {
   "cell_type": "markdown",
   "id": "52375f38",
   "metadata": {},
   "source": [
    "### **Difficulty:** Hard"
   ]
  },
  {
   "cell_type": "markdown",
   "id": "74037bd6",
   "metadata": {},
   "source": [
    "### **Question Type:** Statistics"
   ]
  },
  {
   "cell_type": "markdown",
   "id": "ff4de908",
   "metadata": {},
   "source": [
    "### **Company:** BearingPoint, Deloitte, Tata Consultancy"
   ]
  },
  {
   "cell_type": "markdown",
   "id": "a931e34e",
   "metadata": {},
   "source": [
    "## **Description:**"
   ]
  },
  {
   "cell_type": "markdown",
   "id": "36378cc4",
   "metadata": {},
   "source": [
    "Suppose we have conducted a medical study and have obtained a confusion matrix showing errors of a test for detecting a certain disease. Describe how would you plot a ROC curve based on this matrix. Clearly explain what do both axes of the ROC graph represent."
   ]
  },
  {
   "cell_type": "markdown",
   "id": "a80cecfb",
   "metadata": {},
   "source": [
    "## **Solution:**"
   ]
  },
  {
   "cell_type": "code",
   "execution_count": null,
   "id": "884deade",
   "metadata": {},
   "outputs": [],
   "source": []
  }
 ],
 "metadata": {},
 "nbformat": 4,
 "nbformat_minor": 5
}
