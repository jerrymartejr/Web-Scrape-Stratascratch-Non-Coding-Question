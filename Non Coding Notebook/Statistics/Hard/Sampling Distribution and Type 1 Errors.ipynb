{
 "cells": [
  {
   "cell_type": "markdown",
   "id": "cc6bbb31",
   "metadata": {},
   "source": [
    "### **Link:** https://platform.stratascratch.com/technical/2396-sampling-distribution-and-type-1-errors"
   ]
  },
  {
   "cell_type": "markdown",
   "id": "5898e7eb",
   "metadata": {},
   "source": [
    "### **ID:** ID 2396"
   ]
  },
  {
   "cell_type": "markdown",
   "id": "62788dbe",
   "metadata": {},
   "source": [
    "# Sampling Distribution and Type 1 Errors"
   ]
  },
  {
   "cell_type": "markdown",
   "id": "348de6c1",
   "metadata": {},
   "source": [
    "### **Difficulty:** Hard"
   ]
  },
  {
   "cell_type": "markdown",
   "id": "5d6dbdb2",
   "metadata": {},
   "source": [
    "### **Question Type:** Statistics"
   ]
  },
  {
   "cell_type": "markdown",
   "id": "1a7fe39d",
   "metadata": {},
   "source": [
    "### **Company:** Google"
   ]
  },
  {
   "cell_type": "markdown",
   "id": "721ef6a6",
   "metadata": {},
   "source": [
    "## **Description:**"
   ]
  },
  {
   "cell_type": "markdown",
   "id": "8c7e1905",
   "metadata": {},
   "source": [
    "What happens when the sampling distribution is altered\r\n",
    "(e.g. filtering out all values below the mean) and\r\n",
    "how does it effect type 1 errors?"
   ]
  },
  {
   "cell_type": "markdown",
   "id": "a32977ad",
   "metadata": {},
   "source": [
    "## **Solution:**"
   ]
  },
  {
   "cell_type": "code",
   "execution_count": null,
   "id": "49d900db",
   "metadata": {},
   "outputs": [],
   "source": []
  }
 ],
 "metadata": {},
 "nbformat": 4,
 "nbformat_minor": 5
}
