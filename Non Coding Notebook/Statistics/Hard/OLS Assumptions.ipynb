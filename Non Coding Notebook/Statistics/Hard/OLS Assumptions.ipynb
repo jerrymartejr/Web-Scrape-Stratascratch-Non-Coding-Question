{
 "cells": [
  {
   "cell_type": "markdown",
   "id": "4a5f0cac",
   "metadata": {},
   "source": [
    "### **Link:** https://platform.stratascratch.com/technical/2323-ols-assumptions"
   ]
  },
  {
   "cell_type": "markdown",
   "id": "4fbf80dc",
   "metadata": {},
   "source": [
    "### **ID:** ID 2323"
   ]
  },
  {
   "cell_type": "markdown",
   "id": "5c267b92",
   "metadata": {},
   "source": [
    "# OLS Assumptions"
   ]
  },
  {
   "cell_type": "markdown",
   "id": "4a476b86",
   "metadata": {},
   "source": [
    "### **Difficulty:** Hard"
   ]
  },
  {
   "cell_type": "markdown",
   "id": "ca2cb973",
   "metadata": {},
   "source": [
    "### **Question Type:** Statistics"
   ]
  },
  {
   "cell_type": "markdown",
   "id": "4986338b",
   "metadata": {},
   "source": [
    "### **Company:** Capital One"
   ]
  },
  {
   "cell_type": "markdown",
   "id": "2e2e6e78",
   "metadata": {},
   "source": [
    "## **Description:**"
   ]
  },
  {
   "cell_type": "markdown",
   "id": "1632c374",
   "metadata": {},
   "source": [
    "What are the assumptions made by Ordinary Least Squares (OLS)?"
   ]
  },
  {
   "cell_type": "markdown",
   "id": "e4a67c66",
   "metadata": {},
   "source": [
    "## **Solution:**"
   ]
  },
  {
   "cell_type": "code",
   "execution_count": null,
   "id": "a5fe7c90",
   "metadata": {},
   "outputs": [],
   "source": []
  }
 ],
 "metadata": {},
 "nbformat": 4,
 "nbformat_minor": 5
}
