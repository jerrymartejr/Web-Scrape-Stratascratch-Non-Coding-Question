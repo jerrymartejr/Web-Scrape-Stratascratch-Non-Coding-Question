{
 "cells": [
  {
   "cell_type": "markdown",
   "id": "53791e45",
   "metadata": {},
   "source": [
    "### **Link:** https://platform.stratascratch.com/technical/2295-5-Rounds-Bet"
   ]
  },
  {
   "cell_type": "markdown",
   "id": "6ee65809",
   "metadata": {},
   "source": [
    "### **ID:** ID 2295"
   ]
  },
  {
   "cell_type": "markdown",
   "id": "51eefb51",
   "metadata": {},
   "source": [
    "# 5 Rounds Bet"
   ]
  },
  {
   "cell_type": "markdown",
   "id": "a8319370",
   "metadata": {},
   "source": [
    "### **Difficulty:** Hard"
   ]
  },
  {
   "cell_type": "markdown",
   "id": "b4dd9be3",
   "metadata": {},
   "source": [
    "### **Question Type:** Statistics"
   ]
  },
  {
   "cell_type": "markdown",
   "id": "56eca0ee",
   "metadata": {},
   "source": [
    "### **Company:** ZestFinance, DE Shaw & Co, Jane Street"
   ]
  },
  {
   "cell_type": "markdown",
   "id": "4be168ad",
   "metadata": {},
   "source": [
    "## **Description:**"
   ]
  },
  {
   "cell_type": "markdown",
   "id": "c430d565",
   "metadata": {},
   "source": [
    "You have many soccer teams, that will compete against each other in 5 rounds of elimination competitions until one team remains. You have 1000 dollars, how should you bet on each round of competition to ensure maximum profit?"
   ]
  },
  {
   "cell_type": "markdown",
   "id": "01e3a12d",
   "metadata": {},
   "source": [
    "## **Solution:**"
   ]
  },
  {
   "cell_type": "code",
   "execution_count": null,
   "id": "ebfae137",
   "metadata": {},
   "outputs": [],
   "source": []
  }
 ],
 "metadata": {},
 "nbformat": 4,
 "nbformat_minor": 5
}
