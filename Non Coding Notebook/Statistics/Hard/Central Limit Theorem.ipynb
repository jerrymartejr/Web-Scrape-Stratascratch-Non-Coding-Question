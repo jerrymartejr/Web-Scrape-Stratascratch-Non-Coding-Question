{
 "cells": [
  {
   "cell_type": "markdown",
   "id": "2d8bf595",
   "metadata": {},
   "source": [
    "### **Link:** https://platform.stratascratch.com/technical/2386-central-limit-theorem"
   ]
  },
  {
   "cell_type": "markdown",
   "id": "fb51a542",
   "metadata": {},
   "source": [
    "### **ID:** ID 2386"
   ]
  },
  {
   "cell_type": "markdown",
   "id": "5918aac9",
   "metadata": {},
   "source": [
    "# Central Limit Theorem"
   ]
  },
  {
   "cell_type": "markdown",
   "id": "fc5e8ced",
   "metadata": {},
   "source": [
    "### **Difficulty:** Hard"
   ]
  },
  {
   "cell_type": "markdown",
   "id": "4b0394a0",
   "metadata": {},
   "source": [
    "### **Question Type:** Statistics"
   ]
  },
  {
   "cell_type": "markdown",
   "id": "95837b93",
   "metadata": {},
   "source": [
    "### **Company:** CVS Health, Pfizer, Abott"
   ]
  },
  {
   "cell_type": "markdown",
   "id": "58b68f83",
   "metadata": {},
   "source": [
    "## **Description:**"
   ]
  },
  {
   "cell_type": "markdown",
   "id": "d2a05a00",
   "metadata": {},
   "source": [
    "Explain central limit theorem."
   ]
  },
  {
   "cell_type": "markdown",
   "id": "d5767a61",
   "metadata": {},
   "source": [
    "## **Solution:**"
   ]
  },
  {
   "cell_type": "code",
   "execution_count": null,
   "id": "65de199a",
   "metadata": {},
   "outputs": [],
   "source": []
  }
 ],
 "metadata": {},
 "nbformat": 4,
 "nbformat_minor": 5
}
