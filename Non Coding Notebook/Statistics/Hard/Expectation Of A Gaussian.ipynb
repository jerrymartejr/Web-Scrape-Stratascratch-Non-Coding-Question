{
 "cells": [
  {
   "cell_type": "markdown",
   "id": "ed26a17b",
   "metadata": {},
   "source": [
    "### **Link:** https://platform.stratascratch.com/technical/2294-expectation-of-a-gaussian"
   ]
  },
  {
   "cell_type": "markdown",
   "id": "1c831b1e",
   "metadata": {},
   "source": [
    "### **ID:** ID 2294"
   ]
  },
  {
   "cell_type": "markdown",
   "id": "4c2c42c2",
   "metadata": {},
   "source": [
    "# Expectation Of A Gaussian"
   ]
  },
  {
   "cell_type": "markdown",
   "id": "df5259a0",
   "metadata": {},
   "source": [
    "### **Difficulty:** Hard"
   ]
  },
  {
   "cell_type": "markdown",
   "id": "92aa99fe",
   "metadata": {},
   "source": [
    "### **Question Type:** Statistics"
   ]
  },
  {
   "cell_type": "markdown",
   "id": "159a5a82",
   "metadata": {},
   "source": [
    "### **Company:** Citadel, DE Shaw & Co, PayPal"
   ]
  },
  {
   "cell_type": "markdown",
   "id": "6603e291",
   "metadata": {},
   "source": [
    "## **Description:**"
   ]
  },
  {
   "cell_type": "markdown",
   "id": "06445600",
   "metadata": {},
   "source": [
    "You are given two Gaussian variables: X1X_1X1​ and X2X_2X2​ with means m1,m2m_1, m_2m1​,m2​ and variances v1,v2v_1, v_2v1​,v2​."
   ]
  },
  {
   "cell_type": "markdown",
   "id": "a0ef5783",
   "metadata": {},
   "source": [
    "## **Solution:**"
   ]
  },
  {
   "cell_type": "code",
   "execution_count": null,
   "id": "c446ba91",
   "metadata": {},
   "outputs": [],
   "source": []
  }
 ],
 "metadata": {},
 "nbformat": 4,
 "nbformat_minor": 5
}
