{
 "cells": [
  {
   "cell_type": "markdown",
   "id": "3eb88747",
   "metadata": {},
   "source": [
    "### **Link:** https://platform.stratascratch.com/technical/2428-statistical-hypothesis"
   ]
  },
  {
   "cell_type": "markdown",
   "id": "761ef1d5",
   "metadata": {},
   "source": [
    "### **ID:** ID 2428"
   ]
  },
  {
   "cell_type": "markdown",
   "id": "2a1265d0",
   "metadata": {},
   "source": [
    "# Statistical Hypothesis"
   ]
  },
  {
   "cell_type": "markdown",
   "id": "ee2319bf",
   "metadata": {},
   "source": [
    "### **Difficulty:** Medium"
   ]
  },
  {
   "cell_type": "markdown",
   "id": "a0847249",
   "metadata": {},
   "source": [
    "### **Question Type:** Statistics"
   ]
  },
  {
   "cell_type": "markdown",
   "id": "7b35e28c",
   "metadata": {},
   "source": [
    "### **Company:** Amazon"
   ]
  },
  {
   "cell_type": "markdown",
   "id": "cef3c470",
   "metadata": {},
   "source": [
    "## **Description:**"
   ]
  },
  {
   "cell_type": "markdown",
   "id": "7ea31e79",
   "metadata": {},
   "source": [
    "How does statistical hypothesis testing work?"
   ]
  },
  {
   "cell_type": "markdown",
   "id": "84d2ca22",
   "metadata": {},
   "source": [
    "## **Solution:**"
   ]
  },
  {
   "cell_type": "code",
   "execution_count": null,
   "id": "def6c867",
   "metadata": {},
   "outputs": [],
   "source": []
  }
 ],
 "metadata": {},
 "nbformat": 4,
 "nbformat_minor": 5
}
