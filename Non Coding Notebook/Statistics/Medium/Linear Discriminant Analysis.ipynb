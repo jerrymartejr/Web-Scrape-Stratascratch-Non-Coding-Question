{
 "cells": [
  {
   "cell_type": "markdown",
   "id": "59f42d6f",
   "metadata": {},
   "source": [
    "### **Link:** https://platform.stratascratch.com/technical/2381-linear-discriminant-analysis"
   ]
  },
  {
   "cell_type": "markdown",
   "id": "82d4f7df",
   "metadata": {},
   "source": [
    "### **ID:** ID 2381"
   ]
  },
  {
   "cell_type": "markdown",
   "id": "2baa09bb",
   "metadata": {},
   "source": [
    "# Linear Discriminant Analysis"
   ]
  },
  {
   "cell_type": "markdown",
   "id": "58a71738",
   "metadata": {},
   "source": [
    "### **Difficulty:** Medium"
   ]
  },
  {
   "cell_type": "markdown",
   "id": "f3e4b0f9",
   "metadata": {},
   "source": [
    "### **Question Type:** Statistics"
   ]
  },
  {
   "cell_type": "markdown",
   "id": "f992fa15",
   "metadata": {},
   "source": [
    "### **Company:** Visa, PayPal"
   ]
  },
  {
   "cell_type": "markdown",
   "id": "c2eedd1b",
   "metadata": {},
   "source": [
    "## **Description:**"
   ]
  },
  {
   "cell_type": "markdown",
   "id": "eea746a4",
   "metadata": {},
   "source": [
    "Explain what is Linear Discriminant Analysis (LDA)."
   ]
  },
  {
   "cell_type": "markdown",
   "id": "19cf73f0",
   "metadata": {},
   "source": [
    "## **Solution:**"
   ]
  },
  {
   "cell_type": "code",
   "execution_count": null,
   "id": "b9ebfecb",
   "metadata": {},
   "outputs": [],
   "source": []
  }
 ],
 "metadata": {},
 "nbformat": 4,
 "nbformat_minor": 5
}
