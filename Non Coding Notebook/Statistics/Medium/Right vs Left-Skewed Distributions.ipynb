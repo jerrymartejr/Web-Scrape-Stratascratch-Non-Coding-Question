{
 "cells": [
  {
   "cell_type": "markdown",
   "id": "260c6bae",
   "metadata": {},
   "source": [
    "### **Link:** https://platform.stratascratch.com/technical/2385-right-vs-left-skewed-distributions"
   ]
  },
  {
   "cell_type": "markdown",
   "id": "b1ad6fec",
   "metadata": {},
   "source": [
    "### **ID:** ID 2385"
   ]
  },
  {
   "cell_type": "markdown",
   "id": "b781b1c5",
   "metadata": {},
   "source": [
    "# Right vs Left-Skewed Distributions"
   ]
  },
  {
   "cell_type": "markdown",
   "id": "cb40eded",
   "metadata": {},
   "source": [
    "### **Difficulty:** Medium"
   ]
  },
  {
   "cell_type": "markdown",
   "id": "99784e22",
   "metadata": {},
   "source": [
    "### **Question Type:** Statistics"
   ]
  },
  {
   "cell_type": "markdown",
   "id": "25a6eb77",
   "metadata": {},
   "source": [
    "### **Company:** Microsoft, Apple, Oracle"
   ]
  },
  {
   "cell_type": "markdown",
   "id": "03d8e423",
   "metadata": {},
   "source": [
    "## **Description:**"
   ]
  },
  {
   "cell_type": "markdown",
   "id": "019522ac",
   "metadata": {},
   "source": [
    "Explain right-skewed and left-skewed distributions. Where are the mean and median values in these cases compared to normal symmetrical bell shapes?"
   ]
  },
  {
   "cell_type": "markdown",
   "id": "b8df9e9f",
   "metadata": {},
   "source": [
    "## **Solution:**"
   ]
  },
  {
   "cell_type": "code",
   "execution_count": null,
   "id": "060e217f",
   "metadata": {},
   "outputs": [],
   "source": []
  }
 ],
 "metadata": {},
 "nbformat": 4,
 "nbformat_minor": 5
}
