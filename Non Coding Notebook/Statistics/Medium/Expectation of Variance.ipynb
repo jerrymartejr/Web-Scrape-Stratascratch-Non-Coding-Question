{
 "cells": [
  {
   "cell_type": "markdown",
   "id": "8def19de",
   "metadata": {},
   "source": [
    "### **Link:** https://platform.stratascratch.com/technical/2009-expectation-of-variance"
   ]
  },
  {
   "cell_type": "markdown",
   "id": "ef5cf3c3",
   "metadata": {},
   "source": [
    "### **ID:** ID 2009"
   ]
  },
  {
   "cell_type": "markdown",
   "id": "02275017",
   "metadata": {},
   "source": [
    "# Expectation of Variance"
   ]
  },
  {
   "cell_type": "markdown",
   "id": "f34d69d1",
   "metadata": {},
   "source": [
    "### **Difficulty:** Medium"
   ]
  },
  {
   "cell_type": "markdown",
   "id": "2b8123f3",
   "metadata": {},
   "source": [
    "### **Question Type:** Statistics"
   ]
  },
  {
   "cell_type": "markdown",
   "id": "6511dccd",
   "metadata": {},
   "source": [
    "### **Company:** Amazon, Meta"
   ]
  },
  {
   "cell_type": "markdown",
   "id": "96566128",
   "metadata": {},
   "source": [
    "## **Description:**"
   ]
  },
  {
   "cell_type": "markdown",
   "id": "1890675a",
   "metadata": {},
   "source": [
    "What is the expectation of the variance?"
   ]
  },
  {
   "cell_type": "markdown",
   "id": "06d7a1f0",
   "metadata": {},
   "source": [
    "## **Solution:**"
   ]
  },
  {
   "cell_type": "code",
   "execution_count": null,
   "id": "8d5dab03",
   "metadata": {},
   "outputs": [],
   "source": []
  }
 ],
 "metadata": {},
 "nbformat": 4,
 "nbformat_minor": 5
}
