{
 "cells": [
  {
   "cell_type": "markdown",
   "id": "6cbeb4e5",
   "metadata": {},
   "source": [
    "### **Link:** https://platform.stratascratch.com/technical/2426-multi-dimensional-data"
   ]
  },
  {
   "cell_type": "markdown",
   "id": "d2c08ed5",
   "metadata": {},
   "source": [
    "### **ID:** ID 2426"
   ]
  },
  {
   "cell_type": "markdown",
   "id": "909ea802",
   "metadata": {},
   "source": [
    "# Multi-dimensional Data"
   ]
  },
  {
   "cell_type": "markdown",
   "id": "e31bda81",
   "metadata": {},
   "source": [
    "### **Difficulty:** Medium"
   ]
  },
  {
   "cell_type": "markdown",
   "id": "e1c1f93d",
   "metadata": {},
   "source": [
    "### **Question Type:** Statistics"
   ]
  },
  {
   "cell_type": "markdown",
   "id": "88ce6919",
   "metadata": {},
   "source": [
    "### **Company:** Amazon"
   ]
  },
  {
   "cell_type": "markdown",
   "id": "d2e3a4b8",
   "metadata": {},
   "source": [
    "## **Description:**"
   ]
  },
  {
   "cell_type": "markdown",
   "id": "cab192cb",
   "metadata": {},
   "source": [
    "How do you visualize multidimensional data?"
   ]
  },
  {
   "cell_type": "markdown",
   "id": "d91ac417",
   "metadata": {},
   "source": [
    "## **Solution:**"
   ]
  },
  {
   "cell_type": "code",
   "execution_count": null,
   "id": "00553f5d",
   "metadata": {},
   "outputs": [],
   "source": []
  }
 ],
 "metadata": {},
 "nbformat": 4,
 "nbformat_minor": 5
}
