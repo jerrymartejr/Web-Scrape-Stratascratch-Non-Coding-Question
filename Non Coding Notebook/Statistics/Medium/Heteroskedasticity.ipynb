{
 "cells": [
  {
   "cell_type": "markdown",
   "id": "ca5118ac",
   "metadata": {},
   "source": [
    "### **Link:** https://platform.stratascratch.com/technical/2427-heteroskedasticity"
   ]
  },
  {
   "cell_type": "markdown",
   "id": "b2492d75",
   "metadata": {},
   "source": [
    "### **ID:** ID 2427"
   ]
  },
  {
   "cell_type": "markdown",
   "id": "5c6a3aed",
   "metadata": {},
   "source": [
    "# Heteroskedasticity"
   ]
  },
  {
   "cell_type": "markdown",
   "id": "bdfd61be",
   "metadata": {},
   "source": [
    "### **Difficulty:** Medium"
   ]
  },
  {
   "cell_type": "markdown",
   "id": "15f27449",
   "metadata": {},
   "source": [
    "### **Question Type:** Statistics"
   ]
  },
  {
   "cell_type": "markdown",
   "id": "fca89f06",
   "metadata": {},
   "source": [
    "### **Company:** Goldman Sachs"
   ]
  },
  {
   "cell_type": "markdown",
   "id": "f25044f0",
   "metadata": {},
   "source": [
    "## **Description:**"
   ]
  },
  {
   "cell_type": "markdown",
   "id": "fe75f50d",
   "metadata": {},
   "source": [
    "What is heteroskedasticity and how can we solve it?"
   ]
  },
  {
   "cell_type": "markdown",
   "id": "6a3a863b",
   "metadata": {},
   "source": [
    "## **Solution:**"
   ]
  },
  {
   "cell_type": "code",
   "execution_count": null,
   "id": "fe8d10be",
   "metadata": {},
   "outputs": [],
   "source": []
  }
 ],
 "metadata": {},
 "nbformat": 4,
 "nbformat_minor": 5
}
