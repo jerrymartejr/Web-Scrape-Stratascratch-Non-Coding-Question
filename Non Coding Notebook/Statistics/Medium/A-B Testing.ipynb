{
 "cells": [
  {
   "cell_type": "markdown",
   "id": "3e16d732",
   "metadata": {},
   "source": [
    "### **Link:** https://platform.stratascratch.com/technical/2417-ab-testing"
   ]
  },
  {
   "cell_type": "markdown",
   "id": "3ddb81c8",
   "metadata": {},
   "source": [
    "### **ID:** ID 2417"
   ]
  },
  {
   "cell_type": "markdown",
   "id": "d2ea57c1",
   "metadata": {},
   "source": [
    "# A-B Testing"
   ]
  },
  {
   "cell_type": "markdown",
   "id": "2eb3e624",
   "metadata": {},
   "source": [
    "### **Difficulty:** Medium"
   ]
  },
  {
   "cell_type": "markdown",
   "id": "8f901678",
   "metadata": {},
   "source": [
    "### **Question Type:** Statistics"
   ]
  },
  {
   "cell_type": "markdown",
   "id": "af9a0860",
   "metadata": {},
   "source": [
    "### **Company:** Meta"
   ]
  },
  {
   "cell_type": "markdown",
   "id": "be1451da",
   "metadata": {},
   "source": [
    "## **Description:**"
   ]
  },
  {
   "cell_type": "markdown",
   "id": "a05425b7",
   "metadata": {},
   "source": [
    "How do you do AB testing?"
   ]
  },
  {
   "cell_type": "markdown",
   "id": "e2d083e8",
   "metadata": {},
   "source": [
    "## **Solution:**"
   ]
  },
  {
   "cell_type": "code",
   "execution_count": null,
   "id": "bc1fe430",
   "metadata": {},
   "outputs": [],
   "source": []
  }
 ],
 "metadata": {},
 "nbformat": 4,
 "nbformat_minor": 5
}
