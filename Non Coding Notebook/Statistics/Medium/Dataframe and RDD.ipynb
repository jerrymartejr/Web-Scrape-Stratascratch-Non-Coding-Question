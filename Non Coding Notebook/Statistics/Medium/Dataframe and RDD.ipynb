{
 "cells": [
  {
   "cell_type": "markdown",
   "id": "d3fbce31",
   "metadata": {},
   "source": [
    "### **Link:** https://platform.stratascratch.com/technical/2424-dataframe-and-rdd"
   ]
  },
  {
   "cell_type": "markdown",
   "id": "8f8748f9",
   "metadata": {},
   "source": [
    "### **ID:** ID 2424"
   ]
  },
  {
   "cell_type": "markdown",
   "id": "f725507a",
   "metadata": {},
   "source": [
    "# Dataframe and RDD"
   ]
  },
  {
   "cell_type": "markdown",
   "id": "add7ace7",
   "metadata": {},
   "source": [
    "### **Difficulty:** Medium"
   ]
  },
  {
   "cell_type": "markdown",
   "id": "4c91547b",
   "metadata": {},
   "source": [
    "### **Question Type:** Statistics"
   ]
  },
  {
   "cell_type": "markdown",
   "id": "b66c84b2",
   "metadata": {},
   "source": [
    "### **Company:** EY"
   ]
  },
  {
   "cell_type": "markdown",
   "id": "d6b6d0e0",
   "metadata": {},
   "source": [
    "## **Description:**"
   ]
  },
  {
   "cell_type": "markdown",
   "id": "013ae207",
   "metadata": {},
   "source": [
    "What is the difference between dataframe and RDD?"
   ]
  },
  {
   "cell_type": "markdown",
   "id": "7076ee0a",
   "metadata": {},
   "source": [
    "## **Solution:**"
   ]
  },
  {
   "cell_type": "code",
   "execution_count": null,
   "id": "2857f7ab",
   "metadata": {},
   "outputs": [],
   "source": []
  }
 ],
 "metadata": {},
 "nbformat": 4,
 "nbformat_minor": 5
}
