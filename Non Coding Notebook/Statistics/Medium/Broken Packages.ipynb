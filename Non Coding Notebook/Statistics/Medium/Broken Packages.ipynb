{
 "cells": [
  {
   "cell_type": "markdown",
   "id": "be1846a0",
   "metadata": {},
   "source": [
    "### **Link:** https://platform.stratascratch.com/technical/2415-broken-packages"
   ]
  },
  {
   "cell_type": "markdown",
   "id": "8e452cea",
   "metadata": {},
   "source": [
    "### **ID:** ID 2415"
   ]
  },
  {
   "cell_type": "markdown",
   "id": "fb3cebbe",
   "metadata": {},
   "source": [
    "# Broken Packages"
   ]
  },
  {
   "cell_type": "markdown",
   "id": "d23a09e9",
   "metadata": {},
   "source": [
    "### **Difficulty:** Medium"
   ]
  },
  {
   "cell_type": "markdown",
   "id": "4960b077",
   "metadata": {},
   "source": [
    "### **Question Type:** Statistics"
   ]
  },
  {
   "cell_type": "markdown",
   "id": "d6bbc3d1",
   "metadata": {},
   "source": [
    "### **Company:** Amazon, Shopify"
   ]
  },
  {
   "cell_type": "markdown",
   "id": "9ce67835",
   "metadata": {},
   "source": [
    "## **Description:**"
   ]
  },
  {
   "cell_type": "markdown",
   "id": "7d4ab363",
   "metadata": {},
   "source": [
    "Some packages will give a% broken, and some packages b% broken. How do you decide which one to pick?"
   ]
  },
  {
   "cell_type": "markdown",
   "id": "04b4a3ba",
   "metadata": {},
   "source": [
    "## **Solution:**"
   ]
  },
  {
   "cell_type": "code",
   "execution_count": null,
   "id": "713ab1e5",
   "metadata": {},
   "outputs": [],
   "source": []
  }
 ],
 "metadata": {},
 "nbformat": 4,
 "nbformat_minor": 5
}
