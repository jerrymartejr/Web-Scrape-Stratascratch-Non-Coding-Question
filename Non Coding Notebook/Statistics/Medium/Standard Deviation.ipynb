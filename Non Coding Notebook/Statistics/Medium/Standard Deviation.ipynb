{
 "cells": [
  {
   "cell_type": "markdown",
   "id": "545163a6",
   "metadata": {},
   "source": [
    "### **Link:** https://platform.stratascratch.com/technical/2149-standard-deviation"
   ]
  },
  {
   "cell_type": "markdown",
   "id": "8b5730d0",
   "metadata": {},
   "source": [
    "### **ID:** ID 2149"
   ]
  },
  {
   "cell_type": "markdown",
   "id": "97bc75b2",
   "metadata": {},
   "source": [
    "# Standard Deviation"
   ]
  },
  {
   "cell_type": "markdown",
   "id": "dce518f0",
   "metadata": {},
   "source": [
    "### **Difficulty:** Medium"
   ]
  },
  {
   "cell_type": "markdown",
   "id": "1d302151",
   "metadata": {},
   "source": [
    "### **Question Type:** Statistics"
   ]
  },
  {
   "cell_type": "markdown",
   "id": "323c820f",
   "metadata": {},
   "source": [
    "### **Company:** Travelport"
   ]
  },
  {
   "cell_type": "markdown",
   "id": "603a2aaf",
   "metadata": {},
   "source": [
    "## **Description:**"
   ]
  },
  {
   "cell_type": "markdown",
   "id": "e5ee98b2",
   "metadata": {},
   "source": [
    "What is standard deviation? Why do we need it?"
   ]
  },
  {
   "cell_type": "markdown",
   "id": "5534ddea",
   "metadata": {},
   "source": [
    "## **Solution:**"
   ]
  },
  {
   "cell_type": "code",
   "execution_count": null,
   "id": "2c0624b7",
   "metadata": {},
   "outputs": [],
   "source": []
  }
 ],
 "metadata": {},
 "nbformat": 4,
 "nbformat_minor": 5
}
