{
 "cells": [
  {
   "cell_type": "markdown",
   "id": "4b5d8329",
   "metadata": {},
   "source": [
    "### **Link:** https://platform.stratascratch.com/technical/2324-bias-variance-tradeoff"
   ]
  },
  {
   "cell_type": "markdown",
   "id": "0312aac9",
   "metadata": {},
   "source": [
    "### **ID:** ID 2324"
   ]
  },
  {
   "cell_type": "markdown",
   "id": "db1fd3ef",
   "metadata": {},
   "source": [
    "# Bias-Variance Tradeoff"
   ]
  },
  {
   "cell_type": "markdown",
   "id": "0d2c04de",
   "metadata": {},
   "source": [
    "### **Difficulty:** Medium"
   ]
  },
  {
   "cell_type": "markdown",
   "id": "d1fda26e",
   "metadata": {},
   "source": [
    "### **Question Type:** Statistics"
   ]
  },
  {
   "cell_type": "markdown",
   "id": "15b66457",
   "metadata": {},
   "source": [
    "### **Company:** Amazon"
   ]
  },
  {
   "cell_type": "markdown",
   "id": "f79cfe16",
   "metadata": {},
   "source": [
    "## **Description:**"
   ]
  },
  {
   "cell_type": "markdown",
   "id": "eb870d15",
   "metadata": {},
   "source": [
    "Explain what is meant by the bias-variance tradeoff."
   ]
  },
  {
   "cell_type": "markdown",
   "id": "391a5fbf",
   "metadata": {},
   "source": [
    "## **Solution:**"
   ]
  },
  {
   "cell_type": "code",
   "execution_count": null,
   "id": "1a6d53d5",
   "metadata": {},
   "outputs": [],
   "source": []
  }
 ],
 "metadata": {},
 "nbformat": 4,
 "nbformat_minor": 5
}
