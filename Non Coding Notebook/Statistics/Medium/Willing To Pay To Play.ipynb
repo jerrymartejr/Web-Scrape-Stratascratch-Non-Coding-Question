{
 "cells": [
  {
   "cell_type": "markdown",
   "id": "00650912",
   "metadata": {},
   "source": [
    "### **Link:** https://platform.stratascratch.com/technical/2297-willing-to-pay-to-play"
   ]
  },
  {
   "cell_type": "markdown",
   "id": "adf3f010",
   "metadata": {},
   "source": [
    "### **ID:** ID 2297"
   ]
  },
  {
   "cell_type": "markdown",
   "id": "e7bec401",
   "metadata": {},
   "source": [
    "# Willing To Pay To Play"
   ]
  },
  {
   "cell_type": "markdown",
   "id": "8b7e2016",
   "metadata": {},
   "source": [
    "### **Difficulty:** Medium"
   ]
  },
  {
   "cell_type": "markdown",
   "id": "df3e39b0",
   "metadata": {},
   "source": [
    "### **Question Type:** Statistics"
   ]
  },
  {
   "cell_type": "markdown",
   "id": "9020a555",
   "metadata": {},
   "source": [
    "### **Company:** Citadel, Belvedere Trading, DRW"
   ]
  },
  {
   "cell_type": "markdown",
   "id": "ad9829cd",
   "metadata": {},
   "source": [
    "## **Description:**"
   ]
  },
  {
   "cell_type": "markdown",
   "id": "2379c187",
   "metadata": {},
   "source": [
    "How much you'd be willing to pay to play a coin game? Hint: Look up St. Petersburg paradox."
   ]
  },
  {
   "cell_type": "markdown",
   "id": "c13a5063",
   "metadata": {},
   "source": [
    "## **Solution:**"
   ]
  },
  {
   "cell_type": "code",
   "execution_count": null,
   "id": "6f929b95",
   "metadata": {},
   "outputs": [],
   "source": []
  }
 ],
 "metadata": {},
 "nbformat": 4,
 "nbformat_minor": 5
}
