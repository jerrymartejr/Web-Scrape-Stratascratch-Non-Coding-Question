{
 "cells": [
  {
   "cell_type": "markdown",
   "id": "d2dc2373",
   "metadata": {},
   "source": [
    "### **Link:** https://platform.stratascratch.com/technical/2142-used-by-different-groups"
   ]
  },
  {
   "cell_type": "markdown",
   "id": "2b839b41",
   "metadata": {},
   "source": [
    "### **ID:** ID 2142"
   ]
  },
  {
   "cell_type": "markdown",
   "id": "f95bbd52",
   "metadata": {},
   "source": [
    "# Used by Different Groups"
   ]
  },
  {
   "cell_type": "markdown",
   "id": "4688c3b1",
   "metadata": {},
   "source": [
    "### **Difficulty:** Medium"
   ]
  },
  {
   "cell_type": "markdown",
   "id": "a27b78d1",
   "metadata": {},
   "source": [
    "### **Question Type:** Statistics"
   ]
  },
  {
   "cell_type": "markdown",
   "id": "29b7a228",
   "metadata": {},
   "source": [
    "### **Company:** Meta"
   ]
  },
  {
   "cell_type": "markdown",
   "id": "49bbec90",
   "metadata": {},
   "source": [
    "## **Description:**"
   ]
  },
  {
   "cell_type": "markdown",
   "id": "a2c16012",
   "metadata": {},
   "source": [
    "We have a product that is getting used differently by two different groups."
   ]
  },
  {
   "cell_type": "markdown",
   "id": "7194532b",
   "metadata": {},
   "source": [
    "## **Solution:**"
   ]
  },
  {
   "cell_type": "code",
   "execution_count": null,
   "id": "501415c3",
   "metadata": {},
   "outputs": [],
   "source": []
  }
 ],
 "metadata": {},
 "nbformat": 4,
 "nbformat_minor": 5
}
