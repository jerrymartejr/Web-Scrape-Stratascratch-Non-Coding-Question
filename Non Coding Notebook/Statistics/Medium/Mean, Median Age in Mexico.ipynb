{
 "cells": [
  {
   "cell_type": "markdown",
   "id": "71cd552d",
   "metadata": {},
   "source": [
    "### **Link:** https://platform.stratascratch.com/technical/2013-mean-median-age-in-mexico"
   ]
  },
  {
   "cell_type": "markdown",
   "id": "86820fd1",
   "metadata": {},
   "source": [
    "### **ID:** ID 2013"
   ]
  },
  {
   "cell_type": "markdown",
   "id": "967f0888",
   "metadata": {},
   "source": [
    "# Mean, Median Age in Mexico"
   ]
  },
  {
   "cell_type": "markdown",
   "id": "1c167ea9",
   "metadata": {},
   "source": [
    "### **Difficulty:** Medium"
   ]
  },
  {
   "cell_type": "markdown",
   "id": "b755865c",
   "metadata": {},
   "source": [
    "### **Question Type:** Statistics"
   ]
  },
  {
   "cell_type": "markdown",
   "id": "03d70676",
   "metadata": {},
   "source": [
    "### **Company:** Meta"
   ]
  },
  {
   "cell_type": "markdown",
   "id": "0f26398d",
   "metadata": {},
   "source": [
    "## **Description:**"
   ]
  },
  {
   "cell_type": "markdown",
   "id": "39ec5562",
   "metadata": {},
   "source": [
    "In Mexico, if you take the mean and the median age, which one will be higher and why?"
   ]
  },
  {
   "cell_type": "markdown",
   "id": "7c11cc2e",
   "metadata": {},
   "source": [
    "## **Solution:**"
   ]
  },
  {
   "cell_type": "code",
   "execution_count": null,
   "id": "8d2c8568",
   "metadata": {},
   "outputs": [],
   "source": []
  }
 ],
 "metadata": {},
 "nbformat": 4,
 "nbformat_minor": 5
}
