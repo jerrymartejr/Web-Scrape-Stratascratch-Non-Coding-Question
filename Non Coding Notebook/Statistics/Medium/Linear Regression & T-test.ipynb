{
 "cells": [
  {
   "cell_type": "markdown",
   "id": "9910b3e4",
   "metadata": {},
   "source": [
    "### **Link:** https://platform.stratascratch.com/technical/2395-linear-regression-t-test"
   ]
  },
  {
   "cell_type": "markdown",
   "id": "f0b31963",
   "metadata": {},
   "source": [
    "### **ID:** ID 2395"
   ]
  },
  {
   "cell_type": "markdown",
   "id": "a3d516cc",
   "metadata": {},
   "source": [
    "# Linear Regression & T-test"
   ]
  },
  {
   "cell_type": "markdown",
   "id": "27f3e75e",
   "metadata": {},
   "source": [
    "### **Difficulty:** Medium"
   ]
  },
  {
   "cell_type": "markdown",
   "id": "cc249b50",
   "metadata": {},
   "source": [
    "### **Question Type:** Statistics"
   ]
  },
  {
   "cell_type": "markdown",
   "id": "1b998689",
   "metadata": {},
   "source": [
    "### **Company:** Amazon, Ebay, Etsy"
   ]
  },
  {
   "cell_type": "markdown",
   "id": "9fdc51b6",
   "metadata": {},
   "source": [
    "## **Description:**"
   ]
  },
  {
   "cell_type": "markdown",
   "id": "38cb08c7",
   "metadata": {},
   "source": [
    "What is the difference between linear regression and t-test?"
   ]
  },
  {
   "cell_type": "markdown",
   "id": "1c646a05",
   "metadata": {},
   "source": [
    "## **Solution:**"
   ]
  },
  {
   "cell_type": "code",
   "execution_count": null,
   "id": "9a9e9137",
   "metadata": {},
   "outputs": [],
   "source": []
  }
 ],
 "metadata": {},
 "nbformat": 4,
 "nbformat_minor": 5
}
