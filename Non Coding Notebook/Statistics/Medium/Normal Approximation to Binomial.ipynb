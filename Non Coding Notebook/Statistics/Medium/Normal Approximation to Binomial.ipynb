{
 "cells": [
  {
   "cell_type": "markdown",
   "id": "0abcd7e7",
   "metadata": {},
   "source": [
    "### **Link:** https://platform.stratascratch.com/technical/2362-normal-approximation-to-binomial"
   ]
  },
  {
   "cell_type": "markdown",
   "id": "51e1c9d6",
   "metadata": {},
   "source": [
    "### **ID:** ID 2362"
   ]
  },
  {
   "cell_type": "markdown",
   "id": "8f813e32",
   "metadata": {},
   "source": [
    "# Normal Approximation to Binomial"
   ]
  },
  {
   "cell_type": "markdown",
   "id": "0c30609b",
   "metadata": {},
   "source": [
    "### **Difficulty:** Medium"
   ]
  },
  {
   "cell_type": "markdown",
   "id": "42a09795",
   "metadata": {},
   "source": [
    "### **Question Type:** Statistics"
   ]
  },
  {
   "cell_type": "markdown",
   "id": "36423a90",
   "metadata": {},
   "source": [
    "### **Company:** EY, KPMG"
   ]
  },
  {
   "cell_type": "markdown",
   "id": "7654468b",
   "metadata": {},
   "source": [
    "## **Description:**"
   ]
  },
  {
   "cell_type": "markdown",
   "id": "5b672ec7",
   "metadata": {},
   "source": [
    "How can normal distribution be used to approximate binomial probabilities?"
   ]
  },
  {
   "cell_type": "markdown",
   "id": "47b7ee7f",
   "metadata": {},
   "source": [
    "## **Solution:**"
   ]
  },
  {
   "cell_type": "code",
   "execution_count": null,
   "id": "787c4ec4",
   "metadata": {},
   "outputs": [],
   "source": []
  }
 ],
 "metadata": {},
 "nbformat": 4,
 "nbformat_minor": 5
}
