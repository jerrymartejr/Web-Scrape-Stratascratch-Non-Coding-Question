{
 "cells": [
  {
   "cell_type": "markdown",
   "id": "ae79d698",
   "metadata": {},
   "source": [
    "### **Link:** https://platform.stratascratch.com/technical/2188-serving-ads-within-newsfeed"
   ]
  },
  {
   "cell_type": "markdown",
   "id": "4264138a",
   "metadata": {},
   "source": [
    "### **ID:** ID 2188"
   ]
  },
  {
   "cell_type": "markdown",
   "id": "cea1e82f",
   "metadata": {},
   "source": [
    "# Serving ads within Newsfeed"
   ]
  },
  {
   "cell_type": "markdown",
   "id": "cb90591e",
   "metadata": {},
   "source": [
    "### **Difficulty:** Medium"
   ]
  },
  {
   "cell_type": "markdown",
   "id": "7df17e47",
   "metadata": {},
   "source": [
    "### **Question Type:** Statistics"
   ]
  },
  {
   "cell_type": "markdown",
   "id": "15409473",
   "metadata": {},
   "source": [
    "### **Company:** Meta"
   ]
  },
  {
   "cell_type": "markdown",
   "id": "20c50bad",
   "metadata": {},
   "source": [
    "## **Description:**"
   ]
  },
  {
   "cell_type": "markdown",
   "id": "524b06b2",
   "metadata": {},
   "source": [
    "We have two options for serving ads within Newsfeed:"
   ]
  },
  {
   "cell_type": "markdown",
   "id": "b686ab2c",
   "metadata": {},
   "source": [
    "## **Solution:**"
   ]
  },
  {
   "cell_type": "code",
   "execution_count": null,
   "id": "e9540e15",
   "metadata": {},
   "outputs": [],
   "source": []
  }
 ],
 "metadata": {},
 "nbformat": 4,
 "nbformat_minor": 5
}
