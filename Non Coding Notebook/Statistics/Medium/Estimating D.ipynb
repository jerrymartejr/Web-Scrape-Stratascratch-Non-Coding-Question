{
 "cells": [
  {
   "cell_type": "markdown",
   "id": "3279d643",
   "metadata": {},
   "source": [
    "### **Link:** https://platform.stratascratch.com/technical/2030-estimating-d"
   ]
  },
  {
   "cell_type": "markdown",
   "id": "8ad5ee17",
   "metadata": {},
   "source": [
    "### **ID:** ID 2030"
   ]
  },
  {
   "cell_type": "markdown",
   "id": "806a63df",
   "metadata": {},
   "source": [
    "# Estimating D"
   ]
  },
  {
   "cell_type": "markdown",
   "id": "651794fc",
   "metadata": {},
   "source": [
    "### **Difficulty:** Medium"
   ]
  },
  {
   "cell_type": "markdown",
   "id": "da1c6757",
   "metadata": {},
   "source": [
    "### **Question Type:** Statistics"
   ]
  },
  {
   "cell_type": "markdown",
   "id": "dd38e771",
   "metadata": {},
   "source": [
    "### **Company:** Spotify"
   ]
  },
  {
   "cell_type": "markdown",
   "id": "4210f739",
   "metadata": {},
   "source": [
    "## **Description:**"
   ]
  },
  {
   "cell_type": "markdown",
   "id": "e7402914",
   "metadata": {},
   "source": [
    "Given n samples from a uniform distribution [0, d], how to estimate d?"
   ]
  },
  {
   "cell_type": "markdown",
   "id": "f925e7e3",
   "metadata": {},
   "source": [
    "## **Solution:**"
   ]
  },
  {
   "cell_type": "code",
   "execution_count": null,
   "id": "eeddbbe6",
   "metadata": {},
   "outputs": [],
   "source": []
  }
 ],
 "metadata": {},
 "nbformat": 4,
 "nbformat_minor": 5
}
