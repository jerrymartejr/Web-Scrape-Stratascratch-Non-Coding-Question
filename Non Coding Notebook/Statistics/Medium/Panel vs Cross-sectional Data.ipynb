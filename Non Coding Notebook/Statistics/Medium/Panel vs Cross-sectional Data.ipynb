{
 "cells": [
  {
   "cell_type": "markdown",
   "id": "bc91ed4d",
   "metadata": {},
   "source": [
    "### **Link:** https://platform.stratascratch.com/technical/2326-panel-vs-cross-sectional-data"
   ]
  },
  {
   "cell_type": "markdown",
   "id": "f97bdb68",
   "metadata": {},
   "source": [
    "### **ID:** ID 2326"
   ]
  },
  {
   "cell_type": "markdown",
   "id": "6f33babf",
   "metadata": {},
   "source": [
    "# Panel vs Cross-sectional Data"
   ]
  },
  {
   "cell_type": "markdown",
   "id": "2093088c",
   "metadata": {},
   "source": [
    "### **Difficulty:** Medium"
   ]
  },
  {
   "cell_type": "markdown",
   "id": "e1eef5ce",
   "metadata": {},
   "source": [
    "### **Question Type:** Statistics"
   ]
  },
  {
   "cell_type": "markdown",
   "id": "a8367281",
   "metadata": {},
   "source": [
    "### **Company:** Microsoft"
   ]
  },
  {
   "cell_type": "markdown",
   "id": "bc240323",
   "metadata": {},
   "source": [
    "## **Description:**"
   ]
  },
  {
   "cell_type": "markdown",
   "id": "c6b0b2ac",
   "metadata": {},
   "source": [
    "What are the differences between panel data and cross-sectional data?"
   ]
  },
  {
   "cell_type": "markdown",
   "id": "86e0f02e",
   "metadata": {},
   "source": [
    "## **Solution:**"
   ]
  },
  {
   "cell_type": "code",
   "execution_count": null,
   "id": "364d50f5",
   "metadata": {},
   "outputs": [],
   "source": []
  }
 ],
 "metadata": {},
 "nbformat": 4,
 "nbformat_minor": 5
}
