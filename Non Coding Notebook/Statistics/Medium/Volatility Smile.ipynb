{
 "cells": [
  {
   "cell_type": "markdown",
   "id": "b1d3557f",
   "metadata": {},
   "source": [
    "### **Link:** https://platform.stratascratch.com/technical/2299-volatility-smile"
   ]
  },
  {
   "cell_type": "markdown",
   "id": "b3bd5ea9",
   "metadata": {},
   "source": [
    "### **ID:** ID 2299"
   ]
  },
  {
   "cell_type": "markdown",
   "id": "d78328e4",
   "metadata": {},
   "source": [
    "# Volatility Smile"
   ]
  },
  {
   "cell_type": "markdown",
   "id": "8cd38dd1",
   "metadata": {},
   "source": [
    "### **Difficulty:** Medium"
   ]
  },
  {
   "cell_type": "markdown",
   "id": "dfb3fb32",
   "metadata": {},
   "source": [
    "### **Question Type:** Statistics"
   ]
  },
  {
   "cell_type": "markdown",
   "id": "9de31edb",
   "metadata": {},
   "source": [
    "### **Company:** Belvedere Trading"
   ]
  },
  {
   "cell_type": "markdown",
   "id": "168d732c",
   "metadata": {},
   "source": [
    "## **Description:**"
   ]
  },
  {
   "cell_type": "markdown",
   "id": "bddf5a9a",
   "metadata": {},
   "source": [
    "What causes volatility smile?"
   ]
  },
  {
   "cell_type": "markdown",
   "id": "065ed6b5",
   "metadata": {},
   "source": [
    "## **Solution:**"
   ]
  },
  {
   "cell_type": "code",
   "execution_count": null,
   "id": "d0b0d25c",
   "metadata": {},
   "outputs": [],
   "source": []
  }
 ],
 "metadata": {},
 "nbformat": 4,
 "nbformat_minor": 5
}
