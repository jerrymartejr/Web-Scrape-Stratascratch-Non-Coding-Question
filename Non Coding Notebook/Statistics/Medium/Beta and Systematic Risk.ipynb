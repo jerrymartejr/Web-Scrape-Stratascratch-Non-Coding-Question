{
 "cells": [
  {
   "cell_type": "markdown",
   "id": "2cf38513",
   "metadata": {},
   "source": [
    "### **Link:** https://platform.stratascratch.com/technical/2413-beta-and-systematic-risk"
   ]
  },
  {
   "cell_type": "markdown",
   "id": "4a0c1d1b",
   "metadata": {},
   "source": [
    "### **ID:** ID 2413"
   ]
  },
  {
   "cell_type": "markdown",
   "id": "7c8ef3fb",
   "metadata": {},
   "source": [
    "# Beta and Systematic Risk"
   ]
  },
  {
   "cell_type": "markdown",
   "id": "f4d9e915",
   "metadata": {},
   "source": [
    "### **Difficulty:** Medium"
   ]
  },
  {
   "cell_type": "markdown",
   "id": "0b60067b",
   "metadata": {},
   "source": [
    "### **Question Type:** Statistics"
   ]
  },
  {
   "cell_type": "markdown",
   "id": "d2d905e7",
   "metadata": {},
   "source": [
    "### **Company:** Square, Goldman Sachs"
   ]
  },
  {
   "cell_type": "markdown",
   "id": "10c208a8",
   "metadata": {},
   "source": [
    "## **Description:**"
   ]
  },
  {
   "cell_type": "markdown",
   "id": "474755d4",
   "metadata": {},
   "source": [
    "What does beta tell us about systematic risk?"
   ]
  },
  {
   "cell_type": "markdown",
   "id": "19a5be76",
   "metadata": {},
   "source": [
    "## **Solution:**"
   ]
  },
  {
   "cell_type": "code",
   "execution_count": null,
   "id": "6065036d",
   "metadata": {},
   "outputs": [],
   "source": []
  }
 ],
 "metadata": {},
 "nbformat": 4,
 "nbformat_minor": 5
}
