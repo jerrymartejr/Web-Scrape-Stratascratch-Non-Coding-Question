{
 "cells": [
  {
   "cell_type": "markdown",
   "id": "2e09582c",
   "metadata": {},
   "source": [
    "### **Link:** https://platform.stratascratch.com/technical/2314-larger-expected-value"
   ]
  },
  {
   "cell_type": "markdown",
   "id": "818d34b1",
   "metadata": {},
   "source": [
    "### **ID:** ID 2314"
   ]
  },
  {
   "cell_type": "markdown",
   "id": "8638ed15",
   "metadata": {},
   "source": [
    "# Larger Expected Value"
   ]
  },
  {
   "cell_type": "markdown",
   "id": "e946cd9e",
   "metadata": {},
   "source": [
    "### **Difficulty:** Medium"
   ]
  },
  {
   "cell_type": "markdown",
   "id": "d917f05d",
   "metadata": {},
   "source": [
    "### **Question Type:** Statistics"
   ]
  },
  {
   "cell_type": "markdown",
   "id": "bfde7160",
   "metadata": {},
   "source": [
    "### **Company:** PayPal, Wise"
   ]
  },
  {
   "cell_type": "markdown",
   "id": "8228a27e",
   "metadata": {},
   "source": [
    "## **Description:**"
   ]
  },
  {
   "cell_type": "markdown",
   "id": "fca6c0fd",
   "metadata": {},
   "source": [
    "What has the larger expected value: sampling a number between 1 and N from a uniform distribution and multiplying it by itself, or sampling two numbers between 1 and N from a uniform distribution and multiplying them?"
   ]
  },
  {
   "cell_type": "markdown",
   "id": "e5ce893b",
   "metadata": {},
   "source": [
    "## **Solution:**"
   ]
  },
  {
   "cell_type": "code",
   "execution_count": null,
   "id": "b9ae90a8",
   "metadata": {},
   "outputs": [],
   "source": []
  }
 ],
 "metadata": {},
 "nbformat": 4,
 "nbformat_minor": 5
}
