{
 "cells": [
  {
   "cell_type": "markdown",
   "id": "0598cdd8",
   "metadata": {},
   "source": [
    "### **Link:** https://platform.stratascratch.com/technical/2331-shapiro-wilk-test"
   ]
  },
  {
   "cell_type": "markdown",
   "id": "d024cb4a",
   "metadata": {},
   "source": [
    "### **ID:** ID 2331"
   ]
  },
  {
   "cell_type": "markdown",
   "id": "1f125e71",
   "metadata": {},
   "source": [
    "# Shapiro-Wilk Test"
   ]
  },
  {
   "cell_type": "markdown",
   "id": "a3bd39fd",
   "metadata": {},
   "source": [
    "### **Difficulty:** Medium"
   ]
  },
  {
   "cell_type": "markdown",
   "id": "c54ab838",
   "metadata": {},
   "source": [
    "### **Question Type:** Statistics"
   ]
  },
  {
   "cell_type": "markdown",
   "id": "a0cbd73f",
   "metadata": {},
   "source": [
    "### **Company:** Deloitte"
   ]
  },
  {
   "cell_type": "markdown",
   "id": "e87720c6",
   "metadata": {},
   "source": [
    "## **Description:**"
   ]
  },
  {
   "cell_type": "markdown",
   "id": "52146b17",
   "metadata": {},
   "source": [
    "Give an example of a situation when you can use the Shapiro-Wilk test."
   ]
  },
  {
   "cell_type": "markdown",
   "id": "dc7e60f1",
   "metadata": {},
   "source": [
    "## **Solution:**"
   ]
  },
  {
   "cell_type": "code",
   "execution_count": null,
   "id": "b84067a5",
   "metadata": {},
   "outputs": [],
   "source": []
  }
 ],
 "metadata": {},
 "nbformat": 4,
 "nbformat_minor": 5
}
