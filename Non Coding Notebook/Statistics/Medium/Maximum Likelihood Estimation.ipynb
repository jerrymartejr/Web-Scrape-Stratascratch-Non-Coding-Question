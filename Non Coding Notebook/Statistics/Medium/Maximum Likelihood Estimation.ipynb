{
 "cells": [
  {
   "cell_type": "markdown",
   "id": "674b8ff4",
   "metadata": {},
   "source": [
    "### **Link:** https://platform.stratascratch.com/technical/2351-maximum-likelihood-estimation"
   ]
  },
  {
   "cell_type": "markdown",
   "id": "ac2ba3df",
   "metadata": {},
   "source": [
    "### **ID:** ID 2351"
   ]
  },
  {
   "cell_type": "markdown",
   "id": "b7d40db3",
   "metadata": {},
   "source": [
    "# Maximum Likelihood Estimation"
   ]
  },
  {
   "cell_type": "markdown",
   "id": "867a1cd1",
   "metadata": {},
   "source": [
    "### **Difficulty:** Medium"
   ]
  },
  {
   "cell_type": "markdown",
   "id": "784eb73d",
   "metadata": {},
   "source": [
    "### **Question Type:** Statistics"
   ]
  },
  {
   "cell_type": "markdown",
   "id": "3179e75d",
   "metadata": {},
   "source": [
    "### **Company:** Goldman Sachs"
   ]
  },
  {
   "cell_type": "markdown",
   "id": "f213e917",
   "metadata": {},
   "source": [
    "## **Description:**"
   ]
  },
  {
   "cell_type": "markdown",
   "id": "f2455675",
   "metadata": {},
   "source": [
    "What is meant by Maximum Likelihood Estimation (MLE)?"
   ]
  },
  {
   "cell_type": "markdown",
   "id": "6aecb431",
   "metadata": {},
   "source": [
    "## **Solution:**"
   ]
  },
  {
   "cell_type": "code",
   "execution_count": null,
   "id": "60810e0d",
   "metadata": {},
   "outputs": [],
   "source": []
  }
 ],
 "metadata": {},
 "nbformat": 4,
 "nbformat_minor": 5
}
