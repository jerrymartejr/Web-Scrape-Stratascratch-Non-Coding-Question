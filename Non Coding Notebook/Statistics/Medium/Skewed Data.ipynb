{
 "cells": [
  {
   "cell_type": "markdown",
   "id": "85e08524",
   "metadata": {},
   "source": [
    "### **Link:** https://platform.stratascratch.com/technical/2332-skewed-data"
   ]
  },
  {
   "cell_type": "markdown",
   "id": "8fc7bf4a",
   "metadata": {},
   "source": [
    "### **ID:** ID 2332"
   ]
  },
  {
   "cell_type": "markdown",
   "id": "ed81fcc5",
   "metadata": {},
   "source": [
    "# Skewed Data"
   ]
  },
  {
   "cell_type": "markdown",
   "id": "9dfaae83",
   "metadata": {},
   "source": [
    "### **Difficulty:** Medium"
   ]
  },
  {
   "cell_type": "markdown",
   "id": "05e4fce3",
   "metadata": {},
   "source": [
    "### **Question Type:** Statistics"
   ]
  },
  {
   "cell_type": "markdown",
   "id": "f72deaf4",
   "metadata": {},
   "source": [
    "### **Company:** EY, Deloitte"
   ]
  },
  {
   "cell_type": "markdown",
   "id": "d0996f1b",
   "metadata": {},
   "source": [
    "## **Description:**"
   ]
  },
  {
   "cell_type": "markdown",
   "id": "52c7efa9",
   "metadata": {},
   "source": [
    "What methods can be used when analysing skewed data?"
   ]
  },
  {
   "cell_type": "markdown",
   "id": "17edc028",
   "metadata": {},
   "source": [
    "## **Solution:**"
   ]
  },
  {
   "cell_type": "code",
   "execution_count": null,
   "id": "1302305e",
   "metadata": {},
   "outputs": [],
   "source": []
  }
 ],
 "metadata": {},
 "nbformat": 4,
 "nbformat_minor": 5
}
