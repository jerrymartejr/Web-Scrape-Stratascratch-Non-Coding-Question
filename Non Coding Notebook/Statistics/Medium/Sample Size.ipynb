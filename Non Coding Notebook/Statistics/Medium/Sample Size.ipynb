{
 "cells": [
  {
   "cell_type": "markdown",
   "id": "87e801d9",
   "metadata": {},
   "source": [
    "### **Link:** https://platform.stratascratch.com/technical/2194-sample-size"
   ]
  },
  {
   "cell_type": "markdown",
   "id": "59cd2598",
   "metadata": {},
   "source": [
    "### **ID:** ID 2194"
   ]
  },
  {
   "cell_type": "markdown",
   "id": "110ceee4",
   "metadata": {},
   "source": [
    "# Sample Size"
   ]
  },
  {
   "cell_type": "markdown",
   "id": "6d900edd",
   "metadata": {},
   "source": [
    "### **Difficulty:** Medium"
   ]
  },
  {
   "cell_type": "markdown",
   "id": "0c170f14",
   "metadata": {},
   "source": [
    "### **Question Type:** Statistics"
   ]
  },
  {
   "cell_type": "markdown",
   "id": "088eccf1",
   "metadata": {},
   "source": [
    "### **Company:** Meta"
   ]
  },
  {
   "cell_type": "markdown",
   "id": "25ce245d",
   "metadata": {},
   "source": [
    "## **Description:**"
   ]
  },
  {
   "cell_type": "markdown",
   "id": "42bbee6f",
   "metadata": {},
   "source": [
    "Let's say the population on Meta/Facebook clicks ads with a click-through rate of PPP. We select a sample of size NNN and examine the sample's conversion rate, denoted by P^\\hat{P}P^, what is the minimum sample size NNN such that Prob(∣P^−P∣<δ)=95%Prob(| \\hat{P} - P | < \\delta ) = 95\\%Prob(∣P^−P∣<δ)=95%? In other words, find the minimum sample size N such that our sample estimate P^\\hat{P}P^ is within δ\\deltaδ of the true click-through rate PPP, with 95% confidence."
   ]
  },
  {
   "cell_type": "markdown",
   "id": "e6369706",
   "metadata": {},
   "source": [
    "## **Solution:**"
   ]
  },
  {
   "cell_type": "code",
   "execution_count": null,
   "id": "ccac12e9",
   "metadata": {},
   "outputs": [],
   "source": []
  }
 ],
 "metadata": {},
 "nbformat": 4,
 "nbformat_minor": 5
}
