{
 "cells": [
  {
   "cell_type": "markdown",
   "id": "3c48a437",
   "metadata": {},
   "source": [
    "### **Link:** https://platform.stratascratch.com/technical/2280-dice-with-12-faces"
   ]
  },
  {
   "cell_type": "markdown",
   "id": "55a80bdc",
   "metadata": {},
   "source": [
    "### **ID:** ID 2280"
   ]
  },
  {
   "cell_type": "markdown",
   "id": "7f34ca50",
   "metadata": {},
   "source": [
    "# Dice with 12 Faces"
   ]
  },
  {
   "cell_type": "markdown",
   "id": "eb537a6e",
   "metadata": {},
   "source": [
    "### **Difficulty:** Hard"
   ]
  },
  {
   "cell_type": "markdown",
   "id": "28d35b55",
   "metadata": {},
   "source": [
    "### **Question Type:** Probability"
   ]
  },
  {
   "cell_type": "markdown",
   "id": "cc14de51",
   "metadata": {},
   "source": [
    "### **Company:** Moore Capital Management, OnDeck, Jane Street"
   ]
  },
  {
   "cell_type": "markdown",
   "id": "22afb02a",
   "metadata": {},
   "source": [
    "## **Description:**"
   ]
  },
  {
   "cell_type": "markdown",
   "id": "812e0761",
   "metadata": {},
   "source": [
    "A asymmetrical dice with 12 faces, with 40% the rolled number is 12, and the remaining 60% are distributed equally among the remaining faces of the dice. Two people, choose a number, the one whose number is closer to the result will win. which number should they choose?"
   ]
  },
  {
   "cell_type": "markdown",
   "id": "b833ab9a",
   "metadata": {},
   "source": [
    "## **Solution:**"
   ]
  },
  {
   "cell_type": "code",
   "execution_count": null,
   "id": "2c5952c5",
   "metadata": {},
   "outputs": [],
   "source": []
  }
 ],
 "metadata": {},
 "nbformat": 4,
 "nbformat_minor": 5
}
