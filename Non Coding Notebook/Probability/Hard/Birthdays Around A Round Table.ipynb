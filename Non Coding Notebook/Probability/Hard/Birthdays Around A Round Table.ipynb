{
 "cells": [
  {
   "cell_type": "markdown",
   "id": "48619e7d",
   "metadata": {},
   "source": [
    "### **Link:** https://platform.stratascratch.com/technical/2267-birthdays-around-a-round-table"
   ]
  },
  {
   "cell_type": "markdown",
   "id": "24746bb6",
   "metadata": {},
   "source": [
    "### **ID:** ID 2267"
   ]
  },
  {
   "cell_type": "markdown",
   "id": "5a0c6e68",
   "metadata": {},
   "source": [
    "# Birthdays Around A Round Table"
   ]
  },
  {
   "cell_type": "markdown",
   "id": "38c1d870",
   "metadata": {},
   "source": [
    "### **Difficulty:** Hard"
   ]
  },
  {
   "cell_type": "markdown",
   "id": "654e484d",
   "metadata": {},
   "source": [
    "### **Question Type:** Probability"
   ]
  },
  {
   "cell_type": "markdown",
   "id": "2fc4b077",
   "metadata": {},
   "source": [
    "### **Company:** Affirm, Citadel, Belvedere Trading"
   ]
  },
  {
   "cell_type": "markdown",
   "id": "0e1908ab",
   "metadata": {},
   "source": [
    "## **Description:**"
   ]
  },
  {
   "cell_type": "markdown",
   "id": "d3b4e3c8",
   "metadata": {},
   "source": [
    "Calculate the odds of lining up 6 people around a round table in the order of their birthdays?"
   ]
  },
  {
   "cell_type": "markdown",
   "id": "c12a59b2",
   "metadata": {},
   "source": [
    "## **Solution:**"
   ]
  },
  {
   "cell_type": "code",
   "execution_count": null,
   "id": "b3cdacc2",
   "metadata": {},
   "outputs": [],
   "source": []
  }
 ],
 "metadata": {},
 "nbformat": 4,
 "nbformat_minor": 5
}
