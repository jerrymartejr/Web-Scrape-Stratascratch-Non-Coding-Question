{
 "cells": [
  {
   "cell_type": "markdown",
   "id": "fcaebdb5",
   "metadata": {},
   "source": [
    "### **Link:** https://platform.stratascratch.com/technical/2435-spam-emails"
   ]
  },
  {
   "cell_type": "markdown",
   "id": "bc0dbfb1",
   "metadata": {},
   "source": [
    "### **ID:** ID 2435"
   ]
  },
  {
   "cell_type": "markdown",
   "id": "a1e63533",
   "metadata": {},
   "source": [
    "# Spam Emails"
   ]
  },
  {
   "cell_type": "markdown",
   "id": "904fcba8",
   "metadata": {},
   "source": [
    "### **Difficulty:** Hard"
   ]
  },
  {
   "cell_type": "markdown",
   "id": "462f6086",
   "metadata": {},
   "source": [
    "### **Question Type:** Probability"
   ]
  },
  {
   "cell_type": "markdown",
   "id": "31e97883",
   "metadata": {},
   "source": [
    "### **Company:** Google"
   ]
  },
  {
   "cell_type": "markdown",
   "id": "ab449faf",
   "metadata": {},
   "source": [
    "## **Description:**"
   ]
  },
  {
   "cell_type": "markdown",
   "id": "08a334af",
   "metadata": {},
   "source": [
    "A cybersecurity firm reports that 10% of all emails sent are spam. If a user receives 100 emails, what is the probability that at least 5 of them are spam?"
   ]
  },
  {
   "cell_type": "markdown",
   "id": "274f2b58",
   "metadata": {},
   "source": [
    "## **Solution:**"
   ]
  },
  {
   "cell_type": "code",
   "execution_count": null,
   "id": "dcc0591d",
   "metadata": {},
   "outputs": [],
   "source": []
  }
 ],
 "metadata": {},
 "nbformat": 4,
 "nbformat_minor": 5
}
