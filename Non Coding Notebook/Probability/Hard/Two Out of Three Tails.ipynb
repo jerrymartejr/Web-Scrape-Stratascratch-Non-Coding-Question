{
 "cells": [
  {
   "cell_type": "markdown",
   "id": "cbacff0c",
   "metadata": {},
   "source": [
    "### **Link:** https://platform.stratascratch.com/technical/2285-two-out-of-three-tails"
   ]
  },
  {
   "cell_type": "markdown",
   "id": "94c9e95e",
   "metadata": {},
   "source": [
    "### **ID:** ID 2285"
   ]
  },
  {
   "cell_type": "markdown",
   "id": "50a70556",
   "metadata": {},
   "source": [
    "# Two Out of Three Tails"
   ]
  },
  {
   "cell_type": "markdown",
   "id": "17a37ee9",
   "metadata": {},
   "source": [
    "### **Difficulty:** Hard"
   ]
  },
  {
   "cell_type": "markdown",
   "id": "d1ab0445",
   "metadata": {},
   "source": [
    "### **Question Type:** Probability"
   ]
  },
  {
   "cell_type": "markdown",
   "id": "f39654e6",
   "metadata": {},
   "source": [
    "### **Company:** CKM Advisors, Credit Acceptance, Jane Street"
   ]
  },
  {
   "cell_type": "markdown",
   "id": "c94fcc1a",
   "metadata": {},
   "source": [
    "## **Description:**"
   ]
  },
  {
   "cell_type": "markdown",
   "id": "9e02e95b",
   "metadata": {},
   "source": [
    "You flip four coins. At least two are tails. What is the probability that exactly three are tails? Note: some interviewers might ask you not to use any tools, even pen and paper!"
   ]
  },
  {
   "cell_type": "markdown",
   "id": "e653d29f",
   "metadata": {},
   "source": [
    "## **Solution:**"
   ]
  },
  {
   "cell_type": "code",
   "execution_count": null,
   "id": "e3f624a1",
   "metadata": {},
   "outputs": [],
   "source": []
  }
 ],
 "metadata": {},
 "nbformat": 4,
 "nbformat_minor": 5
}
