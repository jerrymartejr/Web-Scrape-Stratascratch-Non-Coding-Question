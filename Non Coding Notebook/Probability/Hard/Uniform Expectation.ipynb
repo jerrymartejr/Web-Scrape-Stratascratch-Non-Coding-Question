{
 "cells": [
  {
   "cell_type": "markdown",
   "id": "457bb1d5",
   "metadata": {},
   "source": [
    "### **Link:** https://platform.stratascratch.com/technical/2272-uniform-expectation"
   ]
  },
  {
   "cell_type": "markdown",
   "id": "727514a4",
   "metadata": {},
   "source": [
    "### **ID:** ID 2272"
   ]
  },
  {
   "cell_type": "markdown",
   "id": "ffb65f83",
   "metadata": {},
   "source": [
    "# Uniform Expectation"
   ]
  },
  {
   "cell_type": "markdown",
   "id": "e87ef09b",
   "metadata": {},
   "source": [
    "### **Difficulty:** Hard"
   ]
  },
  {
   "cell_type": "markdown",
   "id": "08e491a1",
   "metadata": {},
   "source": [
    "### **Question Type:** Probability"
   ]
  },
  {
   "cell_type": "markdown",
   "id": "8be44b3a",
   "metadata": {},
   "source": [
    "### **Company:** DRW"
   ]
  },
  {
   "cell_type": "markdown",
   "id": "4024621e",
   "metadata": {},
   "source": [
    "## **Description:**"
   ]
  },
  {
   "cell_type": "markdown",
   "id": "5534d5b7",
   "metadata": {},
   "source": [
    "Let x∼U(0,1)x \\sim U(0,1)x∼U(0,1) and y∼U(0,2)y \\sim U(0,2)y∼U(0,2) be independent random variables, what's the expectation of ∣x−y∣|x−y|∣x−y∣?"
   ]
  },
  {
   "cell_type": "markdown",
   "id": "23abfd90",
   "metadata": {},
   "source": [
    "## **Solution:**"
   ]
  },
  {
   "cell_type": "code",
   "execution_count": null,
   "id": "3dbe40c0",
   "metadata": {},
   "outputs": [],
   "source": []
  }
 ],
 "metadata": {},
 "nbformat": 4,
 "nbformat_minor": 5
}
