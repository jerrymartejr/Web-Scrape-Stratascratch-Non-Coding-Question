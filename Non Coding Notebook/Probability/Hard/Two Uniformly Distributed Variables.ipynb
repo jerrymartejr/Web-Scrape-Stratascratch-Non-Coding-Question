{
 "cells": [
  {
   "cell_type": "markdown",
   "id": "7623a17f",
   "metadata": {},
   "source": [
    "### **Link:** https://platform.stratascratch.com/technical/2348-two-uniformly-distributed-variables"
   ]
  },
  {
   "cell_type": "markdown",
   "id": "78c3cbfa",
   "metadata": {},
   "source": [
    "### **ID:** ID 2348"
   ]
  },
  {
   "cell_type": "markdown",
   "id": "43b83f18",
   "metadata": {},
   "source": [
    "# Two Uniformly Distributed Variables"
   ]
  },
  {
   "cell_type": "markdown",
   "id": "0ec35052",
   "metadata": {},
   "source": [
    "### **Difficulty:** Hard"
   ]
  },
  {
   "cell_type": "markdown",
   "id": "90758571",
   "metadata": {},
   "source": [
    "### **Question Type:** Probability"
   ]
  },
  {
   "cell_type": "markdown",
   "id": "6836d32a",
   "metadata": {},
   "source": [
    "### **Company:** Google"
   ]
  },
  {
   "cell_type": "markdown",
   "id": "d733fe65",
   "metadata": {},
   "source": [
    "## **Description:**"
   ]
  },
  {
   "cell_type": "markdown",
   "id": "a4b307a9",
   "metadata": {},
   "source": [
    "We are given two random variables, XXX and YYY. Both are independent and uniformly distributed in some interval, each with the mean of 0 and the standard deviation of 1. What is the probability that 2X>Y2X>Y2X>Y?"
   ]
  },
  {
   "cell_type": "markdown",
   "id": "d85c1c6d",
   "metadata": {},
   "source": [
    "## **Solution:**"
   ]
  },
  {
   "cell_type": "code",
   "execution_count": null,
   "id": "3e69c6d8",
   "metadata": {},
   "outputs": [],
   "source": []
  }
 ],
 "metadata": {},
 "nbformat": 4,
 "nbformat_minor": 5
}
