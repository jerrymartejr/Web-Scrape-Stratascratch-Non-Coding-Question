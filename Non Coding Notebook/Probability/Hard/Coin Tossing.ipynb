{
 "cells": [
  {
   "cell_type": "markdown",
   "id": "5f50f25c",
   "metadata": {},
   "source": [
    "### **Link:** https://platform.stratascratch.com/technical/2400-coin-tossing"
   ]
  },
  {
   "cell_type": "markdown",
   "id": "ae2015b3",
   "metadata": {},
   "source": [
    "### **ID:** ID 2400"
   ]
  },
  {
   "cell_type": "markdown",
   "id": "d5903e21",
   "metadata": {},
   "source": [
    "# Coin Tossing"
   ]
  },
  {
   "cell_type": "markdown",
   "id": "2670d1b4",
   "metadata": {},
   "source": [
    "### **Difficulty:** Hard"
   ]
  },
  {
   "cell_type": "markdown",
   "id": "220e937b",
   "metadata": {},
   "source": [
    "### **Question Type:** Probability"
   ]
  },
  {
   "cell_type": "markdown",
   "id": "3182e0b8",
   "metadata": {},
   "source": [
    "### **Company:** Google, Adobe"
   ]
  },
  {
   "cell_type": "markdown",
   "id": "3545d44d",
   "metadata": {},
   "source": [
    "## **Description:**"
   ]
  },
  {
   "cell_type": "markdown",
   "id": "e7d5323a",
   "metadata": {},
   "source": [
    "Make an unfair coin fair."
   ]
  },
  {
   "cell_type": "markdown",
   "id": "cde869a2",
   "metadata": {},
   "source": [
    "## **Solution:**"
   ]
  },
  {
   "cell_type": "code",
   "execution_count": null,
   "id": "96488736",
   "metadata": {},
   "outputs": [],
   "source": []
  }
 ],
 "metadata": {},
 "nbformat": 4,
 "nbformat_minor": 5
}
