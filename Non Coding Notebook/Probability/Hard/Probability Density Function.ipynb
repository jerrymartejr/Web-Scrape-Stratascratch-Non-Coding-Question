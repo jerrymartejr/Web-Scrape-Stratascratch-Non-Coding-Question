{
 "cells": [
  {
   "cell_type": "markdown",
   "id": "5d1ebe43",
   "metadata": {},
   "source": [
    "### **Link:** https://platform.stratascratch.com/technical/2318-probability-density-function"
   ]
  },
  {
   "cell_type": "markdown",
   "id": "66cfcfa4",
   "metadata": {},
   "source": [
    "### **ID:** ID 2318"
   ]
  },
  {
   "cell_type": "markdown",
   "id": "86fc7a25",
   "metadata": {},
   "source": [
    "# Probability Density Function"
   ]
  },
  {
   "cell_type": "markdown",
   "id": "4f8e28df",
   "metadata": {},
   "source": [
    "### **Difficulty:** Hard"
   ]
  },
  {
   "cell_type": "markdown",
   "id": "1d9e6ed2",
   "metadata": {},
   "source": [
    "### **Question Type:** Probability"
   ]
  },
  {
   "cell_type": "markdown",
   "id": "b41f6ccb",
   "metadata": {},
   "source": [
    "### **Company:** Goldman Sachs"
   ]
  },
  {
   "cell_type": "markdown",
   "id": "398e28a4",
   "metadata": {},
   "source": [
    "## **Description:**"
   ]
  },
  {
   "cell_type": "markdown",
   "id": "2e1eb2bb",
   "metadata": {},
   "source": [
    "What is the Probability Density Function of Z=max(X,Y)Z = max(X, Y)Z=max(X,Y) where X,Y∼U(0,1)X, Y \\sim U(0, 1)X,Y∼U(0,1)?"
   ]
  },
  {
   "cell_type": "markdown",
   "id": "827e5235",
   "metadata": {},
   "source": [
    "## **Solution:**"
   ]
  },
  {
   "cell_type": "code",
   "execution_count": null,
   "id": "eaaefcff",
   "metadata": {},
   "outputs": [],
   "source": []
  }
 ],
 "metadata": {},
 "nbformat": 4,
 "nbformat_minor": 5
}
