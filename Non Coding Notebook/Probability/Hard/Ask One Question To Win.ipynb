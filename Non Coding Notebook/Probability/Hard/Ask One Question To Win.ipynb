{
 "cells": [
  {
   "cell_type": "markdown",
   "id": "0740f134",
   "metadata": {},
   "source": [
    "### **Link:** https://platform.stratascratch.com/technical/2273-ask-one-question-to-win"
   ]
  },
  {
   "cell_type": "markdown",
   "id": "57489336",
   "metadata": {},
   "source": [
    "### **ID:** ID 2273"
   ]
  },
  {
   "cell_type": "markdown",
   "id": "cf2ec040",
   "metadata": {},
   "source": [
    "# Ask One Question To Win"
   ]
  },
  {
   "cell_type": "markdown",
   "id": "6425e99b",
   "metadata": {},
   "source": [
    "### **Difficulty:** Hard"
   ]
  },
  {
   "cell_type": "markdown",
   "id": "8a7e85a1",
   "metadata": {},
   "source": [
    "### **Question Type:** Probability"
   ]
  },
  {
   "cell_type": "markdown",
   "id": "dbc6177a",
   "metadata": {},
   "source": [
    "### **Company:** Jane Street"
   ]
  },
  {
   "cell_type": "markdown",
   "id": "8fc2ca91",
   "metadata": {},
   "source": [
    "## **Description:**"
   ]
  },
  {
   "cell_type": "markdown",
   "id": "f79533ad",
   "metadata": {},
   "source": [
    "Imagine I flip a coin 100 times in a sequence, and you need to guess the sequence. You are allowed to ask one yes/no question. What do you ask to maximize the probability of guessing the correct sequence?"
   ]
  },
  {
   "cell_type": "markdown",
   "id": "f0e35625",
   "metadata": {},
   "source": [
    "## **Solution:**"
   ]
  },
  {
   "cell_type": "code",
   "execution_count": null,
   "id": "cc24e3d8",
   "metadata": {},
   "outputs": [],
   "source": []
  }
 ],
 "metadata": {},
 "nbformat": 4,
 "nbformat_minor": 5
}
