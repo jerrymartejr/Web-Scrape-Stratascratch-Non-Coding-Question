{
 "cells": [
  {
   "cell_type": "markdown",
   "id": "29b335b0",
   "metadata": {},
   "source": [
    "### **Link:** https://platform.stratascratch.com/technical/2433-drawing-balls"
   ]
  },
  {
   "cell_type": "markdown",
   "id": "dce70df0",
   "metadata": {},
   "source": [
    "### **ID:** ID 2433"
   ]
  },
  {
   "cell_type": "markdown",
   "id": "df3438c4",
   "metadata": {},
   "source": [
    "# Drawing Balls"
   ]
  },
  {
   "cell_type": "markdown",
   "id": "f278e172",
   "metadata": {},
   "source": [
    "### **Difficulty:** Hard"
   ]
  },
  {
   "cell_type": "markdown",
   "id": "9237cf83",
   "metadata": {},
   "source": [
    "### **Question Type:** Probability"
   ]
  },
  {
   "cell_type": "markdown",
   "id": "793510a7",
   "metadata": {},
   "source": [
    "### **Company:** Goldman Sachs"
   ]
  },
  {
   "cell_type": "markdown",
   "id": "e7da246b",
   "metadata": {},
   "source": [
    "## **Description:**"
   ]
  },
  {
   "cell_type": "markdown",
   "id": "b64a43f8",
   "metadata": {},
   "source": [
    "You are given a bag containing 10 balls, of which 3 are red and 7 are blue. You randomly draw 3 balls without replacement. What is the probability that at least 2 of the balls are red?"
   ]
  },
  {
   "cell_type": "markdown",
   "id": "060e86d1",
   "metadata": {},
   "source": [
    "## **Solution:**"
   ]
  },
  {
   "cell_type": "code",
   "execution_count": null,
   "id": "a90ed231",
   "metadata": {},
   "outputs": [],
   "source": []
  }
 ],
 "metadata": {},
 "nbformat": 4,
 "nbformat_minor": 5
}
