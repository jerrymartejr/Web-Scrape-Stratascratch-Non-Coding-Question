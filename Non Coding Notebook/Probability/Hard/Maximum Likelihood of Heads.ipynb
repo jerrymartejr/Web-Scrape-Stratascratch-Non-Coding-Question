{
 "cells": [
  {
   "cell_type": "markdown",
   "id": "9746c48b",
   "metadata": {},
   "source": [
    "### **Link:** https://platform.stratascratch.com/technical/2344-maximum-likelihood-of-heads"
   ]
  },
  {
   "cell_type": "markdown",
   "id": "0b4d7e73",
   "metadata": {},
   "source": [
    "### **ID:** ID 2344"
   ]
  },
  {
   "cell_type": "markdown",
   "id": "ababdbe5",
   "metadata": {},
   "source": [
    "# Maximum Likelihood of Heads"
   ]
  },
  {
   "cell_type": "markdown",
   "id": "17a9b4fe",
   "metadata": {},
   "source": [
    "### **Difficulty:** Hard"
   ]
  },
  {
   "cell_type": "markdown",
   "id": "f66348b7",
   "metadata": {},
   "source": [
    "### **Question Type:** Probability"
   ]
  },
  {
   "cell_type": "markdown",
   "id": "d488f008",
   "metadata": {},
   "source": [
    "### **Company:** Amazon"
   ]
  },
  {
   "cell_type": "markdown",
   "id": "d7f626df",
   "metadata": {},
   "source": [
    "## **Description:**"
   ]
  },
  {
   "cell_type": "markdown",
   "id": "bdd1ead0",
   "metadata": {},
   "source": [
    "Suppose you flip a (biased) coin N times and it lands heads K times. Can you derive the Maximum Likelihood estimator of the coin’s probability of landing heads?"
   ]
  },
  {
   "cell_type": "markdown",
   "id": "d0e04abe",
   "metadata": {},
   "source": [
    "## **Solution:**"
   ]
  },
  {
   "cell_type": "code",
   "execution_count": null,
   "id": "056d877c",
   "metadata": {},
   "outputs": [],
   "source": []
  }
 ],
 "metadata": {},
 "nbformat": 4,
 "nbformat_minor": 5
}
