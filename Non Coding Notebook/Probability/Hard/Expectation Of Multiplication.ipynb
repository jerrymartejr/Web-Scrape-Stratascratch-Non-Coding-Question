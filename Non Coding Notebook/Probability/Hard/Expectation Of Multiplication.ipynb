{
 "cells": [
  {
   "cell_type": "markdown",
   "id": "602eee6c",
   "metadata": {},
   "source": [
    "### **Link:** https://platform.stratascratch.com/technical/2277-expectation-of-multiplication"
   ]
  },
  {
   "cell_type": "markdown",
   "id": "eb93f982",
   "metadata": {},
   "source": [
    "### **ID:** ID 2277"
   ]
  },
  {
   "cell_type": "markdown",
   "id": "046847e8",
   "metadata": {},
   "source": [
    "# Expectation Of Multiplication"
   ]
  },
  {
   "cell_type": "markdown",
   "id": "32a595d2",
   "metadata": {},
   "source": [
    "### **Difficulty:** Hard"
   ]
  },
  {
   "cell_type": "markdown",
   "id": "274ec18c",
   "metadata": {},
   "source": [
    "### **Question Type:** Probability"
   ]
  },
  {
   "cell_type": "markdown",
   "id": "828a4092",
   "metadata": {},
   "source": [
    "### **Company:** Jane Street"
   ]
  },
  {
   "cell_type": "markdown",
   "id": "68f459e9",
   "metadata": {},
   "source": [
    "## **Description:**"
   ]
  },
  {
   "cell_type": "markdown",
   "id": "9ccf5f1e",
   "metadata": {},
   "source": [
    "If I flip a coin 100  times, and then multiply the number of heads by the number of tails, what is the expected value of that number? Can you give a confidence interval of this number?"
   ]
  },
  {
   "cell_type": "markdown",
   "id": "e09fb8b4",
   "metadata": {},
   "source": [
    "## **Solution:**"
   ]
  },
  {
   "cell_type": "code",
   "execution_count": null,
   "id": "a4f57304",
   "metadata": {},
   "outputs": [],
   "source": []
  }
 ],
 "metadata": {},
 "nbformat": 4,
 "nbformat_minor": 5
}
