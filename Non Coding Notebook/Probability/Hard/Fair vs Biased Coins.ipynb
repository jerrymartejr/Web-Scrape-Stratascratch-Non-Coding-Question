{
 "cells": [
  {
   "cell_type": "markdown",
   "id": "2aa5288b",
   "metadata": {},
   "source": [
    "### **Link:** https://platform.stratascratch.com/technical/2432-fair-vs-biased-coins"
   ]
  },
  {
   "cell_type": "markdown",
   "id": "0f8e8e5b",
   "metadata": {},
   "source": [
    "### **ID:** ID 2432"
   ]
  },
  {
   "cell_type": "markdown",
   "id": "b4f34671",
   "metadata": {},
   "source": [
    "# Fair vs Biased Coins"
   ]
  },
  {
   "cell_type": "markdown",
   "id": "fc924aa6",
   "metadata": {},
   "source": [
    "### **Difficulty:** Hard"
   ]
  },
  {
   "cell_type": "markdown",
   "id": "5e81fac7",
   "metadata": {},
   "source": [
    "### **Question Type:** Probability"
   ]
  },
  {
   "cell_type": "markdown",
   "id": "16f11015",
   "metadata": {},
   "source": [
    "### **Company:** Oracle"
   ]
  },
  {
   "cell_type": "markdown",
   "id": "6ce95d45",
   "metadata": {},
   "source": [
    "## **Description:**"
   ]
  },
  {
   "cell_type": "markdown",
   "id": "c3d5ee1c",
   "metadata": {},
   "source": [
    "Suppose you have two coins, one of which is fair (heads and tails are equally likely) and one of which is biased (heads comes up 75% of the time). You randomly select one of the coins and flip it twice. If both flips come up heads, what is the probability that the selected coin is the fair one?"
   ]
  },
  {
   "cell_type": "markdown",
   "id": "828c0b3d",
   "metadata": {},
   "source": [
    "## **Solution:**"
   ]
  },
  {
   "cell_type": "code",
   "execution_count": null,
   "id": "55f17b30",
   "metadata": {},
   "outputs": [],
   "source": []
  }
 ],
 "metadata": {},
 "nbformat": 4,
 "nbformat_minor": 5
}
