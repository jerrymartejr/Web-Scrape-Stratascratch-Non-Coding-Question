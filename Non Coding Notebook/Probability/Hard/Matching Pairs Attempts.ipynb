{
 "cells": [
  {
   "cell_type": "markdown",
   "id": "dd1b21ab",
   "metadata": {},
   "source": [
    "### **Link:** https://platform.stratascratch.com/technical/2276-matching-pairs-attempts"
   ]
  },
  {
   "cell_type": "markdown",
   "id": "fc337e5c",
   "metadata": {},
   "source": [
    "### **ID:** ID 2276"
   ]
  },
  {
   "cell_type": "markdown",
   "id": "63d5e4ca",
   "metadata": {},
   "source": [
    "# Matching Pairs Attempts"
   ]
  },
  {
   "cell_type": "markdown",
   "id": "869cd0ee",
   "metadata": {},
   "source": [
    "### **Difficulty:** Hard"
   ]
  },
  {
   "cell_type": "markdown",
   "id": "0907e3a7",
   "metadata": {},
   "source": [
    "### **Question Type:** Probability"
   ]
  },
  {
   "cell_type": "markdown",
   "id": "f3cc8778",
   "metadata": {},
   "source": [
    "### **Company:** Affirm, CKM Advisors, Jane Street"
   ]
  },
  {
   "cell_type": "markdown",
   "id": "42e99f11",
   "metadata": {},
   "source": [
    "## **Description:**"
   ]
  },
  {
   "cell_type": "markdown",
   "id": "3fc1a6d4",
   "metadata": {},
   "source": [
    "You have a drawer with an infinite number of socks of two colors, which exist with equal probability. What is the expected number of attempts of taking out individual socks before a matching pair is found?"
   ]
  },
  {
   "cell_type": "markdown",
   "id": "82983b5c",
   "metadata": {},
   "source": [
    "## **Solution:**"
   ]
  },
  {
   "cell_type": "code",
   "execution_count": null,
   "id": "90339028",
   "metadata": {},
   "outputs": [],
   "source": []
  }
 ],
 "metadata": {},
 "nbformat": 4,
 "nbformat_minor": 5
}
