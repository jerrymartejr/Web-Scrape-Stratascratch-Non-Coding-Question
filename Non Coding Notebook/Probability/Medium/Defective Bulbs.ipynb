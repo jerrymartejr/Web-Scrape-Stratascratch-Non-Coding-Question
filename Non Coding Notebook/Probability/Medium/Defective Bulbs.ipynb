{
 "cells": [
  {
   "cell_type": "markdown",
   "id": "56f80d90",
   "metadata": {},
   "source": [
    "### **Link:** https://platform.stratascratch.com/technical/2437-defective-bulbs"
   ]
  },
  {
   "cell_type": "markdown",
   "id": "f4d8b46c",
   "metadata": {},
   "source": [
    "### **ID:** ID 2437"
   ]
  },
  {
   "cell_type": "markdown",
   "id": "8b45bb78",
   "metadata": {},
   "source": [
    "# Defective Bulbs"
   ]
  },
  {
   "cell_type": "markdown",
   "id": "9e6a76e6",
   "metadata": {},
   "source": [
    "### **Difficulty:** Medium"
   ]
  },
  {
   "cell_type": "markdown",
   "id": "4d511a90",
   "metadata": {},
   "source": [
    "### **Question Type:** Probability"
   ]
  },
  {
   "cell_type": "markdown",
   "id": "6c7ba77f",
   "metadata": {},
   "source": [
    "### **Company:** Microsoft, Apple, IBM"
   ]
  },
  {
   "cell_type": "markdown",
   "id": "0e5a751c",
   "metadata": {},
   "source": [
    "## **Description:**"
   ]
  },
  {
   "cell_type": "markdown",
   "id": "d4d90841",
   "metadata": {},
   "source": [
    "A manufacturing company produces light bulbs, and the probability of a bulb being defective is 0.05. If a package contains 10 bulbs, what is the probability that exactly 2 bulbs are defective?"
   ]
  },
  {
   "cell_type": "markdown",
   "id": "29206096",
   "metadata": {},
   "source": [
    "## **Solution:**"
   ]
  },
  {
   "cell_type": "code",
   "execution_count": null,
   "id": "b1e2f870",
   "metadata": {},
   "outputs": [],
   "source": []
  }
 ],
 "metadata": {},
 "nbformat": 4,
 "nbformat_minor": 5
}
