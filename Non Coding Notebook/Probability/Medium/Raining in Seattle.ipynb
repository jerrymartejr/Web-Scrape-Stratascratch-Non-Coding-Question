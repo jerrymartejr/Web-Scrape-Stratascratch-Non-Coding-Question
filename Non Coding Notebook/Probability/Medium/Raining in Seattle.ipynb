{
 "cells": [
  {
   "cell_type": "markdown",
   "id": "61da6e02",
   "metadata": {},
   "source": [
    "### **Link:** https://platform.stratascratch.com/technical/2005-raining-in-seattle"
   ]
  },
  {
   "cell_type": "markdown",
   "id": "580930bf",
   "metadata": {},
   "source": [
    "### **ID:** ID 2005"
   ]
  },
  {
   "cell_type": "markdown",
   "id": "7c890e97",
   "metadata": {},
   "source": [
    "# Raining in Seattle"
   ]
  },
  {
   "cell_type": "markdown",
   "id": "615b5fee",
   "metadata": {},
   "source": [
    "### **Difficulty:** Medium"
   ]
  },
  {
   "cell_type": "markdown",
   "id": "8964f992",
   "metadata": {},
   "source": [
    "### **Question Type:** Probability"
   ]
  },
  {
   "cell_type": "markdown",
   "id": "5e2ef167",
   "metadata": {},
   "source": [
    "### **Company:** Meta"
   ]
  },
  {
   "cell_type": "markdown",
   "id": "b1c72424",
   "metadata": {},
   "source": [
    "## **Description:**"
   ]
  },
  {
   "cell_type": "markdown",
   "id": "bcd2c6cd",
   "metadata": {},
   "source": [
    "You're about to get on a plane to Seattle. You want to know if you should bring an umbrella. You call 3 random friends of yours who live there and ask each independently if it's raining. Each of your friends has a 2/3 chance of telling you the truth and a 1/3 chance of messing with you by lying. All 3 friends tell you that \"Yes\" it is raining. What is the probability that it's actually raining in Seattle?"
   ]
  },
  {
   "cell_type": "markdown",
   "id": "73e35cba",
   "metadata": {},
   "source": [
    "## **Solution:**"
   ]
  },
  {
   "cell_type": "code",
   "execution_count": null,
   "id": "a5e78779",
   "metadata": {},
   "outputs": [],
   "source": []
  }
 ],
 "metadata": {},
 "nbformat": 4,
 "nbformat_minor": 5
}
