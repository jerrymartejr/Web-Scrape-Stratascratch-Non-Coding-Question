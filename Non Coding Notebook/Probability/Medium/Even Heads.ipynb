{
 "cells": [
  {
   "cell_type": "markdown",
   "id": "4f6004b2",
   "metadata": {},
   "source": [
    "### **Link:** https://platform.stratascratch.com/technical/2275-even-heads"
   ]
  },
  {
   "cell_type": "markdown",
   "id": "639d25fb",
   "metadata": {},
   "source": [
    "### **ID:** ID 2275"
   ]
  },
  {
   "cell_type": "markdown",
   "id": "e3fbbf9e",
   "metadata": {},
   "source": [
    "# Even Heads"
   ]
  },
  {
   "cell_type": "markdown",
   "id": "a980c987",
   "metadata": {},
   "source": [
    "### **Difficulty:** Medium"
   ]
  },
  {
   "cell_type": "markdown",
   "id": "3e6c6b2a",
   "metadata": {},
   "source": [
    "### **Question Type:** Probability"
   ]
  },
  {
   "cell_type": "markdown",
   "id": "4609b87e",
   "metadata": {},
   "source": [
    "### **Company:** Jane Street"
   ]
  },
  {
   "cell_type": "markdown",
   "id": "702788c7",
   "metadata": {},
   "source": [
    "## **Description:**"
   ]
  },
  {
   "cell_type": "markdown",
   "id": "94b3c933",
   "metadata": {},
   "source": [
    "Throw a fair coin 1,000 times, what's the probability of getting even number of heads?"
   ]
  },
  {
   "cell_type": "markdown",
   "id": "9610d502",
   "metadata": {},
   "source": [
    "## **Solution:**"
   ]
  },
  {
   "cell_type": "code",
   "execution_count": null,
   "id": "9ee09ec7",
   "metadata": {},
   "outputs": [],
   "source": []
  }
 ],
 "metadata": {},
 "nbformat": 4,
 "nbformat_minor": 5
}
