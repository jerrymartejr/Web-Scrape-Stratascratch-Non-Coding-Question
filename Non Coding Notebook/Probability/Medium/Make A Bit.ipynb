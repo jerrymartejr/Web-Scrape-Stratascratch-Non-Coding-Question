{
 "cells": [
  {
   "cell_type": "markdown",
   "id": "a78350a0",
   "metadata": {},
   "source": [
    "### **Link:** https://platform.stratascratch.com/technical/2271-make-a-bit"
   ]
  },
  {
   "cell_type": "markdown",
   "id": "98a92ab8",
   "metadata": {},
   "source": [
    "### **ID:** ID 2271"
   ]
  },
  {
   "cell_type": "markdown",
   "id": "e570c5da",
   "metadata": {},
   "source": [
    "# Make A Bit"
   ]
  },
  {
   "cell_type": "markdown",
   "id": "526fc53f",
   "metadata": {},
   "source": [
    "### **Difficulty:** Medium"
   ]
  },
  {
   "cell_type": "markdown",
   "id": "8dae2fee",
   "metadata": {},
   "source": [
    "### **Question Type:** Probability"
   ]
  },
  {
   "cell_type": "markdown",
   "id": "cfbdd3df",
   "metadata": {},
   "source": [
    "### **Company:** Capital One, Belvedere Trading, DRW"
   ]
  },
  {
   "cell_type": "markdown",
   "id": "4647478b",
   "metadata": {},
   "source": [
    "## **Description:**"
   ]
  },
  {
   "cell_type": "markdown",
   "id": "32a381eb",
   "metadata": {},
   "source": [
    "You have 2 envelopes; one with 100% chance of having 5000 dollars and the other with 50% chance of  either a 10k dollars or 1000 dollars, which one do you choose?"
   ]
  },
  {
   "cell_type": "markdown",
   "id": "83f3b818",
   "metadata": {},
   "source": [
    "## **Solution:**"
   ]
  },
  {
   "cell_type": "code",
   "execution_count": null,
   "id": "13846898",
   "metadata": {},
   "outputs": [],
   "source": []
  }
 ],
 "metadata": {},
 "nbformat": 4,
 "nbformat_minor": 5
}
