{
 "cells": [
  {
   "cell_type": "markdown",
   "id": "c06d8af8",
   "metadata": {},
   "source": [
    "### **Link:** https://platform.stratascratch.com/technical/2001-different-card"
   ]
  },
  {
   "cell_type": "markdown",
   "id": "d8df7913",
   "metadata": {},
   "source": [
    "### **ID:** ID 2001"
   ]
  },
  {
   "cell_type": "markdown",
   "id": "46b05640",
   "metadata": {},
   "source": [
    "# Different Card"
   ]
  },
  {
   "cell_type": "markdown",
   "id": "110d80e6",
   "metadata": {},
   "source": [
    "### **Difficulty:** Medium"
   ]
  },
  {
   "cell_type": "markdown",
   "id": "e527fc5f",
   "metadata": {},
   "source": [
    "### **Question Type:** Probability"
   ]
  },
  {
   "cell_type": "markdown",
   "id": "8210e770",
   "metadata": {},
   "source": [
    "### **Company:** Google, Meta"
   ]
  },
  {
   "cell_type": "markdown",
   "id": "ee21208c",
   "metadata": {},
   "source": [
    "## **Description:**"
   ]
  },
  {
   "cell_type": "markdown",
   "id": "3486e18b",
   "metadata": {},
   "source": [
    "What is the probability of pulling a different color or shape card from a shuffled deck of 52 cards?"
   ]
  },
  {
   "cell_type": "markdown",
   "id": "e8dc5753",
   "metadata": {},
   "source": [
    "## **Solution:**"
   ]
  },
  {
   "cell_type": "code",
   "execution_count": null,
   "id": "71cba6be",
   "metadata": {},
   "outputs": [],
   "source": []
  }
 ],
 "metadata": {},
 "nbformat": 4,
 "nbformat_minor": 5
}
