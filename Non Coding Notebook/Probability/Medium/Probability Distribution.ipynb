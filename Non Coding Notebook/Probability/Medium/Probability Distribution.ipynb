{
 "cells": [
  {
   "cell_type": "markdown",
   "id": "46cd8883",
   "metadata": {},
   "source": [
    "### **Link:** https://platform.stratascratch.com/technical/2406-probability-distribution"
   ]
  },
  {
   "cell_type": "markdown",
   "id": "a8d54033",
   "metadata": {},
   "source": [
    "### **ID:** ID 2406"
   ]
  },
  {
   "cell_type": "markdown",
   "id": "b64176a0",
   "metadata": {},
   "source": [
    "# Probability Distribution"
   ]
  },
  {
   "cell_type": "markdown",
   "id": "59ff419d",
   "metadata": {},
   "source": [
    "### **Difficulty:** Medium"
   ]
  },
  {
   "cell_type": "markdown",
   "id": "931c66b0",
   "metadata": {},
   "source": [
    "### **Question Type:** Probability"
   ]
  },
  {
   "cell_type": "markdown",
   "id": "48c6abfb",
   "metadata": {},
   "source": [
    "### **Company:** Google, Amazon"
   ]
  },
  {
   "cell_type": "markdown",
   "id": "e390b267",
   "metadata": {},
   "source": [
    "## **Description:**"
   ]
  },
  {
   "cell_type": "markdown",
   "id": "d3f02a47",
   "metadata": {},
   "source": [
    "Explain poisson distribution and how to apply that."
   ]
  },
  {
   "cell_type": "markdown",
   "id": "def22611",
   "metadata": {},
   "source": [
    "## **Solution:**"
   ]
  },
  {
   "cell_type": "code",
   "execution_count": null,
   "id": "82409908",
   "metadata": {},
   "outputs": [],
   "source": []
  }
 ],
 "metadata": {},
 "nbformat": 4,
 "nbformat_minor": 5
}
