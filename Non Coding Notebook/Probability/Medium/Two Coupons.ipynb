{
 "cells": [
  {
   "cell_type": "markdown",
   "id": "cfcaf160",
   "metadata": {},
   "source": [
    "### **Link:** https://platform.stratascratch.com/technical/2312-two-coupons"
   ]
  },
  {
   "cell_type": "markdown",
   "id": "a1f07e17",
   "metadata": {},
   "source": [
    "### **ID:** ID 2312"
   ]
  },
  {
   "cell_type": "markdown",
   "id": "13526ab3",
   "metadata": {},
   "source": [
    "# Two Coupons"
   ]
  },
  {
   "cell_type": "markdown",
   "id": "9d833e73",
   "metadata": {},
   "source": [
    "### **Difficulty:** Medium"
   ]
  },
  {
   "cell_type": "markdown",
   "id": "49c93968",
   "metadata": {},
   "source": [
    "### **Question Type:** Probability"
   ]
  },
  {
   "cell_type": "markdown",
   "id": "5525ae12",
   "metadata": {},
   "source": [
    "### **Company:** Lyft"
   ]
  },
  {
   "cell_type": "markdown",
   "id": "59ea72a4",
   "metadata": {},
   "source": [
    "## **Description:**"
   ]
  },
  {
   "cell_type": "markdown",
   "id": "fe55100c",
   "metadata": {},
   "source": [
    "A discount coupon is given to 2 riders. The probability of using a coupon is P. Given that at least one of them uses a coupon, what is the probability that both riders use the coupons?"
   ]
  },
  {
   "cell_type": "markdown",
   "id": "9ad66949",
   "metadata": {},
   "source": [
    "## **Solution:**"
   ]
  },
  {
   "cell_type": "code",
   "execution_count": null,
   "id": "4644534e",
   "metadata": {},
   "outputs": [],
   "source": []
  }
 ],
 "metadata": {},
 "nbformat": 4,
 "nbformat_minor": 5
}
