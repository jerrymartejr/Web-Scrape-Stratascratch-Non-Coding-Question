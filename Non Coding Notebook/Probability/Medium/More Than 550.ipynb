{
 "cells": [
  {
   "cell_type": "markdown",
   "id": "0fa8f3b6",
   "metadata": {},
   "source": [
    "### **Link:** https://platform.stratascratch.com/technical/2269-more-than-550"
   ]
  },
  {
   "cell_type": "markdown",
   "id": "5dc8878a",
   "metadata": {},
   "source": [
    "### **ID:** ID 2269"
   ]
  },
  {
   "cell_type": "markdown",
   "id": "3ee3b511",
   "metadata": {},
   "source": [
    "# More Than 550"
   ]
  },
  {
   "cell_type": "markdown",
   "id": "88ba52bb",
   "metadata": {},
   "source": [
    "### **Difficulty:** Medium"
   ]
  },
  {
   "cell_type": "markdown",
   "id": "0a860e1f",
   "metadata": {},
   "source": [
    "### **Question Type:** Probability"
   ]
  },
  {
   "cell_type": "markdown",
   "id": "a789c552",
   "metadata": {},
   "source": [
    "### **Company:** DE Shaw & Co"
   ]
  },
  {
   "cell_type": "markdown",
   "id": "762cb5e5",
   "metadata": {},
   "source": [
    "## **Description:**"
   ]
  },
  {
   "cell_type": "markdown",
   "id": "5384888b",
   "metadata": {},
   "source": [
    "Flip a fair coin 1000 times.What's the probability that the number of heads to come up is more than 550 times?"
   ]
  },
  {
   "cell_type": "markdown",
   "id": "3de0ab51",
   "metadata": {},
   "source": [
    "## **Solution:**"
   ]
  },
  {
   "cell_type": "code",
   "execution_count": null,
   "id": "e32c2a63",
   "metadata": {},
   "outputs": [],
   "source": []
  }
 ],
 "metadata": {},
 "nbformat": 4,
 "nbformat_minor": 5
}
