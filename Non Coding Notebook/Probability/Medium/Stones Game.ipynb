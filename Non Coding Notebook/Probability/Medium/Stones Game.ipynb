{
 "cells": [
  {
   "cell_type": "markdown",
   "id": "49f316d5",
   "metadata": {},
   "source": [
    "### **Link:** https://platform.stratascratch.com/technical/2076-stones-game"
   ]
  },
  {
   "cell_type": "markdown",
   "id": "183c8d1d",
   "metadata": {},
   "source": [
    "### **ID:** ID 2076"
   ]
  },
  {
   "cell_type": "markdown",
   "id": "d030730c",
   "metadata": {},
   "source": [
    "# Stones Game"
   ]
  },
  {
   "cell_type": "markdown",
   "id": "ffdff756",
   "metadata": {},
   "source": [
    "### **Difficulty:** Medium"
   ]
  },
  {
   "cell_type": "markdown",
   "id": "57ed8b74",
   "metadata": {},
   "source": [
    "### **Question Type:** Probability"
   ]
  },
  {
   "cell_type": "markdown",
   "id": "e90911cb",
   "metadata": {},
   "source": [
    "### **Company:** Meta"
   ]
  },
  {
   "cell_type": "markdown",
   "id": "d42ecd19",
   "metadata": {},
   "source": [
    "## **Description:**"
   ]
  },
  {
   "cell_type": "markdown",
   "id": "563110d2",
   "metadata": {},
   "source": [
    "Consider a game with 2 players, A and B. Player A has 8 stones, player B has 6. Game proceeds as follows. First, A rolls a fair 6-sided die, and the number on the die determines how many stones A takes over from B. Next, B rolls the same die, and the exact same thing happens in reverse. This concludes the round. Whoever has more stones at the end of the round wins and the game is over. If players end up with equal # of stones at the end of the round, it is a tie and another round ensues. What is the probability that B wins in 1, 2, ..., n rounds?"
   ]
  },
  {
   "cell_type": "markdown",
   "id": "8289504b",
   "metadata": {},
   "source": [
    "## **Solution:**"
   ]
  },
  {
   "cell_type": "code",
   "execution_count": null,
   "id": "ab054288",
   "metadata": {},
   "outputs": [],
   "source": []
  }
 ],
 "metadata": {},
 "nbformat": 4,
 "nbformat_minor": 5
}
