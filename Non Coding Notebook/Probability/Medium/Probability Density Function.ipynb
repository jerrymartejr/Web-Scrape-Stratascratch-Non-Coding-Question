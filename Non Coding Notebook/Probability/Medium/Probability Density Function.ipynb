{
 "cells": [
  {
   "cell_type": "markdown",
   "id": "2af7eb41",
   "metadata": {},
   "source": [
    "### **Link:** https://platform.stratascratch.com/technical/2398-probability-density-function"
   ]
  },
  {
   "cell_type": "markdown",
   "id": "e8bc9101",
   "metadata": {},
   "source": [
    "### **ID:** ID 2398"
   ]
  },
  {
   "cell_type": "markdown",
   "id": "6127f3a0",
   "metadata": {},
   "source": [
    "# Probability Density Function"
   ]
  },
  {
   "cell_type": "markdown",
   "id": "b9a2e602",
   "metadata": {},
   "source": [
    "### **Difficulty:** Medium"
   ]
  },
  {
   "cell_type": "markdown",
   "id": "c855b282",
   "metadata": {},
   "source": [
    "### **Question Type:** Probability"
   ]
  },
  {
   "cell_type": "markdown",
   "id": "85e2fa37",
   "metadata": {},
   "source": [
    "### **Company:** Google, Atlassian"
   ]
  },
  {
   "cell_type": "markdown",
   "id": "99095495",
   "metadata": {},
   "source": [
    "## **Description:**"
   ]
  },
  {
   "cell_type": "markdown",
   "id": "8e34b045",
   "metadata": {},
   "source": [
    "Can the values of PDF be greater than 1? If so, how do we interpret PDF?"
   ]
  },
  {
   "cell_type": "markdown",
   "id": "8643a759",
   "metadata": {},
   "source": [
    "## **Solution:**"
   ]
  },
  {
   "cell_type": "code",
   "execution_count": null,
   "id": "f02ed496",
   "metadata": {},
   "outputs": [],
   "source": []
  }
 ],
 "metadata": {},
 "nbformat": 4,
 "nbformat_minor": 5
}
