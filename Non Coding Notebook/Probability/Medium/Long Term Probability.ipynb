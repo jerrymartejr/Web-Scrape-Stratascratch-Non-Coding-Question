{
 "cells": [
  {
   "cell_type": "markdown",
   "id": "9b578ac9",
   "metadata": {},
   "source": [
    "### **Link:** https://platform.stratascratch.com/technical/2416-long-term-probability"
   ]
  },
  {
   "cell_type": "markdown",
   "id": "368284ba",
   "metadata": {},
   "source": [
    "### **ID:** ID 2416"
   ]
  },
  {
   "cell_type": "markdown",
   "id": "8935fe56",
   "metadata": {},
   "source": [
    "# Long Term Probability"
   ]
  },
  {
   "cell_type": "markdown",
   "id": "b1bcc103",
   "metadata": {},
   "source": [
    "### **Difficulty:** Medium"
   ]
  },
  {
   "cell_type": "markdown",
   "id": "0929c291",
   "metadata": {},
   "source": [
    "### **Question Type:** Probability"
   ]
  },
  {
   "cell_type": "markdown",
   "id": "74b712a0",
   "metadata": {},
   "source": [
    "### **Company:** Stitch Fix"
   ]
  },
  {
   "cell_type": "markdown",
   "id": "cb4ee29a",
   "metadata": {},
   "source": [
    "## **Description:**"
   ]
  },
  {
   "cell_type": "markdown",
   "id": "5daedaf9",
   "metadata": {},
   "source": [
    "There is a list of items and how many times each item is purchased (range from 10 to 100000 times). The probability of users buying each item is uniform (same across all users). Let's say we have an item \"A\" that has been recommended ten times and purchased ten times. What is the long-term probability of being purchased for this item?"
   ]
  },
  {
   "cell_type": "markdown",
   "id": "0cebdb37",
   "metadata": {},
   "source": [
    "## **Solution:**"
   ]
  },
  {
   "cell_type": "code",
   "execution_count": null,
   "id": "f8e1e1bb",
   "metadata": {},
   "outputs": [],
   "source": []
  }
 ],
 "metadata": {},
 "nbformat": 4,
 "nbformat_minor": 5
}
