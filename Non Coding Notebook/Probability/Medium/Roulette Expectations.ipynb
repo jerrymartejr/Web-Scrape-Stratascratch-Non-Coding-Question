{
 "cells": [
  {
   "cell_type": "markdown",
   "id": "0e81d6fd",
   "metadata": {},
   "source": [
    "### **Link:** https://platform.stratascratch.com/technical/2266-roulette-expectations"
   ]
  },
  {
   "cell_type": "markdown",
   "id": "41b23d42",
   "metadata": {},
   "source": [
    "### **ID:** ID 2266"
   ]
  },
  {
   "cell_type": "markdown",
   "id": "a654ed68",
   "metadata": {},
   "source": [
    "# Roulette Expectations"
   ]
  },
  {
   "cell_type": "markdown",
   "id": "df46db44",
   "metadata": {},
   "source": [
    "### **Difficulty:** Medium"
   ]
  },
  {
   "cell_type": "markdown",
   "id": "14be10e1",
   "metadata": {},
   "source": [
    "### **Question Type:** Probability"
   ]
  },
  {
   "cell_type": "markdown",
   "id": "62870602",
   "metadata": {},
   "source": [
    "### **Company:** Belvedere Trading"
   ]
  },
  {
   "cell_type": "markdown",
   "id": "0e28633f",
   "metadata": {},
   "source": [
    "## **Description:**"
   ]
  },
  {
   "cell_type": "markdown",
   "id": "39542c31",
   "metadata": {},
   "source": [
    "What is the expected value of a roulette if you have numbers 1-32?"
   ]
  },
  {
   "cell_type": "markdown",
   "id": "46be96d3",
   "metadata": {},
   "source": [
    "## **Solution:**"
   ]
  },
  {
   "cell_type": "code",
   "execution_count": null,
   "id": "cf13623b",
   "metadata": {},
   "outputs": [],
   "source": []
  }
 ],
 "metadata": {},
 "nbformat": 4,
 "nbformat_minor": 5
}
