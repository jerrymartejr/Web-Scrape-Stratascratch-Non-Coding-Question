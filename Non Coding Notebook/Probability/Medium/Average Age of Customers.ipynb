{
 "cells": [
  {
   "cell_type": "markdown",
   "id": "0b0dbe7f",
   "metadata": {},
   "source": [
    "### **Link:** https://platform.stratascratch.com/technical/2439-average-age-of-customers"
   ]
  },
  {
   "cell_type": "markdown",
   "id": "87471520",
   "metadata": {},
   "source": [
    "### **ID:** ID 2439"
   ]
  },
  {
   "cell_type": "markdown",
   "id": "c41ba514",
   "metadata": {},
   "source": [
    "# Average Age of Customers"
   ]
  },
  {
   "cell_type": "markdown",
   "id": "ddddee3c",
   "metadata": {},
   "source": [
    "### **Difficulty:** Medium"
   ]
  },
  {
   "cell_type": "markdown",
   "id": "6730b53f",
   "metadata": {},
   "source": [
    "### **Question Type:** Probability"
   ]
  },
  {
   "cell_type": "markdown",
   "id": "318aa0aa",
   "metadata": {},
   "source": [
    "### **Company:** Airbnb"
   ]
  },
  {
   "cell_type": "markdown",
   "id": "24cf1503",
   "metadata": {},
   "source": [
    "## **Description:**"
   ]
  },
  {
   "cell_type": "markdown",
   "id": "05b4bb06",
   "metadata": {},
   "source": [
    "A company wants to know the average age of its customers. They randomly select 100 customers and find that the average age is 35 with a standard deviation of 5 years. What is the 95% confidence interval for the true average age of the company's customers?"
   ]
  },
  {
   "cell_type": "markdown",
   "id": "4d800beb",
   "metadata": {},
   "source": [
    "## **Solution:**"
   ]
  },
  {
   "cell_type": "code",
   "execution_count": null,
   "id": "4ef9ae27",
   "metadata": {},
   "outputs": [],
   "source": []
  }
 ],
 "metadata": {},
 "nbformat": 4,
 "nbformat_minor": 5
}
