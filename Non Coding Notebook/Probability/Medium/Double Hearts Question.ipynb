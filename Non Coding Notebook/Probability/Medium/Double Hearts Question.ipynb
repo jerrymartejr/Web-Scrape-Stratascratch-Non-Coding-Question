{
 "cells": [
  {
   "cell_type": "markdown",
   "id": "82e2b7f4",
   "metadata": {},
   "source": [
    "### **Link:** https://platform.stratascratch.com/technical/2281-double-hearts-question"
   ]
  },
  {
   "cell_type": "markdown",
   "id": "d57f84e6",
   "metadata": {},
   "source": [
    "### **ID:** ID 2281"
   ]
  },
  {
   "cell_type": "markdown",
   "id": "56c69fa7",
   "metadata": {},
   "source": [
    "# Double Hearts Question"
   ]
  },
  {
   "cell_type": "markdown",
   "id": "6a084dad",
   "metadata": {},
   "source": [
    "### **Difficulty:** Medium"
   ]
  },
  {
   "cell_type": "markdown",
   "id": "7c7686af",
   "metadata": {},
   "source": [
    "### **Question Type:** Probability"
   ]
  },
  {
   "cell_type": "markdown",
   "id": "bf217372",
   "metadata": {},
   "source": [
    "### **Company:** Jane Street"
   ]
  },
  {
   "cell_type": "markdown",
   "id": "be7f85a5",
   "metadata": {},
   "source": [
    "## **Description:**"
   ]
  },
  {
   "cell_type": "markdown",
   "id": "dfa52001",
   "metadata": {},
   "source": [
    "You have a standard deck of 52 cards. I draw a card and tell you it is hearts. Now you draw a card from the remaining cards. What is the probability that you will also draw a heart?\n",
    "Again, you have a standard deck of 52 cards. I draw 13 cards and tell you I drew exactly 5 hearts. Your turn to draw 13 cards from the remaining cards. What is the expected number of hearts you will draw?"
   ]
  },
  {
   "cell_type": "markdown",
   "id": "87fe4be3",
   "metadata": {},
   "source": [
    "## **Solution:**"
   ]
  },
  {
   "cell_type": "code",
   "execution_count": null,
   "id": "65413b10",
   "metadata": {},
   "outputs": [],
   "source": []
  }
 ],
 "metadata": {},
 "nbformat": 4,
 "nbformat_minor": 5
}
