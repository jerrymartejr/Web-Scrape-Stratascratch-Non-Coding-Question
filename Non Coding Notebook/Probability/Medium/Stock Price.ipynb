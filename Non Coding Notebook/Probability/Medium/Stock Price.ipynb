{
 "cells": [
  {
   "cell_type": "markdown",
   "id": "95886151",
   "metadata": {},
   "source": [
    "### **Link:** https://platform.stratascratch.com/technical/2441-stock-price"
   ]
  },
  {
   "cell_type": "markdown",
   "id": "d0328a65",
   "metadata": {},
   "source": [
    "### **ID:** ID 2441"
   ]
  },
  {
   "cell_type": "markdown",
   "id": "5bc4218e",
   "metadata": {},
   "source": [
    "# Stock Price"
   ]
  },
  {
   "cell_type": "markdown",
   "id": "fcddfeab",
   "metadata": {},
   "source": [
    "### **Difficulty:** Medium"
   ]
  },
  {
   "cell_type": "markdown",
   "id": "04cd0d4c",
   "metadata": {},
   "source": [
    "### **Question Type:** Probability"
   ]
  },
  {
   "cell_type": "markdown",
   "id": "f27d098b",
   "metadata": {},
   "source": [
    "### **Company:** Zenefits, AXA, MetLife"
   ]
  },
  {
   "cell_type": "markdown",
   "id": "0006488b",
   "metadata": {},
   "source": [
    "## **Description:**"
   ]
  },
  {
   "cell_type": "markdown",
   "id": "29fa46a9",
   "metadata": {},
   "source": [
    "A computer program is designed to predict whether a stock will go up or down on a given day, and its accuracy rate is 60%. If the program predicts that a stock will go up on a given day, what is the probability that it will actually go up?"
   ]
  },
  {
   "cell_type": "markdown",
   "id": "8348e9ad",
   "metadata": {},
   "source": [
    "## **Solution:**"
   ]
  },
  {
   "cell_type": "code",
   "execution_count": null,
   "id": "391fca78",
   "metadata": {},
   "outputs": [],
   "source": []
  }
 ],
 "metadata": {},
 "nbformat": 4,
 "nbformat_minor": 5
}
