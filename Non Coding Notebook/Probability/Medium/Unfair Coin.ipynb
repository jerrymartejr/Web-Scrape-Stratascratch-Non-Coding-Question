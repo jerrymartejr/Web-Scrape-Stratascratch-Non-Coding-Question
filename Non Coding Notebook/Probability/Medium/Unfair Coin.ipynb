{
 "cells": [
  {
   "cell_type": "markdown",
   "id": "89455667",
   "metadata": {},
   "source": [
    "### **Link:** https://platform.stratascratch.com/technical/2033-unfair-coin"
   ]
  },
  {
   "cell_type": "markdown",
   "id": "359120e4",
   "metadata": {},
   "source": [
    "### **ID:** ID 2033"
   ]
  },
  {
   "cell_type": "markdown",
   "id": "6b1d8432",
   "metadata": {},
   "source": [
    "# Unfair Coin"
   ]
  },
  {
   "cell_type": "markdown",
   "id": "cf10fd19",
   "metadata": {},
   "source": [
    "### **Difficulty:** Medium"
   ]
  },
  {
   "cell_type": "markdown",
   "id": "247016ff",
   "metadata": {},
   "source": [
    "### **Question Type:** Probability"
   ]
  },
  {
   "cell_type": "markdown",
   "id": "6ba826a3",
   "metadata": {},
   "source": [
    "### **Company:** LinkedIn, Meta"
   ]
  },
  {
   "cell_type": "markdown",
   "id": "cb15e7b8",
   "metadata": {},
   "source": [
    "## **Description:**"
   ]
  },
  {
   "cell_type": "markdown",
   "id": "00e0fb58",
   "metadata": {},
   "source": [
    "You randomly draw a coin from 100 coins - 1 unfair coin (head-head), 99 fair coins (head-tail) and roll it 10 times. If the result is 10 heads, what's the probability that the coin is unfair?"
   ]
  },
  {
   "cell_type": "markdown",
   "id": "707942d3",
   "metadata": {},
   "source": [
    "## **Solution:**"
   ]
  },
  {
   "cell_type": "code",
   "execution_count": null,
   "id": "44a049f8",
   "metadata": {},
   "outputs": [],
   "source": []
  }
 ],
 "metadata": {},
 "nbformat": 4,
 "nbformat_minor": 5
}
