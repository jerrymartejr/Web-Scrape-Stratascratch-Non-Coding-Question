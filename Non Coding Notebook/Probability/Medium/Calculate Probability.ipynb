{
 "cells": [
  {
   "cell_type": "markdown",
   "id": "8bcc77ee",
   "metadata": {},
   "source": [
    "### **Link:** https://platform.stratascratch.com/technical/2431-calculate-probability"
   ]
  },
  {
   "cell_type": "markdown",
   "id": "95e221a4",
   "metadata": {},
   "source": [
    "### **ID:** ID 2431"
   ]
  },
  {
   "cell_type": "markdown",
   "id": "ef965e72",
   "metadata": {},
   "source": [
    "# Calculate Probability"
   ]
  },
  {
   "cell_type": "markdown",
   "id": "50437b02",
   "metadata": {},
   "source": [
    "### **Difficulty:** Medium"
   ]
  },
  {
   "cell_type": "markdown",
   "id": "210cd543",
   "metadata": {},
   "source": [
    "### **Question Type:** Probability"
   ]
  },
  {
   "cell_type": "markdown",
   "id": "c71766d5",
   "metadata": {},
   "source": [
    "### **Company:** Google"
   ]
  },
  {
   "cell_type": "markdown",
   "id": "fea49ed8",
   "metadata": {},
   "source": [
    "## **Description:**"
   ]
  },
  {
   "cell_type": "markdown",
   "id": "7f9911a0",
   "metadata": {},
   "source": [
    "What’s the probability of observing 1000, given mu = 0 and Sd = 1?"
   ]
  },
  {
   "cell_type": "markdown",
   "id": "f2a9ec44",
   "metadata": {},
   "source": [
    "## **Solution:**"
   ]
  },
  {
   "cell_type": "code",
   "execution_count": null,
   "id": "33dc8166",
   "metadata": {},
   "outputs": [],
   "source": []
  }
 ],
 "metadata": {},
 "nbformat": 4,
 "nbformat_minor": 5
}
