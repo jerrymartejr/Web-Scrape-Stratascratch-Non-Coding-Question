{
 "cells": [
  {
   "cell_type": "markdown",
   "id": "273c68e1",
   "metadata": {},
   "source": [
    "### **Link:** https://platform.stratascratch.com/technical/2073-expected-payout"
   ]
  },
  {
   "cell_type": "markdown",
   "id": "70c09a17",
   "metadata": {},
   "source": [
    "### **ID:** ID 2073"
   ]
  },
  {
   "cell_type": "markdown",
   "id": "9f334973",
   "metadata": {},
   "source": [
    "# Expected Payout"
   ]
  },
  {
   "cell_type": "markdown",
   "id": "d5949e00",
   "metadata": {},
   "source": [
    "### **Difficulty:** Medium"
   ]
  },
  {
   "cell_type": "markdown",
   "id": "7d13d5d4",
   "metadata": {},
   "source": [
    "### **Question Type:** Probability"
   ]
  },
  {
   "cell_type": "markdown",
   "id": "80cd1396",
   "metadata": {},
   "source": [
    "### **Company:** Meta"
   ]
  },
  {
   "cell_type": "markdown",
   "id": "9a45370c",
   "metadata": {},
   "source": [
    "## **Description:**"
   ]
  },
  {
   "cell_type": "markdown",
   "id": "271e0b02",
   "metadata": {},
   "source": [
    "You're at a casino with two dice, if you roll a 5 you win, and get paid 10.Thecostofonegameis10. The cost of one game is 10.Thecostofonegameis5. If you play until you win once and then stop, what is your expected income (earnings minus expenses)?"
   ]
  },
  {
   "cell_type": "markdown",
   "id": "f6eb4287",
   "metadata": {},
   "source": [
    "## **Solution:**"
   ]
  },
  {
   "cell_type": "code",
   "execution_count": null,
   "id": "533d0f43",
   "metadata": {},
   "outputs": [],
   "source": []
  }
 ],
 "metadata": {},
 "nbformat": 4,
 "nbformat_minor": 5
}
