{
 "cells": [
  {
   "cell_type": "markdown",
   "id": "cf03d21c",
   "metadata": {},
   "source": [
    "### **Link:** https://platform.stratascratch.com/technical/2024-moms-spaghetti"
   ]
  },
  {
   "cell_type": "markdown",
   "id": "4818eb02",
   "metadata": {},
   "source": [
    "### **ID:** ID 2024"
   ]
  },
  {
   "cell_type": "markdown",
   "id": "47b278f5",
   "metadata": {},
   "source": [
    "# Mom's Spaghetti"
   ]
  },
  {
   "cell_type": "markdown",
   "id": "c7a49b5d",
   "metadata": {},
   "source": [
    "### **Difficulty:** Medium"
   ]
  },
  {
   "cell_type": "markdown",
   "id": "18af42c6",
   "metadata": {},
   "source": [
    "### **Question Type:** Probability"
   ]
  },
  {
   "cell_type": "markdown",
   "id": "bb8d9b29",
   "metadata": {},
   "source": [
    "### **Company:** Natera, CVS Health"
   ]
  },
  {
   "cell_type": "markdown",
   "id": "8a473fb0",
   "metadata": {},
   "source": [
    "## **Description:**"
   ]
  },
  {
   "cell_type": "markdown",
   "id": "183b8601",
   "metadata": {},
   "source": [
    "Imagine you have N spaghettis in a bowl. You reach in and grab one end-piece, then reach in and grab another end-piece, and tie those two together. What is the expected value of the number of spaghetti loops in the bowl?"
   ]
  },
  {
   "cell_type": "markdown",
   "id": "82cf8ddc",
   "metadata": {},
   "source": [
    "## **Solution:**"
   ]
  },
  {
   "cell_type": "code",
   "execution_count": null,
   "id": "e7eab911",
   "metadata": {},
   "outputs": [],
   "source": []
  }
 ],
 "metadata": {},
 "nbformat": 4,
 "nbformat_minor": 5
}
