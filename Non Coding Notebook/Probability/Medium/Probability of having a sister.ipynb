{
 "cells": [
  {
   "cell_type": "markdown",
   "id": "d33e8eda",
   "metadata": {},
   "source": [
    "### **Link:** https://platform.stratascratch.com/technical/2368-probability-of-having-a-sister"
   ]
  },
  {
   "cell_type": "markdown",
   "id": "c8d24577",
   "metadata": {},
   "source": [
    "### **ID:** ID 2368"
   ]
  },
  {
   "cell_type": "markdown",
   "id": "92c4865d",
   "metadata": {},
   "source": [
    "# Probability of having a sister"
   ]
  },
  {
   "cell_type": "markdown",
   "id": "da1544d5",
   "metadata": {},
   "source": [
    "### **Difficulty:** Medium"
   ]
  },
  {
   "cell_type": "markdown",
   "id": "47f7537a",
   "metadata": {},
   "source": [
    "### **Question Type:** Probability"
   ]
  },
  {
   "cell_type": "markdown",
   "id": "d268c0bb",
   "metadata": {},
   "source": [
    "### **Company:** Google"
   ]
  },
  {
   "cell_type": "markdown",
   "id": "36137f6d",
   "metadata": {},
   "source": [
    "## **Description:**"
   ]
  },
  {
   "cell_type": "markdown",
   "id": "10ca0ef3",
   "metadata": {},
   "source": [
    "Assume the distribution of children per family is as given in the table below:"
   ]
  },
  {
   "cell_type": "markdown",
   "id": "2a433124",
   "metadata": {},
   "source": [
    "## **Solution:**"
   ]
  },
  {
   "cell_type": "code",
   "execution_count": null,
   "id": "81a36572",
   "metadata": {},
   "outputs": [],
   "source": []
  }
 ],
 "metadata": {},
 "nbformat": 4,
 "nbformat_minor": 5
}
