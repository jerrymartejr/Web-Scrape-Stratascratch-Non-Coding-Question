{
 "cells": [
  {
   "cell_type": "markdown",
   "id": "1cf3f4a9",
   "metadata": {},
   "source": [
    "### **Link:** https://platform.stratascratch.com/technical/2284-roll-a-dice-three-times"
   ]
  },
  {
   "cell_type": "markdown",
   "id": "d7e26d56",
   "metadata": {},
   "source": [
    "### **ID:** ID 2284"
   ]
  },
  {
   "cell_type": "markdown",
   "id": "0eb5bf0c",
   "metadata": {},
   "source": [
    "# Roll A Dice Three Times"
   ]
  },
  {
   "cell_type": "markdown",
   "id": "30d5bbbd",
   "metadata": {},
   "source": [
    "### **Difficulty:** Medium"
   ]
  },
  {
   "cell_type": "markdown",
   "id": "084a6bbe",
   "metadata": {},
   "source": [
    "### **Question Type:** Probability"
   ]
  },
  {
   "cell_type": "markdown",
   "id": "0a4352c1",
   "metadata": {},
   "source": [
    "### **Company:** Jane Street"
   ]
  },
  {
   "cell_type": "markdown",
   "id": "efce5330",
   "metadata": {},
   "source": [
    "## **Description:**"
   ]
  },
  {
   "cell_type": "markdown",
   "id": "8e0e20a4",
   "metadata": {},
   "source": [
    "What is the probability of getting a sum of 10 if you roll a dice three times?"
   ]
  },
  {
   "cell_type": "markdown",
   "id": "712b04dc",
   "metadata": {},
   "source": [
    "## **Solution:**"
   ]
  },
  {
   "cell_type": "code",
   "execution_count": null,
   "id": "cfa61d28",
   "metadata": {},
   "outputs": [],
   "source": []
  }
 ],
 "metadata": {},
 "nbformat": 4,
 "nbformat_minor": 5
}
