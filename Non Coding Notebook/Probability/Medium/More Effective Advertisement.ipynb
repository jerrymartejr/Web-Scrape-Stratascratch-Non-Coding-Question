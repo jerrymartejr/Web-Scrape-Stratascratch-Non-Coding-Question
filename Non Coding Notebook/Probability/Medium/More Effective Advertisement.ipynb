{
 "cells": [
  {
   "cell_type": "markdown",
   "id": "45e95950",
   "metadata": {},
   "source": [
    "### **Link:** https://platform.stratascratch.com/technical/2434-more-effective-advertisement"
   ]
  },
  {
   "cell_type": "markdown",
   "id": "d76f0c0f",
   "metadata": {},
   "source": [
    "### **ID:** ID 2434"
   ]
  },
  {
   "cell_type": "markdown",
   "id": "ca2c26e9",
   "metadata": {},
   "source": [
    "# More Effective Advertisement"
   ]
  },
  {
   "cell_type": "markdown",
   "id": "ca57f100",
   "metadata": {},
   "source": [
    "### **Difficulty:** Medium"
   ]
  },
  {
   "cell_type": "markdown",
   "id": "00a68180",
   "metadata": {},
   "source": [
    "### **Question Type:** Probability"
   ]
  },
  {
   "cell_type": "markdown",
   "id": "fdfa4510",
   "metadata": {},
   "source": [
    "### **Company:** Amazon"
   ]
  },
  {
   "cell_type": "markdown",
   "id": "3b6811c3",
   "metadata": {},
   "source": [
    "## **Description:**"
   ]
  },
  {
   "cell_type": "markdown",
   "id": "7dd37151",
   "metadata": {},
   "source": [
    "A website has two versions of an advertisement: one with a blue background and one with a red background. You want to determine which version is more effective at getting users to click on the ad. You randomly show one version to 100 users and the other version to another 100 users. The blue ad is clicked on by 30 users and the red ad is clicked on by 40 users. What is the probability that the red ad is more effective, given this data?"
   ]
  },
  {
   "cell_type": "markdown",
   "id": "c1ec846a",
   "metadata": {},
   "source": [
    "## **Solution:**"
   ]
  },
  {
   "cell_type": "code",
   "execution_count": null,
   "id": "10dc1a3a",
   "metadata": {},
   "outputs": [],
   "source": []
  }
 ],
 "metadata": {},
 "nbformat": 4,
 "nbformat_minor": 5
}
