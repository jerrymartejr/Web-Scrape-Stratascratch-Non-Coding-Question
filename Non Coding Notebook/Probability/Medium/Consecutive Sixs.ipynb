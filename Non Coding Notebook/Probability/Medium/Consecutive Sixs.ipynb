{
 "cells": [
  {
   "cell_type": "markdown",
   "id": "76f852e7",
   "metadata": {},
   "source": [
    "### **Link:** https://platform.stratascratch.com/technical/2286-consecutive-sixs"
   ]
  },
  {
   "cell_type": "markdown",
   "id": "e9ba8f1c",
   "metadata": {},
   "source": [
    "### **ID:** ID 2286"
   ]
  },
  {
   "cell_type": "markdown",
   "id": "66412c0d",
   "metadata": {},
   "source": [
    "# Consecutive Sixs"
   ]
  },
  {
   "cell_type": "markdown",
   "id": "857f3890",
   "metadata": {},
   "source": [
    "### **Difficulty:** Medium"
   ]
  },
  {
   "cell_type": "markdown",
   "id": "28354a15",
   "metadata": {},
   "source": [
    "### **Question Type:** Probability"
   ]
  },
  {
   "cell_type": "markdown",
   "id": "0c961802",
   "metadata": {},
   "source": [
    "### **Company:** Jump Trading"
   ]
  },
  {
   "cell_type": "markdown",
   "id": "37030cd5",
   "metadata": {},
   "source": [
    "## **Description:**"
   ]
  },
  {
   "cell_type": "markdown",
   "id": "110d1622",
   "metadata": {},
   "source": [
    "You keep rolling a fair die with 6 sides. What is the average number of rolling to obtain consecutive six 6s for the first time?"
   ]
  },
  {
   "cell_type": "markdown",
   "id": "84d92e8c",
   "metadata": {},
   "source": [
    "## **Solution:**"
   ]
  },
  {
   "cell_type": "code",
   "execution_count": null,
   "id": "7a500e01",
   "metadata": {},
   "outputs": [],
   "source": []
  }
 ],
 "metadata": {},
 "nbformat": 4,
 "nbformat_minor": 5
}
