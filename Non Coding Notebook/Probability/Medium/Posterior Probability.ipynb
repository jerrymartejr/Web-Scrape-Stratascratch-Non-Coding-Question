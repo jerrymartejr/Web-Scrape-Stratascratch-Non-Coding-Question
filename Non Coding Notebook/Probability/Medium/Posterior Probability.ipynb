{
 "cells": [
  {
   "cell_type": "markdown",
   "id": "64175c86",
   "metadata": {},
   "source": [
    "### **Link:** https://platform.stratascratch.com/technical/2399-posterior-probability"
   ]
  },
  {
   "cell_type": "markdown",
   "id": "f270be59",
   "metadata": {},
   "source": [
    "### **ID:** ID 2399"
   ]
  },
  {
   "cell_type": "markdown",
   "id": "ecc3f4d6",
   "metadata": {},
   "source": [
    "# Posterior Probability"
   ]
  },
  {
   "cell_type": "markdown",
   "id": "54dddf97",
   "metadata": {},
   "source": [
    "### **Difficulty:** Medium"
   ]
  },
  {
   "cell_type": "markdown",
   "id": "aae7c263",
   "metadata": {},
   "source": [
    "### **Question Type:** Probability"
   ]
  },
  {
   "cell_type": "markdown",
   "id": "93eda5bf",
   "metadata": {},
   "source": [
    "### **Company:** Deloitte, Tata Consultancy"
   ]
  },
  {
   "cell_type": "markdown",
   "id": "ce38b58f",
   "metadata": {},
   "source": [
    "## **Description:**"
   ]
  },
  {
   "cell_type": "markdown",
   "id": "44175307",
   "metadata": {},
   "source": [
    "Define posterior probability."
   ]
  },
  {
   "cell_type": "markdown",
   "id": "0af9b8a0",
   "metadata": {},
   "source": [
    "## **Solution:**"
   ]
  },
  {
   "cell_type": "code",
   "execution_count": null,
   "id": "4984ea87",
   "metadata": {},
   "outputs": [],
   "source": []
  }
 ],
 "metadata": {},
 "nbformat": 4,
 "nbformat_minor": 5
}
