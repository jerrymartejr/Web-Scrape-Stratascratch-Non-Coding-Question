{
 "cells": [
  {
   "cell_type": "markdown",
   "id": "2cb8a312",
   "metadata": {},
   "source": [
    "### **Link:** https://platform.stratascratch.com/technical/2310-cost-of-discount-coupons"
   ]
  },
  {
   "cell_type": "markdown",
   "id": "385d56e0",
   "metadata": {},
   "source": [
    "### **ID:** ID 2310"
   ]
  },
  {
   "cell_type": "markdown",
   "id": "7fb9181e",
   "metadata": {},
   "source": [
    "# Cost of Discount Coupons"
   ]
  },
  {
   "cell_type": "markdown",
   "id": "03baf5b1",
   "metadata": {},
   "source": [
    "### **Difficulty:** Medium"
   ]
  },
  {
   "cell_type": "markdown",
   "id": "ce2d4304",
   "metadata": {},
   "source": [
    "### **Question Type:** Probability"
   ]
  },
  {
   "cell_type": "markdown",
   "id": "ddeff0ab",
   "metadata": {},
   "source": [
    "### **Company:** Lyft"
   ]
  },
  {
   "cell_type": "markdown",
   "id": "05e34ebe",
   "metadata": {},
   "source": [
    "## **Description:**"
   ]
  },
  {
   "cell_type": "markdown",
   "id": "f79ba2f5",
   "metadata": {},
   "source": [
    "A $5 discount coupon is given to N riders. The probability of using a coupon is P. What is the expected cost for the company?"
   ]
  },
  {
   "cell_type": "markdown",
   "id": "d9e79ab5",
   "metadata": {},
   "source": [
    "## **Solution:**"
   ]
  },
  {
   "cell_type": "code",
   "execution_count": null,
   "id": "c611e7bb",
   "metadata": {},
   "outputs": [],
   "source": []
  }
 ],
 "metadata": {},
 "nbformat": 4,
 "nbformat_minor": 5
}
