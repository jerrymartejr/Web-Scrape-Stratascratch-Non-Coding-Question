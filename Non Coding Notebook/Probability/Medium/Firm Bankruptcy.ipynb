{
 "cells": [
  {
   "cell_type": "markdown",
   "id": "4a72a28a",
   "metadata": {},
   "source": [
    "### **Link:** https://platform.stratascratch.com/technical/2319-firm-bankruptcy"
   ]
  },
  {
   "cell_type": "markdown",
   "id": "3e2de015",
   "metadata": {},
   "source": [
    "### **ID:** ID 2319"
   ]
  },
  {
   "cell_type": "markdown",
   "id": "2630e819",
   "metadata": {},
   "source": [
    "# Firm Bankruptcy"
   ]
  },
  {
   "cell_type": "markdown",
   "id": "99e94bf3",
   "metadata": {},
   "source": [
    "### **Difficulty:** Medium"
   ]
  },
  {
   "cell_type": "markdown",
   "id": "869f76b7",
   "metadata": {},
   "source": [
    "### **Question Type:** Probability"
   ]
  },
  {
   "cell_type": "markdown",
   "id": "a30cab67",
   "metadata": {},
   "source": [
    "### **Company:** Goldman Sachs"
   ]
  },
  {
   "cell_type": "markdown",
   "id": "52b20402",
   "metadata": {},
   "source": [
    "## **Description:**"
   ]
  },
  {
   "cell_type": "markdown",
   "id": "26b439bf",
   "metadata": {},
   "source": [
    "With some point in time T and a certain period dT, the conditional probability of company X going bankrupt between T and T+dT, given that it does not go bankrupt until T, is said to be equal to a constant K multiplied by dT. What is the probability that X goes bankrupt before T?"
   ]
  },
  {
   "cell_type": "markdown",
   "id": "b1050cf0",
   "metadata": {},
   "source": [
    "## **Solution:**"
   ]
  },
  {
   "cell_type": "code",
   "execution_count": null,
   "id": "28ad1d14",
   "metadata": {},
   "outputs": [],
   "source": []
  }
 ],
 "metadata": {},
 "nbformat": 4,
 "nbformat_minor": 5
}
