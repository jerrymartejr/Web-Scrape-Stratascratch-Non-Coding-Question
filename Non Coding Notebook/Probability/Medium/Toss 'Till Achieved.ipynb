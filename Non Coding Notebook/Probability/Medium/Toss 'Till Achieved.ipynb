{
 "cells": [
  {
   "cell_type": "markdown",
   "id": "50dad9eb",
   "metadata": {},
   "source": [
    "### **Link:** https://platform.stratascratch.com/technical/2268-toss-till-achieved"
   ]
  },
  {
   "cell_type": "markdown",
   "id": "9cc4cb02",
   "metadata": {},
   "source": [
    "### **ID:** ID 2268"
   ]
  },
  {
   "cell_type": "markdown",
   "id": "d1de5421",
   "metadata": {},
   "source": [
    "# Toss 'Till Achieved"
   ]
  },
  {
   "cell_type": "markdown",
   "id": "70d001ad",
   "metadata": {},
   "source": [
    "### **Difficulty:** Medium"
   ]
  },
  {
   "cell_type": "markdown",
   "id": "97dcd3e3",
   "metadata": {},
   "source": [
    "### **Question Type:** Probability"
   ]
  },
  {
   "cell_type": "markdown",
   "id": "42ccb8d1",
   "metadata": {},
   "source": [
    "### **Company:** Chicago Trading Company"
   ]
  },
  {
   "cell_type": "markdown",
   "id": "35ea6288",
   "metadata": {},
   "source": [
    "## **Description:**"
   ]
  },
  {
   "cell_type": "markdown",
   "id": "735dd13f",
   "metadata": {},
   "source": [
    "Toss a coin till you get 2 heads. What's the expected number of tosses to achieve this goal?"
   ]
  },
  {
   "cell_type": "markdown",
   "id": "38a5ed63",
   "metadata": {},
   "source": [
    "## **Solution:**"
   ]
  },
  {
   "cell_type": "code",
   "execution_count": null,
   "id": "ae60f011",
   "metadata": {},
   "outputs": [],
   "source": []
  }
 ],
 "metadata": {},
 "nbformat": 4,
 "nbformat_minor": 5
}
