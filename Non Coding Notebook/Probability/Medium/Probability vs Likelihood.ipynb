{
 "cells": [
  {
   "cell_type": "markdown",
   "id": "f5be2a12",
   "metadata": {},
   "source": [
    "### **Link:** https://platform.stratascratch.com/technical/2393-probability-vs-likelihood"
   ]
  },
  {
   "cell_type": "markdown",
   "id": "1dedab66",
   "metadata": {},
   "source": [
    "### **ID:** ID 2393"
   ]
  },
  {
   "cell_type": "markdown",
   "id": "278ba26e",
   "metadata": {},
   "source": [
    "# Probability vs Likelihood"
   ]
  },
  {
   "cell_type": "markdown",
   "id": "ce8d4757",
   "metadata": {},
   "source": [
    "### **Difficulty:** Medium"
   ]
  },
  {
   "cell_type": "markdown",
   "id": "22dc4d85",
   "metadata": {},
   "source": [
    "### **Question Type:** Probability"
   ]
  },
  {
   "cell_type": "markdown",
   "id": "3d02e4a0",
   "metadata": {},
   "source": [
    "### **Company:** KPMG, Deloitte"
   ]
  },
  {
   "cell_type": "markdown",
   "id": "e49c4fa9",
   "metadata": {},
   "source": [
    "## **Description:**"
   ]
  },
  {
   "cell_type": "markdown",
   "id": "542a0b21",
   "metadata": {},
   "source": [
    "What is the difference between likelihood and probability?"
   ]
  },
  {
   "cell_type": "markdown",
   "id": "5b87b29e",
   "metadata": {},
   "source": [
    "## **Solution:**"
   ]
  },
  {
   "cell_type": "code",
   "execution_count": null,
   "id": "30abdc9a",
   "metadata": {},
   "outputs": [],
   "source": []
  }
 ],
 "metadata": {},
 "nbformat": 4,
 "nbformat_minor": 5
}
