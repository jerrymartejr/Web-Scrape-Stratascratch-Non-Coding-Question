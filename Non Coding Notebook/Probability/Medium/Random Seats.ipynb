{
 "cells": [
  {
   "cell_type": "markdown",
   "id": "f0944c0f",
   "metadata": {},
   "source": [
    "### **Link:** https://platform.stratascratch.com/technical/2440-random-seats"
   ]
  },
  {
   "cell_type": "markdown",
   "id": "7a4efead",
   "metadata": {},
   "source": [
    "### **ID:** ID 2440"
   ]
  },
  {
   "cell_type": "markdown",
   "id": "4419bb16",
   "metadata": {},
   "source": [
    "# Random Seats"
   ]
  },
  {
   "cell_type": "markdown",
   "id": "0a72deb1",
   "metadata": {},
   "source": [
    "### **Difficulty:** Medium"
   ]
  },
  {
   "cell_type": "markdown",
   "id": "9cf8d41f",
   "metadata": {},
   "source": [
    "### **Question Type:** Probability"
   ]
  },
  {
   "cell_type": "markdown",
   "id": "09da1f95",
   "metadata": {},
   "source": [
    "### **Company:** DoorDash"
   ]
  },
  {
   "cell_type": "markdown",
   "id": "8c28f4ad",
   "metadata": {},
   "source": [
    "## **Description:**"
   ]
  },
  {
   "cell_type": "markdown",
   "id": "cde356b4",
   "metadata": {},
   "source": [
    "A group of 10 friends randomly choose seats at a movie theater with 20 seats in a row. What is the probability that all 10 friends end up sitting next to each other?"
   ]
  },
  {
   "cell_type": "markdown",
   "id": "36641e8a",
   "metadata": {},
   "source": [
    "## **Solution:**"
   ]
  },
  {
   "cell_type": "code",
   "execution_count": null,
   "id": "c54db283",
   "metadata": {},
   "outputs": [],
   "source": []
  }
 ],
 "metadata": {},
 "nbformat": 4,
 "nbformat_minor": 5
}
