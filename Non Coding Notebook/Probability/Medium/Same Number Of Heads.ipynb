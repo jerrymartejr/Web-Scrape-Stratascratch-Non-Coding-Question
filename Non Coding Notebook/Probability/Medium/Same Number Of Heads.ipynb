{
 "cells": [
  {
   "cell_type": "markdown",
   "id": "84213f09",
   "metadata": {},
   "source": [
    "### **Link:** https://platform.stratascratch.com/technical/2287-same-number-of-heads"
   ]
  },
  {
   "cell_type": "markdown",
   "id": "7aed4e43",
   "metadata": {},
   "source": [
    "### **ID:** ID 2287"
   ]
  },
  {
   "cell_type": "markdown",
   "id": "b47641aa",
   "metadata": {},
   "source": [
    "# Same Number Of Heads"
   ]
  },
  {
   "cell_type": "markdown",
   "id": "416c68de",
   "metadata": {},
   "source": [
    "### **Difficulty:** Medium"
   ]
  },
  {
   "cell_type": "markdown",
   "id": "343e7939",
   "metadata": {},
   "source": [
    "### **Question Type:** Probability"
   ]
  },
  {
   "cell_type": "markdown",
   "id": "0938f28c",
   "metadata": {},
   "source": [
    "### **Company:** Optiver"
   ]
  },
  {
   "cell_type": "markdown",
   "id": "5b84aa91",
   "metadata": {},
   "source": [
    "## **Description:**"
   ]
  },
  {
   "cell_type": "markdown",
   "id": "144b87f6",
   "metadata": {},
   "source": [
    "2 people flip a coin 4 times each. What is the probability that the two people have the same number of heads at the end?"
   ]
  },
  {
   "cell_type": "markdown",
   "id": "66a66175",
   "metadata": {},
   "source": [
    "## **Solution:**"
   ]
  },
  {
   "cell_type": "code",
   "execution_count": null,
   "id": "1565e05d",
   "metadata": {},
   "outputs": [],
   "source": []
  }
 ],
 "metadata": {},
 "nbformat": 4,
 "nbformat_minor": 5
}
