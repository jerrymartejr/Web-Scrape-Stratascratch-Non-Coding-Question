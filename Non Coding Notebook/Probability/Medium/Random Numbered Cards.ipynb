{
 "cells": [
  {
   "cell_type": "markdown",
   "id": "99ab3dda",
   "metadata": {},
   "source": [
    "### **Link:** https://platform.stratascratch.com/technical/2316-random-numbered-cards"
   ]
  },
  {
   "cell_type": "markdown",
   "id": "c8e97092",
   "metadata": {},
   "source": [
    "### **ID:** ID 2316"
   ]
  },
  {
   "cell_type": "markdown",
   "id": "309349a2",
   "metadata": {},
   "source": [
    "# Random Numbered Cards"
   ]
  },
  {
   "cell_type": "markdown",
   "id": "ec04fc16",
   "metadata": {},
   "source": [
    "### **Difficulty:** Medium"
   ]
  },
  {
   "cell_type": "markdown",
   "id": "168057d6",
   "metadata": {},
   "source": [
    "### **Question Type:** Probability"
   ]
  },
  {
   "cell_type": "markdown",
   "id": "54b06076",
   "metadata": {},
   "source": [
    "### **Company:** IBM, Dell"
   ]
  },
  {
   "cell_type": "markdown",
   "id": "dc7933d3",
   "metadata": {},
   "source": [
    "## **Description:**"
   ]
  },
  {
   "cell_type": "markdown",
   "id": "6be98947",
   "metadata": {},
   "source": [
    "From a deck of cards numbered from 1 to 100, we draw two cards at random. What is the probability that a number on one of the cards is exactly double the number on the second card?"
   ]
  },
  {
   "cell_type": "markdown",
   "id": "b43392b6",
   "metadata": {},
   "source": [
    "## **Solution:**"
   ]
  },
  {
   "cell_type": "code",
   "execution_count": null,
   "id": "3039d2af",
   "metadata": {},
   "outputs": [],
   "source": []
  }
 ],
 "metadata": {},
 "nbformat": 4,
 "nbformat_minor": 5
}
