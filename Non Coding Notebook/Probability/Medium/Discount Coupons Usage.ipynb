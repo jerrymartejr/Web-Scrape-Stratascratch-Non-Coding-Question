{
 "cells": [
  {
   "cell_type": "markdown",
   "id": "27769b0b",
   "metadata": {},
   "source": [
    "### **Link:** https://platform.stratascratch.com/technical/2311-discount-coupons-usage"
   ]
  },
  {
   "cell_type": "markdown",
   "id": "2930fb69",
   "metadata": {},
   "source": [
    "### **ID:** ID 2311"
   ]
  },
  {
   "cell_type": "markdown",
   "id": "ca50ddbe",
   "metadata": {},
   "source": [
    "# Discount Coupons Usage"
   ]
  },
  {
   "cell_type": "markdown",
   "id": "745074cb",
   "metadata": {},
   "source": [
    "### **Difficulty:** Medium"
   ]
  },
  {
   "cell_type": "markdown",
   "id": "47c4a18f",
   "metadata": {},
   "source": [
    "### **Question Type:** Probability"
   ]
  },
  {
   "cell_type": "markdown",
   "id": "6405fc1b",
   "metadata": {},
   "source": [
    "### **Company:** Lyft"
   ]
  },
  {
   "cell_type": "markdown",
   "id": "d5b79159",
   "metadata": {},
   "source": [
    "## **Description:**"
   ]
  },
  {
   "cell_type": "markdown",
   "id": "a2da85b6",
   "metadata": {},
   "source": [
    "A discount coupon is given to N riders. The probability of using a coupon is P. What is the probability that one of the coupons will be used?"
   ]
  },
  {
   "cell_type": "markdown",
   "id": "7d93f470",
   "metadata": {},
   "source": [
    "## **Solution:**"
   ]
  },
  {
   "cell_type": "code",
   "execution_count": null,
   "id": "628a5bfe",
   "metadata": {},
   "outputs": [],
   "source": []
  }
 ],
 "metadata": {},
 "nbformat": 4,
 "nbformat_minor": 5
}
