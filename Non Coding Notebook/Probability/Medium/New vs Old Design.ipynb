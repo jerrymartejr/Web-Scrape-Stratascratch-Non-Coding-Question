{
 "cells": [
  {
   "cell_type": "markdown",
   "id": "baa4e698",
   "metadata": {},
   "source": [
    "### **Link:** https://platform.stratascratch.com/technical/2436-new-vs-old-design"
   ]
  },
  {
   "cell_type": "markdown",
   "id": "ef91a21a",
   "metadata": {},
   "source": [
    "### **ID:** ID 2436"
   ]
  },
  {
   "cell_type": "markdown",
   "id": "5358ebab",
   "metadata": {},
   "source": [
    "# New vs Old Design"
   ]
  },
  {
   "cell_type": "markdown",
   "id": "c36bb5c0",
   "metadata": {},
   "source": [
    "### **Difficulty:** Medium"
   ]
  },
  {
   "cell_type": "markdown",
   "id": "0abd2d58",
   "metadata": {},
   "source": [
    "### **Question Type:** Probability"
   ]
  },
  {
   "cell_type": "markdown",
   "id": "e9213c30",
   "metadata": {},
   "source": [
    "### **Company:** Microsoft, Dell"
   ]
  },
  {
   "cell_type": "markdown",
   "id": "3fbc9ce1",
   "metadata": {},
   "source": [
    "## **Description:**"
   ]
  },
  {
   "cell_type": "markdown",
   "id": "b5d5f8ed",
   "metadata": {},
   "source": [
    "A company has a website with a 5% conversion rate. They want to test a new design to see if it improves the conversion rate. They randomly show the new design to 100 users and the old design to another 100 users. The new design results in 10 conversions, while the old design results in 5 conversions. Is the new design statistically significant?"
   ]
  },
  {
   "cell_type": "markdown",
   "id": "eb7fda2b",
   "metadata": {},
   "source": [
    "## **Solution:**"
   ]
  },
  {
   "cell_type": "code",
   "execution_count": null,
   "id": "e10a73c5",
   "metadata": {},
   "outputs": [],
   "source": []
  }
 ],
 "metadata": {},
 "nbformat": 4,
 "nbformat_minor": 5
}
