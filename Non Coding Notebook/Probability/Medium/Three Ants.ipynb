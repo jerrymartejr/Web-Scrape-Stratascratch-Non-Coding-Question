{
 "cells": [
  {
   "cell_type": "markdown",
   "id": "685d9e6b",
   "metadata": {},
   "source": [
    "### **Link:** https://platform.stratascratch.com/technical/2012-three-ants"
   ]
  },
  {
   "cell_type": "markdown",
   "id": "f52a13f3",
   "metadata": {},
   "source": [
    "### **ID:** ID 2012"
   ]
  },
  {
   "cell_type": "markdown",
   "id": "066bf439",
   "metadata": {},
   "source": [
    "# Three Ants"
   ]
  },
  {
   "cell_type": "markdown",
   "id": "0672f9a7",
   "metadata": {},
   "source": [
    "### **Difficulty:** Medium"
   ]
  },
  {
   "cell_type": "markdown",
   "id": "c04fff0f",
   "metadata": {},
   "source": [
    "### **Question Type:** Probability"
   ]
  },
  {
   "cell_type": "markdown",
   "id": "6995f63b",
   "metadata": {},
   "source": [
    "### **Company:** Meta"
   ]
  },
  {
   "cell_type": "markdown",
   "id": "e015792a",
   "metadata": {},
   "source": [
    "## **Description:**"
   ]
  },
  {
   "cell_type": "markdown",
   "id": "d102ab46",
   "metadata": {},
   "source": [
    "Three ants are sitting at the three corners of an equilateral triangle. Each ant starts randomly picks a direction and starts to move along the edge of the triangle. What is the probability that none of the ants collide?"
   ]
  },
  {
   "cell_type": "markdown",
   "id": "585b4d08",
   "metadata": {},
   "source": [
    "## **Solution:**"
   ]
  },
  {
   "cell_type": "code",
   "execution_count": null,
   "id": "0587dff8",
   "metadata": {},
   "outputs": [],
   "source": []
  }
 ],
 "metadata": {},
 "nbformat": 4,
 "nbformat_minor": 5
}
