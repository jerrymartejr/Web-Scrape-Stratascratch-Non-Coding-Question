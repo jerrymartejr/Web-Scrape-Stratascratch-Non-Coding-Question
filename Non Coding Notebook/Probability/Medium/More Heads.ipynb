{
 "cells": [
  {
   "cell_type": "markdown",
   "id": "5d1a6038",
   "metadata": {},
   "source": [
    "### **Link:** https://platform.stratascratch.com/technical/2317-more-heads"
   ]
  },
  {
   "cell_type": "markdown",
   "id": "2f502a8b",
   "metadata": {},
   "source": [
    "### **ID:** ID 2317"
   ]
  },
  {
   "cell_type": "markdown",
   "id": "4cf9a268",
   "metadata": {},
   "source": [
    "# More Heads"
   ]
  },
  {
   "cell_type": "markdown",
   "id": "a0c4974c",
   "metadata": {},
   "source": [
    "### **Difficulty:** Medium"
   ]
  },
  {
   "cell_type": "markdown",
   "id": "ccd0c4ed",
   "metadata": {},
   "source": [
    "### **Question Type:** Probability"
   ]
  },
  {
   "cell_type": "markdown",
   "id": "5e32758a",
   "metadata": {},
   "source": [
    "### **Company:** Goldman Sachs, Visa"
   ]
  },
  {
   "cell_type": "markdown",
   "id": "fc081135",
   "metadata": {},
   "source": [
    "## **Description:**"
   ]
  },
  {
   "cell_type": "markdown",
   "id": "67a00d36",
   "metadata": {},
   "source": [
    "Alice flips n+1 coins and Bob flips n coins. What is the probability that Alice has more heads than Bob?"
   ]
  },
  {
   "cell_type": "markdown",
   "id": "e7c1ca55",
   "metadata": {},
   "source": [
    "## **Solution:**"
   ]
  },
  {
   "cell_type": "code",
   "execution_count": null,
   "id": "6265385b",
   "metadata": {},
   "outputs": [],
   "source": []
  }
 ],
 "metadata": {},
 "nbformat": 4,
 "nbformat_minor": 5
}
