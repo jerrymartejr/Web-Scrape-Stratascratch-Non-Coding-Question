{
 "cells": [
  {
   "cell_type": "markdown",
   "id": "a06c69ed",
   "metadata": {},
   "source": [
    "### **Link:** https://platform.stratascratch.com/technical/2028-where-are-the-birthday-people"
   ]
  },
  {
   "cell_type": "markdown",
   "id": "e73413f2",
   "metadata": {},
   "source": [
    "### **ID:** ID 2028"
   ]
  },
  {
   "cell_type": "markdown",
   "id": "718b0e86",
   "metadata": {},
   "source": [
    "# Where Are the Birthday People"
   ]
  },
  {
   "cell_type": "markdown",
   "id": "9562f59d",
   "metadata": {},
   "source": [
    "### **Difficulty:** Medium"
   ]
  },
  {
   "cell_type": "markdown",
   "id": "34f0ffc4",
   "metadata": {},
   "source": [
    "### **Question Type:** Probability"
   ]
  },
  {
   "cell_type": "markdown",
   "id": "6fd4d9da",
   "metadata": {},
   "source": [
    "### **Company:** Yammer, Yahoo"
   ]
  },
  {
   "cell_type": "markdown",
   "id": "c884d088",
   "metadata": {},
   "source": [
    "## **Description:**"
   ]
  },
  {
   "cell_type": "markdown",
   "id": "43c6daac",
   "metadata": {},
   "source": [
    "What’s the probability that in a room full of k people, at least 2 people will have the same birthday?"
   ]
  },
  {
   "cell_type": "markdown",
   "id": "4e7d2edc",
   "metadata": {},
   "source": [
    "## **Solution:**"
   ]
  },
  {
   "cell_type": "code",
   "execution_count": null,
   "id": "72963acf",
   "metadata": {},
   "outputs": [],
   "source": []
  }
 ],
 "metadata": {},
 "nbformat": 4,
 "nbformat_minor": 5
}
