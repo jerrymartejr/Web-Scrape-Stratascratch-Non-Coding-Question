{
 "cells": [
  {
   "cell_type": "markdown",
   "id": "fbf0cf74",
   "metadata": {},
   "source": [
    "### **Link:** https://platform.stratascratch.com/technical/2003-two-cards-same-suite"
   ]
  },
  {
   "cell_type": "markdown",
   "id": "0464c28b",
   "metadata": {},
   "source": [
    "### **ID:** ID 2003"
   ]
  },
  {
   "cell_type": "markdown",
   "id": "2ec14cb3",
   "metadata": {},
   "source": [
    "# Two Cards Same Suite"
   ]
  },
  {
   "cell_type": "markdown",
   "id": "e6368ded",
   "metadata": {},
   "source": [
    "### **Difficulty:** Medium"
   ]
  },
  {
   "cell_type": "markdown",
   "id": "c3ac31dd",
   "metadata": {},
   "source": [
    "### **Question Type:** Probability"
   ]
  },
  {
   "cell_type": "markdown",
   "id": "f9d1c06a",
   "metadata": {},
   "source": [
    "### **Company:** Meta"
   ]
  },
  {
   "cell_type": "markdown",
   "id": "6552e5ff",
   "metadata": {},
   "source": [
    "## **Description:**"
   ]
  },
  {
   "cell_type": "markdown",
   "id": "8c83a5da",
   "metadata": {},
   "source": [
    "What is the probability of drawing two cards (from the same deck of cards) that have the same suite?"
   ]
  },
  {
   "cell_type": "markdown",
   "id": "0e11f650",
   "metadata": {},
   "source": [
    "## **Solution:**"
   ]
  },
  {
   "cell_type": "code",
   "execution_count": null,
   "id": "aa9e91b8",
   "metadata": {},
   "outputs": [],
   "source": []
  }
 ],
 "metadata": {},
 "nbformat": 4,
 "nbformat_minor": 5
}
