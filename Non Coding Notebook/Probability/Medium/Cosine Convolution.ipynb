{
 "cells": [
  {
   "cell_type": "markdown",
   "id": "a75b9d38",
   "metadata": {},
   "source": [
    "### **Link:** https://platform.stratascratch.com/technical/2423-cosine-convolution"
   ]
  },
  {
   "cell_type": "markdown",
   "id": "61969e6d",
   "metadata": {},
   "source": [
    "### **ID:** ID 2423"
   ]
  },
  {
   "cell_type": "markdown",
   "id": "007727af",
   "metadata": {},
   "source": [
    "# Cosine Convolution"
   ]
  },
  {
   "cell_type": "markdown",
   "id": "75c833c9",
   "metadata": {},
   "source": [
    "### **Difficulty:** Medium"
   ]
  },
  {
   "cell_type": "markdown",
   "id": "fb7084db",
   "metadata": {},
   "source": [
    "### **Question Type:** Probability"
   ]
  },
  {
   "cell_type": "markdown",
   "id": "93e84b6a",
   "metadata": {},
   "source": [
    "### **Company:** Apple"
   ]
  },
  {
   "cell_type": "markdown",
   "id": "71cdd373",
   "metadata": {},
   "source": [
    "## **Description:**"
   ]
  },
  {
   "cell_type": "markdown",
   "id": "25d5addd",
   "metadata": {},
   "source": [
    "What is the similarity of cosine convolution?"
   ]
  },
  {
   "cell_type": "markdown",
   "id": "efa9242e",
   "metadata": {},
   "source": [
    "## **Solution:**"
   ]
  },
  {
   "cell_type": "code",
   "execution_count": null,
   "id": "5534fae8",
   "metadata": {},
   "outputs": [],
   "source": []
  }
 ],
 "metadata": {},
 "nbformat": 4,
 "nbformat_minor": 5
}
