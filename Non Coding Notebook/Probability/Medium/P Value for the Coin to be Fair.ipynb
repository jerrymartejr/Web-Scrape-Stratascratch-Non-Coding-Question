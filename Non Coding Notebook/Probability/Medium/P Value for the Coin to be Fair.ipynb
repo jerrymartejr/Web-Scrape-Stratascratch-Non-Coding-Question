{
 "cells": [
  {
   "cell_type": "markdown",
   "id": "07622427",
   "metadata": {},
   "source": [
    "### **Link:** https://platform.stratascratch.com/technical/2425-p-value-for-the-coin-to-be-fair"
   ]
  },
  {
   "cell_type": "markdown",
   "id": "94928aab",
   "metadata": {},
   "source": [
    "### **ID:** ID 2425"
   ]
  },
  {
   "cell_type": "markdown",
   "id": "f174ca98",
   "metadata": {},
   "source": [
    "# P Value for the Coin to be Fair"
   ]
  },
  {
   "cell_type": "markdown",
   "id": "2b27ba21",
   "metadata": {},
   "source": [
    "### **Difficulty:** Medium"
   ]
  },
  {
   "cell_type": "markdown",
   "id": "1afc55a5",
   "metadata": {},
   "source": [
    "### **Question Type:** Probability"
   ]
  },
  {
   "cell_type": "markdown",
   "id": "89af1142",
   "metadata": {},
   "source": [
    "### **Company:** Lyft"
   ]
  },
  {
   "cell_type": "markdown",
   "id": "31f0cbce",
   "metadata": {},
   "source": [
    "## **Description:**"
   ]
  },
  {
   "cell_type": "markdown",
   "id": "e7ba8c79",
   "metadata": {},
   "source": [
    "Given a coin, how would you determine the p value necessary for the coin to be fair?"
   ]
  },
  {
   "cell_type": "markdown",
   "id": "34816728",
   "metadata": {},
   "source": [
    "## **Solution:**"
   ]
  },
  {
   "cell_type": "code",
   "execution_count": null,
   "id": "daecd3c8",
   "metadata": {},
   "outputs": [],
   "source": []
  }
 ],
 "metadata": {},
 "nbformat": 4,
 "nbformat_minor": 5
}
