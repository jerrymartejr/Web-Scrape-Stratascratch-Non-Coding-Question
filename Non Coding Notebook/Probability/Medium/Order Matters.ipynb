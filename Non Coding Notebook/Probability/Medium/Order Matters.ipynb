{
 "cells": [
  {
   "cell_type": "markdown",
   "id": "1685b7ed",
   "metadata": {},
   "source": [
    "### **Link:** https://platform.stratascratch.com/technical/2282-order-matters"
   ]
  },
  {
   "cell_type": "markdown",
   "id": "903fbe8e",
   "metadata": {},
   "source": [
    "### **ID:** ID 2282"
   ]
  },
  {
   "cell_type": "markdown",
   "id": "83f42a33",
   "metadata": {},
   "source": [
    "# Order Matters"
   ]
  },
  {
   "cell_type": "markdown",
   "id": "2a59b2a9",
   "metadata": {},
   "source": [
    "### **Difficulty:** Medium"
   ]
  },
  {
   "cell_type": "markdown",
   "id": "713486e2",
   "metadata": {},
   "source": [
    "### **Question Type:** Probability"
   ]
  },
  {
   "cell_type": "markdown",
   "id": "d33d2aec",
   "metadata": {},
   "source": [
    "### **Company:** Jane Street"
   ]
  },
  {
   "cell_type": "markdown",
   "id": "d695618a",
   "metadata": {},
   "source": [
    "## **Description:**"
   ]
  },
  {
   "cell_type": "markdown",
   "id": "829d5f1f",
   "metadata": {},
   "source": [
    "One coin is continuously flipped. If a {HHT} comes up before {HTT} then A wins, else B wins. What is the probability that A wins?"
   ]
  },
  {
   "cell_type": "markdown",
   "id": "f4b27040",
   "metadata": {},
   "source": [
    "## **Solution:**"
   ]
  },
  {
   "cell_type": "code",
   "execution_count": null,
   "id": "e3ac30d8",
   "metadata": {},
   "outputs": [],
   "source": []
  }
 ],
 "metadata": {},
 "nbformat": 4,
 "nbformat_minor": 5
}
