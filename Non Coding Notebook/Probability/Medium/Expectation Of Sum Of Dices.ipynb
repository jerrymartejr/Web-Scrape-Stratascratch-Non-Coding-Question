{
 "cells": [
  {
   "cell_type": "markdown",
   "id": "0c25b75b",
   "metadata": {},
   "source": [
    "### **Link:** https://platform.stratascratch.com/technical/2289-expectation-of-sum-of-dices"
   ]
  },
  {
   "cell_type": "markdown",
   "id": "470f3d59",
   "metadata": {},
   "source": [
    "### **ID:** ID 2289"
   ]
  },
  {
   "cell_type": "markdown",
   "id": "62d139a3",
   "metadata": {},
   "source": [
    "# Expectation Of Sum Of Dices"
   ]
  },
  {
   "cell_type": "markdown",
   "id": "1c0a2c10",
   "metadata": {},
   "source": [
    "### **Difficulty:** Medium"
   ]
  },
  {
   "cell_type": "markdown",
   "id": "a3e3d8df",
   "metadata": {},
   "source": [
    "### **Question Type:** Probability"
   ]
  },
  {
   "cell_type": "markdown",
   "id": "52f78e2d",
   "metadata": {},
   "source": [
    "### **Company:** Chicago Trading Company, Jane Street, Susquehanna International Group"
   ]
  },
  {
   "cell_type": "markdown",
   "id": "2d4f7920",
   "metadata": {},
   "source": [
    "## **Description:**"
   ]
  },
  {
   "cell_type": "markdown",
   "id": "87464e95",
   "metadata": {},
   "source": [
    "You have a 6-faces die and a 10-faces die. What is the expected value of the sum of the two?"
   ]
  },
  {
   "cell_type": "markdown",
   "id": "7c196a2f",
   "metadata": {},
   "source": [
    "## **Solution:**"
   ]
  },
  {
   "cell_type": "code",
   "execution_count": null,
   "id": "24e92f3c",
   "metadata": {},
   "outputs": [],
   "source": []
  }
 ],
 "metadata": {},
 "nbformat": 4,
 "nbformat_minor": 5
}
