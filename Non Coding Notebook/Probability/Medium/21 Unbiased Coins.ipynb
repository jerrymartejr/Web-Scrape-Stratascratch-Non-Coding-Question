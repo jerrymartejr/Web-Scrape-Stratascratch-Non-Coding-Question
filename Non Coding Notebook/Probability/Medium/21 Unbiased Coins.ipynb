{
 "cells": [
  {
   "cell_type": "markdown",
   "id": "e118564d",
   "metadata": {},
   "source": [
    "### **Link:** https://platform.stratascratch.com/technical/2407-21-unbiased-coins"
   ]
  },
  {
   "cell_type": "markdown",
   "id": "1496a822",
   "metadata": {},
   "source": [
    "### **ID:** ID 2407"
   ]
  },
  {
   "cell_type": "markdown",
   "id": "8c55bc57",
   "metadata": {},
   "source": [
    "# 21 Unbiased Coins"
   ]
  },
  {
   "cell_type": "markdown",
   "id": "a8dc7c87",
   "metadata": {},
   "source": [
    "### **Difficulty:** Medium"
   ]
  },
  {
   "cell_type": "markdown",
   "id": "824ed82f",
   "metadata": {},
   "source": [
    "### **Question Type:** Probability"
   ]
  },
  {
   "cell_type": "markdown",
   "id": "c774618b",
   "metadata": {},
   "source": [
    "### **Company:** Citadel, Goldman Sachs"
   ]
  },
  {
   "cell_type": "markdown",
   "id": "c2f03280",
   "metadata": {},
   "source": [
    "## **Description:**"
   ]
  },
  {
   "cell_type": "markdown",
   "id": "ae92c1f1",
   "metadata": {},
   "source": [
    "There are 21 unbiased coins. Each of them flipped. What is the probability of getting even number of heads?"
   ]
  },
  {
   "cell_type": "markdown",
   "id": "26f42c71",
   "metadata": {},
   "source": [
    "## **Solution:**"
   ]
  },
  {
   "cell_type": "code",
   "execution_count": null,
   "id": "052fbe4f",
   "metadata": {},
   "outputs": [],
   "source": []
  }
 ],
 "metadata": {},
 "nbformat": 4,
 "nbformat_minor": 5
}
