{
 "cells": [
  {
   "cell_type": "markdown",
   "id": "418521a6",
   "metadata": {},
   "source": [
    "### **Link:** https://platform.stratascratch.com/technical/2270-two-boys-odds"
   ]
  },
  {
   "cell_type": "markdown",
   "id": "921b4381",
   "metadata": {},
   "source": [
    "### **ID:** ID 2270"
   ]
  },
  {
   "cell_type": "markdown",
   "id": "6387f7a0",
   "metadata": {},
   "source": [
    "# Two Boys Odds"
   ]
  },
  {
   "cell_type": "markdown",
   "id": "0a9191e9",
   "metadata": {},
   "source": [
    "### **Difficulty:** Medium"
   ]
  },
  {
   "cell_type": "markdown",
   "id": "a3e7e88b",
   "metadata": {},
   "source": [
    "### **Question Type:** Probability"
   ]
  },
  {
   "cell_type": "markdown",
   "id": "5f987ec9",
   "metadata": {},
   "source": [
    "### **Company:** DE Shaw & Co"
   ]
  },
  {
   "cell_type": "markdown",
   "id": "7d4dbdc3",
   "metadata": {},
   "source": [
    "## **Description:**"
   ]
  },
  {
   "cell_type": "markdown",
   "id": "4c57cf54",
   "metadata": {},
   "source": [
    "You randomly call a family with two kids, and ask if there is a kid called Tom. If the answer is yes, what is the probability that the family has two boys?"
   ]
  },
  {
   "cell_type": "markdown",
   "id": "e516d7c8",
   "metadata": {},
   "source": [
    "## **Solution:**"
   ]
  },
  {
   "cell_type": "code",
   "execution_count": null,
   "id": "06f36a85",
   "metadata": {},
   "outputs": [],
   "source": []
  }
 ],
 "metadata": {},
 "nbformat": 4,
 "nbformat_minor": 5
}
