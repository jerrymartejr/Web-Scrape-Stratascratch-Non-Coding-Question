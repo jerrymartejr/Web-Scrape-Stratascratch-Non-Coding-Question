{
 "cells": [
  {
   "cell_type": "markdown",
   "id": "089c9ae4",
   "metadata": {},
   "source": [
    "### **Link:** https://platform.stratascratch.com/technical/2405-random-card"
   ]
  },
  {
   "cell_type": "markdown",
   "id": "0b6ba75a",
   "metadata": {},
   "source": [
    "### **ID:** ID 2405"
   ]
  },
  {
   "cell_type": "markdown",
   "id": "3761848e",
   "metadata": {},
   "source": [
    "# Random Card"
   ]
  },
  {
   "cell_type": "markdown",
   "id": "a180f9af",
   "metadata": {},
   "source": [
    "### **Difficulty:** Medium"
   ]
  },
  {
   "cell_type": "markdown",
   "id": "6e81c739",
   "metadata": {},
   "source": [
    "### **Question Type:** Probability"
   ]
  },
  {
   "cell_type": "markdown",
   "id": "5f3b367f",
   "metadata": {},
   "source": [
    "### **Company:** Google, Spotify, LinkedIn"
   ]
  },
  {
   "cell_type": "markdown",
   "id": "75e3c988",
   "metadata": {},
   "source": [
    "## **Description:**"
   ]
  },
  {
   "cell_type": "markdown",
   "id": "1d713e6e",
   "metadata": {},
   "source": [
    "You grab a deck of cards and choose a face-down card at random. Then you guess which card it is."
   ]
  },
  {
   "cell_type": "markdown",
   "id": "02a2a76c",
   "metadata": {},
   "source": [
    "## **Solution:**"
   ]
  },
  {
   "cell_type": "code",
   "execution_count": null,
   "id": "b510e392",
   "metadata": {},
   "outputs": [],
   "source": []
  }
 ],
 "metadata": {},
 "nbformat": 4,
 "nbformat_minor": 5
}
