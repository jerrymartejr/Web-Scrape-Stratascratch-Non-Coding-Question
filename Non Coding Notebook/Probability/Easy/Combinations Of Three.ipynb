{
 "cells": [
  {
   "cell_type": "markdown",
   "id": "4b48f5ea",
   "metadata": {},
   "source": [
    "### **Link:** https://platform.stratascratch.com/technical/2288-combinations-of-three"
   ]
  },
  {
   "cell_type": "markdown",
   "id": "8aa11d69",
   "metadata": {},
   "source": [
    "### **ID:** ID 2288"
   ]
  },
  {
   "cell_type": "markdown",
   "id": "ea3f6a45",
   "metadata": {},
   "source": [
    "# Combinations Of Three"
   ]
  },
  {
   "cell_type": "markdown",
   "id": "f0d83f89",
   "metadata": {},
   "source": [
    "### **Difficulty:** Easy"
   ]
  },
  {
   "cell_type": "markdown",
   "id": "b6237a62",
   "metadata": {},
   "source": [
    "### **Question Type:** Probability"
   ]
  },
  {
   "cell_type": "markdown",
   "id": "f79e5e3c",
   "metadata": {},
   "source": [
    "### **Company:** Peak6"
   ]
  },
  {
   "cell_type": "markdown",
   "id": "2b22c1be",
   "metadata": {},
   "source": [
    "## **Description:**"
   ]
  },
  {
   "cell_type": "markdown",
   "id": "b384a46f",
   "metadata": {},
   "source": [
    "Three people, and 1st, 2nd and 3rd places at a competition, how many different combinations are there?"
   ]
  },
  {
   "cell_type": "markdown",
   "id": "f087f52c",
   "metadata": {},
   "source": [
    "## **Solution:**"
   ]
  },
  {
   "cell_type": "code",
   "execution_count": null,
   "id": "59cc4261",
   "metadata": {},
   "outputs": [],
   "source": []
  }
 ],
 "metadata": {},
 "nbformat": 4,
 "nbformat_minor": 5
}
