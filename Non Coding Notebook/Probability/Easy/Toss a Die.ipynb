{
 "cells": [
  {
   "cell_type": "markdown",
   "id": "8d01aa0a",
   "metadata": {},
   "source": [
    "### **Link:** https://platform.stratascratch.com/technical/2226-toss-a-die"
   ]
  },
  {
   "cell_type": "markdown",
   "id": "1feffc33",
   "metadata": {},
   "source": [
    "### **ID:** ID 2226"
   ]
  },
  {
   "cell_type": "markdown",
   "id": "8450a49e",
   "metadata": {},
   "source": [
    "# Toss a Die"
   ]
  },
  {
   "cell_type": "markdown",
   "id": "3bca1f98",
   "metadata": {},
   "source": [
    "### **Difficulty:** Easy"
   ]
  },
  {
   "cell_type": "markdown",
   "id": "7473ea02",
   "metadata": {},
   "source": [
    "### **Question Type:** Probability"
   ]
  },
  {
   "cell_type": "markdown",
   "id": "145e9957",
   "metadata": {},
   "source": [
    "### **Company:** Zenefits"
   ]
  },
  {
   "cell_type": "markdown",
   "id": "8c1d6c25",
   "metadata": {},
   "source": [
    "## **Description:**"
   ]
  },
  {
   "cell_type": "markdown",
   "id": "6395a14b",
   "metadata": {},
   "source": [
    "A and B toss a die, whoever gets 6 first wins. Given A starts first, what's the probability that A can win?"
   ]
  },
  {
   "cell_type": "markdown",
   "id": "5b7e50b1",
   "metadata": {},
   "source": [
    "## **Solution:**"
   ]
  },
  {
   "cell_type": "code",
   "execution_count": null,
   "id": "7be02c30",
   "metadata": {},
   "outputs": [],
   "source": []
  }
 ],
 "metadata": {},
 "nbformat": 4,
 "nbformat_minor": 5
}
