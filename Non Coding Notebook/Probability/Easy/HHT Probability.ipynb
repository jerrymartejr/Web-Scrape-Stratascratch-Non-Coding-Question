{
 "cells": [
  {
   "cell_type": "markdown",
   "id": "3694526d",
   "metadata": {},
   "source": [
    "### **Link:** https://platform.stratascratch.com/technical/2263-hht-probability"
   ]
  },
  {
   "cell_type": "markdown",
   "id": "0fa21fe3",
   "metadata": {},
   "source": [
    "### **ID:** ID 2263"
   ]
  },
  {
   "cell_type": "markdown",
   "id": "f4f6d10a",
   "metadata": {},
   "source": [
    "# HHT Probability"
   ]
  },
  {
   "cell_type": "markdown",
   "id": "88cd2cfa",
   "metadata": {},
   "source": [
    "### **Difficulty:** Easy"
   ]
  },
  {
   "cell_type": "markdown",
   "id": "1aec5edd",
   "metadata": {},
   "source": [
    "### **Question Type:** Probability"
   ]
  },
  {
   "cell_type": "markdown",
   "id": "e8ae6cca",
   "metadata": {},
   "source": [
    "### **Company:** Kabbage, Akuna Capital, DRW"
   ]
  },
  {
   "cell_type": "markdown",
   "id": "5fcf397a",
   "metadata": {},
   "source": [
    "## **Description:**"
   ]
  },
  {
   "cell_type": "markdown",
   "id": "6d53427a",
   "metadata": {},
   "source": [
    "What's the probability of getting 2 heads and 1 tail, after flipping a coin 3 times? Note: The order of the outcome doesn't matter."
   ]
  },
  {
   "cell_type": "markdown",
   "id": "f6c9de1e",
   "metadata": {},
   "source": [
    "## **Solution:**"
   ]
  },
  {
   "cell_type": "code",
   "execution_count": null,
   "id": "fd7e1e44",
   "metadata": {},
   "outputs": [],
   "source": []
  }
 ],
 "metadata": {},
 "nbformat": 4,
 "nbformat_minor": 5
}
