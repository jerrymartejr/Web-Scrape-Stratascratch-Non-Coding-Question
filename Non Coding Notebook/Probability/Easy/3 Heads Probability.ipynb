{
 "cells": [
  {
   "cell_type": "markdown",
   "id": "1c72be6b",
   "metadata": {},
   "source": [
    "### **Link:** https://platform.stratascratch.com/technical/2264-3-heads-probability"
   ]
  },
  {
   "cell_type": "markdown",
   "id": "7a78cdf5",
   "metadata": {},
   "source": [
    "### **ID:** ID 2264"
   ]
  },
  {
   "cell_type": "markdown",
   "id": "a7dd2bc2",
   "metadata": {},
   "source": [
    "# 3 Heads Probability"
   ]
  },
  {
   "cell_type": "markdown",
   "id": "1a9c2e74",
   "metadata": {},
   "source": [
    "### **Difficulty:** Easy"
   ]
  },
  {
   "cell_type": "markdown",
   "id": "d96f5c13",
   "metadata": {},
   "source": [
    "### **Question Type:** Probability"
   ]
  },
  {
   "cell_type": "markdown",
   "id": "5a0cadce",
   "metadata": {},
   "source": [
    "### **Company:** Belvedere Trading"
   ]
  },
  {
   "cell_type": "markdown",
   "id": "68a58e2f",
   "metadata": {},
   "source": [
    "## **Description:**"
   ]
  },
  {
   "cell_type": "markdown",
   "id": "66d9220d",
   "metadata": {},
   "source": [
    "If you flip a coin 4 times, what is the probability that you get exactly 3 heads?"
   ]
  },
  {
   "cell_type": "markdown",
   "id": "f74cad05",
   "metadata": {},
   "source": [
    "## **Solution:**"
   ]
  },
  {
   "cell_type": "code",
   "execution_count": null,
   "id": "a97c6ac1",
   "metadata": {},
   "outputs": [],
   "source": []
  }
 ],
 "metadata": {},
 "nbformat": 4,
 "nbformat_minor": 5
}
