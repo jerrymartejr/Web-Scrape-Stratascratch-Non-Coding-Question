{
 "cells": [
  {
   "cell_type": "markdown",
   "id": "a9a2b8fe",
   "metadata": {},
   "source": [
    "### **Link:** https://platform.stratascratch.com/technical/2278-pick-2-queens"
   ]
  },
  {
   "cell_type": "markdown",
   "id": "6f4df82d",
   "metadata": {},
   "source": [
    "### **ID:** ID 2278"
   ]
  },
  {
   "cell_type": "markdown",
   "id": "43efca3b",
   "metadata": {},
   "source": [
    "# Pick 2 Queens"
   ]
  },
  {
   "cell_type": "markdown",
   "id": "3bee8f22",
   "metadata": {},
   "source": [
    "### **Difficulty:** Easy"
   ]
  },
  {
   "cell_type": "markdown",
   "id": "a33504be",
   "metadata": {},
   "source": [
    "### **Question Type:** Probability"
   ]
  },
  {
   "cell_type": "markdown",
   "id": "15fd3278",
   "metadata": {},
   "source": [
    "### **Company:** Jane Street"
   ]
  },
  {
   "cell_type": "markdown",
   "id": "d0575d4f",
   "metadata": {},
   "source": [
    "## **Description:**"
   ]
  },
  {
   "cell_type": "markdown",
   "id": "9f3097b4",
   "metadata": {},
   "source": [
    "Probability of choosing 2 queens out of a deck of card?"
   ]
  },
  {
   "cell_type": "markdown",
   "id": "00d76127",
   "metadata": {},
   "source": [
    "## **Solution:**"
   ]
  },
  {
   "cell_type": "code",
   "execution_count": null,
   "id": "1d42aa55",
   "metadata": {},
   "outputs": [],
   "source": []
  }
 ],
 "metadata": {},
 "nbformat": 4,
 "nbformat_minor": 5
}
