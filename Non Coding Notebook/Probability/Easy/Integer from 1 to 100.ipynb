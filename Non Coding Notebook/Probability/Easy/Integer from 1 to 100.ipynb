{
 "cells": [
  {
   "cell_type": "markdown",
   "id": "157907d1",
   "metadata": {},
   "source": [
    "### **Link:** https://platform.stratascratch.com/technical/2204-integer-from-1-to-100"
   ]
  },
  {
   "cell_type": "markdown",
   "id": "4d7e9191",
   "metadata": {},
   "source": [
    "### **ID:** ID 2204"
   ]
  },
  {
   "cell_type": "markdown",
   "id": "0d37231b",
   "metadata": {},
   "source": [
    "# Integer from 1 to 100"
   ]
  },
  {
   "cell_type": "markdown",
   "id": "a0866086",
   "metadata": {},
   "source": [
    "### **Difficulty:** Easy"
   ]
  },
  {
   "cell_type": "markdown",
   "id": "35dc0255",
   "metadata": {},
   "source": [
    "### **Question Type:** Probability"
   ]
  },
  {
   "cell_type": "markdown",
   "id": "a96e980e",
   "metadata": {},
   "source": [
    "### **Company:** Citadel"
   ]
  },
  {
   "cell_type": "markdown",
   "id": "0d532a59",
   "metadata": {},
   "source": [
    "## **Description:**"
   ]
  },
  {
   "cell_type": "markdown",
   "id": "825952c0",
   "metadata": {},
   "source": [
    "I randomly pick an integer from 1 to 100, how would you guess it? What if you have prior knowledge that I pick a number that is hard to guess such as near 1 or 100?"
   ]
  },
  {
   "cell_type": "markdown",
   "id": "39a0027f",
   "metadata": {},
   "source": [
    "## **Solution:**"
   ]
  },
  {
   "cell_type": "code",
   "execution_count": null,
   "id": "3a2a2611",
   "metadata": {},
   "outputs": [],
   "source": []
  }
 ],
 "metadata": {},
 "nbformat": 4,
 "nbformat_minor": 5
}
