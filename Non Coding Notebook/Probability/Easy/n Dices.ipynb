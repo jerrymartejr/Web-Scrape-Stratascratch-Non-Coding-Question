{
 "cells": [
  {
   "cell_type": "markdown",
   "id": "e4cda191",
   "metadata": {},
   "source": [
    "### **Link:** https://platform.stratascratch.com/technical/2011-n-dices"
   ]
  },
  {
   "cell_type": "markdown",
   "id": "1610d84d",
   "metadata": {},
   "source": [
    "### **ID:** ID 2011"
   ]
  },
  {
   "cell_type": "markdown",
   "id": "f1938a77",
   "metadata": {},
   "source": [
    "# n Dices"
   ]
  },
  {
   "cell_type": "markdown",
   "id": "d5f034fa",
   "metadata": {},
   "source": [
    "### **Difficulty:** Easy"
   ]
  },
  {
   "cell_type": "markdown",
   "id": "d067622e",
   "metadata": {},
   "source": [
    "### **Question Type:** Probability"
   ]
  },
  {
   "cell_type": "markdown",
   "id": "59ecad77",
   "metadata": {},
   "source": [
    "### **Company:** Google, Amazon, Meta"
   ]
  },
  {
   "cell_type": "markdown",
   "id": "d7970327",
   "metadata": {},
   "source": [
    "## **Description:**"
   ]
  },
  {
   "cell_type": "markdown",
   "id": "fdb989cd",
   "metadata": {},
   "source": [
    "You have 2 dices. What is the probability of getting at least one 4? Same question with n dices."
   ]
  },
  {
   "cell_type": "markdown",
   "id": "1adbcde9",
   "metadata": {},
   "source": [
    "## **Solution:**"
   ]
  },
  {
   "cell_type": "code",
   "execution_count": null,
   "id": "0fa49bbf",
   "metadata": {},
   "outputs": [],
   "source": []
  }
 ],
 "metadata": {},
 "nbformat": 4,
 "nbformat_minor": 5
}
