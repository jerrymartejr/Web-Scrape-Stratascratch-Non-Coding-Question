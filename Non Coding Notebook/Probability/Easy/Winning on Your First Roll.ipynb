{
 "cells": [
  {
   "cell_type": "markdown",
   "id": "740341a2",
   "metadata": {},
   "source": [
    "### **Link:** https://platform.stratascratch.com/technical/2438-winning-on-your-first-roll"
   ]
  },
  {
   "cell_type": "markdown",
   "id": "31de8e5b",
   "metadata": {},
   "source": [
    "### **ID:** ID 2438"
   ]
  },
  {
   "cell_type": "markdown",
   "id": "97a9722b",
   "metadata": {},
   "source": [
    "# Winning on Your First Roll"
   ]
  },
  {
   "cell_type": "markdown",
   "id": "c7d19812",
   "metadata": {},
   "source": [
    "### **Difficulty:** Easy"
   ]
  },
  {
   "cell_type": "markdown",
   "id": "31fd48c7",
   "metadata": {},
   "source": [
    "### **Question Type:** Probability"
   ]
  },
  {
   "cell_type": "markdown",
   "id": "1f346c7e",
   "metadata": {},
   "source": [
    "### **Company:** Asana"
   ]
  },
  {
   "cell_type": "markdown",
   "id": "472ad385",
   "metadata": {},
   "source": [
    "## **Description:**"
   ]
  },
  {
   "cell_type": "markdown",
   "id": "96ff3c40",
   "metadata": {},
   "source": [
    "You are playing a game with a friend where you roll two fair six-sided dice. If the sum of the two dice is 7 or 11, you win; otherwise, your friend wins. What is the probability that you win on your first roll?"
   ]
  },
  {
   "cell_type": "markdown",
   "id": "43ee8732",
   "metadata": {},
   "source": [
    "## **Solution:**"
   ]
  },
  {
   "cell_type": "code",
   "execution_count": null,
   "id": "9867616f",
   "metadata": {},
   "outputs": [],
   "source": []
  }
 ],
 "metadata": {},
 "nbformat": 4,
 "nbformat_minor": 5
}
