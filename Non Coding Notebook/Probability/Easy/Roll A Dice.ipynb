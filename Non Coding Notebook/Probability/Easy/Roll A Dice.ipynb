{
 "cells": [
  {
   "cell_type": "markdown",
   "id": "1155c453",
   "metadata": {},
   "source": [
    "### **Link:** https://platform.stratascratch.com/technical/2265-roll-a-dice"
   ]
  },
  {
   "cell_type": "markdown",
   "id": "a7de80c1",
   "metadata": {},
   "source": [
    "### **ID:** ID 2265"
   ]
  },
  {
   "cell_type": "markdown",
   "id": "290d7228",
   "metadata": {},
   "source": [
    "# Roll A Dice"
   ]
  },
  {
   "cell_type": "markdown",
   "id": "04e21dc3",
   "metadata": {},
   "source": [
    "### **Difficulty:** Easy"
   ]
  },
  {
   "cell_type": "markdown",
   "id": "941eb16e",
   "metadata": {},
   "source": [
    "### **Question Type:** Probability"
   ]
  },
  {
   "cell_type": "markdown",
   "id": "e318a60a",
   "metadata": {},
   "source": [
    "### **Company:** Belvedere Trading"
   ]
  },
  {
   "cell_type": "markdown",
   "id": "933e2ba3",
   "metadata": {},
   "source": [
    "## **Description:**"
   ]
  },
  {
   "cell_type": "markdown",
   "id": "fc38bf34",
   "metadata": {},
   "source": [
    "What's the probability of getting a 6 when you roll a dice?"
   ]
  },
  {
   "cell_type": "markdown",
   "id": "306c1d1d",
   "metadata": {},
   "source": [
    "## **Solution:**"
   ]
  },
  {
   "cell_type": "code",
   "execution_count": null,
   "id": "680f6d5f",
   "metadata": {},
   "outputs": [],
   "source": []
  }
 ],
 "metadata": {},
 "nbformat": 4,
 "nbformat_minor": 5
}
