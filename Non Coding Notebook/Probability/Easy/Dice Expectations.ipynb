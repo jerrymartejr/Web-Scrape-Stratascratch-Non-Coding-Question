{
 "cells": [
  {
   "cell_type": "markdown",
   "id": "dbf885a6",
   "metadata": {},
   "source": [
    "### **Link:** https://platform.stratascratch.com/technical/2274-dice-expectations"
   ]
  },
  {
   "cell_type": "markdown",
   "id": "34b690e6",
   "metadata": {},
   "source": [
    "### **ID:** ID 2274"
   ]
  },
  {
   "cell_type": "markdown",
   "id": "1f656c6c",
   "metadata": {},
   "source": [
    "# Dice Expectations"
   ]
  },
  {
   "cell_type": "markdown",
   "id": "49c06092",
   "metadata": {},
   "source": [
    "### **Difficulty:** Easy"
   ]
  },
  {
   "cell_type": "markdown",
   "id": "85c722e9",
   "metadata": {},
   "source": [
    "### **Question Type:** Probability"
   ]
  },
  {
   "cell_type": "markdown",
   "id": "bbae5e4f",
   "metadata": {},
   "source": [
    "### **Company:** Jane Street"
   ]
  },
  {
   "cell_type": "markdown",
   "id": "791b6cfa",
   "metadata": {},
   "source": [
    "## **Description:**"
   ]
  },
  {
   "cell_type": "markdown",
   "id": "ef9a3a72",
   "metadata": {},
   "source": [
    "What is the expectation of a roll of a dice?"
   ]
  },
  {
   "cell_type": "markdown",
   "id": "7ba73efc",
   "metadata": {},
   "source": [
    "## **Solution:**"
   ]
  },
  {
   "cell_type": "code",
   "execution_count": null,
   "id": "199ccb53",
   "metadata": {},
   "outputs": [],
   "source": []
  }
 ],
 "metadata": {},
 "nbformat": 4,
 "nbformat_minor": 5
}
