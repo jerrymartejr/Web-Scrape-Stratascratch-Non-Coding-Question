{
 "cells": [
  {
   "cell_type": "markdown",
   "id": "d23eb2d5",
   "metadata": {},
   "source": [
    "### **Link:** https://platform.stratascratch.com/technical/2279-7th-game-achievement"
   ]
  },
  {
   "cell_type": "markdown",
   "id": "ac58bb83",
   "metadata": {},
   "source": [
    "### **ID:** ID 2279"
   ]
  },
  {
   "cell_type": "markdown",
   "id": "a5c436b2",
   "metadata": {},
   "source": [
    "# 7th-Game Achievement"
   ]
  },
  {
   "cell_type": "markdown",
   "id": "d9c597eb",
   "metadata": {},
   "source": [
    "### **Difficulty:** Easy"
   ]
  },
  {
   "cell_type": "markdown",
   "id": "00f6b85d",
   "metadata": {},
   "source": [
    "### **Question Type:** Probability"
   ]
  },
  {
   "cell_type": "markdown",
   "id": "647a8088",
   "metadata": {},
   "source": [
    "### **Company:** Jane Street"
   ]
  },
  {
   "cell_type": "markdown",
   "id": "28365dc0",
   "metadata": {},
   "source": [
    "## **Description:**"
   ]
  },
  {
   "cell_type": "markdown",
   "id": "2bcc4335",
   "metadata": {},
   "source": [
    "Two teams are playing a best-of-7 tournament. Each team has a 50% chance of winning. What is the probability that they reach the 7th game?"
   ]
  },
  {
   "cell_type": "markdown",
   "id": "b75d5161",
   "metadata": {},
   "source": [
    "## **Solution:**"
   ]
  },
  {
   "cell_type": "code",
   "execution_count": null,
   "id": "39e45024",
   "metadata": {},
   "outputs": [],
   "source": []
  }
 ],
 "metadata": {},
 "nbformat": 4,
 "nbformat_minor": 5
}
