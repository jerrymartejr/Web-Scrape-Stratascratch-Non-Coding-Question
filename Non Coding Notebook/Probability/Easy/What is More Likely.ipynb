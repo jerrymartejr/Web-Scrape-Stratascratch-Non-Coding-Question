{
 "cells": [
  {
   "cell_type": "markdown",
   "id": "7e995b7c",
   "metadata": {},
   "source": [
    "### **Link:** https://platform.stratascratch.com/technical/2181-what-is-more-likely"
   ]
  },
  {
   "cell_type": "markdown",
   "id": "274b5c33",
   "metadata": {},
   "source": [
    "### **ID:** ID 2181"
   ]
  },
  {
   "cell_type": "markdown",
   "id": "51bbf952",
   "metadata": {},
   "source": [
    "# What is More Likely"
   ]
  },
  {
   "cell_type": "markdown",
   "id": "92eeae07",
   "metadata": {},
   "source": [
    "### **Difficulty:** Easy"
   ]
  },
  {
   "cell_type": "markdown",
   "id": "715cf164",
   "metadata": {},
   "source": [
    "### **Question Type:** Probability"
   ]
  },
  {
   "cell_type": "markdown",
   "id": "4cb3a88d",
   "metadata": {},
   "source": [
    "### **Company:** Capital One, Square, Bloomberg"
   ]
  },
  {
   "cell_type": "markdown",
   "id": "a67a8590",
   "metadata": {},
   "source": [
    "## **Description:**"
   ]
  },
  {
   "cell_type": "markdown",
   "id": "9497b07f",
   "metadata": {},
   "source": [
    "What is more likely: Getting at least one six in 6 rolls, at least two sixes in 12 rolls or at least 100 sixes in 600 rolls?"
   ]
  },
  {
   "cell_type": "markdown",
   "id": "06520c07",
   "metadata": {},
   "source": [
    "## **Solution:**"
   ]
  },
  {
   "cell_type": "code",
   "execution_count": null,
   "id": "3d0a5a36",
   "metadata": {},
   "outputs": [],
   "source": []
  }
 ],
 "metadata": {},
 "nbformat": 4,
 "nbformat_minor": 5
}
