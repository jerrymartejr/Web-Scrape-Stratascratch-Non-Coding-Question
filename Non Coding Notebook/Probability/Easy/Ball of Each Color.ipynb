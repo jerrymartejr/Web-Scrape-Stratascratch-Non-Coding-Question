{
 "cells": [
  {
   "cell_type": "markdown",
   "id": "3f522985",
   "metadata": {},
   "source": [
    "### **Link:** https://platform.stratascratch.com/technical/2163-ball-of-each-color"
   ]
  },
  {
   "cell_type": "markdown",
   "id": "07beb654",
   "metadata": {},
   "source": [
    "### **ID:** ID 2163"
   ]
  },
  {
   "cell_type": "markdown",
   "id": "af655ba3",
   "metadata": {},
   "source": [
    "# Ball of Each Color"
   ]
  },
  {
   "cell_type": "markdown",
   "id": "3b3fbbe3",
   "metadata": {},
   "source": [
    "### **Difficulty:** Easy"
   ]
  },
  {
   "cell_type": "markdown",
   "id": "09e78bd4",
   "metadata": {},
   "source": [
    "### **Question Type:** Probability"
   ]
  },
  {
   "cell_type": "markdown",
   "id": "b3001744",
   "metadata": {},
   "source": [
    "### **Company:** AXA, Allstate, Assurant"
   ]
  },
  {
   "cell_type": "markdown",
   "id": "f76a3754",
   "metadata": {},
   "source": [
    "## **Description:**"
   ]
  },
  {
   "cell_type": "markdown",
   "id": "0b4214f8",
   "metadata": {},
   "source": [
    "If a jar has X red balls and Y blue balls, what is the minimum number of draws that is necessary to ensure that you have one ball of each color?"
   ]
  },
  {
   "cell_type": "markdown",
   "id": "20921a04",
   "metadata": {},
   "source": [
    "## **Solution:**"
   ]
  },
  {
   "cell_type": "code",
   "execution_count": null,
   "id": "c176588c",
   "metadata": {},
   "outputs": [],
   "source": []
  }
 ],
 "metadata": {},
 "nbformat": 4,
 "nbformat_minor": 5
}
