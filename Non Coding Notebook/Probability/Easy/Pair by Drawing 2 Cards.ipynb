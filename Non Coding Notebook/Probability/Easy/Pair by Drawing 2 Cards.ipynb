{
 "cells": [
  {
   "cell_type": "markdown",
   "id": "b9a9cf4b",
   "metadata": {},
   "source": [
    "### **Link:** https://platform.stratascratch.com/technical/2241-pair-by-drawing-2-cards"
   ]
  },
  {
   "cell_type": "markdown",
   "id": "a506b544",
   "metadata": {},
   "source": [
    "### **ID:** ID 2241"
   ]
  },
  {
   "cell_type": "markdown",
   "id": "e293f03d",
   "metadata": {},
   "source": [
    "# Pair by Drawing 2 Cards"
   ]
  },
  {
   "cell_type": "markdown",
   "id": "d1d7089b",
   "metadata": {},
   "source": [
    "### **Difficulty:** Easy"
   ]
  },
  {
   "cell_type": "markdown",
   "id": "a78fb7c5",
   "metadata": {},
   "source": [
    "### **Question Type:** Probability"
   ]
  },
  {
   "cell_type": "markdown",
   "id": "7a584d1b",
   "metadata": {},
   "source": [
    "### **Company:** Meta"
   ]
  },
  {
   "cell_type": "markdown",
   "id": "37cc740c",
   "metadata": {},
   "source": [
    "## **Description:**"
   ]
  },
  {
   "cell_type": "markdown",
   "id": "c6b0880c",
   "metadata": {},
   "source": [
    "What is the probability of getting a pair by drawing 2 cards in a 52 card deck?"
   ]
  },
  {
   "cell_type": "markdown",
   "id": "9917ee48",
   "metadata": {},
   "source": [
    "## **Solution:**"
   ]
  },
  {
   "cell_type": "code",
   "execution_count": null,
   "id": "355d1167",
   "metadata": {},
   "outputs": [],
   "source": []
  }
 ],
 "metadata": {},
 "nbformat": 4,
 "nbformat_minor": 5
}
