{
 "cells": [
  {
   "cell_type": "markdown",
   "id": "d143c9da",
   "metadata": {},
   "source": [
    "### **Link:** https://platform.stratascratch.com/technical/2283-two-out-of-five"
   ]
  },
  {
   "cell_type": "markdown",
   "id": "59458eb7",
   "metadata": {},
   "source": [
    "### **ID:** ID 2283"
   ]
  },
  {
   "cell_type": "markdown",
   "id": "8d6ee593",
   "metadata": {},
   "source": [
    "# Two Out Of Five"
   ]
  },
  {
   "cell_type": "markdown",
   "id": "ee2f3bab",
   "metadata": {},
   "source": [
    "### **Difficulty:** Easy"
   ]
  },
  {
   "cell_type": "markdown",
   "id": "b38fc05f",
   "metadata": {},
   "source": [
    "### **Question Type:** Probability"
   ]
  },
  {
   "cell_type": "markdown",
   "id": "3c91586a",
   "metadata": {},
   "source": [
    "### **Company:** Jane Street"
   ]
  },
  {
   "cell_type": "markdown",
   "id": "f563ec0b",
   "metadata": {},
   "source": [
    "## **Description:**"
   ]
  },
  {
   "cell_type": "markdown",
   "id": "136af0e3",
   "metadata": {},
   "source": [
    "What's the probability of obtaining 2 tails in 5 coin flips?"
   ]
  },
  {
   "cell_type": "markdown",
   "id": "46b3549e",
   "metadata": {},
   "source": [
    "## **Solution:**"
   ]
  },
  {
   "cell_type": "code",
   "execution_count": null,
   "id": "e1e8b9b3",
   "metadata": {},
   "outputs": [],
   "source": []
  }
 ],
 "metadata": {},
 "nbformat": 4,
 "nbformat_minor": 5
}
