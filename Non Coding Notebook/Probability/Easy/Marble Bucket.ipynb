{
 "cells": [
  {
   "cell_type": "markdown",
   "id": "0bdcf0d1",
   "metadata": {},
   "source": [
    "### **Link:** https://platform.stratascratch.com/technical/2058-marble-bucket"
   ]
  },
  {
   "cell_type": "markdown",
   "id": "262a8ccc",
   "metadata": {},
   "source": [
    "### **ID:** ID 2058"
   ]
  },
  {
   "cell_type": "markdown",
   "id": "14c1f635",
   "metadata": {},
   "source": [
    "# Marble Bucket"
   ]
  },
  {
   "cell_type": "markdown",
   "id": "85a915f6",
   "metadata": {},
   "source": [
    "### **Difficulty:** Easy"
   ]
  },
  {
   "cell_type": "markdown",
   "id": "5953701f",
   "metadata": {},
   "source": [
    "### **Question Type:** Probability"
   ]
  },
  {
   "cell_type": "markdown",
   "id": "5f6f9124",
   "metadata": {},
   "source": [
    "### **Company:** Zenefits"
   ]
  },
  {
   "cell_type": "markdown",
   "id": "0848111f",
   "metadata": {},
   "source": [
    "## **Description:**"
   ]
  },
  {
   "cell_type": "markdown",
   "id": "6cd365d8",
   "metadata": {},
   "source": [
    "There are 30 red marbles and 10 black marbles in Urn #1. You have 20 red and 20 Black marbles in Urn #2. Randomly you pull a marble from the random urn and find that it is red. What is the probability that it was pulled from Urn #1?"
   ]
  },
  {
   "cell_type": "markdown",
   "id": "ab3f2f57",
   "metadata": {},
   "source": [
    "## **Solution:**"
   ]
  },
  {
   "cell_type": "code",
   "execution_count": null,
   "id": "40191448",
   "metadata": {},
   "outputs": [],
   "source": []
  }
 ],
 "metadata": {},
 "nbformat": 4,
 "nbformat_minor": 5
}
