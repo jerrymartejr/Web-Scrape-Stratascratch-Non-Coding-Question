{
 "cells": [
  {
   "cell_type": "markdown",
   "id": "cf0caf1b",
   "metadata": {},
   "source": [
    "### **Link:** https://platform.stratascratch.com/technical/2313-rolling-two-dice"
   ]
  },
  {
   "cell_type": "markdown",
   "id": "9d58fe2a",
   "metadata": {},
   "source": [
    "### **ID:** ID 2313"
   ]
  },
  {
   "cell_type": "markdown",
   "id": "34a5bfdd",
   "metadata": {},
   "source": [
    "# Rolling Two Dice"
   ]
  },
  {
   "cell_type": "markdown",
   "id": "8856e011",
   "metadata": {},
   "source": [
    "### **Difficulty:** Easy"
   ]
  },
  {
   "cell_type": "markdown",
   "id": "bcfaf817",
   "metadata": {},
   "source": [
    "### **Question Type:** Probability"
   ]
  },
  {
   "cell_type": "markdown",
   "id": "19154613",
   "metadata": {},
   "source": [
    "### **Company:** Walmart, Sears"
   ]
  },
  {
   "cell_type": "markdown",
   "id": "694a02b7",
   "metadata": {},
   "source": [
    "## **Description:**"
   ]
  },
  {
   "cell_type": "markdown",
   "id": "487b69a4",
   "metadata": {},
   "source": [
    "Suppose you roll a die and earn whatever face you get. Now suppose you have a chance to roll a second die. If you roll, you earn whatever face you get but you forfeit earnings from the first round. When should you roll the second time?"
   ]
  },
  {
   "cell_type": "markdown",
   "id": "9c8abc53",
   "metadata": {},
   "source": [
    "## **Solution:**"
   ]
  },
  {
   "cell_type": "code",
   "execution_count": null,
   "id": "d5793781",
   "metadata": {},
   "outputs": [],
   "source": []
  }
 ],
 "metadata": {},
 "nbformat": 4,
 "nbformat_minor": 5
}
