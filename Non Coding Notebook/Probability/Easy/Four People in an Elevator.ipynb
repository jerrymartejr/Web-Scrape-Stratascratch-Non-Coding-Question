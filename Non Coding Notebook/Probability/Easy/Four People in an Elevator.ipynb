{
 "cells": [
  {
   "cell_type": "markdown",
   "id": "9dfb2ef3",
   "metadata": {},
   "source": [
    "### **Link:** https://platform.stratascratch.com/technical/2358-four-people-in-an-elevator"
   ]
  },
  {
   "cell_type": "markdown",
   "id": "556bcc34",
   "metadata": {},
   "source": [
    "### **ID:** ID 2358"
   ]
  },
  {
   "cell_type": "markdown",
   "id": "ca6a49de",
   "metadata": {},
   "source": [
    "# Four People in an Elevator"
   ]
  },
  {
   "cell_type": "markdown",
   "id": "55ad5c21",
   "metadata": {},
   "source": [
    "### **Difficulty:** Easy"
   ]
  },
  {
   "cell_type": "markdown",
   "id": "a5221414",
   "metadata": {},
   "source": [
    "### **Question Type:** Probability"
   ]
  },
  {
   "cell_type": "markdown",
   "id": "410375b4",
   "metadata": {},
   "source": [
    "### **Company:** Google"
   ]
  },
  {
   "cell_type": "markdown",
   "id": "51a1a38a",
   "metadata": {},
   "source": [
    "## **Description:**"
   ]
  },
  {
   "cell_type": "markdown",
   "id": "e04375e9",
   "metadata": {},
   "source": [
    "There are four people in an elevator that is about to make four stops on four different floors of the building. What is the probability that each person gets off on a different floor?"
   ]
  },
  {
   "cell_type": "markdown",
   "id": "33dcf8ed",
   "metadata": {},
   "source": [
    "## **Solution:**"
   ]
  },
  {
   "cell_type": "code",
   "execution_count": null,
   "id": "31420604",
   "metadata": {},
   "outputs": [],
   "source": []
  }
 ],
 "metadata": {},
 "nbformat": 4,
 "nbformat_minor": 5
}
