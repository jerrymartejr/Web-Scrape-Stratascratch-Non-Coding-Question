{
 "cells": [
  {
   "cell_type": "markdown",
   "id": "7fc6b1e4",
   "metadata": {},
   "source": [
    "### **Link:** https://platform.stratascratch.com/technical/2175-throwing-dice"
   ]
  },
  {
   "cell_type": "markdown",
   "id": "29db59bc",
   "metadata": {},
   "source": [
    "### **ID:** ID 2175"
   ]
  },
  {
   "cell_type": "markdown",
   "id": "c10d370a",
   "metadata": {},
   "source": [
    "# Throwing Dice"
   ]
  },
  {
   "cell_type": "markdown",
   "id": "b3e714f2",
   "metadata": {},
   "source": [
    "### **Difficulty:** Easy"
   ]
  },
  {
   "cell_type": "markdown",
   "id": "3751abe2",
   "metadata": {},
   "source": [
    "### **Question Type:** Probability"
   ]
  },
  {
   "cell_type": "markdown",
   "id": "5ba89b29",
   "metadata": {},
   "source": [
    "### **Company:** Walmart, Verizon Wireless, Best Buy"
   ]
  },
  {
   "cell_type": "markdown",
   "id": "ee2fd5ed",
   "metadata": {},
   "source": [
    "## **Description:**"
   ]
  },
  {
   "cell_type": "markdown",
   "id": "6fe95802",
   "metadata": {},
   "source": [
    "What is the probability of getting at least one 5 when throwing dice 7 times?"
   ]
  },
  {
   "cell_type": "markdown",
   "id": "25d11e77",
   "metadata": {},
   "source": [
    "## **Solution:**"
   ]
  },
  {
   "cell_type": "code",
   "execution_count": null,
   "id": "b1b0f81f",
   "metadata": {},
   "outputs": [],
   "source": []
  }
 ],
 "metadata": {},
 "nbformat": 4,
 "nbformat_minor": 5
}
