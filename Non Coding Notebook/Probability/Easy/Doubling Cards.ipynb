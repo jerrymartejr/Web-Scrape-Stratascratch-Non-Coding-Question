{
 "cells": [
  {
   "cell_type": "markdown",
   "id": "3eb78877",
   "metadata": {},
   "source": [
    "### **Link:** https://platform.stratascratch.com/technical/2032-doubling-cards"
   ]
  },
  {
   "cell_type": "markdown",
   "id": "de3dfe5a",
   "metadata": {},
   "source": [
    "### **ID:** ID 2032"
   ]
  },
  {
   "cell_type": "markdown",
   "id": "fdb5a648",
   "metadata": {},
   "source": [
    "# Doubling Cards"
   ]
  },
  {
   "cell_type": "markdown",
   "id": "e0932461",
   "metadata": {},
   "source": [
    "### **Difficulty:** Easy"
   ]
  },
  {
   "cell_type": "markdown",
   "id": "4172c142",
   "metadata": {},
   "source": [
    "### **Question Type:** Probability"
   ]
  },
  {
   "cell_type": "markdown",
   "id": "db9e4954",
   "metadata": {},
   "source": [
    "### **Company:** Quora, Zenefits, Pinterest"
   ]
  },
  {
   "cell_type": "markdown",
   "id": "8f43e877",
   "metadata": {},
   "source": [
    "## **Description:**"
   ]
  },
  {
   "cell_type": "markdown",
   "id": "46b86d98",
   "metadata": {},
   "source": [
    "Two random cards numbered from 1,2...100 are pulled from the deck. What is the probability that one number doubles the other from the deck?"
   ]
  },
  {
   "cell_type": "markdown",
   "id": "013306b8",
   "metadata": {},
   "source": [
    "## **Solution:**"
   ]
  },
  {
   "cell_type": "code",
   "execution_count": null,
   "id": "94684f19",
   "metadata": {},
   "outputs": [],
   "source": []
  }
 ],
 "metadata": {},
 "nbformat": 4,
 "nbformat_minor": 5
}
