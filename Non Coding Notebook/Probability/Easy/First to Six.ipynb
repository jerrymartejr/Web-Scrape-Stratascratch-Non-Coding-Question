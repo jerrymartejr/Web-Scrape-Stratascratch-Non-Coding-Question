{
 "cells": [
  {
   "cell_type": "markdown",
   "id": "f7d6ec0f",
   "metadata": {},
   "source": [
    "### **Link:** https://platform.stratascratch.com/technical/2060-first-to-six"
   ]
  },
  {
   "cell_type": "markdown",
   "id": "2081129b",
   "metadata": {},
   "source": [
    "### **ID:** ID 2060"
   ]
  },
  {
   "cell_type": "markdown",
   "id": "b840492e",
   "metadata": {},
   "source": [
    "# First to Six"
   ]
  },
  {
   "cell_type": "markdown",
   "id": "b9a6754c",
   "metadata": {},
   "source": [
    "### **Difficulty:** Easy"
   ]
  },
  {
   "cell_type": "markdown",
   "id": "88b9c926",
   "metadata": {},
   "source": [
    "### **Question Type:** Probability"
   ]
  },
  {
   "cell_type": "markdown",
   "id": "5b5af84d",
   "metadata": {},
   "source": [
    "### **Company:** Zenefits"
   ]
  },
  {
   "cell_type": "markdown",
   "id": "c47ea6e3",
   "metadata": {},
   "source": [
    "## **Description:**"
   ]
  },
  {
   "cell_type": "markdown",
   "id": "e5cc98c2",
   "metadata": {},
   "source": [
    "Alice and Bob take turns in rolling a fair dice. Whoever gets \"6\" first wins the game. Alice starts the game. What are the chances that Alice wins?"
   ]
  },
  {
   "cell_type": "markdown",
   "id": "5a6947c1",
   "metadata": {},
   "source": [
    "## **Solution:**"
   ]
  },
  {
   "cell_type": "code",
   "execution_count": null,
   "id": "7ce9e0ac",
   "metadata": {},
   "outputs": [],
   "source": []
  }
 ],
 "metadata": {},
 "nbformat": 4,
 "nbformat_minor": 5
}
