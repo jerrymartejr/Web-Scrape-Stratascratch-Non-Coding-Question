{
 "cells": [
  {
   "cell_type": "markdown",
   "id": "b2c1854e",
   "metadata": {},
   "source": [
    "### **Link:** https://platform.stratascratch.com/technical/2157-credit-card-fraud-model"
   ]
  },
  {
   "cell_type": "markdown",
   "id": "2a49cf1b",
   "metadata": {},
   "source": [
    "### **ID:** ID 2157"
   ]
  },
  {
   "cell_type": "markdown",
   "id": "f0db7510",
   "metadata": {},
   "source": [
    "# Credit Card Fraud Model"
   ]
  },
  {
   "cell_type": "markdown",
   "id": "60419b7b",
   "metadata": {},
   "source": [
    "### **Difficulty:** Medium"
   ]
  },
  {
   "cell_type": "markdown",
   "id": "043f692d",
   "metadata": {},
   "source": [
    "### **Question Type:** Modeling"
   ]
  },
  {
   "cell_type": "markdown",
   "id": "7c3f3166",
   "metadata": {},
   "source": [
    "### **Company:** Capital One, FINRA, Goldman Sachs"
   ]
  },
  {
   "cell_type": "markdown",
   "id": "f50a6a5d",
   "metadata": {},
   "source": [
    "## **Description:**"
   ]
  },
  {
   "cell_type": "markdown",
   "id": "bb7fed04",
   "metadata": {},
   "source": [
    "How to build up a model to predict credit card fraud?"
   ]
  },
  {
   "cell_type": "markdown",
   "id": "05fa3ada",
   "metadata": {},
   "source": [
    "## **Solution:**"
   ]
  },
  {
   "cell_type": "code",
   "execution_count": null,
   "id": "2f295e7e",
   "metadata": {},
   "outputs": [],
   "source": []
  }
 ],
 "metadata": {},
 "nbformat": 4,
 "nbformat_minor": 5
}
