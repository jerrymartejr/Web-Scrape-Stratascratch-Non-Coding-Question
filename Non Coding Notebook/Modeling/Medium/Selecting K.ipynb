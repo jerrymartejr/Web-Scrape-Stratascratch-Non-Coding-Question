{
 "cells": [
  {
   "cell_type": "markdown",
   "id": "3237523b",
   "metadata": {},
   "source": [
    "### **Link:** https://platform.stratascratch.com/technical/2347-selecting-k"
   ]
  },
  {
   "cell_type": "markdown",
   "id": "af9c9276",
   "metadata": {},
   "source": [
    "### **ID:** ID 2347"
   ]
  },
  {
   "cell_type": "markdown",
   "id": "ebd7fceb",
   "metadata": {},
   "source": [
    "# Selecting K"
   ]
  },
  {
   "cell_type": "markdown",
   "id": "55fe9e52",
   "metadata": {},
   "source": [
    "### **Difficulty:** Medium"
   ]
  },
  {
   "cell_type": "markdown",
   "id": "fa513860",
   "metadata": {},
   "source": [
    "### **Question Type:** Modeling"
   ]
  },
  {
   "cell_type": "markdown",
   "id": "59373979",
   "metadata": {},
   "source": [
    "### **Company:** Microsoft, Apple, Oracle"
   ]
  },
  {
   "cell_type": "markdown",
   "id": "1119056f",
   "metadata": {},
   "source": [
    "## **Description:**"
   ]
  },
  {
   "cell_type": "markdown",
   "id": "d8f0db17",
   "metadata": {},
   "source": [
    "How is the value k selected in k-means clustering?"
   ]
  },
  {
   "cell_type": "markdown",
   "id": "52d046af",
   "metadata": {},
   "source": [
    "## **Solution:**"
   ]
  },
  {
   "cell_type": "code",
   "execution_count": null,
   "id": "2a335ce0",
   "metadata": {},
   "outputs": [],
   "source": []
  }
 ],
 "metadata": {},
 "nbformat": 4,
 "nbformat_minor": 5
}
