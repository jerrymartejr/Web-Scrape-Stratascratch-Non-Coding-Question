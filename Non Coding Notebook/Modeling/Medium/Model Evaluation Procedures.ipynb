{
 "cells": [
  {
   "cell_type": "markdown",
   "id": "94c7ccc6",
   "metadata": {},
   "source": [
    "### **Link:** https://platform.stratascratch.com/technical/2120-model-evaluation-procedures"
   ]
  },
  {
   "cell_type": "markdown",
   "id": "f392fcf4",
   "metadata": {},
   "source": [
    "### **ID:** ID 2120"
   ]
  },
  {
   "cell_type": "markdown",
   "id": "ad05ecc3",
   "metadata": {},
   "source": [
    "# Model Evaluation Procedures"
   ]
  },
  {
   "cell_type": "markdown",
   "id": "94b8be3f",
   "metadata": {},
   "source": [
    "### **Difficulty:** Medium"
   ]
  },
  {
   "cell_type": "markdown",
   "id": "d5926d80",
   "metadata": {},
   "source": [
    "### **Question Type:** Modeling"
   ]
  },
  {
   "cell_type": "markdown",
   "id": "4f7f9b90",
   "metadata": {},
   "source": [
    "### **Company:** General Assembly, Pearson"
   ]
  },
  {
   "cell_type": "markdown",
   "id": "c0487dbc",
   "metadata": {},
   "source": [
    "## **Description:**"
   ]
  },
  {
   "cell_type": "markdown",
   "id": "e0d0243e",
   "metadata": {},
   "source": [
    "What is the purpose of model evaluation procedures that \"hold out\" data, like train/test split and cross-validation?"
   ]
  },
  {
   "cell_type": "markdown",
   "id": "67e7fa4c",
   "metadata": {},
   "source": [
    "## **Solution:**"
   ]
  },
  {
   "cell_type": "code",
   "execution_count": null,
   "id": "b996158f",
   "metadata": {},
   "outputs": [],
   "source": []
  }
 ],
 "metadata": {},
 "nbformat": 4,
 "nbformat_minor": 5
}
