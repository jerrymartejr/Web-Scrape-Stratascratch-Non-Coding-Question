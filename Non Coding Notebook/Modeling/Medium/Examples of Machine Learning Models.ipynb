{
 "cells": [
  {
   "cell_type": "markdown",
   "id": "72c2ce88",
   "metadata": {},
   "source": [
    "### **Link:** https://platform.stratascratch.com/technical/2128-examples-of-machine-learning-models"
   ]
  },
  {
   "cell_type": "markdown",
   "id": "89e77e72",
   "metadata": {},
   "source": [
    "### **ID:** ID 2128"
   ]
  },
  {
   "cell_type": "markdown",
   "id": "edc88c48",
   "metadata": {},
   "source": [
    "# Examples of Machine Learning Models"
   ]
  },
  {
   "cell_type": "markdown",
   "id": "c8cf276b",
   "metadata": {},
   "source": [
    "### **Difficulty:** Medium"
   ]
  },
  {
   "cell_type": "markdown",
   "id": "81781ee1",
   "metadata": {},
   "source": [
    "### **Question Type:** Modeling"
   ]
  },
  {
   "cell_type": "markdown",
   "id": "91d2ef10",
   "metadata": {},
   "source": [
    "### **Company:** General Assembly"
   ]
  },
  {
   "cell_type": "markdown",
   "id": "c40d8bf6",
   "metadata": {},
   "source": [
    "## **Description:**"
   ]
  },
  {
   "cell_type": "markdown",
   "id": "6c85df8c",
   "metadata": {},
   "source": [
    "What are a few examples of machine learning models that don't benefit from the scaling/standardizing of features? What are a few examples of models for which scaling the features is generally recommended?"
   ]
  },
  {
   "cell_type": "markdown",
   "id": "29be824d",
   "metadata": {},
   "source": [
    "## **Solution:**"
   ]
  },
  {
   "cell_type": "code",
   "execution_count": null,
   "id": "bb0b0118",
   "metadata": {},
   "outputs": [],
   "source": []
  }
 ],
 "metadata": {},
 "nbformat": 4,
 "nbformat_minor": 5
}
