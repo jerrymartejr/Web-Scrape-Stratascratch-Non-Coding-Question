{
 "cells": [
  {
   "cell_type": "markdown",
   "id": "0cb9984c",
   "metadata": {},
   "source": [
    "### **Link:** https://platform.stratascratch.com/technical/2100-k-means-algorithm"
   ]
  },
  {
   "cell_type": "markdown",
   "id": "08bcdbd6",
   "metadata": {},
   "source": [
    "### **ID:** ID 2100"
   ]
  },
  {
   "cell_type": "markdown",
   "id": "a96d7673",
   "metadata": {},
   "source": [
    "# K-means Algorithm"
   ]
  },
  {
   "cell_type": "markdown",
   "id": "53653735",
   "metadata": {},
   "source": [
    "### **Difficulty:** Medium"
   ]
  },
  {
   "cell_type": "markdown",
   "id": "74c30580",
   "metadata": {},
   "source": [
    "### **Question Type:** Modeling"
   ]
  },
  {
   "cell_type": "markdown",
   "id": "790b1eab",
   "metadata": {},
   "source": [
    "### **Company:** EY, BearingPoint, Deloitte"
   ]
  },
  {
   "cell_type": "markdown",
   "id": "f90bfe41",
   "metadata": {},
   "source": [
    "## **Description:**"
   ]
  },
  {
   "cell_type": "markdown",
   "id": "5d7648bc",
   "metadata": {},
   "source": [
    "How does the K-means algorithm work?"
   ]
  },
  {
   "cell_type": "markdown",
   "id": "cf88f68c",
   "metadata": {},
   "source": [
    "## **Solution:**"
   ]
  },
  {
   "cell_type": "code",
   "execution_count": null,
   "id": "75239b57",
   "metadata": {},
   "outputs": [],
   "source": []
  }
 ],
 "metadata": {},
 "nbformat": 4,
 "nbformat_minor": 5
}
