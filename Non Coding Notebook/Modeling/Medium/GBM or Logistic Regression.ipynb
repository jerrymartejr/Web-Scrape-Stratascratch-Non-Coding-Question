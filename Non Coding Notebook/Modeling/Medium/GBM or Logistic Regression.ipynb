{
 "cells": [
  {
   "cell_type": "markdown",
   "id": "eb6ff86d",
   "metadata": {},
   "source": [
    "### **Link:** https://platform.stratascratch.com/technical/2056-gbm-or-logistic-regression"
   ]
  },
  {
   "cell_type": "markdown",
   "id": "4f58cc4e",
   "metadata": {},
   "source": [
    "### **ID:** ID 2056"
   ]
  },
  {
   "cell_type": "markdown",
   "id": "0b38a9e9",
   "metadata": {},
   "source": [
    "# GBM or Logistic Regression"
   ]
  },
  {
   "cell_type": "markdown",
   "id": "df1accd7",
   "metadata": {},
   "source": [
    "### **Difficulty:** Medium"
   ]
  },
  {
   "cell_type": "markdown",
   "id": "b3e7cfd4",
   "metadata": {},
   "source": [
    "### **Question Type:** Modeling"
   ]
  },
  {
   "cell_type": "markdown",
   "id": "7b103aa3",
   "metadata": {},
   "source": [
    "### **Company:** ZestFinance"
   ]
  },
  {
   "cell_type": "markdown",
   "id": "c23f065c",
   "metadata": {},
   "source": [
    "## **Description:**"
   ]
  },
  {
   "cell_type": "markdown",
   "id": "35e9313a",
   "metadata": {},
   "source": [
    "Do you think an additional feature improves GBM or Logistic Regression more?"
   ]
  },
  {
   "cell_type": "markdown",
   "id": "5635057e",
   "metadata": {},
   "source": [
    "## **Solution:**"
   ]
  },
  {
   "cell_type": "code",
   "execution_count": null,
   "id": "a9e98245",
   "metadata": {},
   "outputs": [],
   "source": []
  }
 ],
 "metadata": {},
 "nbformat": 4,
 "nbformat_minor": 5
}
