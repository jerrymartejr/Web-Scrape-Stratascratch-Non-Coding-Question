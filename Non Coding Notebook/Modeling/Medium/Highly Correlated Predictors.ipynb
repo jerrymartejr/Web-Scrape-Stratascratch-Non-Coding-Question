{
 "cells": [
  {
   "cell_type": "markdown",
   "id": "7301cc0b",
   "metadata": {},
   "source": [
    "### **Link:** https://platform.stratascratch.com/technical/2017-highly-correlated-predictors"
   ]
  },
  {
   "cell_type": "markdown",
   "id": "c484e91b",
   "metadata": {},
   "source": [
    "### **ID:** ID 2017"
   ]
  },
  {
   "cell_type": "markdown",
   "id": "e4653725",
   "metadata": {},
   "source": [
    "# Highly Correlated Predictors"
   ]
  },
  {
   "cell_type": "markdown",
   "id": "9a56223b",
   "metadata": {},
   "source": [
    "### **Difficulty:** Medium"
   ]
  },
  {
   "cell_type": "markdown",
   "id": "b2a4579b",
   "metadata": {},
   "source": [
    "### **Question Type:** Modeling"
   ]
  },
  {
   "cell_type": "markdown",
   "id": "06c6420d",
   "metadata": {},
   "source": [
    "### **Company:** Google"
   ]
  },
  {
   "cell_type": "markdown",
   "id": "2813b9ec",
   "metadata": {},
   "source": [
    "## **Description:**"
   ]
  },
  {
   "cell_type": "markdown",
   "id": "5c619457",
   "metadata": {},
   "source": [
    "Why use feature selection? If two predictors are highly correlated, what is the effect on the coefficients in the logistic regression? What are the confidence intervals of the coefficients?"
   ]
  },
  {
   "cell_type": "markdown",
   "id": "68121cbb",
   "metadata": {},
   "source": [
    "## **Solution:**"
   ]
  },
  {
   "cell_type": "code",
   "execution_count": null,
   "id": "64282e04",
   "metadata": {},
   "outputs": [],
   "source": []
  }
 ],
 "metadata": {},
 "nbformat": 4,
 "nbformat_minor": 5
}
