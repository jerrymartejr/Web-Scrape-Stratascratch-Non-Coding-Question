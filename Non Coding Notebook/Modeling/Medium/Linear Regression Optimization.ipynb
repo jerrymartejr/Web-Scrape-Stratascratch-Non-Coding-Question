{
 "cells": [
  {
   "cell_type": "markdown",
   "id": "382c09d2",
   "metadata": {},
   "source": [
    "### **Link:** https://platform.stratascratch.com/technical/2291-linear-regression-optimization"
   ]
  },
  {
   "cell_type": "markdown",
   "id": "7b0a6e27",
   "metadata": {},
   "source": [
    "### **ID:** ID 2291"
   ]
  },
  {
   "cell_type": "markdown",
   "id": "9b7c7eb9",
   "metadata": {},
   "source": [
    "# Linear Regression Optimization"
   ]
  },
  {
   "cell_type": "markdown",
   "id": "50803789",
   "metadata": {},
   "source": [
    "### **Difficulty:** Medium"
   ]
  },
  {
   "cell_type": "markdown",
   "id": "86252771",
   "metadata": {},
   "source": [
    "### **Question Type:** Modeling"
   ]
  },
  {
   "cell_type": "markdown",
   "id": "97240018",
   "metadata": {},
   "source": [
    "### **Company:** Two Sigma"
   ]
  },
  {
   "cell_type": "markdown",
   "id": "d2533e96",
   "metadata": {},
   "source": [
    "## **Description:**"
   ]
  },
  {
   "cell_type": "markdown",
   "id": "09e209b0",
   "metadata": {},
   "source": [
    "How would you improve linear regression?"
   ]
  },
  {
   "cell_type": "markdown",
   "id": "9fb521f3",
   "metadata": {},
   "source": [
    "## **Solution:**"
   ]
  },
  {
   "cell_type": "code",
   "execution_count": null,
   "id": "7b1171a5",
   "metadata": {},
   "outputs": [],
   "source": []
  }
 ],
 "metadata": {},
 "nbformat": 4,
 "nbformat_minor": 5
}
