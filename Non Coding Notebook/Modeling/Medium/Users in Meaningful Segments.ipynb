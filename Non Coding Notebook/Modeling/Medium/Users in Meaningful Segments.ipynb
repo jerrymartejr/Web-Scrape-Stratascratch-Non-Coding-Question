{
 "cells": [
  {
   "cell_type": "markdown",
   "id": "0d3219b4",
   "metadata": {},
   "source": [
    "### **Link:** https://platform.stratascratch.com/technical/2041-users-in-meaningful-segments"
   ]
  },
  {
   "cell_type": "markdown",
   "id": "aba32e67",
   "metadata": {},
   "source": [
    "### **ID:** ID 2041"
   ]
  },
  {
   "cell_type": "markdown",
   "id": "004fbc81",
   "metadata": {},
   "source": [
    "# Users in Meaningful Segments"
   ]
  },
  {
   "cell_type": "markdown",
   "id": "31251f88",
   "metadata": {},
   "source": [
    "### **Difficulty:** Medium"
   ]
  },
  {
   "cell_type": "markdown",
   "id": "970b1db7",
   "metadata": {},
   "source": [
    "### **Question Type:** Modeling"
   ]
  },
  {
   "cell_type": "markdown",
   "id": "eb8a7b15",
   "metadata": {},
   "source": [
    "### **Company:** Google, Apple"
   ]
  },
  {
   "cell_type": "markdown",
   "id": "46b95575",
   "metadata": {},
   "source": [
    "## **Description:**"
   ]
  },
  {
   "cell_type": "markdown",
   "id": "b2ac1341",
   "metadata": {},
   "source": [
    "How do you take millions of users with 100's of transactions each, amongst 10k's of products and group the users together in meaningful segments?"
   ]
  },
  {
   "cell_type": "markdown",
   "id": "10926d8d",
   "metadata": {},
   "source": [
    "## **Solution:**"
   ]
  },
  {
   "cell_type": "code",
   "execution_count": null,
   "id": "e0726e53",
   "metadata": {},
   "outputs": [],
   "source": []
  }
 ],
 "metadata": {},
 "nbformat": 4,
 "nbformat_minor": 5
}
