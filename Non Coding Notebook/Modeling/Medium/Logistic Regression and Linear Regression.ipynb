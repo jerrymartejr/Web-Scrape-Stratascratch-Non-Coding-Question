{
 "cells": [
  {
   "cell_type": "markdown",
   "id": "49587897",
   "metadata": {},
   "source": [
    "### **Link:** https://platform.stratascratch.com/technical/2089-logistic-regression-and-linear-regression"
   ]
  },
  {
   "cell_type": "markdown",
   "id": "9c0374e9",
   "metadata": {},
   "source": [
    "### **ID:** ID 2089"
   ]
  },
  {
   "cell_type": "markdown",
   "id": "9c4e6085",
   "metadata": {},
   "source": [
    "# Logistic Regression and Linear Regression"
   ]
  },
  {
   "cell_type": "markdown",
   "id": "9cdd86d7",
   "metadata": {},
   "source": [
    "### **Difficulty:** Medium"
   ]
  },
  {
   "cell_type": "markdown",
   "id": "117b8e61",
   "metadata": {},
   "source": [
    "### **Question Type:** Modeling"
   ]
  },
  {
   "cell_type": "markdown",
   "id": "35a1a244",
   "metadata": {},
   "source": [
    "### **Company:** IBM"
   ]
  },
  {
   "cell_type": "markdown",
   "id": "065db786",
   "metadata": {},
   "source": [
    "## **Description:**"
   ]
  },
  {
   "cell_type": "markdown",
   "id": "a5e4c693",
   "metadata": {},
   "source": [
    "When you are doing logistic regression, how do you assess your model? What is the different compared to simple linear regression?"
   ]
  },
  {
   "cell_type": "markdown",
   "id": "ab532e84",
   "metadata": {},
   "source": [
    "## **Solution:**"
   ]
  },
  {
   "cell_type": "code",
   "execution_count": null,
   "id": "fadf41fe",
   "metadata": {},
   "outputs": [],
   "source": []
  }
 ],
 "metadata": {},
 "nbformat": 4,
 "nbformat_minor": 5
}
