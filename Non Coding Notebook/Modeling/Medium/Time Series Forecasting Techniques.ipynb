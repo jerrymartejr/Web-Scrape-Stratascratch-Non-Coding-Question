{
 "cells": [
  {
   "cell_type": "markdown",
   "id": "bae66cf6",
   "metadata": {},
   "source": [
    "### **Link:** https://platform.stratascratch.com/technical/2022-time-series-forecasting-techniques"
   ]
  },
  {
   "cell_type": "markdown",
   "id": "7c744572",
   "metadata": {},
   "source": [
    "### **ID:** ID 2022"
   ]
  },
  {
   "cell_type": "markdown",
   "id": "e1856aef",
   "metadata": {},
   "source": [
    "# Time Series Forecasting Techniques"
   ]
  },
  {
   "cell_type": "markdown",
   "id": "dc1993c3",
   "metadata": {},
   "source": [
    "### **Difficulty:** Medium"
   ]
  },
  {
   "cell_type": "markdown",
   "id": "c72d510e",
   "metadata": {},
   "source": [
    "### **Question Type:** Modeling"
   ]
  },
  {
   "cell_type": "markdown",
   "id": "8e7805f2",
   "metadata": {},
   "source": [
    "### **Company:** Uber, Lyft"
   ]
  },
  {
   "cell_type": "markdown",
   "id": "1c0f8361",
   "metadata": {},
   "source": [
    "## **Description:**"
   ]
  },
  {
   "cell_type": "markdown",
   "id": "8ba6a58a",
   "metadata": {},
   "source": [
    "What are different Time Series forecasting techniques?"
   ]
  },
  {
   "cell_type": "markdown",
   "id": "6d4a87c2",
   "metadata": {},
   "source": [
    "## **Solution:**"
   ]
  },
  {
   "cell_type": "code",
   "execution_count": null,
   "id": "fc0e68b1",
   "metadata": {},
   "outputs": [],
   "source": []
  }
 ],
 "metadata": {},
 "nbformat": 4,
 "nbformat_minor": 5
}
