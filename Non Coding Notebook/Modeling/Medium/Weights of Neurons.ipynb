{
 "cells": [
  {
   "cell_type": "markdown",
   "id": "4f845e4b",
   "metadata": {},
   "source": [
    "### **Link:** https://platform.stratascratch.com/technical/2356-weights-of-neurons"
   ]
  },
  {
   "cell_type": "markdown",
   "id": "913f226c",
   "metadata": {},
   "source": [
    "### **ID:** ID 2356"
   ]
  },
  {
   "cell_type": "markdown",
   "id": "572d8310",
   "metadata": {},
   "source": [
    "# Weights of Neurons"
   ]
  },
  {
   "cell_type": "markdown",
   "id": "bd70e417",
   "metadata": {},
   "source": [
    "### **Difficulty:** Medium"
   ]
  },
  {
   "cell_type": "markdown",
   "id": "f04a9f53",
   "metadata": {},
   "source": [
    "### **Question Type:** Modeling"
   ]
  },
  {
   "cell_type": "markdown",
   "id": "27ccf9a0",
   "metadata": {},
   "source": [
    "### **Company:** Pearson"
   ]
  },
  {
   "cell_type": "markdown",
   "id": "82271a34",
   "metadata": {},
   "source": [
    "## **Description:**"
   ]
  },
  {
   "cell_type": "markdown",
   "id": "7c1685b2",
   "metadata": {},
   "source": [
    "Why the weights of neurons in a neural network should not be initialized to 0?"
   ]
  },
  {
   "cell_type": "markdown",
   "id": "c34c2a28",
   "metadata": {},
   "source": [
    "## **Solution:**"
   ]
  },
  {
   "cell_type": "code",
   "execution_count": null,
   "id": "da450630",
   "metadata": {},
   "outputs": [],
   "source": []
  }
 ],
 "metadata": {},
 "nbformat": 4,
 "nbformat_minor": 5
}
