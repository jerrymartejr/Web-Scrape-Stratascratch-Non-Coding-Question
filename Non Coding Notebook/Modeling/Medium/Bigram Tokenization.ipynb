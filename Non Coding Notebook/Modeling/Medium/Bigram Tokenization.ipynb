{
 "cells": [
  {
   "cell_type": "markdown",
   "id": "2c778e08",
   "metadata": {},
   "source": [
    "### **Link:** https://platform.stratascratch.com/technical/2403-bigram-tokenization"
   ]
  },
  {
   "cell_type": "markdown",
   "id": "88cf88c1",
   "metadata": {},
   "source": [
    "### **ID:** ID 2403"
   ]
  },
  {
   "cell_type": "markdown",
   "id": "04a83333",
   "metadata": {},
   "source": [
    "# Bigram Tokenization"
   ]
  },
  {
   "cell_type": "markdown",
   "id": "cd605ed7",
   "metadata": {},
   "source": [
    "### **Difficulty:** Medium"
   ]
  },
  {
   "cell_type": "markdown",
   "id": "97d4f192",
   "metadata": {},
   "source": [
    "### **Question Type:** Modeling"
   ]
  },
  {
   "cell_type": "markdown",
   "id": "dd82ae01",
   "metadata": {},
   "source": [
    "### **Company:** Yelp, Vevo"
   ]
  },
  {
   "cell_type": "markdown",
   "id": "544e8ab2",
   "metadata": {},
   "source": [
    "## **Description:**"
   ]
  },
  {
   "cell_type": "markdown",
   "id": "e3f303f1",
   "metadata": {},
   "source": [
    "What is Bigram tokenization?"
   ]
  },
  {
   "cell_type": "markdown",
   "id": "f79e70b8",
   "metadata": {},
   "source": [
    "## **Solution:**"
   ]
  },
  {
   "cell_type": "code",
   "execution_count": null,
   "id": "179d9f98",
   "metadata": {},
   "outputs": [],
   "source": []
  }
 ],
 "metadata": {},
 "nbformat": 4,
 "nbformat_minor": 5
}
