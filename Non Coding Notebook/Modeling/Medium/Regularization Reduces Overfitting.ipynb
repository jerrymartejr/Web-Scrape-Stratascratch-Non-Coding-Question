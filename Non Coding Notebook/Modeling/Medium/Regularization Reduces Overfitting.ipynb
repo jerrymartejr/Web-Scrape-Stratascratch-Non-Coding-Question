{
 "cells": [
  {
   "cell_type": "markdown",
   "id": "a701b1a9",
   "metadata": {},
   "source": [
    "### **Link:** https://platform.stratascratch.com/technical/2125-regularization-reduces-overfitting"
   ]
  },
  {
   "cell_type": "markdown",
   "id": "0b1a5079",
   "metadata": {},
   "source": [
    "### **ID:** ID 2125"
   ]
  },
  {
   "cell_type": "markdown",
   "id": "117bb84a",
   "metadata": {},
   "source": [
    "# Regularization Reduces Overfitting"
   ]
  },
  {
   "cell_type": "markdown",
   "id": "46702280",
   "metadata": {},
   "source": [
    "### **Difficulty:** Medium"
   ]
  },
  {
   "cell_type": "markdown",
   "id": "214bdda9",
   "metadata": {},
   "source": [
    "### **Question Type:** Modeling"
   ]
  },
  {
   "cell_type": "markdown",
   "id": "6afe9e7b",
   "metadata": {},
   "source": [
    "### **Company:** General Assembly"
   ]
  },
  {
   "cell_type": "markdown",
   "id": "3dfe1d9a",
   "metadata": {},
   "source": [
    "## **Description:**"
   ]
  },
  {
   "cell_type": "markdown",
   "id": "948fc8b2",
   "metadata": {},
   "source": [
    "How does regularization reduce overfitting?"
   ]
  },
  {
   "cell_type": "markdown",
   "id": "1af7bcb8",
   "metadata": {},
   "source": [
    "## **Solution:**"
   ]
  },
  {
   "cell_type": "code",
   "execution_count": null,
   "id": "c5c17012",
   "metadata": {},
   "outputs": [],
   "source": []
  }
 ],
 "metadata": {},
 "nbformat": 4,
 "nbformat_minor": 5
}
