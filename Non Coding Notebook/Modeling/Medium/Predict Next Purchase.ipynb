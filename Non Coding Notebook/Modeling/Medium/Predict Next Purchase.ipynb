{
 "cells": [
  {
   "cell_type": "markdown",
   "id": "81f41ef5",
   "metadata": {},
   "source": [
    "### **Link:** https://platform.stratascratch.com/technical/2389-predict-next-purchase"
   ]
  },
  {
   "cell_type": "markdown",
   "id": "c7260815",
   "metadata": {},
   "source": [
    "### **ID:** ID 2389"
   ]
  },
  {
   "cell_type": "markdown",
   "id": "14e052b6",
   "metadata": {},
   "source": [
    "# Predict Next Purchase"
   ]
  },
  {
   "cell_type": "markdown",
   "id": "0036c7ff",
   "metadata": {},
   "source": [
    "### **Difficulty:** Medium"
   ]
  },
  {
   "cell_type": "markdown",
   "id": "2d34b18e",
   "metadata": {},
   "source": [
    "### **Question Type:** Modeling"
   ]
  },
  {
   "cell_type": "markdown",
   "id": "964a204d",
   "metadata": {},
   "source": [
    "### **Company:** Amazon"
   ]
  },
  {
   "cell_type": "markdown",
   "id": "14030308",
   "metadata": {},
   "source": [
    "## **Description:**"
   ]
  },
  {
   "cell_type": "markdown",
   "id": "0b17b2e8",
   "metadata": {},
   "source": [
    "How to predict when the customer will buy again?"
   ]
  },
  {
   "cell_type": "markdown",
   "id": "9b2a1627",
   "metadata": {},
   "source": [
    "## **Solution:**"
   ]
  },
  {
   "cell_type": "code",
   "execution_count": null,
   "id": "69aef18b",
   "metadata": {},
   "outputs": [],
   "source": []
  }
 ],
 "metadata": {},
 "nbformat": 4,
 "nbformat_minor": 5
}
