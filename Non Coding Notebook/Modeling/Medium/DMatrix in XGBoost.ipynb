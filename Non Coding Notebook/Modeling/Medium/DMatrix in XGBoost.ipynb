{
 "cells": [
  {
   "cell_type": "markdown",
   "id": "8904d477",
   "metadata": {},
   "source": [
    "### **Link:** https://platform.stratascratch.com/technical/2367-dmatrix-in-xgboost"
   ]
  },
  {
   "cell_type": "markdown",
   "id": "a5ebb77c",
   "metadata": {},
   "source": [
    "### **ID:** ID 2367"
   ]
  },
  {
   "cell_type": "markdown",
   "id": "c38ef427",
   "metadata": {},
   "source": [
    "# DMatrix in XGBoost"
   ]
  },
  {
   "cell_type": "markdown",
   "id": "a7c12f4d",
   "metadata": {},
   "source": [
    "### **Difficulty:** Medium"
   ]
  },
  {
   "cell_type": "markdown",
   "id": "87ecb793",
   "metadata": {},
   "source": [
    "### **Question Type:** Modeling"
   ]
  },
  {
   "cell_type": "markdown",
   "id": "0ed1e070",
   "metadata": {},
   "source": [
    "### **Company:** Deloitte"
   ]
  },
  {
   "cell_type": "markdown",
   "id": "3931ce73",
   "metadata": {},
   "source": [
    "## **Description:**"
   ]
  },
  {
   "cell_type": "markdown",
   "id": "ab0e57da",
   "metadata": {},
   "source": [
    "What is DMatrix in the XGBoost library?"
   ]
  },
  {
   "cell_type": "markdown",
   "id": "269cfc01",
   "metadata": {},
   "source": [
    "## **Solution:**"
   ]
  },
  {
   "cell_type": "code",
   "execution_count": null,
   "id": "acb49a2d",
   "metadata": {},
   "outputs": [],
   "source": []
  }
 ],
 "metadata": {},
 "nbformat": 4,
 "nbformat_minor": 5
}
