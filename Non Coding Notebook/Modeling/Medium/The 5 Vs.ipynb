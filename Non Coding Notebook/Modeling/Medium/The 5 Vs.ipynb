{
 "cells": [
  {
   "cell_type": "markdown",
   "id": "5e83ecc5",
   "metadata": {},
   "source": [
    "### **Link:** https://platform.stratascratch.com/technical/2366-the-5-vs"
   ]
  },
  {
   "cell_type": "markdown",
   "id": "2ea04461",
   "metadata": {},
   "source": [
    "### **ID:** ID 2366"
   ]
  },
  {
   "cell_type": "markdown",
   "id": "bfe441b1",
   "metadata": {},
   "source": [
    "# The 5 Vs"
   ]
  },
  {
   "cell_type": "markdown",
   "id": "0bac7f64",
   "metadata": {},
   "source": [
    "### **Difficulty:** Medium"
   ]
  },
  {
   "cell_type": "markdown",
   "id": "9f828c0d",
   "metadata": {},
   "source": [
    "### **Question Type:** Modeling"
   ]
  },
  {
   "cell_type": "markdown",
   "id": "f0a12cb4",
   "metadata": {},
   "source": [
    "### **Company:** Microsoft"
   ]
  },
  {
   "cell_type": "markdown",
   "id": "214c9960",
   "metadata": {},
   "source": [
    "## **Description:**"
   ]
  },
  {
   "cell_type": "markdown",
   "id": "e919c316",
   "metadata": {},
   "source": [
    "The 5 factors to consider when building Big Data pipelines (the 5 Vs) are:"
   ]
  },
  {
   "cell_type": "markdown",
   "id": "646d3230",
   "metadata": {},
   "source": [
    "## **Solution:**"
   ]
  },
  {
   "cell_type": "code",
   "execution_count": null,
   "id": "e3244dfd",
   "metadata": {},
   "outputs": [],
   "source": []
  }
 ],
 "metadata": {},
 "nbformat": 4,
 "nbformat_minor": 5
}
