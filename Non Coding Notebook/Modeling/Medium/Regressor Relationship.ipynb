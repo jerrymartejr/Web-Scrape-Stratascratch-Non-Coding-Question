{
 "cells": [
  {
   "cell_type": "markdown",
   "id": "3f0cb73c",
   "metadata": {},
   "source": [
    "### **Link:** https://platform.stratascratch.com/technical/2292-regressor-relationship"
   ]
  },
  {
   "cell_type": "markdown",
   "id": "83f3510a",
   "metadata": {},
   "source": [
    "### **ID:** ID 2292"
   ]
  },
  {
   "cell_type": "markdown",
   "id": "7373efe1",
   "metadata": {},
   "source": [
    "# Regressor Relationship"
   ]
  },
  {
   "cell_type": "markdown",
   "id": "91f113cd",
   "metadata": {},
   "source": [
    "### **Difficulty:** Medium"
   ]
  },
  {
   "cell_type": "markdown",
   "id": "d7cf6b4e",
   "metadata": {},
   "source": [
    "### **Question Type:** Modeling"
   ]
  },
  {
   "cell_type": "markdown",
   "id": "442c339a",
   "metadata": {},
   "source": [
    "### **Company:** Two Sigma"
   ]
  },
  {
   "cell_type": "markdown",
   "id": "b20e32f6",
   "metadata": {},
   "source": [
    "## **Description:**"
   ]
  },
  {
   "cell_type": "markdown",
   "id": "a4063d5b",
   "metadata": {},
   "source": [
    "What is the relation between regress Y on X and regress X on Y? Be prepared to derive the relation between 2 r-squared analytically."
   ]
  },
  {
   "cell_type": "markdown",
   "id": "1c366579",
   "metadata": {},
   "source": [
    "## **Solution:**"
   ]
  },
  {
   "cell_type": "code",
   "execution_count": null,
   "id": "f1dd7f95",
   "metadata": {},
   "outputs": [],
   "source": []
  }
 ],
 "metadata": {},
 "nbformat": 4,
 "nbformat_minor": 5
}
