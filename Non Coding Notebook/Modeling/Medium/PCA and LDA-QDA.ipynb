{
 "cells": [
  {
   "cell_type": "markdown",
   "id": "e7d96328",
   "metadata": {},
   "source": [
    "### **Link:** https://platform.stratascratch.com/technical/2094-pca-and-ldaqda"
   ]
  },
  {
   "cell_type": "markdown",
   "id": "cf555eeb",
   "metadata": {},
   "source": [
    "### **ID:** ID 2094"
   ]
  },
  {
   "cell_type": "markdown",
   "id": "f642ce8f",
   "metadata": {},
   "source": [
    "# PCA and LDA-QDA"
   ]
  },
  {
   "cell_type": "markdown",
   "id": "5914fe0c",
   "metadata": {},
   "source": [
    "### **Difficulty:** Medium"
   ]
  },
  {
   "cell_type": "markdown",
   "id": "44126a03",
   "metadata": {},
   "source": [
    "### **Question Type:** Modeling"
   ]
  },
  {
   "cell_type": "markdown",
   "id": "3bcceb13",
   "metadata": {},
   "source": [
    "### **Company:** IBM"
   ]
  },
  {
   "cell_type": "markdown",
   "id": "4c1df606",
   "metadata": {},
   "source": [
    "## **Description:**"
   ]
  },
  {
   "cell_type": "markdown",
   "id": "b7376eed",
   "metadata": {},
   "source": [
    "What is the relationship between PCA and LDA/QDA?"
   ]
  },
  {
   "cell_type": "markdown",
   "id": "8cf13596",
   "metadata": {},
   "source": [
    "## **Solution:**"
   ]
  },
  {
   "cell_type": "code",
   "execution_count": null,
   "id": "79619b8a",
   "metadata": {},
   "outputs": [],
   "source": []
  }
 ],
 "metadata": {},
 "nbformat": 4,
 "nbformat_minor": 5
}
