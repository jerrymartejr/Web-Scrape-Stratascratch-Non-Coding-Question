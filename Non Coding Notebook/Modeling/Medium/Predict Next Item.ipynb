{
 "cells": [
  {
   "cell_type": "markdown",
   "id": "6d060a37",
   "metadata": {},
   "source": [
    "### **Link:** https://platform.stratascratch.com/technical/2105-predict-next-item"
   ]
  },
  {
   "cell_type": "markdown",
   "id": "8e1ba566",
   "metadata": {},
   "source": [
    "### **ID:** ID 2105"
   ]
  },
  {
   "cell_type": "markdown",
   "id": "9a7078d7",
   "metadata": {},
   "source": [
    "# Predict Next Item"
   ]
  },
  {
   "cell_type": "markdown",
   "id": "6c8910d0",
   "metadata": {},
   "source": [
    "### **Difficulty:** Medium"
   ]
  },
  {
   "cell_type": "markdown",
   "id": "a6cab29c",
   "metadata": {},
   "source": [
    "### **Question Type:** Modeling"
   ]
  },
  {
   "cell_type": "markdown",
   "id": "5ec49667",
   "metadata": {},
   "source": [
    "### **Company:** Massachusetts General Hospital"
   ]
  },
  {
   "cell_type": "markdown",
   "id": "9eb1072c",
   "metadata": {},
   "source": [
    "## **Description:**"
   ]
  },
  {
   "cell_type": "markdown",
   "id": "216d481d",
   "metadata": {},
   "source": [
    "Given an existing set of purchases, how do you predict the next item to purchase of a new basket?"
   ]
  },
  {
   "cell_type": "markdown",
   "id": "37b47658",
   "metadata": {},
   "source": [
    "## **Solution:**"
   ]
  },
  {
   "cell_type": "code",
   "execution_count": null,
   "id": "b8a522fa",
   "metadata": {},
   "outputs": [],
   "source": []
  }
 ],
 "metadata": {},
 "nbformat": 4,
 "nbformat_minor": 5
}
