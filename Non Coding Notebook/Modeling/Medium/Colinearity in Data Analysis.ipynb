{
 "cells": [
  {
   "cell_type": "markdown",
   "id": "bc7010ef",
   "metadata": {},
   "source": [
    "### **Link:** https://platform.stratascratch.com/technical/2140-colinearity-in-data-analysis"
   ]
  },
  {
   "cell_type": "markdown",
   "id": "6df52f47",
   "metadata": {},
   "source": [
    "### **ID:** ID 2140"
   ]
  },
  {
   "cell_type": "markdown",
   "id": "4b1cfd7a",
   "metadata": {},
   "source": [
    "# Colinearity in Data Analysis"
   ]
  },
  {
   "cell_type": "markdown",
   "id": "e9339c36",
   "metadata": {},
   "source": [
    "### **Difficulty:** Medium"
   ]
  },
  {
   "cell_type": "markdown",
   "id": "dc560326",
   "metadata": {},
   "source": [
    "### **Question Type:** Modeling"
   ]
  },
  {
   "cell_type": "markdown",
   "id": "919a2382",
   "metadata": {},
   "source": [
    "### **Company:** Amazon, Etsy, Groupon"
   ]
  },
  {
   "cell_type": "markdown",
   "id": "fc095413",
   "metadata": {},
   "source": [
    "## **Description:**"
   ]
  },
  {
   "cell_type": "markdown",
   "id": "80bf5786",
   "metadata": {},
   "source": [
    "How to treat colinearity in data analysis?"
   ]
  },
  {
   "cell_type": "markdown",
   "id": "dd0e9de7",
   "metadata": {},
   "source": [
    "## **Solution:**"
   ]
  },
  {
   "cell_type": "code",
   "execution_count": null,
   "id": "20347640",
   "metadata": {},
   "outputs": [],
   "source": []
  }
 ],
 "metadata": {},
 "nbformat": 4,
 "nbformat_minor": 5
}
