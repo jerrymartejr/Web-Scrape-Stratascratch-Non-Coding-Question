{
 "cells": [
  {
   "cell_type": "markdown",
   "id": "36bd33c4",
   "metadata": {},
   "source": [
    "### **Link:** https://platform.stratascratch.com/technical/2052-random-forest"
   ]
  },
  {
   "cell_type": "markdown",
   "id": "2a53449f",
   "metadata": {},
   "source": [
    "### **ID:** ID 2052"
   ]
  },
  {
   "cell_type": "markdown",
   "id": "ef6cf92a",
   "metadata": {},
   "source": [
    "# Random Forest"
   ]
  },
  {
   "cell_type": "markdown",
   "id": "26fcdb63",
   "metadata": {},
   "source": [
    "### **Difficulty:** Medium"
   ]
  },
  {
   "cell_type": "markdown",
   "id": "61e4c541",
   "metadata": {},
   "source": [
    "### **Question Type:** Modeling"
   ]
  },
  {
   "cell_type": "markdown",
   "id": "593c94b6",
   "metadata": {},
   "source": [
    "### **Company:** Instacart, DoorDash"
   ]
  },
  {
   "cell_type": "markdown",
   "id": "f1c59920",
   "metadata": {},
   "source": [
    "## **Description:**"
   ]
  },
  {
   "cell_type": "markdown",
   "id": "4b462f0b",
   "metadata": {},
   "source": [
    "How would you tune a random forest?"
   ]
  },
  {
   "cell_type": "markdown",
   "id": "269e7891",
   "metadata": {},
   "source": [
    "## **Solution:**"
   ]
  },
  {
   "cell_type": "code",
   "execution_count": null,
   "id": "dae7ea31",
   "metadata": {},
   "outputs": [],
   "source": []
  }
 ],
 "metadata": {},
 "nbformat": 4,
 "nbformat_minor": 5
}
