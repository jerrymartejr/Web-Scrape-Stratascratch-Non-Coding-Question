{
 "cells": [
  {
   "cell_type": "markdown",
   "id": "7aa02708",
   "metadata": {},
   "source": [
    "### **Link:** https://platform.stratascratch.com/technical/2071-model-parameters"
   ]
  },
  {
   "cell_type": "markdown",
   "id": "f37b99d1",
   "metadata": {},
   "source": [
    "### **ID:** ID 2071"
   ]
  },
  {
   "cell_type": "markdown",
   "id": "df7b525d",
   "metadata": {},
   "source": [
    "# Model Parameters"
   ]
  },
  {
   "cell_type": "markdown",
   "id": "8a868abc",
   "metadata": {},
   "source": [
    "### **Difficulty:** Medium"
   ]
  },
  {
   "cell_type": "markdown",
   "id": "e90eb9e7",
   "metadata": {},
   "source": [
    "### **Question Type:** Modeling"
   ]
  },
  {
   "cell_type": "markdown",
   "id": "c846fbc4",
   "metadata": {},
   "source": [
    "### **Company:** Burtch Works, LinkedIn"
   ]
  },
  {
   "cell_type": "markdown",
   "id": "dd6b1635",
   "metadata": {},
   "source": [
    "## **Description:**"
   ]
  },
  {
   "cell_type": "markdown",
   "id": "d64b8199",
   "metadata": {},
   "source": [
    "How do you optimize model parameters during model building?"
   ]
  },
  {
   "cell_type": "markdown",
   "id": "0aae98c0",
   "metadata": {},
   "source": [
    "## **Solution:**"
   ]
  },
  {
   "cell_type": "code",
   "execution_count": null,
   "id": "cb9ddbc0",
   "metadata": {},
   "outputs": [],
   "source": []
  }
 ],
 "metadata": {},
 "nbformat": 4,
 "nbformat_minor": 5
}
