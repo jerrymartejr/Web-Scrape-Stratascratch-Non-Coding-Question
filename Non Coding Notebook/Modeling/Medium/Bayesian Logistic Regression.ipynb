{
 "cells": [
  {
   "cell_type": "markdown",
   "id": "b7313f7a",
   "metadata": {},
   "source": [
    "### **Link:** https://platform.stratascratch.com/technical/2103-bayesian-logistic-regression"
   ]
  },
  {
   "cell_type": "markdown",
   "id": "c9ad4ca8",
   "metadata": {},
   "source": [
    "### **ID:** ID 2103"
   ]
  },
  {
   "cell_type": "markdown",
   "id": "b2abdd58",
   "metadata": {},
   "source": [
    "# Bayesian Logistic Regression"
   ]
  },
  {
   "cell_type": "markdown",
   "id": "715e63ff",
   "metadata": {},
   "source": [
    "### **Difficulty:** Medium"
   ]
  },
  {
   "cell_type": "markdown",
   "id": "aed773b2",
   "metadata": {},
   "source": [
    "### **Question Type:** Modeling"
   ]
  },
  {
   "cell_type": "markdown",
   "id": "181b2ea1",
   "metadata": {},
   "source": [
    "### **Company:** Etsy, Groupon, Paperless Post"
   ]
  },
  {
   "cell_type": "markdown",
   "id": "4e0591d0",
   "metadata": {},
   "source": [
    "## **Description:**"
   ]
  },
  {
   "cell_type": "markdown",
   "id": "5da393a7",
   "metadata": {},
   "source": [
    "What is Bayesian Logistic Regression?"
   ]
  },
  {
   "cell_type": "markdown",
   "id": "69040fe0",
   "metadata": {},
   "source": [
    "## **Solution:**"
   ]
  },
  {
   "cell_type": "code",
   "execution_count": null,
   "id": "bfcf15df",
   "metadata": {},
   "outputs": [],
   "source": []
  }
 ],
 "metadata": {},
 "nbformat": 4,
 "nbformat_minor": 5
}
