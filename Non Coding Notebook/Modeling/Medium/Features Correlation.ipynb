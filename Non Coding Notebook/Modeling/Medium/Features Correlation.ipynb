{
 "cells": [
  {
   "cell_type": "markdown",
   "id": "cd98acb9",
   "metadata": {},
   "source": [
    "### **Link:** https://platform.stratascratch.com/technical/2293-features-correlation"
   ]
  },
  {
   "cell_type": "markdown",
   "id": "49f3f34f",
   "metadata": {},
   "source": [
    "### **ID:** ID 2293"
   ]
  },
  {
   "cell_type": "markdown",
   "id": "7372c776",
   "metadata": {},
   "source": [
    "# Features Correlation"
   ]
  },
  {
   "cell_type": "markdown",
   "id": "a6135eca",
   "metadata": {},
   "source": [
    "### **Difficulty:** Medium"
   ]
  },
  {
   "cell_type": "markdown",
   "id": "92ed0391",
   "metadata": {},
   "source": [
    "### **Question Type:** Modeling"
   ]
  },
  {
   "cell_type": "markdown",
   "id": "72c69517",
   "metadata": {},
   "source": [
    "### **Company:** DemystData, Orbital Insight, Two Sigma"
   ]
  },
  {
   "cell_type": "markdown",
   "id": "cda053bc",
   "metadata": {},
   "source": [
    "## **Description:**"
   ]
  },
  {
   "cell_type": "markdown",
   "id": "f9ca4a65",
   "metadata": {},
   "source": [
    "What happen if two features correlates in a linear regression?"
   ]
  },
  {
   "cell_type": "markdown",
   "id": "283c1741",
   "metadata": {},
   "source": [
    "## **Solution:**"
   ]
  },
  {
   "cell_type": "code",
   "execution_count": null,
   "id": "e73c7d6b",
   "metadata": {},
   "outputs": [],
   "source": []
  }
 ],
 "metadata": {},
 "nbformat": 4,
 "nbformat_minor": 5
}
