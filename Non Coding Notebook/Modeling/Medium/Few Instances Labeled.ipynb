{
 "cells": [
  {
   "cell_type": "markdown",
   "id": "2bccb7fe",
   "metadata": {},
   "source": [
    "### **Link:** https://platform.stratascratch.com/technical/2338-few-instances-labeled"
   ]
  },
  {
   "cell_type": "markdown",
   "id": "ca8f3c5e",
   "metadata": {},
   "source": [
    "### **ID:** ID 2338"
   ]
  },
  {
   "cell_type": "markdown",
   "id": "b177d054",
   "metadata": {},
   "source": [
    "# Few Instances Labeled"
   ]
  },
  {
   "cell_type": "markdown",
   "id": "81654f43",
   "metadata": {},
   "source": [
    "### **Difficulty:** Medium"
   ]
  },
  {
   "cell_type": "markdown",
   "id": "a6a0ab00",
   "metadata": {},
   "source": [
    "### **Question Type:** Modeling"
   ]
  },
  {
   "cell_type": "markdown",
   "id": "387487de",
   "metadata": {},
   "source": [
    "### **Company:** Amazon"
   ]
  },
  {
   "cell_type": "markdown",
   "id": "cdeab34c",
   "metadata": {},
   "source": [
    "## **Description:**"
   ]
  },
  {
   "cell_type": "markdown",
   "id": "c234af58",
   "metadata": {},
   "source": [
    "What techniques can be used to train a classifier using a large dataset in which only a small proportion of instances are labeled?"
   ]
  },
  {
   "cell_type": "markdown",
   "id": "f3a290ef",
   "metadata": {},
   "source": [
    "## **Solution:**"
   ]
  },
  {
   "cell_type": "code",
   "execution_count": null,
   "id": "be9336f0",
   "metadata": {},
   "outputs": [],
   "source": []
  }
 ],
 "metadata": {},
 "nbformat": 4,
 "nbformat_minor": 5
}
