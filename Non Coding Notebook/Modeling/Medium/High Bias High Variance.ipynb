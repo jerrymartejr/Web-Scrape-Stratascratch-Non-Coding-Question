{
 "cells": [
  {
   "cell_type": "markdown",
   "id": "c353b17d",
   "metadata": {},
   "source": [
    "### **Link:** https://platform.stratascratch.com/technical/2346-high-bias-high-variance"
   ]
  },
  {
   "cell_type": "markdown",
   "id": "0777261c",
   "metadata": {},
   "source": [
    "### **ID:** ID 2346"
   ]
  },
  {
   "cell_type": "markdown",
   "id": "0f65ebfb",
   "metadata": {},
   "source": [
    "# High Bias High Variance"
   ]
  },
  {
   "cell_type": "markdown",
   "id": "f825a70f",
   "metadata": {},
   "source": [
    "### **Difficulty:** Medium"
   ]
  },
  {
   "cell_type": "markdown",
   "id": "eb132b6c",
   "metadata": {},
   "source": [
    "### **Question Type:** Modeling"
   ]
  },
  {
   "cell_type": "markdown",
   "id": "c067514f",
   "metadata": {},
   "source": [
    "### **Company:** Amazon"
   ]
  },
  {
   "cell_type": "markdown",
   "id": "bc1b757c",
   "metadata": {},
   "source": [
    "## **Description:**"
   ]
  },
  {
   "cell_type": "markdown",
   "id": "a30a214d",
   "metadata": {},
   "source": [
    "Describe a specific example of a model with high bias and high variance."
   ]
  },
  {
   "cell_type": "markdown",
   "id": "a6de3513",
   "metadata": {},
   "source": [
    "## **Solution:**"
   ]
  },
  {
   "cell_type": "code",
   "execution_count": null,
   "id": "5c1c47a3",
   "metadata": {},
   "outputs": [],
   "source": []
  }
 ],
 "metadata": {},
 "nbformat": 4,
 "nbformat_minor": 5
}
