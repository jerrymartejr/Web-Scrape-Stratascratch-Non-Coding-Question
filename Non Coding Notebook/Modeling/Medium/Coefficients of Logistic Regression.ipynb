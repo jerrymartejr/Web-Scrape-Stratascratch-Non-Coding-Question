{
 "cells": [
  {
   "cell_type": "markdown",
   "id": "1faa7e74",
   "metadata": {},
   "source": [
    "### **Link:** https://platform.stratascratch.com/technical/2345-coefficients-of-logistic-regression"
   ]
  },
  {
   "cell_type": "markdown",
   "id": "2aef42f0",
   "metadata": {},
   "source": [
    "### **ID:** ID 2345"
   ]
  },
  {
   "cell_type": "markdown",
   "id": "1a269e81",
   "metadata": {},
   "source": [
    "# Coefficients of Logistic Regression"
   ]
  },
  {
   "cell_type": "markdown",
   "id": "06943e85",
   "metadata": {},
   "source": [
    "### **Difficulty:** Medium"
   ]
  },
  {
   "cell_type": "markdown",
   "id": "ead6797a",
   "metadata": {},
   "source": [
    "### **Question Type:** Modeling"
   ]
  },
  {
   "cell_type": "markdown",
   "id": "9a635e33",
   "metadata": {},
   "source": [
    "### **Company:** Amazon"
   ]
  },
  {
   "cell_type": "markdown",
   "id": "7a042b5f",
   "metadata": {},
   "source": [
    "## **Description:**"
   ]
  },
  {
   "cell_type": "markdown",
   "id": "5a786a6a",
   "metadata": {},
   "source": [
    "A group of 20 students spends between 0 and 6 hours studying for an exam. We use logistic regression to investigate if the number of hours spent studying affect the probability of the student passing the exam. The output of the logistic regression analysis is given in the table below. How would you interpret the resulting coefficients?"
   ]
  },
  {
   "cell_type": "markdown",
   "id": "ac6f46e8",
   "metadata": {},
   "source": [
    "## **Solution:**"
   ]
  },
  {
   "cell_type": "code",
   "execution_count": null,
   "id": "50d8f703",
   "metadata": {},
   "outputs": [],
   "source": []
  }
 ],
 "metadata": {},
 "nbformat": 4,
 "nbformat_minor": 5
}
