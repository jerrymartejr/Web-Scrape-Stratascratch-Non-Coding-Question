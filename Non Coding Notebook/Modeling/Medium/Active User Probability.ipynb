{
 "cells": [
  {
   "cell_type": "markdown",
   "id": "30af6fa8",
   "metadata": {},
   "source": [
    "### **Link:** https://platform.stratascratch.com/technical/2010-active-user-probability"
   ]
  },
  {
   "cell_type": "markdown",
   "id": "38a506c0",
   "metadata": {},
   "source": [
    "### **ID:** ID 2010"
   ]
  },
  {
   "cell_type": "markdown",
   "id": "f9bba9fe",
   "metadata": {},
   "source": [
    "# Active User Probability"
   ]
  },
  {
   "cell_type": "markdown",
   "id": "3704253b",
   "metadata": {},
   "source": [
    "### **Difficulty:** Medium"
   ]
  },
  {
   "cell_type": "markdown",
   "id": "8d0c34d6",
   "metadata": {},
   "source": [
    "### **Question Type:** Modeling"
   ]
  },
  {
   "cell_type": "markdown",
   "id": "0d14ad43",
   "metadata": {},
   "source": [
    "### **Company:** Meta"
   ]
  },
  {
   "cell_type": "markdown",
   "id": "10b0cf21",
   "metadata": {},
   "source": [
    "## **Description:**"
   ]
  },
  {
   "cell_type": "markdown",
   "id": "16d0336c",
   "metadata": {},
   "source": [
    "How would you test whether having more friends now increases the probability that a Meta/Facebook member is still an active user after 6 months?"
   ]
  },
  {
   "cell_type": "markdown",
   "id": "25d1067d",
   "metadata": {},
   "source": [
    "## **Solution:**"
   ]
  },
  {
   "cell_type": "code",
   "execution_count": null,
   "id": "fd31ce3e",
   "metadata": {},
   "outputs": [],
   "source": []
  }
 ],
 "metadata": {},
 "nbformat": 4,
 "nbformat_minor": 5
}
