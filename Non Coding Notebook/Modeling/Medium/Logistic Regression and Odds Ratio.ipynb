{
 "cells": [
  {
   "cell_type": "markdown",
   "id": "55113932",
   "metadata": {},
   "source": [
    "### **Link:** https://platform.stratascratch.com/technical/2068-logistic-regression-and-odds-ratio"
   ]
  },
  {
   "cell_type": "markdown",
   "id": "5817b70d",
   "metadata": {},
   "source": [
    "### **ID:** ID 2068"
   ]
  },
  {
   "cell_type": "markdown",
   "id": "ae54b3dd",
   "metadata": {},
   "source": [
    "# Logistic Regression and Odds Ratio"
   ]
  },
  {
   "cell_type": "markdown",
   "id": "3f98c3cf",
   "metadata": {},
   "source": [
    "### **Difficulty:** Medium"
   ]
  },
  {
   "cell_type": "markdown",
   "id": "01842e64",
   "metadata": {},
   "source": [
    "### **Question Type:** Modeling"
   ]
  },
  {
   "cell_type": "markdown",
   "id": "b490ca78",
   "metadata": {},
   "source": [
    "### **Company:** Microsoft, IBM"
   ]
  },
  {
   "cell_type": "markdown",
   "id": "f5a74ca4",
   "metadata": {},
   "source": [
    "## **Description:**"
   ]
  },
  {
   "cell_type": "markdown",
   "id": "1fc227bc",
   "metadata": {},
   "source": [
    "What are the relationships between the coefficient in the logistic regression and the odds ratio?"
   ]
  },
  {
   "cell_type": "markdown",
   "id": "412c4cfe",
   "metadata": {},
   "source": [
    "## **Solution:**"
   ]
  },
  {
   "cell_type": "code",
   "execution_count": null,
   "id": "01d9c366",
   "metadata": {},
   "outputs": [],
   "source": []
  }
 ],
 "metadata": {},
 "nbformat": 4,
 "nbformat_minor": 5
}
