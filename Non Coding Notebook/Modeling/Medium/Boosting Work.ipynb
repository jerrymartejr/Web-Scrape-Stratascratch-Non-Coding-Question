{
 "cells": [
  {
   "cell_type": "markdown",
   "id": "3907c8a1",
   "metadata": {},
   "source": [
    "### **Link:** https://platform.stratascratch.com/technical/2256-boosting-work"
   ]
  },
  {
   "cell_type": "markdown",
   "id": "95a3a88b",
   "metadata": {},
   "source": [
    "### **ID:** ID 2256"
   ]
  },
  {
   "cell_type": "markdown",
   "id": "22348464",
   "metadata": {},
   "source": [
    "# Boosting Work"
   ]
  },
  {
   "cell_type": "markdown",
   "id": "4c9506b2",
   "metadata": {},
   "source": [
    "### **Difficulty:** Medium"
   ]
  },
  {
   "cell_type": "markdown",
   "id": "c9737588",
   "metadata": {},
   "source": [
    "### **Question Type:** Modeling"
   ]
  },
  {
   "cell_type": "markdown",
   "id": "40e224fe",
   "metadata": {},
   "source": [
    "### **Company:** Intuit"
   ]
  },
  {
   "cell_type": "markdown",
   "id": "8c948b7c",
   "metadata": {},
   "source": [
    "## **Description:**"
   ]
  },
  {
   "cell_type": "markdown",
   "id": "b6c738d0",
   "metadata": {},
   "source": [
    "How does boosting work?"
   ]
  },
  {
   "cell_type": "markdown",
   "id": "30284acd",
   "metadata": {},
   "source": [
    "## **Solution:**"
   ]
  },
  {
   "cell_type": "code",
   "execution_count": null,
   "id": "159bd316",
   "metadata": {},
   "outputs": [],
   "source": []
  }
 ],
 "metadata": {},
 "nbformat": 4,
 "nbformat_minor": 5
}
