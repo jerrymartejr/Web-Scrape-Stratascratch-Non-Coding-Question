{
 "cells": [
  {
   "cell_type": "markdown",
   "id": "652d7019",
   "metadata": {},
   "source": [
    "### **Link:** https://platform.stratascratch.com/technical/2212-neural-network-and-logistic-regression"
   ]
  },
  {
   "cell_type": "markdown",
   "id": "6faf65b0",
   "metadata": {},
   "source": [
    "### **ID:** ID 2212"
   ]
  },
  {
   "cell_type": "markdown",
   "id": "196a4f83",
   "metadata": {},
   "source": [
    "# Neural Network and Logistic Regression"
   ]
  },
  {
   "cell_type": "markdown",
   "id": "696e2a6a",
   "metadata": {},
   "source": [
    "### **Difficulty:** Medium"
   ]
  },
  {
   "cell_type": "markdown",
   "id": "e78a2021",
   "metadata": {},
   "source": [
    "### **Question Type:** Modeling"
   ]
  },
  {
   "cell_type": "markdown",
   "id": "c4513293",
   "metadata": {},
   "source": [
    "### **Company:** Amazon"
   ]
  },
  {
   "cell_type": "markdown",
   "id": "d9f2f121",
   "metadata": {},
   "source": [
    "## **Description:**"
   ]
  },
  {
   "cell_type": "markdown",
   "id": "d93a49da",
   "metadata": {},
   "source": [
    "How does a neural network with one layer and one input and output compare to logistic regression?"
   ]
  },
  {
   "cell_type": "markdown",
   "id": "de724b8e",
   "metadata": {},
   "source": [
    "## **Solution:**"
   ]
  },
  {
   "cell_type": "code",
   "execution_count": null,
   "id": "84a7d76c",
   "metadata": {},
   "outputs": [],
   "source": []
  }
 ],
 "metadata": {},
 "nbformat": 4,
 "nbformat_minor": 5
}
