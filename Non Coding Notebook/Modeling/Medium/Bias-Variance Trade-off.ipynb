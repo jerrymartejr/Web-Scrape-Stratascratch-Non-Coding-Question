{
 "cells": [
  {
   "cell_type": "markdown",
   "id": "bd65e45f",
   "metadata": {},
   "source": [
    "### **Link:** https://platform.stratascratch.com/technical/2124-bias-variance-trade-off"
   ]
  },
  {
   "cell_type": "markdown",
   "id": "a2e6a92f",
   "metadata": {},
   "source": [
    "### **ID:** ID 2124"
   ]
  },
  {
   "cell_type": "markdown",
   "id": "99fcd972",
   "metadata": {},
   "source": [
    "# Bias-Variance Trade-off"
   ]
  },
  {
   "cell_type": "markdown",
   "id": "b30e88f8",
   "metadata": {},
   "source": [
    "### **Difficulty:** Medium"
   ]
  },
  {
   "cell_type": "markdown",
   "id": "2960dc80",
   "metadata": {},
   "source": [
    "### **Question Type:** Modeling"
   ]
  },
  {
   "cell_type": "markdown",
   "id": "93903251",
   "metadata": {},
   "source": [
    "### **Company:** General Assembly"
   ]
  },
  {
   "cell_type": "markdown",
   "id": "8b639a77",
   "metadata": {},
   "source": [
    "## **Description:**"
   ]
  },
  {
   "cell_type": "markdown",
   "id": "66c85b47",
   "metadata": {},
   "source": [
    "With regard to machine learning models, why should I care the about bias-variance trade-off?"
   ]
  },
  {
   "cell_type": "markdown",
   "id": "0fe447ff",
   "metadata": {},
   "source": [
    "## **Solution:**"
   ]
  },
  {
   "cell_type": "code",
   "execution_count": null,
   "id": "5f01c384",
   "metadata": {},
   "outputs": [],
   "source": []
  }
 ],
 "metadata": {},
 "nbformat": 4,
 "nbformat_minor": 5
}
