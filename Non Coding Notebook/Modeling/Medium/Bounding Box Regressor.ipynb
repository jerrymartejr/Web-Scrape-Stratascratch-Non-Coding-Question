{
 "cells": [
  {
   "cell_type": "markdown",
   "id": "3eeeaabf",
   "metadata": {},
   "source": [
    "### **Link:** https://platform.stratascratch.com/technical/2376-bounding-box-regressor"
   ]
  },
  {
   "cell_type": "markdown",
   "id": "a7346025",
   "metadata": {},
   "source": [
    "### **ID:** ID 2376"
   ]
  },
  {
   "cell_type": "markdown",
   "id": "55b9378a",
   "metadata": {},
   "source": [
    "# Bounding Box Regressor"
   ]
  },
  {
   "cell_type": "markdown",
   "id": "c050abff",
   "metadata": {},
   "source": [
    "### **Difficulty:** Medium"
   ]
  },
  {
   "cell_type": "markdown",
   "id": "66e83e68",
   "metadata": {},
   "source": [
    "### **Question Type:** Modeling"
   ]
  },
  {
   "cell_type": "markdown",
   "id": "f72945c3",
   "metadata": {},
   "source": [
    "### **Company:** Apple, IBM, Dell"
   ]
  },
  {
   "cell_type": "markdown",
   "id": "dcbfbdd0",
   "metadata": {},
   "source": [
    "## **Description:**"
   ]
  },
  {
   "cell_type": "markdown",
   "id": "ac60f6ea",
   "metadata": {},
   "source": [
    "Explain the working of the bounding box regressor in object detection."
   ]
  },
  {
   "cell_type": "markdown",
   "id": "daa96fa5",
   "metadata": {},
   "source": [
    "## **Solution:**"
   ]
  },
  {
   "cell_type": "code",
   "execution_count": null,
   "id": "d69edacf",
   "metadata": {},
   "outputs": [],
   "source": []
  }
 ],
 "metadata": {},
 "nbformat": 4,
 "nbformat_minor": 5
}
