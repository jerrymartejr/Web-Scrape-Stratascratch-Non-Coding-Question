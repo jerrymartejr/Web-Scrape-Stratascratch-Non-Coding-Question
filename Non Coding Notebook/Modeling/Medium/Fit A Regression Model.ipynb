{
 "cells": [
  {
   "cell_type": "markdown",
   "id": "9b6faf09",
   "metadata": {},
   "source": [
    "### **Link:** https://platform.stratascratch.com/technical/2290-fit-a-regression-model"
   ]
  },
  {
   "cell_type": "markdown",
   "id": "0a452cb7",
   "metadata": {},
   "source": [
    "### **ID:** ID 2290"
   ]
  },
  {
   "cell_type": "markdown",
   "id": "5f43807e",
   "metadata": {},
   "source": [
    "# Fit A Regression Model"
   ]
  },
  {
   "cell_type": "markdown",
   "id": "6ea656b8",
   "metadata": {},
   "source": [
    "### **Difficulty:** Medium"
   ]
  },
  {
   "cell_type": "markdown",
   "id": "cdb2d13a",
   "metadata": {},
   "source": [
    "### **Question Type:** Modeling"
   ]
  },
  {
   "cell_type": "markdown",
   "id": "816d76f8",
   "metadata": {},
   "source": [
    "### **Company:** Two Sigma"
   ]
  },
  {
   "cell_type": "markdown",
   "id": "a83adc3c",
   "metadata": {},
   "source": [
    "## **Description:**"
   ]
  },
  {
   "cell_type": "markdown",
   "id": "48d0bf64",
   "metadata": {},
   "source": [
    "You have an old dataset that you fit a linear regression model to. You have the coefficients but not the dataset anymore. How do you fit a linear regression model to a new dataset?"
   ]
  },
  {
   "cell_type": "markdown",
   "id": "d350e4c4",
   "metadata": {},
   "source": [
    "## **Solution:**"
   ]
  },
  {
   "cell_type": "code",
   "execution_count": null,
   "id": "0cba816e",
   "metadata": {},
   "outputs": [],
   "source": []
  }
 ],
 "metadata": {},
 "nbformat": 4,
 "nbformat_minor": 5
}
