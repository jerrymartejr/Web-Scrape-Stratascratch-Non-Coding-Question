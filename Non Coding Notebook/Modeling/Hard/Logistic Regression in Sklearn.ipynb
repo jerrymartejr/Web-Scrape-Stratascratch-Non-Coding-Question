{
 "cells": [
  {
   "cell_type": "markdown",
   "id": "9faac60d",
   "metadata": {},
   "source": [
    "### **Link:** https://platform.stratascratch.com/technical/2401-logistic-regression-in-sklearn"
   ]
  },
  {
   "cell_type": "markdown",
   "id": "45ce7155",
   "metadata": {},
   "source": [
    "### **ID:** ID 2401"
   ]
  },
  {
   "cell_type": "markdown",
   "id": "5d383a3a",
   "metadata": {},
   "source": [
    "# Logistic Regression in Sklearn"
   ]
  },
  {
   "cell_type": "markdown",
   "id": "376a003e",
   "metadata": {},
   "source": [
    "### **Difficulty:** Hard"
   ]
  },
  {
   "cell_type": "markdown",
   "id": "dbbb3c38",
   "metadata": {},
   "source": [
    "### **Question Type:** Modeling"
   ]
  },
  {
   "cell_type": "markdown",
   "id": "9bfaec0f",
   "metadata": {},
   "source": [
    "### **Company:** State Farm, Allstate"
   ]
  },
  {
   "cell_type": "markdown",
   "id": "24a916c6",
   "metadata": {},
   "source": [
    "## **Description:**"
   ]
  },
  {
   "cell_type": "markdown",
   "id": "b5392607",
   "metadata": {},
   "source": [
    "What is the default regularization in logistic regression in Sklearn?"
   ]
  },
  {
   "cell_type": "markdown",
   "id": "022e9524",
   "metadata": {},
   "source": [
    "## **Solution:**"
   ]
  },
  {
   "cell_type": "code",
   "execution_count": null,
   "id": "9e87efec",
   "metadata": {},
   "outputs": [],
   "source": []
  }
 ],
 "metadata": {},
 "nbformat": 4,
 "nbformat_minor": 5
}
