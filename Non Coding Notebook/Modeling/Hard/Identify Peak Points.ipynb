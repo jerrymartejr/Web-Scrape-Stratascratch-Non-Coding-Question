{
 "cells": [
  {
   "cell_type": "markdown",
   "id": "5c72a3bb",
   "metadata": {},
   "source": [
    "### **Link:** https://platform.stratascratch.com/technical/2390-identify-peak-points"
   ]
  },
  {
   "cell_type": "markdown",
   "id": "1ed3b6ba",
   "metadata": {},
   "source": [
    "### **ID:** ID 2390"
   ]
  },
  {
   "cell_type": "markdown",
   "id": "8fc3cac8",
   "metadata": {},
   "source": [
    "# Identify Peak Points"
   ]
  },
  {
   "cell_type": "markdown",
   "id": "b2a62a0f",
   "metadata": {},
   "source": [
    "### **Difficulty:** Hard"
   ]
  },
  {
   "cell_type": "markdown",
   "id": "c5d65bbb",
   "metadata": {},
   "source": [
    "### **Question Type:** Modeling"
   ]
  },
  {
   "cell_type": "markdown",
   "id": "6e7f1f28",
   "metadata": {},
   "source": [
    "### **Company:** Square, Visa"
   ]
  },
  {
   "cell_type": "markdown",
   "id": "e96a49ef",
   "metadata": {},
   "source": [
    "## **Description:**"
   ]
  },
  {
   "cell_type": "markdown",
   "id": "10d997b8",
   "metadata": {},
   "source": [
    "Imagine a time series chart with a lot of ups and downs. How would you identify the peak points?"
   ]
  },
  {
   "cell_type": "markdown",
   "id": "d4777428",
   "metadata": {},
   "source": [
    "## **Solution:**"
   ]
  },
  {
   "cell_type": "code",
   "execution_count": null,
   "id": "58abdb13",
   "metadata": {},
   "outputs": [],
   "source": []
  }
 ],
 "metadata": {},
 "nbformat": 4,
 "nbformat_minor": 5
}
