{
 "cells": [
  {
   "cell_type": "markdown",
   "id": "741118bf",
   "metadata": {},
   "source": [
    "### **Link:** https://platform.stratascratch.com/technical/2402-covariate-imbalance"
   ]
  },
  {
   "cell_type": "markdown",
   "id": "edd6ddd6",
   "metadata": {},
   "source": [
    "### **ID:** ID 2402"
   ]
  },
  {
   "cell_type": "markdown",
   "id": "bec163cd",
   "metadata": {},
   "source": [
    "# Covariate Imbalance"
   ]
  },
  {
   "cell_type": "markdown",
   "id": "079488af",
   "metadata": {},
   "source": [
    "### **Difficulty:** Hard"
   ]
  },
  {
   "cell_type": "markdown",
   "id": "0ddd096a",
   "metadata": {},
   "source": [
    "### **Question Type:** Modeling"
   ]
  },
  {
   "cell_type": "markdown",
   "id": "e1567be6",
   "metadata": {},
   "source": [
    "### **Company:** Robinhood, Coinbase"
   ]
  },
  {
   "cell_type": "markdown",
   "id": "62645dce",
   "metadata": {},
   "source": [
    "## **Description:**"
   ]
  },
  {
   "cell_type": "markdown",
   "id": "d1037107",
   "metadata": {},
   "source": [
    "How to deal with covariate imbalance?"
   ]
  },
  {
   "cell_type": "markdown",
   "id": "5dd375de",
   "metadata": {},
   "source": [
    "## **Solution:**"
   ]
  },
  {
   "cell_type": "code",
   "execution_count": null,
   "id": "d0fd8dc8",
   "metadata": {},
   "outputs": [],
   "source": []
  }
 ],
 "metadata": {},
 "nbformat": 4,
 "nbformat_minor": 5
}
