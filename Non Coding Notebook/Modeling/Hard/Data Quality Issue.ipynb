{
 "cells": [
  {
   "cell_type": "markdown",
   "id": "5fd42de2",
   "metadata": {},
   "source": [
    "### **Link:** https://platform.stratascratch.com/technical/2309-data-quality-issue"
   ]
  },
  {
   "cell_type": "markdown",
   "id": "5da0c837",
   "metadata": {},
   "source": [
    "### **ID:** ID 2309"
   ]
  },
  {
   "cell_type": "markdown",
   "id": "bc6c2987",
   "metadata": {},
   "source": [
    "# Data Quality Issue"
   ]
  },
  {
   "cell_type": "markdown",
   "id": "c6de5317",
   "metadata": {},
   "source": [
    "### **Difficulty:** Hard"
   ]
  },
  {
   "cell_type": "markdown",
   "id": "e12ed2f5",
   "metadata": {},
   "source": [
    "### **Question Type:** Modeling"
   ]
  },
  {
   "cell_type": "markdown",
   "id": "b8b79b00",
   "metadata": {},
   "source": [
    "### **Company:** Robinhood, Coinbase"
   ]
  },
  {
   "cell_type": "markdown",
   "id": "31a542ae",
   "metadata": {},
   "source": [
    "## **Description:**"
   ]
  },
  {
   "cell_type": "markdown",
   "id": "7f902e4f",
   "metadata": {},
   "source": [
    "Assume you have a logistic model that is heavily weighted on one variable and that one variable has a dataset like 50.00, 100.00, 40.00, etc. Next, assume that there was a data quality issue with that variable and an unknown number of values removed the decimal point (e.g. 100.00 turned into 10000). Would the model be valued? Why or why not? How would you fix the model?"
   ]
  },
  {
   "cell_type": "markdown",
   "id": "e298e05d",
   "metadata": {},
   "source": [
    "## **Solution:**"
   ]
  },
  {
   "cell_type": "code",
   "execution_count": null,
   "id": "859b8227",
   "metadata": {},
   "outputs": [],
   "source": []
  }
 ],
 "metadata": {},
 "nbformat": 4,
 "nbformat_minor": 5
}
