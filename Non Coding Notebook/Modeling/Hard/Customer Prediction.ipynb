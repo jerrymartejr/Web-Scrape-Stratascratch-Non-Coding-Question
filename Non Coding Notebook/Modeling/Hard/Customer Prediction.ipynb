{
 "cells": [
  {
   "cell_type": "markdown",
   "id": "f5590f77",
   "metadata": {},
   "source": [
    "### **Link:** https://platform.stratascratch.com/technical/2197-customer-prediction"
   ]
  },
  {
   "cell_type": "markdown",
   "id": "41fd35e7",
   "metadata": {},
   "source": [
    "### **ID:** ID 2197"
   ]
  },
  {
   "cell_type": "markdown",
   "id": "72ed764d",
   "metadata": {},
   "source": [
    "# Customer Prediction"
   ]
  },
  {
   "cell_type": "markdown",
   "id": "1dfae505",
   "metadata": {},
   "source": [
    "### **Difficulty:** Hard"
   ]
  },
  {
   "cell_type": "markdown",
   "id": "e00502b2",
   "metadata": {},
   "source": [
    "### **Question Type:** Modeling"
   ]
  },
  {
   "cell_type": "markdown",
   "id": "3aa84789",
   "metadata": {},
   "source": [
    "### **Company:** Amazon, Ebay"
   ]
  },
  {
   "cell_type": "markdown",
   "id": "66f7d258",
   "metadata": {},
   "source": [
    "## **Description:**"
   ]
  },
  {
   "cell_type": "markdown",
   "id": "14334d09",
   "metadata": {},
   "source": [
    "If you have a customer and you know:"
   ]
  },
  {
   "cell_type": "markdown",
   "id": "c7461593",
   "metadata": {},
   "source": [
    "## **Solution:**"
   ]
  },
  {
   "cell_type": "code",
   "execution_count": null,
   "id": "ba4f3930",
   "metadata": {},
   "outputs": [],
   "source": []
  }
 ],
 "metadata": {},
 "nbformat": 4,
 "nbformat_minor": 5
}
