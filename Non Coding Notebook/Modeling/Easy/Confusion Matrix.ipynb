{
 "cells": [
  {
   "cell_type": "markdown",
   "id": "3320fe16",
   "metadata": {},
   "source": [
    "### **Link:** https://platform.stratascratch.com/technical/2122-confusion-matrix"
   ]
  },
  {
   "cell_type": "markdown",
   "id": "5b9a61d2",
   "metadata": {},
   "source": [
    "### **ID:** ID 2122"
   ]
  },
  {
   "cell_type": "markdown",
   "id": "79e1aaac",
   "metadata": {},
   "source": [
    "# Confusion Matrix"
   ]
  },
  {
   "cell_type": "markdown",
   "id": "742eae4e",
   "metadata": {},
   "source": [
    "### **Difficulty:** Easy"
   ]
  },
  {
   "cell_type": "markdown",
   "id": "0515b340",
   "metadata": {},
   "source": [
    "### **Question Type:** Modeling"
   ]
  },
  {
   "cell_type": "markdown",
   "id": "35baf955",
   "metadata": {},
   "source": [
    "### **Company:** General Assembly"
   ]
  },
  {
   "cell_type": "markdown",
   "id": "cab3e6f4",
   "metadata": {},
   "source": [
    "## **Description:**"
   ]
  },
  {
   "cell_type": "markdown",
   "id": "ac8da0ae",
   "metadata": {},
   "source": [
    "Why is a confusion matrix useful for evaluating the performance of a classifier?"
   ]
  },
  {
   "cell_type": "markdown",
   "id": "f88200ce",
   "metadata": {},
   "source": [
    "## **Solution:**"
   ]
  },
  {
   "cell_type": "code",
   "execution_count": null,
   "id": "a1afe9ef",
   "metadata": {},
   "outputs": [],
   "source": []
  }
 ],
 "metadata": {},
 "nbformat": 4,
 "nbformat_minor": 5
}
