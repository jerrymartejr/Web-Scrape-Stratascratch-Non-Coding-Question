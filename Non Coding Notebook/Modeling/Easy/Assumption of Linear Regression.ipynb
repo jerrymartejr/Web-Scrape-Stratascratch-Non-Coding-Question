{
 "cells": [
  {
   "cell_type": "markdown",
   "id": "3a399c42",
   "metadata": {},
   "source": [
    "### **Link:** https://platform.stratascratch.com/technical/2144-assumption-of-linear-regression"
   ]
  },
  {
   "cell_type": "markdown",
   "id": "2ef8f369",
   "metadata": {},
   "source": [
    "### **ID:** ID 2144"
   ]
  },
  {
   "cell_type": "markdown",
   "id": "45d7632c",
   "metadata": {},
   "source": [
    "# Assumption of Linear Regression"
   ]
  },
  {
   "cell_type": "markdown",
   "id": "22e41a16",
   "metadata": {},
   "source": [
    "### **Difficulty:** Easy"
   ]
  },
  {
   "cell_type": "markdown",
   "id": "cd9a59c1",
   "metadata": {},
   "source": [
    "### **Question Type:** Modeling"
   ]
  },
  {
   "cell_type": "markdown",
   "id": "da3d0df6",
   "metadata": {},
   "source": [
    "### **Company:** Walmart, Kohl"
   ]
  },
  {
   "cell_type": "markdown",
   "id": "b9e486a0",
   "metadata": {},
   "source": [
    "## **Description:**"
   ]
  },
  {
   "cell_type": "markdown",
   "id": "7102056d",
   "metadata": {},
   "source": [
    "What are the assumptions of a Linear Regression?"
   ]
  },
  {
   "cell_type": "markdown",
   "id": "2b865b47",
   "metadata": {},
   "source": [
    "## **Solution:**"
   ]
  },
  {
   "cell_type": "code",
   "execution_count": null,
   "id": "d07fc274",
   "metadata": {},
   "outputs": [],
   "source": []
  }
 ],
 "metadata": {},
 "nbformat": 4,
 "nbformat_minor": 5
}
