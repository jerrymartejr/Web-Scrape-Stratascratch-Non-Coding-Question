{
 "cells": [
  {
   "cell_type": "markdown",
   "id": "0655f488",
   "metadata": {},
   "source": [
    "### **Link:** https://platform.stratascratch.com/technical/2139-black-box-model"
   ]
  },
  {
   "cell_type": "markdown",
   "id": "4c440647",
   "metadata": {},
   "source": [
    "### **ID:** ID 2139"
   ]
  },
  {
   "cell_type": "markdown",
   "id": "e2e04ac2",
   "metadata": {},
   "source": [
    "# Black Box Model"
   ]
  },
  {
   "cell_type": "markdown",
   "id": "6b95e3d1",
   "metadata": {},
   "source": [
    "### **Difficulty:** Easy"
   ]
  },
  {
   "cell_type": "markdown",
   "id": "93840a3f",
   "metadata": {},
   "source": [
    "### **Question Type:** Modeling"
   ]
  },
  {
   "cell_type": "markdown",
   "id": "562900b2",
   "metadata": {},
   "source": [
    "### **Company:** Square, Affirm, OnDeck"
   ]
  },
  {
   "cell_type": "markdown",
   "id": "6b71bf9c",
   "metadata": {},
   "source": [
    "## **Description:**"
   ]
  },
  {
   "cell_type": "markdown",
   "id": "983afe83",
   "metadata": {},
   "source": [
    "How would you find out which feature(s) are important in a black box model?"
   ]
  },
  {
   "cell_type": "markdown",
   "id": "af22f833",
   "metadata": {},
   "source": [
    "## **Solution:**"
   ]
  },
  {
   "cell_type": "code",
   "execution_count": null,
   "id": "47fc753c",
   "metadata": {},
   "outputs": [],
   "source": []
  }
 ],
 "metadata": {},
 "nbformat": 4,
 "nbformat_minor": 5
}
