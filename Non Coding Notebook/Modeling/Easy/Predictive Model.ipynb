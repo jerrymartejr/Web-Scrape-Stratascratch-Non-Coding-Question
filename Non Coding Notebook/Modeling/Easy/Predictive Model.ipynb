{
 "cells": [
  {
   "cell_type": "markdown",
   "id": "eea98460",
   "metadata": {},
   "source": [
    "### **Link:** https://platform.stratascratch.com/technical/2259-predictive-model"
   ]
  },
  {
   "cell_type": "markdown",
   "id": "d1b323e7",
   "metadata": {},
   "source": [
    "### **ID:** ID 2259"
   ]
  },
  {
   "cell_type": "markdown",
   "id": "588e1e70",
   "metadata": {},
   "source": [
    "# Predictive Model"
   ]
  },
  {
   "cell_type": "markdown",
   "id": "b4cbb3f0",
   "metadata": {},
   "source": [
    "### **Difficulty:** Easy"
   ]
  },
  {
   "cell_type": "markdown",
   "id": "02b5117e",
   "metadata": {},
   "source": [
    "### **Question Type:** Modeling"
   ]
  },
  {
   "cell_type": "markdown",
   "id": "2b246376",
   "metadata": {},
   "source": [
    "### **Company:** Zillow, Redfin"
   ]
  },
  {
   "cell_type": "markdown",
   "id": "ccbce27c",
   "metadata": {},
   "source": [
    "## **Description:**"
   ]
  },
  {
   "cell_type": "markdown",
   "id": "865123e4",
   "metadata": {},
   "source": [
    "Can you describe an example of how you created a working predictive model? Be detailed."
   ]
  },
  {
   "cell_type": "markdown",
   "id": "79dec1f9",
   "metadata": {},
   "source": [
    "## **Solution:**"
   ]
  },
  {
   "cell_type": "code",
   "execution_count": null,
   "id": "219ff20e",
   "metadata": {},
   "outputs": [],
   "source": []
  }
 ],
 "metadata": {},
 "nbformat": 4,
 "nbformat_minor": 5
}
