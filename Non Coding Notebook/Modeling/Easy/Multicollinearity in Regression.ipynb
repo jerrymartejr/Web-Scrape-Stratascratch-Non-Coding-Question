{
 "cells": [
  {
   "cell_type": "markdown",
   "id": "d5ec7ed7",
   "metadata": {},
   "source": [
    "### **Link:** https://platform.stratascratch.com/technical/2146-multicollinearity-in-regression"
   ]
  },
  {
   "cell_type": "markdown",
   "id": "8dc6c2eb",
   "metadata": {},
   "source": [
    "### **ID:** ID 2146"
   ]
  },
  {
   "cell_type": "markdown",
   "id": "33fca037",
   "metadata": {},
   "source": [
    "# Multicollinearity in Regression"
   ]
  },
  {
   "cell_type": "markdown",
   "id": "4193cf31",
   "metadata": {},
   "source": [
    "### **Difficulty:** Easy"
   ]
  },
  {
   "cell_type": "markdown",
   "id": "6917fa0f",
   "metadata": {},
   "source": [
    "### **Question Type:** Modeling"
   ]
  },
  {
   "cell_type": "markdown",
   "id": "da9c24d9",
   "metadata": {},
   "source": [
    "### **Company:** Walmart, Sears"
   ]
  },
  {
   "cell_type": "markdown",
   "id": "a7a35570",
   "metadata": {},
   "source": [
    "## **Description:**"
   ]
  },
  {
   "cell_type": "markdown",
   "id": "87c58172",
   "metadata": {},
   "source": [
    "What is multi-collinearity, how do you fix it in a regression?"
   ]
  },
  {
   "cell_type": "markdown",
   "id": "a0ab37c2",
   "metadata": {},
   "source": [
    "## **Solution:**"
   ]
  },
  {
   "cell_type": "code",
   "execution_count": null,
   "id": "28780e75",
   "metadata": {},
   "outputs": [],
   "source": []
  }
 ],
 "metadata": {},
 "nbformat": 4,
 "nbformat_minor": 5
}
