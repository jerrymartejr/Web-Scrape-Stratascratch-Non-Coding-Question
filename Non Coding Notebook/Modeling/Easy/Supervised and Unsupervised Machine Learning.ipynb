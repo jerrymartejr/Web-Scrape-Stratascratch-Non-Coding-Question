{
 "cells": [
  {
   "cell_type": "markdown",
   "id": "391e1c46",
   "metadata": {},
   "source": [
    "### **Link:** https://platform.stratascratch.com/technical/2164-supervised-and-unsupervised-machine-learning"
   ]
  },
  {
   "cell_type": "markdown",
   "id": "ebc6daa5",
   "metadata": {},
   "source": [
    "### **ID:** ID 2164"
   ]
  },
  {
   "cell_type": "markdown",
   "id": "6d9a0363",
   "metadata": {},
   "source": [
    "# Supervised and Unsupervised Machine Learning"
   ]
  },
  {
   "cell_type": "markdown",
   "id": "cc67cbe5",
   "metadata": {},
   "source": [
    "### **Difficulty:** Easy"
   ]
  },
  {
   "cell_type": "markdown",
   "id": "50145c20",
   "metadata": {},
   "source": [
    "### **Question Type:** Modeling"
   ]
  },
  {
   "cell_type": "markdown",
   "id": "181bc0be",
   "metadata": {},
   "source": [
    "### **Company:** Rosetta, Duolingo"
   ]
  },
  {
   "cell_type": "markdown",
   "id": "311ae074",
   "metadata": {},
   "source": [
    "## **Description:**"
   ]
  },
  {
   "cell_type": "markdown",
   "id": "86bc0b06",
   "metadata": {},
   "source": [
    "What is the difference between supervised and unsupervised machine learning and give examples of both?"
   ]
  },
  {
   "cell_type": "markdown",
   "id": "ee604f1e",
   "metadata": {},
   "source": [
    "## **Solution:**"
   ]
  },
  {
   "cell_type": "code",
   "execution_count": null,
   "id": "26d7a31e",
   "metadata": {},
   "outputs": [],
   "source": []
  }
 ],
 "metadata": {},
 "nbformat": 4,
 "nbformat_minor": 5
}
