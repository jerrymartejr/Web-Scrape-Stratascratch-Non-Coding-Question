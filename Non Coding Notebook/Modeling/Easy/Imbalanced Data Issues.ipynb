{
 "cells": [
  {
   "cell_type": "markdown",
   "id": "e0732fa1",
   "metadata": {},
   "source": [
    "### **Link:** https://platform.stratascratch.com/technical/2151-imbalanced-data-issues"
   ]
  },
  {
   "cell_type": "markdown",
   "id": "28962d18",
   "metadata": {},
   "source": [
    "### **ID:** ID 2151"
   ]
  },
  {
   "cell_type": "markdown",
   "id": "e82c7f8c",
   "metadata": {},
   "source": [
    "# Imbalanced Data Issues"
   ]
  },
  {
   "cell_type": "markdown",
   "id": "d12f92f6",
   "metadata": {},
   "source": [
    "### **Difficulty:** Easy"
   ]
  },
  {
   "cell_type": "markdown",
   "id": "4e62cf78",
   "metadata": {},
   "source": [
    "### **Question Type:** Modeling"
   ]
  },
  {
   "cell_type": "markdown",
   "id": "792d9bcf",
   "metadata": {},
   "source": [
    "### **Company:** MAANA, Cloudera, Snap"
   ]
  },
  {
   "cell_type": "markdown",
   "id": "cae82f11",
   "metadata": {},
   "source": [
    "## **Description:**"
   ]
  },
  {
   "cell_type": "markdown",
   "id": "f16c3de5",
   "metadata": {},
   "source": [
    "How do you solve imbalanced data issues in Machine learning?"
   ]
  },
  {
   "cell_type": "markdown",
   "id": "b132b241",
   "metadata": {},
   "source": [
    "## **Solution:**"
   ]
  },
  {
   "cell_type": "code",
   "execution_count": null,
   "id": "65e870f6",
   "metadata": {},
   "outputs": [],
   "source": []
  }
 ],
 "metadata": {},
 "nbformat": 4,
 "nbformat_minor": 5
}
