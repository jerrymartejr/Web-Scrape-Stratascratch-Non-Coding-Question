{
 "cells": [
  {
   "cell_type": "markdown",
   "id": "3fdc1601",
   "metadata": {},
   "source": [
    "### **Link:** https://platform.stratascratch.com/technical/2099-pca"
   ]
  },
  {
   "cell_type": "markdown",
   "id": "3c89f867",
   "metadata": {},
   "source": [
    "### **ID:** ID 2099"
   ]
  },
  {
   "cell_type": "markdown",
   "id": "a5c48f5e",
   "metadata": {},
   "source": [
    "# PCA"
   ]
  },
  {
   "cell_type": "markdown",
   "id": "30ff828f",
   "metadata": {},
   "source": [
    "### **Difficulty:** Easy"
   ]
  },
  {
   "cell_type": "markdown",
   "id": "b2207a93",
   "metadata": {},
   "source": [
    "### **Question Type:** Modeling"
   ]
  },
  {
   "cell_type": "markdown",
   "id": "c4c603b7",
   "metadata": {},
   "source": [
    "### **Company:** EY, Deloitte"
   ]
  },
  {
   "cell_type": "markdown",
   "id": "67b20c19",
   "metadata": {},
   "source": [
    "## **Description:**"
   ]
  },
  {
   "cell_type": "markdown",
   "id": "26324e6e",
   "metadata": {},
   "source": [
    "What are the main advantages of Principal Component Analysis (PCA)?"
   ]
  },
  {
   "cell_type": "markdown",
   "id": "c5d24fe8",
   "metadata": {},
   "source": [
    "## **Solution:**"
   ]
  },
  {
   "cell_type": "code",
   "execution_count": null,
   "id": "6855f3c8",
   "metadata": {},
   "outputs": [],
   "source": []
  }
 ],
 "metadata": {},
 "nbformat": 4,
 "nbformat_minor": 5
}
