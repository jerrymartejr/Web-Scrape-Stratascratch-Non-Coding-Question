{
 "cells": [
  {
   "cell_type": "markdown",
   "id": "ae23f128",
   "metadata": {},
   "source": [
    "### **Link:** https://platform.stratascratch.com/technical/2258-in-group-errors"
   ]
  },
  {
   "cell_type": "markdown",
   "id": "c428f9ff",
   "metadata": {},
   "source": [
    "### **ID:** ID 2258"
   ]
  },
  {
   "cell_type": "markdown",
   "id": "a8ba40b6",
   "metadata": {},
   "source": [
    "# In-Group Errors"
   ]
  },
  {
   "cell_type": "markdown",
   "id": "469fa5bd",
   "metadata": {},
   "source": [
    "### **Difficulty:** Easy"
   ]
  },
  {
   "cell_type": "markdown",
   "id": "f827d6ce",
   "metadata": {},
   "source": [
    "### **Question Type:** Modeling"
   ]
  },
  {
   "cell_type": "markdown",
   "id": "59a4d3af",
   "metadata": {},
   "source": [
    "### **Company:** Walmart, Kohl"
   ]
  },
  {
   "cell_type": "markdown",
   "id": "36147c8f",
   "metadata": {},
   "source": [
    "## **Description:**"
   ]
  },
  {
   "cell_type": "markdown",
   "id": "11318a6c",
   "metadata": {},
   "source": [
    "How to divide n numbers into k clusters to minimize the sum of in-group errors?"
   ]
  },
  {
   "cell_type": "markdown",
   "id": "6d3a3106",
   "metadata": {},
   "source": [
    "## **Solution:**"
   ]
  },
  {
   "cell_type": "code",
   "execution_count": null,
   "id": "133aa0ca",
   "metadata": {},
   "outputs": [],
   "source": []
  }
 ],
 "metadata": {},
 "nbformat": 4,
 "nbformat_minor": 5
}
