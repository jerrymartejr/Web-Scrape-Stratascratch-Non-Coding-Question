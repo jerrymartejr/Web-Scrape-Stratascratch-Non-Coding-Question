{
 "cells": [
  {
   "cell_type": "markdown",
   "id": "07d43757",
   "metadata": {},
   "source": [
    "### **Link:** https://platform.stratascratch.com/technical/2247-q-q-plot"
   ]
  },
  {
   "cell_type": "markdown",
   "id": "b6e2a668",
   "metadata": {},
   "source": [
    "### **ID:** ID 2247"
   ]
  },
  {
   "cell_type": "markdown",
   "id": "6eec07ef",
   "metadata": {},
   "source": [
    "# Q-Q Plot"
   ]
  },
  {
   "cell_type": "markdown",
   "id": "562ed92b",
   "metadata": {},
   "source": [
    "### **Difficulty:** Easy"
   ]
  },
  {
   "cell_type": "markdown",
   "id": "f0969eb5",
   "metadata": {},
   "source": [
    "### **Question Type:** Modeling"
   ]
  },
  {
   "cell_type": "markdown",
   "id": "a518e3b9",
   "metadata": {},
   "source": [
    "### **Company:** Tata Consultancy"
   ]
  },
  {
   "cell_type": "markdown",
   "id": "668a09a9",
   "metadata": {},
   "source": [
    "## **Description:**"
   ]
  },
  {
   "cell_type": "markdown",
   "id": "be4bb04a",
   "metadata": {},
   "source": [
    "Have you ever used a Q-Q plot? To which end?"
   ]
  },
  {
   "cell_type": "markdown",
   "id": "a473bdb7",
   "metadata": {},
   "source": [
    "## **Solution:**"
   ]
  },
  {
   "cell_type": "code",
   "execution_count": null,
   "id": "30e7c672",
   "metadata": {},
   "outputs": [],
   "source": []
  }
 ],
 "metadata": {},
 "nbformat": 4,
 "nbformat_minor": 5
}
