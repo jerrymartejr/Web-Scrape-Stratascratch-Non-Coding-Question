{
 "cells": [
  {
   "cell_type": "markdown",
   "id": "b98c5cb1",
   "metadata": {},
   "source": [
    "### **Link:** https://platform.stratascratch.com/technical/2249-friendship-degrees"
   ]
  },
  {
   "cell_type": "markdown",
   "id": "669fd218",
   "metadata": {},
   "source": [
    "### **ID:** ID 2249"
   ]
  },
  {
   "cell_type": "markdown",
   "id": "187a94a0",
   "metadata": {},
   "source": [
    "# Friendship Degrees"
   ]
  },
  {
   "cell_type": "markdown",
   "id": "47dc3873",
   "metadata": {},
   "source": [
    "### **Difficulty:** Easy"
   ]
  },
  {
   "cell_type": "markdown",
   "id": "6f3d0f2f",
   "metadata": {},
   "source": [
    "### **Question Type:** Modeling"
   ]
  },
  {
   "cell_type": "markdown",
   "id": "e67839f8",
   "metadata": {},
   "source": [
    "### **Company:** LiveRamp"
   ]
  },
  {
   "cell_type": "markdown",
   "id": "0df8119f",
   "metadata": {},
   "source": [
    "## **Description:**"
   ]
  },
  {
   "cell_type": "markdown",
   "id": "185f49d0",
   "metadata": {},
   "source": [
    "How would you count the number of friendship degrees separating any pair of actors?"
   ]
  },
  {
   "cell_type": "markdown",
   "id": "bb8c0103",
   "metadata": {},
   "source": [
    "## **Solution:**"
   ]
  },
  {
   "cell_type": "code",
   "execution_count": null,
   "id": "52a35e75",
   "metadata": {},
   "outputs": [],
   "source": []
  }
 ],
 "metadata": {},
 "nbformat": 4,
 "nbformat_minor": 5
}
