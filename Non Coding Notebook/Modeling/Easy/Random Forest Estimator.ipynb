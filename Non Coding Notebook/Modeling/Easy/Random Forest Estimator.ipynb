{
 "cells": [
  {
   "cell_type": "markdown",
   "id": "1401fc00",
   "metadata": {},
   "source": [
    "### **Link:** https://platform.stratascratch.com/technical/2223-random-forest-estimator"
   ]
  },
  {
   "cell_type": "markdown",
   "id": "4355a9c9",
   "metadata": {},
   "source": [
    "### **ID:** ID 2223"
   ]
  },
  {
   "cell_type": "markdown",
   "id": "b68cd090",
   "metadata": {},
   "source": [
    "# Random Forest Estimator"
   ]
  },
  {
   "cell_type": "markdown",
   "id": "6ed996e1",
   "metadata": {},
   "source": [
    "### **Difficulty:** Easy"
   ]
  },
  {
   "cell_type": "markdown",
   "id": "7c233b60",
   "metadata": {},
   "source": [
    "### **Question Type:** Modeling"
   ]
  },
  {
   "cell_type": "markdown",
   "id": "7a2b2b35",
   "metadata": {},
   "source": [
    "### **Company:** Zillow, Redfin"
   ]
  },
  {
   "cell_type": "markdown",
   "id": "4345d3e7",
   "metadata": {},
   "source": [
    "## **Description:**"
   ]
  },
  {
   "cell_type": "markdown",
   "id": "b422bc61",
   "metadata": {},
   "source": [
    "Can you run me through the operation of a random forest estimator?"
   ]
  },
  {
   "cell_type": "markdown",
   "id": "294e3920",
   "metadata": {},
   "source": [
    "## **Solution:**"
   ]
  },
  {
   "cell_type": "code",
   "execution_count": null,
   "id": "41cf7c0c",
   "metadata": {},
   "outputs": [],
   "source": []
  }
 ],
 "metadata": {},
 "nbformat": 4,
 "nbformat_minor": 5
}
