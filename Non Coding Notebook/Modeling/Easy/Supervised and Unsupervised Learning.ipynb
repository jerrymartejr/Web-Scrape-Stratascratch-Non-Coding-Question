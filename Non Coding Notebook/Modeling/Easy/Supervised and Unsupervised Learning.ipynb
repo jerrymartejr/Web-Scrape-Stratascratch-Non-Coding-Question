{
 "cells": [
  {
   "cell_type": "markdown",
   "id": "a8d44d1d",
   "metadata": {},
   "source": [
    "### **Link:** https://platform.stratascratch.com/technical/2098-supervised-and-unsupervised-learning"
   ]
  },
  {
   "cell_type": "markdown",
   "id": "99e90547",
   "metadata": {},
   "source": [
    "### **ID:** ID 2098"
   ]
  },
  {
   "cell_type": "markdown",
   "id": "c32cb153",
   "metadata": {},
   "source": [
    "# Supervised and Unsupervised Learning"
   ]
  },
  {
   "cell_type": "markdown",
   "id": "6dccfcbe",
   "metadata": {},
   "source": [
    "### **Difficulty:** Easy"
   ]
  },
  {
   "cell_type": "markdown",
   "id": "26f3d96f",
   "metadata": {},
   "source": [
    "### **Question Type:** Modeling"
   ]
  },
  {
   "cell_type": "markdown",
   "id": "c496a1f0",
   "metadata": {},
   "source": [
    "### **Company:** Amadeus"
   ]
  },
  {
   "cell_type": "markdown",
   "id": "5e9d8939",
   "metadata": {},
   "source": [
    "## **Description:**"
   ]
  },
  {
   "cell_type": "markdown",
   "id": "958054db",
   "metadata": {},
   "source": [
    "What is the difference between supervised and unsupervised learning?"
   ]
  },
  {
   "cell_type": "markdown",
   "id": "5545c44e",
   "metadata": {},
   "source": [
    "## **Solution:**"
   ]
  },
  {
   "cell_type": "code",
   "execution_count": null,
   "id": "95070e4f",
   "metadata": {},
   "outputs": [],
   "source": []
  }
 ],
 "metadata": {},
 "nbformat": 4,
 "nbformat_minor": 5
}
