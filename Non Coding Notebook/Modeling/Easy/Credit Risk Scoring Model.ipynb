{
 "cells": [
  {
   "cell_type": "markdown",
   "id": "d2c2c770",
   "metadata": {},
   "source": [
    "### **Link:** https://platform.stratascratch.com/technical/2053-credit-risk-scoring-model"
   ]
  },
  {
   "cell_type": "markdown",
   "id": "66d78069",
   "metadata": {},
   "source": [
    "### **ID:** ID 2053"
   ]
  },
  {
   "cell_type": "markdown",
   "id": "36577471",
   "metadata": {},
   "source": [
    "# Credit Risk Scoring Model"
   ]
  },
  {
   "cell_type": "markdown",
   "id": "2fd47a5e",
   "metadata": {},
   "source": [
    "### **Difficulty:** Easy"
   ]
  },
  {
   "cell_type": "markdown",
   "id": "7d633998",
   "metadata": {},
   "source": [
    "### **Question Type:** Modeling"
   ]
  },
  {
   "cell_type": "markdown",
   "id": "cb3a9b66",
   "metadata": {},
   "source": [
    "### **Company:** Stripe, Square"
   ]
  },
  {
   "cell_type": "markdown",
   "id": "6d6db7e1",
   "metadata": {},
   "source": [
    "## **Description:**"
   ]
  },
  {
   "cell_type": "markdown",
   "id": "b44f803a",
   "metadata": {},
   "source": [
    "How do you test whether a new credit risk scoring model works? What data would you look at?"
   ]
  },
  {
   "cell_type": "markdown",
   "id": "8988ce6e",
   "metadata": {},
   "source": [
    "## **Solution:**"
   ]
  },
  {
   "cell_type": "code",
   "execution_count": null,
   "id": "ec11bad5",
   "metadata": {},
   "outputs": [],
   "source": []
  }
 ],
 "metadata": {},
 "nbformat": 4,
 "nbformat_minor": 5
}
