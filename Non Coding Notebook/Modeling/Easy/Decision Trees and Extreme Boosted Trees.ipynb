{
 "cells": [
  {
   "cell_type": "markdown",
   "id": "81044052",
   "metadata": {},
   "source": [
    "### **Link:** https://platform.stratascratch.com/technical/2235-decision-trees-and-extreme-boosted-trees"
   ]
  },
  {
   "cell_type": "markdown",
   "id": "43248dc3",
   "metadata": {},
   "source": [
    "### **ID:** ID 2235"
   ]
  },
  {
   "cell_type": "markdown",
   "id": "7242afa6",
   "metadata": {},
   "source": [
    "# Decision Trees and Extreme Boosted Trees"
   ]
  },
  {
   "cell_type": "markdown",
   "id": "7cbda2eb",
   "metadata": {},
   "source": [
    "### **Difficulty:** Easy"
   ]
  },
  {
   "cell_type": "markdown",
   "id": "4202a512",
   "metadata": {},
   "source": [
    "### **Question Type:** Modeling"
   ]
  },
  {
   "cell_type": "markdown",
   "id": "68ec23ef",
   "metadata": {},
   "source": [
    "### **Company:** Yelp"
   ]
  },
  {
   "cell_type": "markdown",
   "id": "8f1fb2c2",
   "metadata": {},
   "source": [
    "## **Description:**"
   ]
  },
  {
   "cell_type": "markdown",
   "id": "d11fe23a",
   "metadata": {},
   "source": [
    "What's the difference between decision trees and extreme boosted trees mathematically?"
   ]
  },
  {
   "cell_type": "markdown",
   "id": "e34fabde",
   "metadata": {},
   "source": [
    "## **Solution:**"
   ]
  },
  {
   "cell_type": "code",
   "execution_count": null,
   "id": "47656498",
   "metadata": {},
   "outputs": [],
   "source": []
  }
 ],
 "metadata": {},
 "nbformat": 4,
 "nbformat_minor": 5
}
