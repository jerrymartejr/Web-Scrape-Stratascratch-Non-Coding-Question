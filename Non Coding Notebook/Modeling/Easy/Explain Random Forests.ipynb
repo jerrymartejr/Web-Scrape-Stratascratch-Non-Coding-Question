{
 "cells": [
  {
   "cell_type": "markdown",
   "id": "347aadca",
   "metadata": {},
   "source": [
    "### **Link:** https://platform.stratascratch.com/technical/2224-explain-random-forests"
   ]
  },
  {
   "cell_type": "markdown",
   "id": "412f4ec1",
   "metadata": {},
   "source": [
    "### **ID:** ID 2224"
   ]
  },
  {
   "cell_type": "markdown",
   "id": "bee539e4",
   "metadata": {},
   "source": [
    "# Explain Random Forests"
   ]
  },
  {
   "cell_type": "markdown",
   "id": "9f7e0004",
   "metadata": {},
   "source": [
    "### **Difficulty:** Easy"
   ]
  },
  {
   "cell_type": "markdown",
   "id": "1dbf2c6e",
   "metadata": {},
   "source": [
    "### **Question Type:** Modeling"
   ]
  },
  {
   "cell_type": "markdown",
   "id": "373d3a2e",
   "metadata": {},
   "source": [
    "### **Company:** ZestFinance, Wise"
   ]
  },
  {
   "cell_type": "markdown",
   "id": "9324c4f9",
   "metadata": {},
   "source": [
    "## **Description:**"
   ]
  },
  {
   "cell_type": "markdown",
   "id": "ad7724ca",
   "metadata": {},
   "source": [
    "Can you explain what Random Forests are?"
   ]
  },
  {
   "cell_type": "markdown",
   "id": "730209d9",
   "metadata": {},
   "source": [
    "## **Solution:**"
   ]
  },
  {
   "cell_type": "code",
   "execution_count": null,
   "id": "dc2ef27f",
   "metadata": {},
   "outputs": [],
   "source": []
  }
 ],
 "metadata": {},
 "nbformat": 4,
 "nbformat_minor": 5
}
