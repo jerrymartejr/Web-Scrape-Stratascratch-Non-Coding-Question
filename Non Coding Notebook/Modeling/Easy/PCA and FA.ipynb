{
 "cells": [
  {
   "cell_type": "markdown",
   "id": "6a3be44c",
   "metadata": {},
   "source": [
    "### **Link:** https://platform.stratascratch.com/technical/2143-pca-and-fa"
   ]
  },
  {
   "cell_type": "markdown",
   "id": "2a9e7e80",
   "metadata": {},
   "source": [
    "### **ID:** ID 2143"
   ]
  },
  {
   "cell_type": "markdown",
   "id": "5a8fb611",
   "metadata": {},
   "source": [
    "# PCA and FA"
   ]
  },
  {
   "cell_type": "markdown",
   "id": "47332e98",
   "metadata": {},
   "source": [
    "### **Difficulty:** Easy"
   ]
  },
  {
   "cell_type": "markdown",
   "id": "a1c4613d",
   "metadata": {},
   "source": [
    "### **Question Type:** Modeling"
   ]
  },
  {
   "cell_type": "markdown",
   "id": "c9573fe8",
   "metadata": {},
   "source": [
    "### **Company:** Vizient, Natera, Pfizer"
   ]
  },
  {
   "cell_type": "markdown",
   "id": "b0fa330c",
   "metadata": {},
   "source": [
    "## **Description:**"
   ]
  },
  {
   "cell_type": "markdown",
   "id": "4d603baf",
   "metadata": {},
   "source": [
    "What is the difference between PCA and FA?"
   ]
  },
  {
   "cell_type": "markdown",
   "id": "d8a148c6",
   "metadata": {},
   "source": [
    "## **Solution:**"
   ]
  },
  {
   "cell_type": "code",
   "execution_count": null,
   "id": "a3293f8f",
   "metadata": {},
   "outputs": [],
   "source": []
  }
 ],
 "metadata": {},
 "nbformat": 4,
 "nbformat_minor": 5
}
