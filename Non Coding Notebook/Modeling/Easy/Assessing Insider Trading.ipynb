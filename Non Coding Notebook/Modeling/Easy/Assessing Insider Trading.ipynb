{
 "cells": [
  {
   "cell_type": "markdown",
   "id": "c03567b4",
   "metadata": {},
   "source": [
    "### **Link:** https://platform.stratascratch.com/technical/2261-assessing-insider-trading"
   ]
  },
  {
   "cell_type": "markdown",
   "id": "ffbf2cec",
   "metadata": {},
   "source": [
    "### **ID:** ID 2261"
   ]
  },
  {
   "cell_type": "markdown",
   "id": "eefd18a1",
   "metadata": {},
   "source": [
    "# Assessing Insider Trading"
   ]
  },
  {
   "cell_type": "markdown",
   "id": "ef13b393",
   "metadata": {},
   "source": [
    "### **Difficulty:** Easy"
   ]
  },
  {
   "cell_type": "markdown",
   "id": "d79c0f9d",
   "metadata": {},
   "source": [
    "### **Question Type:** Modeling"
   ]
  },
  {
   "cell_type": "markdown",
   "id": "5b194b12",
   "metadata": {},
   "source": [
    "### **Company:** Civis Analytics, Opera Solutions, Two Sigma"
   ]
  },
  {
   "cell_type": "markdown",
   "id": "ad6ad176",
   "metadata": {},
   "source": [
    "## **Description:**"
   ]
  },
  {
   "cell_type": "markdown",
   "id": "334e0236",
   "metadata": {},
   "source": [
    "How would you go about assessing whether insider trading is occurring, using the data of your choice?"
   ]
  },
  {
   "cell_type": "markdown",
   "id": "35c8829e",
   "metadata": {},
   "source": [
    "## **Solution:**"
   ]
  },
  {
   "cell_type": "code",
   "execution_count": null,
   "id": "2fd7e85b",
   "metadata": {},
   "outputs": [],
   "source": []
  }
 ],
 "metadata": {},
 "nbformat": 4,
 "nbformat_minor": 5
}
