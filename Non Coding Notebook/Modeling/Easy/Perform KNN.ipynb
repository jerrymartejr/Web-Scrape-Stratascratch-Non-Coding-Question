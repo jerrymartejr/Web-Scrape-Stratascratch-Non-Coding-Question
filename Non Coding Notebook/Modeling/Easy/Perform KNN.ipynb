{
 "cells": [
  {
   "cell_type": "markdown",
   "id": "32df0f5f",
   "metadata": {},
   "source": [
    "### **Link:** https://platform.stratascratch.com/technical/2135-perform-knn"
   ]
  },
  {
   "cell_type": "markdown",
   "id": "535666c5",
   "metadata": {},
   "source": [
    "### **ID:** ID 2135"
   ]
  },
  {
   "cell_type": "markdown",
   "id": "cfa7e452",
   "metadata": {},
   "source": [
    "# Perform KNN"
   ]
  },
  {
   "cell_type": "markdown",
   "id": "3f917e10",
   "metadata": {},
   "source": [
    "### **Difficulty:** Easy"
   ]
  },
  {
   "cell_type": "markdown",
   "id": "826f22be",
   "metadata": {},
   "source": [
    "### **Question Type:** Modeling"
   ]
  },
  {
   "cell_type": "markdown",
   "id": "35650f4e",
   "metadata": {},
   "source": [
    "### **Company:** Stripe, Visa, American Express"
   ]
  },
  {
   "cell_type": "markdown",
   "id": "8df39cca",
   "metadata": {},
   "source": [
    "## **Description:**"
   ]
  },
  {
   "cell_type": "markdown",
   "id": "1a71c780",
   "metadata": {},
   "source": [
    "Given a dataset, how do you perform KNN on it?"
   ]
  },
  {
   "cell_type": "markdown",
   "id": "a4272f04",
   "metadata": {},
   "source": [
    "## **Solution:**"
   ]
  },
  {
   "cell_type": "code",
   "execution_count": null,
   "id": "5d6fa40c",
   "metadata": {},
   "outputs": [],
   "source": []
  }
 ],
 "metadata": {},
 "nbformat": 4,
 "nbformat_minor": 5
}
