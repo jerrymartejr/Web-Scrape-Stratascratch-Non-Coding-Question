{
 "cells": [
  {
   "cell_type": "markdown",
   "id": "1e9dee2e",
   "metadata": {},
   "source": [
    "### **Link:** https://platform.stratascratch.com/technical/2238-margin-classifier-and-hyperplane"
   ]
  },
  {
   "cell_type": "markdown",
   "id": "f7126261",
   "metadata": {},
   "source": [
    "### **ID:** ID 2238"
   ]
  },
  {
   "cell_type": "markdown",
   "id": "99344b87",
   "metadata": {},
   "source": [
    "# Margin Classifier and Hyperplane"
   ]
  },
  {
   "cell_type": "markdown",
   "id": "cdccaa9a",
   "metadata": {},
   "source": [
    "### **Difficulty:** Easy"
   ]
  },
  {
   "cell_type": "markdown",
   "id": "e47d65fb",
   "metadata": {},
   "source": [
    "### **Question Type:** Modeling"
   ]
  },
  {
   "cell_type": "markdown",
   "id": "7ca8c0dc",
   "metadata": {},
   "source": [
    "### **Company:** Centiment"
   ]
  },
  {
   "cell_type": "markdown",
   "id": "2b229569",
   "metadata": {},
   "source": [
    "## **Description:**"
   ]
  },
  {
   "cell_type": "markdown",
   "id": "a7f10142",
   "metadata": {},
   "source": [
    "Tell me the difference between the maximum margin classifier and the hyperplane."
   ]
  },
  {
   "cell_type": "markdown",
   "id": "c3e8c6ad",
   "metadata": {},
   "source": [
    "## **Solution:**"
   ]
  },
  {
   "cell_type": "code",
   "execution_count": null,
   "id": "eeef65d4",
   "metadata": {},
   "outputs": [],
   "source": []
  }
 ],
 "metadata": {},
 "nbformat": 4,
 "nbformat_minor": 5
}
