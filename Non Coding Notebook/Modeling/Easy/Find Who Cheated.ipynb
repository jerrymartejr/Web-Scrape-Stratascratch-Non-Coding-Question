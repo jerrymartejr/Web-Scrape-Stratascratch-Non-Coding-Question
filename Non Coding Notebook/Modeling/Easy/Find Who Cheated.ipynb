{
 "cells": [
  {
   "cell_type": "markdown",
   "id": "91252458",
   "metadata": {},
   "source": [
    "### **Link:** https://platform.stratascratch.com/technical/2245-find-who-cheated"
   ]
  },
  {
   "cell_type": "markdown",
   "id": "d0f73f7c",
   "metadata": {},
   "source": [
    "### **ID:** ID 2245"
   ]
  },
  {
   "cell_type": "markdown",
   "id": "1d16ae72",
   "metadata": {},
   "source": [
    "# Find Who Cheated"
   ]
  },
  {
   "cell_type": "markdown",
   "id": "c0ad6578",
   "metadata": {},
   "source": [
    "### **Difficulty:** Easy"
   ]
  },
  {
   "cell_type": "markdown",
   "id": "ad077882",
   "metadata": {},
   "source": [
    "### **Question Type:** Modeling"
   ]
  },
  {
   "cell_type": "markdown",
   "id": "66bc127e",
   "metadata": {},
   "source": [
    "### **Company:** Kabbage"
   ]
  },
  {
   "cell_type": "markdown",
   "id": "3aa5cf0f",
   "metadata": {},
   "source": [
    "## **Description:**"
   ]
  },
  {
   "cell_type": "markdown",
   "id": "dc708dac",
   "metadata": {},
   "source": [
    "How to find who cheated on essay writing in a group of 200 students? Scalability: same for 1,000,000 students."
   ]
  },
  {
   "cell_type": "markdown",
   "id": "12b7469b",
   "metadata": {},
   "source": [
    "## **Solution:**"
   ]
  },
  {
   "cell_type": "code",
   "execution_count": null,
   "id": "824e0bdb",
   "metadata": {},
   "outputs": [],
   "source": []
  }
 ],
 "metadata": {},
 "nbformat": 4,
 "nbformat_minor": 5
}
