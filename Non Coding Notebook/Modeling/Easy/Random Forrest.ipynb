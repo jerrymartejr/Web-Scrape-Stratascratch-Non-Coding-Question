{
 "cells": [
  {
   "cell_type": "markdown",
   "id": "cc5d5db4",
   "metadata": {},
   "source": [
    "### **Link:** https://platform.stratascratch.com/technical/2070-random-forrest"
   ]
  },
  {
   "cell_type": "markdown",
   "id": "397b82ca",
   "metadata": {},
   "source": [
    "### **ID:** ID 2070"
   ]
  },
  {
   "cell_type": "markdown",
   "id": "a57d877c",
   "metadata": {},
   "source": [
    "# Random Forrest"
   ]
  },
  {
   "cell_type": "markdown",
   "id": "d6dbaa3c",
   "metadata": {},
   "source": [
    "### **Difficulty:** Easy"
   ]
  },
  {
   "cell_type": "markdown",
   "id": "d571ca20",
   "metadata": {},
   "source": [
    "### **Question Type:** Modeling"
   ]
  },
  {
   "cell_type": "markdown",
   "id": "b3d6cbc8",
   "metadata": {},
   "source": [
    "### **Company:** SparkCognition"
   ]
  },
  {
   "cell_type": "markdown",
   "id": "356ae868",
   "metadata": {},
   "source": [
    "## **Description:**"
   ]
  },
  {
   "cell_type": "markdown",
   "id": "3b2b4c38",
   "metadata": {},
   "source": [
    "How do you explain Random Forrest to a non-technical person?"
   ]
  },
  {
   "cell_type": "markdown",
   "id": "259fb251",
   "metadata": {},
   "source": [
    "## **Solution:**"
   ]
  },
  {
   "cell_type": "code",
   "execution_count": null,
   "id": "3b03cad1",
   "metadata": {},
   "outputs": [],
   "source": []
  }
 ],
 "metadata": {},
 "nbformat": 4,
 "nbformat_minor": 5
}
