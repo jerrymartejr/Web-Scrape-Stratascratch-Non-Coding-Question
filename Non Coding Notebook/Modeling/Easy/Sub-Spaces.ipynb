{
 "cells": [
  {
   "cell_type": "markdown",
   "id": "49411c3c",
   "metadata": {},
   "source": [
    "### **Link:** https://platform.stratascratch.com/technical/2257-sub-spaces"
   ]
  },
  {
   "cell_type": "markdown",
   "id": "473924ce",
   "metadata": {},
   "source": [
    "### **ID:** ID 2257"
   ]
  },
  {
   "cell_type": "markdown",
   "id": "6667794b",
   "metadata": {},
   "source": [
    "# Sub-Spaces"
   ]
  },
  {
   "cell_type": "markdown",
   "id": "bdccf9cc",
   "metadata": {},
   "source": [
    "### **Difficulty:** Easy"
   ]
  },
  {
   "cell_type": "markdown",
   "id": "aa436af2",
   "metadata": {},
   "source": [
    "### **Question Type:** Modeling"
   ]
  },
  {
   "cell_type": "markdown",
   "id": "c4090fd9",
   "metadata": {},
   "source": [
    "### **Company:** Walmart, Sears, Kohl"
   ]
  },
  {
   "cell_type": "markdown",
   "id": "e950dd2c",
   "metadata": {},
   "source": [
    "## **Description:**"
   ]
  },
  {
   "cell_type": "markdown",
   "id": "dcb09edc",
   "metadata": {},
   "source": [
    "How many sub-spaces can 4 lines divide in 2D? How many sub-spaces can 4 hyperplanes divide in 3D?"
   ]
  },
  {
   "cell_type": "markdown",
   "id": "3f0ab1de",
   "metadata": {},
   "source": [
    "## **Solution:**"
   ]
  },
  {
   "cell_type": "code",
   "execution_count": null,
   "id": "95776cb5",
   "metadata": {},
   "outputs": [],
   "source": []
  }
 ],
 "metadata": {},
 "nbformat": 4,
 "nbformat_minor": 5
}
