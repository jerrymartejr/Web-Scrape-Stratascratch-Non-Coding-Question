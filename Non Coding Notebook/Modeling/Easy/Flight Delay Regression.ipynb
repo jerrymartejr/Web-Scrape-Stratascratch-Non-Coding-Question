{
 "cells": [
  {
   "cell_type": "markdown",
   "id": "b53f9a18",
   "metadata": {},
   "source": [
    "### **Link:** https://platform.stratascratch.com/technical/2036-flight-delay-regression"
   ]
  },
  {
   "cell_type": "markdown",
   "id": "a9164884",
   "metadata": {},
   "source": [
    "### **ID:** ID 2036"
   ]
  },
  {
   "cell_type": "markdown",
   "id": "2fa84f2e",
   "metadata": {},
   "source": [
    "# Flight Delay Regression"
   ]
  },
  {
   "cell_type": "markdown",
   "id": "6416a2f2",
   "metadata": {},
   "source": [
    "### **Difficulty:** Easy"
   ]
  },
  {
   "cell_type": "markdown",
   "id": "b9dc1c25",
   "metadata": {},
   "source": [
    "### **Question Type:** Modeling"
   ]
  },
  {
   "cell_type": "markdown",
   "id": "8433894e",
   "metadata": {},
   "source": [
    "### **Company:** British Airways, Delta Airlines"
   ]
  },
  {
   "cell_type": "markdown",
   "id": "773cd825",
   "metadata": {},
   "source": [
    "## **Description:**"
   ]
  },
  {
   "cell_type": "markdown",
   "id": "60962410",
   "metadata": {},
   "source": [
    "You want to run a regression to predict the probability of a flight delay, but there are flights with delays of up to 12 hours that are really messing up your model. How can you address this?"
   ]
  },
  {
   "cell_type": "markdown",
   "id": "f83cf3cf",
   "metadata": {},
   "source": [
    "## **Solution:**"
   ]
  },
  {
   "cell_type": "code",
   "execution_count": null,
   "id": "318406f1",
   "metadata": {},
   "outputs": [],
   "source": []
  }
 ],
 "metadata": {},
 "nbformat": 4,
 "nbformat_minor": 5
}
