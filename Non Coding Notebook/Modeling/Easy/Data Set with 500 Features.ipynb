{
 "cells": [
  {
   "cell_type": "markdown",
   "id": "6677aa5f",
   "metadata": {},
   "source": [
    "### **Link:** https://platform.stratascratch.com/technical/2147-data-set-with-500-features"
   ]
  },
  {
   "cell_type": "markdown",
   "id": "e9e4e0c5",
   "metadata": {},
   "source": [
    "### **ID:** ID 2147"
   ]
  },
  {
   "cell_type": "markdown",
   "id": "dffae98f",
   "metadata": {},
   "source": [
    "# Data Set with 500 Features"
   ]
  },
  {
   "cell_type": "markdown",
   "id": "72ff9ef8",
   "metadata": {},
   "source": [
    "### **Difficulty:** Easy"
   ]
  },
  {
   "cell_type": "markdown",
   "id": "226df178",
   "metadata": {},
   "source": [
    "### **Question Type:** Modeling"
   ]
  },
  {
   "cell_type": "markdown",
   "id": "cb368d67",
   "metadata": {},
   "source": [
    "### **Company:** EY, KPMG"
   ]
  },
  {
   "cell_type": "markdown",
   "id": "6dc659c0",
   "metadata": {},
   "source": [
    "## **Description:**"
   ]
  },
  {
   "cell_type": "markdown",
   "id": "536978d6",
   "metadata": {},
   "source": [
    "How do you work with a data set that has 500 features?"
   ]
  },
  {
   "cell_type": "markdown",
   "id": "b4c12c94",
   "metadata": {},
   "source": [
    "## **Solution:**"
   ]
  },
  {
   "cell_type": "code",
   "execution_count": null,
   "id": "59d44620",
   "metadata": {},
   "outputs": [],
   "source": []
  }
 ],
 "metadata": {},
 "nbformat": 4,
 "nbformat_minor": 5
}
