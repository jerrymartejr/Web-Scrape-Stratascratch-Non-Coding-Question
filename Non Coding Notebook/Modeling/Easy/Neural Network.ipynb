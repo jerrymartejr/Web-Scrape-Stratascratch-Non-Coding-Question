{
 "cells": [
  {
   "cell_type": "markdown",
   "id": "8784dadd",
   "metadata": {},
   "source": [
    "### **Link:** https://platform.stratascratch.com/technical/2237-neural-network"
   ]
  },
  {
   "cell_type": "markdown",
   "id": "da0be449",
   "metadata": {},
   "source": [
    "### **ID:** ID 2237"
   ]
  },
  {
   "cell_type": "markdown",
   "id": "1bee45db",
   "metadata": {},
   "source": [
    "# Neural Network"
   ]
  },
  {
   "cell_type": "markdown",
   "id": "bf2631c9",
   "metadata": {},
   "source": [
    "### **Difficulty:** Easy"
   ]
  },
  {
   "cell_type": "markdown",
   "id": "9611b1ea",
   "metadata": {},
   "source": [
    "### **Question Type:** Modeling"
   ]
  },
  {
   "cell_type": "markdown",
   "id": "1567bd3f",
   "metadata": {},
   "source": [
    "### **Company:** Centiment"
   ]
  },
  {
   "cell_type": "markdown",
   "id": "678e6d34",
   "metadata": {},
   "source": [
    "## **Description:**"
   ]
  },
  {
   "cell_type": "markdown",
   "id": "5c0da210",
   "metadata": {},
   "source": [
    "Describe the steps involved in creating a neural network."
   ]
  },
  {
   "cell_type": "markdown",
   "id": "a0a3f1a8",
   "metadata": {},
   "source": [
    "## **Solution:**"
   ]
  },
  {
   "cell_type": "code",
   "execution_count": null,
   "id": "729988b9",
   "metadata": {},
   "outputs": [],
   "source": []
  }
 ],
 "metadata": {},
 "nbformat": 4,
 "nbformat_minor": 5
}
