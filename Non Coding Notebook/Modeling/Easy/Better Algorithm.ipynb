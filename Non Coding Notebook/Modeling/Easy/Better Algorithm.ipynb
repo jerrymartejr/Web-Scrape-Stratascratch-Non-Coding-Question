{
 "cells": [
  {
   "cell_type": "markdown",
   "id": "db97c83f",
   "metadata": {},
   "source": [
    "### **Link:** https://platform.stratascratch.com/technical/2108-better-algorithm"
   ]
  },
  {
   "cell_type": "markdown",
   "id": "4f29d2f0",
   "metadata": {},
   "source": [
    "### **ID:** ID 2108"
   ]
  },
  {
   "cell_type": "markdown",
   "id": "366c9bba",
   "metadata": {},
   "source": [
    "# Better Algorithm"
   ]
  },
  {
   "cell_type": "markdown",
   "id": "7688dd8b",
   "metadata": {},
   "source": [
    "### **Difficulty:** Easy"
   ]
  },
  {
   "cell_type": "markdown",
   "id": "7e62e3e3",
   "metadata": {},
   "source": [
    "### **Question Type:** Modeling"
   ]
  },
  {
   "cell_type": "markdown",
   "id": "2e66685f",
   "metadata": {},
   "source": [
    "### **Company:** Amazon, Netflix"
   ]
  },
  {
   "cell_type": "markdown",
   "id": "6e788ed5",
   "metadata": {},
   "source": [
    "## **Description:**"
   ]
  },
  {
   "cell_type": "markdown",
   "id": "4543e20a",
   "metadata": {},
   "source": [
    "How do you know if one algorithm is better than another?"
   ]
  },
  {
   "cell_type": "markdown",
   "id": "37c300b4",
   "metadata": {},
   "source": [
    "## **Solution:**"
   ]
  },
  {
   "cell_type": "code",
   "execution_count": null,
   "id": "d17c17e2",
   "metadata": {},
   "outputs": [],
   "source": []
  }
 ],
 "metadata": {},
 "nbformat": 4,
 "nbformat_minor": 5
}
