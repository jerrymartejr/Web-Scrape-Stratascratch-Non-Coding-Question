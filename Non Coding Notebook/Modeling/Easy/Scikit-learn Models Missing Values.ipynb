{
 "cells": [
  {
   "cell_type": "markdown",
   "id": "a9e8ac51",
   "metadata": {},
   "source": [
    "### **Link:** https://platform.stratascratch.com/technical/2133-scikit-learn-models-missing-values"
   ]
  },
  {
   "cell_type": "markdown",
   "id": "19db97aa",
   "metadata": {},
   "source": [
    "### **ID:** ID 2133"
   ]
  },
  {
   "cell_type": "markdown",
   "id": "bb45d51a",
   "metadata": {},
   "source": [
    "# Scikit-learn Models Missing Values"
   ]
  },
  {
   "cell_type": "markdown",
   "id": "63d54d83",
   "metadata": {},
   "source": [
    "### **Difficulty:** Easy"
   ]
  },
  {
   "cell_type": "markdown",
   "id": "5c6dff1f",
   "metadata": {},
   "source": [
    "### **Question Type:** Modeling"
   ]
  },
  {
   "cell_type": "markdown",
   "id": "31f86450",
   "metadata": {},
   "source": [
    "### **Company:** General Assembly"
   ]
  },
  {
   "cell_type": "markdown",
   "id": "3fcf183e",
   "metadata": {},
   "source": [
    "## **Description:**"
   ]
  },
  {
   "cell_type": "markdown",
   "id": "5a4b1324",
   "metadata": {},
   "source": [
    "How do scikit-learn models handle missing values? What are some general strategies that you (as the modeler) can use to handle missing values?"
   ]
  },
  {
   "cell_type": "markdown",
   "id": "b2dd0572",
   "metadata": {},
   "source": [
    "## **Solution:**"
   ]
  },
  {
   "cell_type": "code",
   "execution_count": null,
   "id": "5429955d",
   "metadata": {},
   "outputs": [],
   "source": []
  }
 ],
 "metadata": {},
 "nbformat": 4,
 "nbformat_minor": 5
}
