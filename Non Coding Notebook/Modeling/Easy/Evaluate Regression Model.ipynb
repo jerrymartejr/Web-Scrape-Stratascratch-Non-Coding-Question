{
 "cells": [
  {
   "cell_type": "markdown",
   "id": "0b1f5fcf",
   "metadata": {},
   "source": [
    "### **Link:** https://platform.stratascratch.com/technical/2121-evaluate-regression-model"
   ]
  },
  {
   "cell_type": "markdown",
   "id": "341e96a4",
   "metadata": {},
   "source": [
    "### **ID:** ID 2121"
   ]
  },
  {
   "cell_type": "markdown",
   "id": "4aba632b",
   "metadata": {},
   "source": [
    "# Evaluate Regression Model"
   ]
  },
  {
   "cell_type": "markdown",
   "id": "687daba6",
   "metadata": {},
   "source": [
    "### **Difficulty:** Easy"
   ]
  },
  {
   "cell_type": "markdown",
   "id": "97f428c7",
   "metadata": {},
   "source": [
    "### **Question Type:** Modeling"
   ]
  },
  {
   "cell_type": "markdown",
   "id": "7c43be79",
   "metadata": {},
   "source": [
    "### **Company:** General Assembly, Treehouse"
   ]
  },
  {
   "cell_type": "markdown",
   "id": "54ccba03",
   "metadata": {},
   "source": [
    "## **Description:**"
   ]
  },
  {
   "cell_type": "markdown",
   "id": "086acf61",
   "metadata": {},
   "source": [
    "What are a few metrics (single numbers) I might use to evaluate how well a regression model is doing?"
   ]
  },
  {
   "cell_type": "markdown",
   "id": "61af17d0",
   "metadata": {},
   "source": [
    "## **Solution:**"
   ]
  },
  {
   "cell_type": "code",
   "execution_count": null,
   "id": "f3996649",
   "metadata": {},
   "outputs": [],
   "source": []
  }
 ],
 "metadata": {},
 "nbformat": 4,
 "nbformat_minor": 5
}
