{
 "cells": [
  {
   "cell_type": "markdown",
   "id": "6905ee3a",
   "metadata": {},
   "source": [
    "### **Link:** https://platform.stratascratch.com/technical/2167-regularization"
   ]
  },
  {
   "cell_type": "markdown",
   "id": "c2711d93",
   "metadata": {},
   "source": [
    "### **ID:** ID 2167"
   ]
  },
  {
   "cell_type": "markdown",
   "id": "6ff8b47c",
   "metadata": {},
   "source": [
    "# Regularization"
   ]
  },
  {
   "cell_type": "markdown",
   "id": "44bc6d22",
   "metadata": {},
   "source": [
    "### **Difficulty:** Easy"
   ]
  },
  {
   "cell_type": "markdown",
   "id": "ba4ecea8",
   "metadata": {},
   "source": [
    "### **Question Type:** Modeling"
   ]
  },
  {
   "cell_type": "markdown",
   "id": "2708abfd",
   "metadata": {},
   "source": [
    "### **Company:** Galvanize, Kaplan, General Assembly"
   ]
  },
  {
   "cell_type": "markdown",
   "id": "fde7a184",
   "metadata": {},
   "source": [
    "## **Description:**"
   ]
  },
  {
   "cell_type": "markdown",
   "id": "73bb39b1",
   "metadata": {},
   "source": [
    "What is regularization? Which problem does regularization try to solve?"
   ]
  },
  {
   "cell_type": "markdown",
   "id": "66602d0f",
   "metadata": {},
   "source": [
    "## **Solution:**"
   ]
  },
  {
   "cell_type": "code",
   "execution_count": null,
   "id": "623c3d69",
   "metadata": {},
   "outputs": [],
   "source": []
  }
 ],
 "metadata": {},
 "nbformat": 4,
 "nbformat_minor": 5
}
