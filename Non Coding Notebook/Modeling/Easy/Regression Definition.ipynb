{
 "cells": [
  {
   "cell_type": "markdown",
   "id": "ac9fab07",
   "metadata": {},
   "source": [
    "### **Link:** https://platform.stratascratch.com/technical/2296-regression-definition"
   ]
  },
  {
   "cell_type": "markdown",
   "id": "02b5f18a",
   "metadata": {},
   "source": [
    "### **ID:** ID 2296"
   ]
  },
  {
   "cell_type": "markdown",
   "id": "961af91d",
   "metadata": {},
   "source": [
    "# Regression Definition"
   ]
  },
  {
   "cell_type": "markdown",
   "id": "91b48953",
   "metadata": {},
   "source": [
    "### **Difficulty:** Easy"
   ]
  },
  {
   "cell_type": "markdown",
   "id": "e4081258",
   "metadata": {},
   "source": [
    "### **Question Type:** Modeling"
   ]
  },
  {
   "cell_type": "markdown",
   "id": "c6ab2f75",
   "metadata": {},
   "source": [
    "### **Company:** Belvedere Trading"
   ]
  },
  {
   "cell_type": "markdown",
   "id": "24b7b04e",
   "metadata": {},
   "source": [
    "## **Description:**"
   ]
  },
  {
   "cell_type": "markdown",
   "id": "99781dbe",
   "metadata": {},
   "source": [
    "Find the words to explain Regression to an 8 years old."
   ]
  },
  {
   "cell_type": "markdown",
   "id": "d20e54a6",
   "metadata": {},
   "source": [
    "## **Solution:**"
   ]
  },
  {
   "cell_type": "code",
   "execution_count": null,
   "id": "c1eef588",
   "metadata": {},
   "outputs": [],
   "source": []
  }
 ],
 "metadata": {},
 "nbformat": 4,
 "nbformat_minor": 5
}
