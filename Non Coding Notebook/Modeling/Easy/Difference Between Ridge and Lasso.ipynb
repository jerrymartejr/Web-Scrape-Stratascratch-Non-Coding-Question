{
 "cells": [
  {
   "cell_type": "markdown",
   "id": "e0c97cd4",
   "metadata": {},
   "source": [
    "### **Link:** https://platform.stratascratch.com/technical/2357-difference-between-ridge-and-lasso"
   ]
  },
  {
   "cell_type": "markdown",
   "id": "f36a70d4",
   "metadata": {},
   "source": [
    "### **ID:** ID 2357"
   ]
  },
  {
   "cell_type": "markdown",
   "id": "f320fc02",
   "metadata": {},
   "source": [
    "# Difference Between Ridge and Lasso"
   ]
  },
  {
   "cell_type": "markdown",
   "id": "c4123a8f",
   "metadata": {},
   "source": [
    "### **Difficulty:** Easy"
   ]
  },
  {
   "cell_type": "markdown",
   "id": "f9eb603a",
   "metadata": {},
   "source": [
    "### **Question Type:** Modeling"
   ]
  },
  {
   "cell_type": "markdown",
   "id": "36737d7f",
   "metadata": {},
   "source": [
    "### **Company:** Walmart, Sears"
   ]
  },
  {
   "cell_type": "markdown",
   "id": "fa65b766",
   "metadata": {},
   "source": [
    "## **Description:**"
   ]
  },
  {
   "cell_type": "markdown",
   "id": "653f488f",
   "metadata": {},
   "source": [
    "What is the difference between Ridge regression and Lasso regression?"
   ]
  },
  {
   "cell_type": "markdown",
   "id": "11422b48",
   "metadata": {},
   "source": [
    "## **Solution:**"
   ]
  },
  {
   "cell_type": "code",
   "execution_count": null,
   "id": "f0898767",
   "metadata": {},
   "outputs": [],
   "source": []
  }
 ],
 "metadata": {},
 "nbformat": 4,
 "nbformat_minor": 5
}
