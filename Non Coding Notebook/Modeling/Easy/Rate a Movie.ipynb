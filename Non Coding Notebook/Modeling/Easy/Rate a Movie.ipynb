{
 "cells": [
  {
   "cell_type": "markdown",
   "id": "fd14428a",
   "metadata": {},
   "source": [
    "### **Link:** https://platform.stratascratch.com/technical/2118-rate-a-movie"
   ]
  },
  {
   "cell_type": "markdown",
   "id": "0fc8119a",
   "metadata": {},
   "source": [
    "### **ID:** ID 2118"
   ]
  },
  {
   "cell_type": "markdown",
   "id": "2f76d263",
   "metadata": {},
   "source": [
    "# Rate a Movie"
   ]
  },
  {
   "cell_type": "markdown",
   "id": "e5d52bc3",
   "metadata": {},
   "source": [
    "### **Difficulty:** Easy"
   ]
  },
  {
   "cell_type": "markdown",
   "id": "e04c3299",
   "metadata": {},
   "source": [
    "### **Question Type:** Modeling"
   ]
  },
  {
   "cell_type": "markdown",
   "id": "2cc4a823",
   "metadata": {},
   "source": [
    "### **Company:** General Assembly"
   ]
  },
  {
   "cell_type": "markdown",
   "id": "9cee5c7b",
   "metadata": {},
   "source": [
    "## **Description:**"
   ]
  },
  {
   "cell_type": "markdown",
   "id": "4a0ae17c",
   "metadata": {},
   "source": [
    "When Netflix predicts the number of stars that you will use to rate a movie, are they solving a regression or classification problem?"
   ]
  },
  {
   "cell_type": "markdown",
   "id": "008ee201",
   "metadata": {},
   "source": [
    "## **Solution:**"
   ]
  },
  {
   "cell_type": "code",
   "execution_count": null,
   "id": "ad7c67c1",
   "metadata": {},
   "outputs": [],
   "source": []
  }
 ],
 "metadata": {},
 "nbformat": 4,
 "nbformat_minor": 5
}
