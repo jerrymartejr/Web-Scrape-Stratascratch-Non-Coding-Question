{
 "cells": [
  {
   "cell_type": "markdown",
   "id": "6ab2ac1a",
   "metadata": {},
   "source": [
    "### **Link:** https://platform.stratascratch.com/technical/2377-clustering-distance-measures"
   ]
  },
  {
   "cell_type": "markdown",
   "id": "06ca0d1e",
   "metadata": {},
   "source": [
    "### **ID:** ID 2377"
   ]
  },
  {
   "cell_type": "markdown",
   "id": "ef886e36",
   "metadata": {},
   "source": [
    "# Clustering distance measures"
   ]
  },
  {
   "cell_type": "markdown",
   "id": "30a4f4e0",
   "metadata": {},
   "source": [
    "### **Difficulty:** Easy"
   ]
  },
  {
   "cell_type": "markdown",
   "id": "d8369b0c",
   "metadata": {},
   "source": [
    "### **Question Type:** Modeling"
   ]
  },
  {
   "cell_type": "markdown",
   "id": "696a0c20",
   "metadata": {},
   "source": [
    "### **Company:** Walmart, Sears, Kohl"
   ]
  },
  {
   "cell_type": "markdown",
   "id": "16e0c4d8",
   "metadata": {},
   "source": [
    "## **Description:**"
   ]
  },
  {
   "cell_type": "markdown",
   "id": "8b5b09c9",
   "metadata": {},
   "source": [
    "In clustering, what is the difference between inter-cluster and intra-cluster distance measurements?"
   ]
  },
  {
   "cell_type": "markdown",
   "id": "3cfd8d7e",
   "metadata": {},
   "source": [
    "## **Solution:**"
   ]
  },
  {
   "cell_type": "code",
   "execution_count": null,
   "id": "d51feb80",
   "metadata": {},
   "outputs": [],
   "source": []
  }
 ],
 "metadata": {},
 "nbformat": 4,
 "nbformat_minor": 5
}
