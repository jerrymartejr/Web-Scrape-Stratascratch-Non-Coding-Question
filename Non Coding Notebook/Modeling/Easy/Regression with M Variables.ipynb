{
 "cells": [
  {
   "cell_type": "markdown",
   "id": "9f2cb53c",
   "metadata": {},
   "source": [
    "### **Link:** https://platform.stratascratch.com/technical/2220-regression-with-m-variables"
   ]
  },
  {
   "cell_type": "markdown",
   "id": "44017890",
   "metadata": {},
   "source": [
    "### **ID:** ID 2220"
   ]
  },
  {
   "cell_type": "markdown",
   "id": "58f0c6a0",
   "metadata": {},
   "source": [
    "# Regression with M Variables"
   ]
  },
  {
   "cell_type": "markdown",
   "id": "a07652d3",
   "metadata": {},
   "source": [
    "### **Difficulty:** Easy"
   ]
  },
  {
   "cell_type": "markdown",
   "id": "05e7a402",
   "metadata": {},
   "source": [
    "### **Question Type:** Modeling"
   ]
  },
  {
   "cell_type": "markdown",
   "id": "63319ba2",
   "metadata": {},
   "source": [
    "### **Company:** Rocket Fuel"
   ]
  },
  {
   "cell_type": "markdown",
   "id": "325c013a",
   "metadata": {},
   "source": [
    "## **Description:**"
   ]
  },
  {
   "cell_type": "markdown",
   "id": "aa246e18",
   "metadata": {},
   "source": [
    "You have given a regression with m variables and another n variables are available, would you want to include them?"
   ]
  },
  {
   "cell_type": "markdown",
   "id": "6f760c4f",
   "metadata": {},
   "source": [
    "## **Solution:**"
   ]
  },
  {
   "cell_type": "code",
   "execution_count": null,
   "id": "8a5d963a",
   "metadata": {},
   "outputs": [],
   "source": []
  }
 ],
 "metadata": {},
 "nbformat": 4,
 "nbformat_minor": 5
}
