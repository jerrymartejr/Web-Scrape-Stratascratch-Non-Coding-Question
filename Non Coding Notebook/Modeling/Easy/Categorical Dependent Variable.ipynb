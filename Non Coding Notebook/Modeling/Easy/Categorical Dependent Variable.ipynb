{
 "cells": [
  {
   "cell_type": "markdown",
   "id": "e55b8578",
   "metadata": {},
   "source": [
    "### **Link:** https://platform.stratascratch.com/technical/2088-categorical-dependent-variable"
   ]
  },
  {
   "cell_type": "markdown",
   "id": "e4e3d20a",
   "metadata": {},
   "source": [
    "### **ID:** ID 2088"
   ]
  },
  {
   "cell_type": "markdown",
   "id": "4fec94a8",
   "metadata": {},
   "source": [
    "# Categorical Dependent Variable"
   ]
  },
  {
   "cell_type": "markdown",
   "id": "fc1b3992",
   "metadata": {},
   "source": [
    "### **Difficulty:** Easy"
   ]
  },
  {
   "cell_type": "markdown",
   "id": "1d492805",
   "metadata": {},
   "source": [
    "### **Question Type:** Modeling"
   ]
  },
  {
   "cell_type": "markdown",
   "id": "57a76e1a",
   "metadata": {},
   "source": [
    "### **Company:** IBM"
   ]
  },
  {
   "cell_type": "markdown",
   "id": "e1086c08",
   "metadata": {},
   "source": [
    "## **Description:**"
   ]
  },
  {
   "cell_type": "markdown",
   "id": "43002a8a",
   "metadata": {},
   "source": [
    "Suppose you have a categorical dependent variable and a mixture of continuous and categorical independent variables, what type of tools/algorithms/methods you could apply for analysis?"
   ]
  },
  {
   "cell_type": "markdown",
   "id": "1ed14f2e",
   "metadata": {},
   "source": [
    "## **Solution:**"
   ]
  },
  {
   "cell_type": "code",
   "execution_count": null,
   "id": "e14b5a7d",
   "metadata": {},
   "outputs": [],
   "source": []
  }
 ],
 "metadata": {},
 "nbformat": 4,
 "nbformat_minor": 5
}
