{
 "cells": [
  {
   "cell_type": "markdown",
   "id": "587b3a9c",
   "metadata": {},
   "source": [
    "### **Link:** https://platform.stratascratch.com/technical/2145-bagged-and-boosting-models"
   ]
  },
  {
   "cell_type": "markdown",
   "id": "53329f4d",
   "metadata": {},
   "source": [
    "### **ID:** ID 2145"
   ]
  },
  {
   "cell_type": "markdown",
   "id": "ef449e08",
   "metadata": {},
   "source": [
    "# Bagged and Boosting Models"
   ]
  },
  {
   "cell_type": "markdown",
   "id": "9b6c3c0b",
   "metadata": {},
   "source": [
    "### **Difficulty:** Easy"
   ]
  },
  {
   "cell_type": "markdown",
   "id": "72281a07",
   "metadata": {},
   "source": [
    "### **Question Type:** Modeling"
   ]
  },
  {
   "cell_type": "markdown",
   "id": "245794d8",
   "metadata": {},
   "source": [
    "### **Company:** Walmart, Kohl"
   ]
  },
  {
   "cell_type": "markdown",
   "id": "ba630e5c",
   "metadata": {},
   "source": [
    "## **Description:**"
   ]
  },
  {
   "cell_type": "markdown",
   "id": "7acb00d8",
   "metadata": {},
   "source": [
    "Explain the difference between bagged and boosting models"
   ]
  },
  {
   "cell_type": "markdown",
   "id": "1188ee26",
   "metadata": {},
   "source": [
    "## **Solution:**"
   ]
  },
  {
   "cell_type": "code",
   "execution_count": null,
   "id": "84e193bb",
   "metadata": {},
   "outputs": [],
   "source": []
  }
 ],
 "metadata": {},
 "nbformat": 4,
 "nbformat_minor": 5
}
