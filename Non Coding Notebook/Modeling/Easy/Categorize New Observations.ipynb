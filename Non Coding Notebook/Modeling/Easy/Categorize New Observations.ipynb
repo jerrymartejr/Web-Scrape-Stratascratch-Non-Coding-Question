{
 "cells": [
  {
   "cell_type": "markdown",
   "id": "2e7ef293",
   "metadata": {},
   "source": [
    "### **Link:** https://platform.stratascratch.com/technical/2138-categorize-new-observations"
   ]
  },
  {
   "cell_type": "markdown",
   "id": "2a484967",
   "metadata": {},
   "source": [
    "### **ID:** ID 2138"
   ]
  },
  {
   "cell_type": "markdown",
   "id": "b8f7c259",
   "metadata": {},
   "source": [
    "# Categorize New Observations"
   ]
  },
  {
   "cell_type": "markdown",
   "id": "c9e4dff1",
   "metadata": {},
   "source": [
    "### **Difficulty:** Easy"
   ]
  },
  {
   "cell_type": "markdown",
   "id": "1097b44a",
   "metadata": {},
   "source": [
    "### **Question Type:** Modeling"
   ]
  },
  {
   "cell_type": "markdown",
   "id": "948b340a",
   "metadata": {},
   "source": [
    "### **Company:** Slickdeals, Shopify, Paperless Post"
   ]
  },
  {
   "cell_type": "markdown",
   "id": "32a2d5ac",
   "metadata": {},
   "source": [
    "## **Description:**"
   ]
  },
  {
   "cell_type": "markdown",
   "id": "fc974912",
   "metadata": {},
   "source": [
    "What model would you use to categorize new observations from a training set?"
   ]
  },
  {
   "cell_type": "markdown",
   "id": "1a1675af",
   "metadata": {},
   "source": [
    "## **Solution:**"
   ]
  },
  {
   "cell_type": "code",
   "execution_count": null,
   "id": "0b89b6db",
   "metadata": {},
   "outputs": [],
   "source": []
  }
 ],
 "metadata": {},
 "nbformat": 4,
 "nbformat_minor": 5
}
