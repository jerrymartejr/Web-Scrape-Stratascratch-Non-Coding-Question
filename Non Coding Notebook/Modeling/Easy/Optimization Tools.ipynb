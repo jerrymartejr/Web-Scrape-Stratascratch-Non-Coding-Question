{
 "cells": [
  {
   "cell_type": "markdown",
   "id": "85da2aa3",
   "metadata": {},
   "source": [
    "### **Link:** https://platform.stratascratch.com/technical/2156-optimization-tools"
   ]
  },
  {
   "cell_type": "markdown",
   "id": "fd63626b",
   "metadata": {},
   "source": [
    "### **ID:** ID 2156"
   ]
  },
  {
   "cell_type": "markdown",
   "id": "e4354be8",
   "metadata": {},
   "source": [
    "# Optimization Tools"
   ]
  },
  {
   "cell_type": "markdown",
   "id": "18201967",
   "metadata": {},
   "source": [
    "### **Difficulty:** Easy"
   ]
  },
  {
   "cell_type": "markdown",
   "id": "67655002",
   "metadata": {},
   "source": [
    "### **Question Type:** Modeling"
   ]
  },
  {
   "cell_type": "markdown",
   "id": "3cb42734",
   "metadata": {},
   "source": [
    "### **Company:** Sears, Kohl"
   ]
  },
  {
   "cell_type": "markdown",
   "id": "42a50ec3",
   "metadata": {},
   "source": [
    "## **Description:**"
   ]
  },
  {
   "cell_type": "markdown",
   "id": "d83e9b9f",
   "metadata": {},
   "source": [
    "What optimization tools you are familiar with?"
   ]
  },
  {
   "cell_type": "markdown",
   "id": "8de735bf",
   "metadata": {},
   "source": [
    "## **Solution:**"
   ]
  },
  {
   "cell_type": "code",
   "execution_count": null,
   "id": "534d0907",
   "metadata": {},
   "outputs": [],
   "source": []
  }
 ],
 "metadata": {},
 "nbformat": 4,
 "nbformat_minor": 5
}
