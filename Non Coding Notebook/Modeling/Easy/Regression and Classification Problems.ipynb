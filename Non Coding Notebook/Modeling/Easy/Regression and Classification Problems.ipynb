{
 "cells": [
  {
   "cell_type": "markdown",
   "id": "b0232e87",
   "metadata": {},
   "source": [
    "### **Link:** https://platform.stratascratch.com/technical/2117-regression-and-classification-problems"
   ]
  },
  {
   "cell_type": "markdown",
   "id": "0be5aaa5",
   "metadata": {},
   "source": [
    "### **ID:** ID 2117"
   ]
  },
  {
   "cell_type": "markdown",
   "id": "f7265e52",
   "metadata": {},
   "source": [
    "# Regression and Classification Problems"
   ]
  },
  {
   "cell_type": "markdown",
   "id": "d2eef36e",
   "metadata": {},
   "source": [
    "### **Difficulty:** Easy"
   ]
  },
  {
   "cell_type": "markdown",
   "id": "1855c73f",
   "metadata": {},
   "source": [
    "### **Question Type:** Modeling"
   ]
  },
  {
   "cell_type": "markdown",
   "id": "3feaa374",
   "metadata": {},
   "source": [
    "### **Company:** Galvanize, Kaplan, General Assembly"
   ]
  },
  {
   "cell_type": "markdown",
   "id": "82db783a",
   "metadata": {},
   "source": [
    "## **Description:**"
   ]
  },
  {
   "cell_type": "markdown",
   "id": "325fc9b5",
   "metadata": {},
   "source": [
    "What is the difference between regression and classification problems, and how can you convert a regression problem into a classification problem?"
   ]
  },
  {
   "cell_type": "markdown",
   "id": "279f5886",
   "metadata": {},
   "source": [
    "## **Solution:**"
   ]
  },
  {
   "cell_type": "code",
   "execution_count": null,
   "id": "94cd38ae",
   "metadata": {},
   "outputs": [],
   "source": []
  }
 ],
 "metadata": {},
 "nbformat": 4,
 "nbformat_minor": 5
}
