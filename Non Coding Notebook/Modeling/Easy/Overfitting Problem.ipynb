{
 "cells": [
  {
   "cell_type": "markdown",
   "id": "52ed6752",
   "metadata": {},
   "source": [
    "### **Link:** https://platform.stratascratch.com/technical/2246-overfitting-problem"
   ]
  },
  {
   "cell_type": "markdown",
   "id": "78fc0d0c",
   "metadata": {},
   "source": [
    "### **ID:** ID 2246"
   ]
  },
  {
   "cell_type": "markdown",
   "id": "ddbdcf29",
   "metadata": {},
   "source": [
    "# Overfitting Problem"
   ]
  },
  {
   "cell_type": "markdown",
   "id": "e6817c97",
   "metadata": {},
   "source": [
    "### **Difficulty:** Easy"
   ]
  },
  {
   "cell_type": "markdown",
   "id": "e7cc5288",
   "metadata": {},
   "source": [
    "### **Question Type:** Modeling"
   ]
  },
  {
   "cell_type": "markdown",
   "id": "5132403a",
   "metadata": {},
   "source": [
    "### **Company:** Capital One"
   ]
  },
  {
   "cell_type": "markdown",
   "id": "ad411694",
   "metadata": {},
   "source": [
    "## **Description:**"
   ]
  },
  {
   "cell_type": "markdown",
   "id": "3e8cfabc",
   "metadata": {},
   "source": [
    "How would you address the overfitting problem?"
   ]
  },
  {
   "cell_type": "markdown",
   "id": "1aca03ff",
   "metadata": {},
   "source": [
    "## **Solution:**"
   ]
  },
  {
   "cell_type": "code",
   "execution_count": null,
   "id": "bd0e4e5f",
   "metadata": {},
   "outputs": [],
   "source": []
  }
 ],
 "metadata": {},
 "nbformat": 4,
 "nbformat_minor": 5
}
