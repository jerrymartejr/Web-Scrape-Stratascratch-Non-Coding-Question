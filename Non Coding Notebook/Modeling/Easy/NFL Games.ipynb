{
 "cells": [
  {
   "cell_type": "markdown",
   "id": "6d9a3273",
   "metadata": {},
   "source": [
    "### **Link:** https://platform.stratascratch.com/technical/2232-nfl-games"
   ]
  },
  {
   "cell_type": "markdown",
   "id": "bf97fa4f",
   "metadata": {},
   "source": [
    "### **ID:** ID 2232"
   ]
  },
  {
   "cell_type": "markdown",
   "id": "bb591c50",
   "metadata": {},
   "source": [
    "# NFL Games"
   ]
  },
  {
   "cell_type": "markdown",
   "id": "f847ad11",
   "metadata": {},
   "source": [
    "### **Difficulty:** Easy"
   ]
  },
  {
   "cell_type": "markdown",
   "id": "c4d84b6a",
   "metadata": {},
   "source": [
    "### **Question Type:** Modeling"
   ]
  },
  {
   "cell_type": "markdown",
   "id": "65e70813",
   "metadata": {},
   "source": [
    "### **Company:** Salesforce"
   ]
  },
  {
   "cell_type": "markdown",
   "id": "e421eaaf",
   "metadata": {},
   "source": [
    "## **Description:**"
   ]
  },
  {
   "cell_type": "markdown",
   "id": "10062ef6",
   "metadata": {},
   "source": [
    "How would you build a classifier to predict the outcome of NFL games in real-time?"
   ]
  },
  {
   "cell_type": "markdown",
   "id": "8af85c02",
   "metadata": {},
   "source": [
    "## **Solution:**"
   ]
  },
  {
   "cell_type": "code",
   "execution_count": null,
   "id": "4caa008a",
   "metadata": {},
   "outputs": [],
   "source": []
  }
 ],
 "metadata": {},
 "nbformat": 4,
 "nbformat_minor": 5
}
