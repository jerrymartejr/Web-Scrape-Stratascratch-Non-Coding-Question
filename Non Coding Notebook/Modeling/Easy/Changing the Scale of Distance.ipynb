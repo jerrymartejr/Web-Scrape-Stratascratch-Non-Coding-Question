{
 "cells": [
  {
   "cell_type": "markdown",
   "id": "825c55de",
   "metadata": {},
   "source": [
    "### **Link:** https://platform.stratascratch.com/technical/2260-changing-the-scale-of-distance"
   ]
  },
  {
   "cell_type": "markdown",
   "id": "66e48bc4",
   "metadata": {},
   "source": [
    "### **ID:** ID 2260"
   ]
  },
  {
   "cell_type": "markdown",
   "id": "170e253e",
   "metadata": {},
   "source": [
    "# Changing the Scale of Distance"
   ]
  },
  {
   "cell_type": "markdown",
   "id": "0a0f0316",
   "metadata": {},
   "source": [
    "### **Difficulty:** Easy"
   ]
  },
  {
   "cell_type": "markdown",
   "id": "7930fd53",
   "metadata": {},
   "source": [
    "### **Question Type:** Modeling"
   ]
  },
  {
   "cell_type": "markdown",
   "id": "728be3cf",
   "metadata": {},
   "source": [
    "### **Company:** Uber, Via Transportation (New York)"
   ]
  },
  {
   "cell_type": "markdown",
   "id": "47caf2a7",
   "metadata": {},
   "source": [
    "## **Description:**"
   ]
  },
  {
   "cell_type": "markdown",
   "id": "82e955ac",
   "metadata": {},
   "source": [
    "If we want to build a logistic regression model with the distance (between the rider's current location and the pickup location) as the feature and the rider's acceptance as output, what would be the meaning of the coefficient of the feature? What will happen to the model if we change the scale of the distance (from the mile to km, or from km to m)?"
   ]
  },
  {
   "cell_type": "markdown",
   "id": "3971f58e",
   "metadata": {},
   "source": [
    "## **Solution:**"
   ]
  },
  {
   "cell_type": "code",
   "execution_count": null,
   "id": "fa8be51c",
   "metadata": {},
   "outputs": [],
   "source": []
  }
 ],
 "metadata": {},
 "nbformat": 4,
 "nbformat_minor": 5
}
