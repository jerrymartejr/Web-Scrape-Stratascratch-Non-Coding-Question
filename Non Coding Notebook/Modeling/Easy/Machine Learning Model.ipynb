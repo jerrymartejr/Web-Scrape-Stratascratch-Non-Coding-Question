{
 "cells": [
  {
   "cell_type": "markdown",
   "id": "6aeac1dd",
   "metadata": {},
   "source": [
    "### **Link:** https://platform.stratascratch.com/technical/2123-machine-learning-model"
   ]
  },
  {
   "cell_type": "markdown",
   "id": "4311b54c",
   "metadata": {},
   "source": [
    "### **ID:** ID 2123"
   ]
  },
  {
   "cell_type": "markdown",
   "id": "cde4dad8",
   "metadata": {},
   "source": [
    "# Machine Learning Model"
   ]
  },
  {
   "cell_type": "markdown",
   "id": "84d4f85d",
   "metadata": {},
   "source": [
    "### **Difficulty:** Easy"
   ]
  },
  {
   "cell_type": "markdown",
   "id": "b47302de",
   "metadata": {},
   "source": [
    "### **Question Type:** Modeling"
   ]
  },
  {
   "cell_type": "markdown",
   "id": "14e6f993",
   "metadata": {},
   "source": [
    "### **Company:** General Assembly"
   ]
  },
  {
   "cell_type": "markdown",
   "id": "08f6a934",
   "metadata": {},
   "source": [
    "## **Description:**"
   ]
  },
  {
   "cell_type": "markdown",
   "id": "d002092d",
   "metadata": {},
   "source": [
    "I built a machine learning model to solve a binary classification problem. The accuracy of my classifier is 99%, and the AUC is 0.51. Is my model doing well? Why or why not?"
   ]
  },
  {
   "cell_type": "markdown",
   "id": "dd11df14",
   "metadata": {},
   "source": [
    "## **Solution:**"
   ]
  },
  {
   "cell_type": "code",
   "execution_count": null,
   "id": "a603a310",
   "metadata": {},
   "outputs": [],
   "source": []
  }
 ],
 "metadata": {},
 "nbformat": 4,
 "nbformat_minor": 5
}
