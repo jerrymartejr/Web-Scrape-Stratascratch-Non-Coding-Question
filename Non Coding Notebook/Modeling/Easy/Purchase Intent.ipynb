{
 "cells": [
  {
   "cell_type": "markdown",
   "id": "42ca29f7",
   "metadata": {},
   "source": [
    "### **Link:** https://platform.stratascratch.com/technical/2029-purchase-intent"
   ]
  },
  {
   "cell_type": "markdown",
   "id": "a2bb3907",
   "metadata": {},
   "source": [
    "### **ID:** ID 2029"
   ]
  },
  {
   "cell_type": "markdown",
   "id": "77670e63",
   "metadata": {},
   "source": [
    "# Purchase Intent"
   ]
  },
  {
   "cell_type": "markdown",
   "id": "8d93ac03",
   "metadata": {},
   "source": [
    "### **Difficulty:** Easy"
   ]
  },
  {
   "cell_type": "markdown",
   "id": "c1d12a52",
   "metadata": {},
   "source": [
    "### **Question Type:** Modeling"
   ]
  },
  {
   "cell_type": "markdown",
   "id": "b05f5009",
   "metadata": {},
   "source": [
    "### **Company:** Stitch Fix"
   ]
  },
  {
   "cell_type": "markdown",
   "id": "65f879b7",
   "metadata": {},
   "source": [
    "## **Description:**"
   ]
  },
  {
   "cell_type": "markdown",
   "id": "d1bc1ca0",
   "metadata": {},
   "source": [
    "How might you determine if the size of a specific product is a significant feature in determining the customer's calculated propensity to buy it?"
   ]
  },
  {
   "cell_type": "markdown",
   "id": "6a0b5844",
   "metadata": {},
   "source": [
    "## **Solution:**"
   ]
  },
  {
   "cell_type": "code",
   "execution_count": null,
   "id": "64979b27",
   "metadata": {},
   "outputs": [],
   "source": []
  }
 ],
 "metadata": {},
 "nbformat": 4,
 "nbformat_minor": 5
}
