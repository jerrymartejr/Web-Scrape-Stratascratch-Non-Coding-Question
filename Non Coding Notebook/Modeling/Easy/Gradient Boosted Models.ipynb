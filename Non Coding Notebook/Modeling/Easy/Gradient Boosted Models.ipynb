{
 "cells": [
  {
   "cell_type": "markdown",
   "id": "7bd29f59",
   "metadata": {},
   "source": [
    "### **Link:** https://platform.stratascratch.com/technical/2159-gradient-boosted-models"
   ]
  },
  {
   "cell_type": "markdown",
   "id": "38f5b7dd",
   "metadata": {},
   "source": [
    "### **ID:** ID 2159"
   ]
  },
  {
   "cell_type": "markdown",
   "id": "5cde7ab9",
   "metadata": {},
   "source": [
    "# Gradient Boosted Models"
   ]
  },
  {
   "cell_type": "markdown",
   "id": "2d77e062",
   "metadata": {},
   "source": [
    "### **Difficulty:** Easy"
   ]
  },
  {
   "cell_type": "markdown",
   "id": "ca621d89",
   "metadata": {},
   "source": [
    "### **Question Type:** Modeling"
   ]
  },
  {
   "cell_type": "markdown",
   "id": "fec58509",
   "metadata": {},
   "source": [
    "### **Company:** ActiveCampaign, AgilOne, Atlassian"
   ]
  },
  {
   "cell_type": "markdown",
   "id": "b3d61bdb",
   "metadata": {},
   "source": [
    "## **Description:**"
   ]
  },
  {
   "cell_type": "markdown",
   "id": "88195d42",
   "metadata": {},
   "source": [
    "What are the advantages and disadvantages of Gradient Boosted Models?"
   ]
  },
  {
   "cell_type": "markdown",
   "id": "c2025849",
   "metadata": {},
   "source": [
    "## **Solution:**"
   ]
  },
  {
   "cell_type": "code",
   "execution_count": null,
   "id": "f6875093",
   "metadata": {},
   "outputs": [],
   "source": []
  }
 ],
 "metadata": {},
 "nbformat": 4,
 "nbformat_minor": 5
}
