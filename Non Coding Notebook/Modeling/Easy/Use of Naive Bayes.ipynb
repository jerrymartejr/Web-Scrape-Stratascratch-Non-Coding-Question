{
 "cells": [
  {
   "cell_type": "markdown",
   "id": "533acc4a",
   "metadata": {},
   "source": [
    "### **Link:** https://platform.stratascratch.com/technical/2234-use-of-naive-bayes"
   ]
  },
  {
   "cell_type": "markdown",
   "id": "cad72b6c",
   "metadata": {},
   "source": [
    "### **ID:** ID 2234"
   ]
  },
  {
   "cell_type": "markdown",
   "id": "cd6553a6",
   "metadata": {},
   "source": [
    "# Use of Naive Bayes"
   ]
  },
  {
   "cell_type": "markdown",
   "id": "ab7ba9d0",
   "metadata": {},
   "source": [
    "### **Difficulty:** Easy"
   ]
  },
  {
   "cell_type": "markdown",
   "id": "e35916aa",
   "metadata": {},
   "source": [
    "### **Question Type:** Modeling"
   ]
  },
  {
   "cell_type": "markdown",
   "id": "4a9edfec",
   "metadata": {},
   "source": [
    "### **Company:** ActiveCampaign"
   ]
  },
  {
   "cell_type": "markdown",
   "id": "e0cd4d84",
   "metadata": {},
   "source": [
    "## **Description:**"
   ]
  },
  {
   "cell_type": "markdown",
   "id": "68fd75d5",
   "metadata": {},
   "source": [
    "Where is Naive Bayes useful?"
   ]
  },
  {
   "cell_type": "markdown",
   "id": "0b3ad5b6",
   "metadata": {},
   "source": [
    "## **Solution:**"
   ]
  },
  {
   "cell_type": "code",
   "execution_count": null,
   "id": "d6a2f755",
   "metadata": {},
   "outputs": [],
   "source": []
  }
 ],
 "metadata": {},
 "nbformat": 4,
 "nbformat_minor": 5
}
