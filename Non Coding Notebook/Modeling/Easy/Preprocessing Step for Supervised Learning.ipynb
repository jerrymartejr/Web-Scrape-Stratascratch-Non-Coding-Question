{
 "cells": [
  {
   "cell_type": "markdown",
   "id": "936e9f7a",
   "metadata": {},
   "source": [
    "### **Link:** https://platform.stratascratch.com/technical/2134-preprocessing-step-for-supervised-learning"
   ]
  },
  {
   "cell_type": "markdown",
   "id": "e4cce316",
   "metadata": {},
   "source": [
    "### **ID:** ID 2134"
   ]
  },
  {
   "cell_type": "markdown",
   "id": "b459397c",
   "metadata": {},
   "source": [
    "# Preprocessing Step for Supervised Learning"
   ]
  },
  {
   "cell_type": "markdown",
   "id": "5f4e638e",
   "metadata": {},
   "source": [
    "### **Difficulty:** Easy"
   ]
  },
  {
   "cell_type": "markdown",
   "id": "241bb35a",
   "metadata": {},
   "source": [
    "### **Question Type:** Modeling"
   ]
  },
  {
   "cell_type": "markdown",
   "id": "8f43e89b",
   "metadata": {},
   "source": [
    "### **Company:** General Assembly"
   ]
  },
  {
   "cell_type": "markdown",
   "id": "98e69c3c",
   "metadata": {},
   "source": [
    "## **Description:**"
   ]
  },
  {
   "cell_type": "markdown",
   "id": "9c6dc522",
   "metadata": {},
   "source": [
    "How could unsupervised learning be used as a preprocessing step for supervised learning?"
   ]
  },
  {
   "cell_type": "markdown",
   "id": "48516597",
   "metadata": {},
   "source": [
    "## **Solution:**"
   ]
  },
  {
   "cell_type": "code",
   "execution_count": null,
   "id": "51095b9b",
   "metadata": {},
   "outputs": [],
   "source": []
  }
 ],
 "metadata": {},
 "nbformat": 4,
 "nbformat_minor": 5
}
