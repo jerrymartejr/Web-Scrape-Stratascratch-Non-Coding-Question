{
 "cells": [
  {
   "cell_type": "markdown",
   "id": "b8178567",
   "metadata": {},
   "source": [
    "### **Link:** https://platform.stratascratch.com/technical/2176-population-in-nigeria"
   ]
  },
  {
   "cell_type": "markdown",
   "id": "d788ce9f",
   "metadata": {},
   "source": [
    "### **ID:** ID 2176"
   ]
  },
  {
   "cell_type": "markdown",
   "id": "2252b126",
   "metadata": {},
   "source": [
    "# Population in Nigeria"
   ]
  },
  {
   "cell_type": "markdown",
   "id": "1803b309",
   "metadata": {},
   "source": [
    "### **Difficulty:** Easy"
   ]
  },
  {
   "cell_type": "markdown",
   "id": "3dd211ff",
   "metadata": {},
   "source": [
    "### **Question Type:** Business Case"
   ]
  },
  {
   "cell_type": "markdown",
   "id": "1697a8e4",
   "metadata": {},
   "source": [
    "### **Company:** Stripe, Citadel, Visa"
   ]
  },
  {
   "cell_type": "markdown",
   "id": "5caab5fe",
   "metadata": {},
   "source": [
    "## **Description:**"
   ]
  },
  {
   "cell_type": "markdown",
   "id": "315548c4",
   "metadata": {},
   "source": [
    "What is the population in Nigeria, can you give me a 95% confidence interval?"
   ]
  },
  {
   "cell_type": "markdown",
   "id": "bdf03d0d",
   "metadata": {},
   "source": [
    "## **Solution:**"
   ]
  },
  {
   "cell_type": "code",
   "execution_count": null,
   "id": "0697b8f4",
   "metadata": {},
   "outputs": [],
   "source": []
  }
 ],
 "metadata": {},
 "nbformat": 4,
 "nbformat_minor": 5
}
