{
 "cells": [
  {
   "cell_type": "markdown",
   "id": "124146bd",
   "metadata": {},
   "source": [
    "### **Link:** https://platform.stratascratch.com/technical/2069-financial-institution"
   ]
  },
  {
   "cell_type": "markdown",
   "id": "6a5302ed",
   "metadata": {},
   "source": [
    "### **ID:** ID 2069"
   ]
  },
  {
   "cell_type": "markdown",
   "id": "60570714",
   "metadata": {},
   "source": [
    "# Financial Institution"
   ]
  },
  {
   "cell_type": "markdown",
   "id": "55e8258a",
   "metadata": {},
   "source": [
    "### **Difficulty:** Easy"
   ]
  },
  {
   "cell_type": "markdown",
   "id": "0d5c22ac",
   "metadata": {},
   "source": [
    "### **Question Type:** Business Case"
   ]
  },
  {
   "cell_type": "markdown",
   "id": "eac6190a",
   "metadata": {},
   "source": [
    "### **Company:** DemystData"
   ]
  },
  {
   "cell_type": "markdown",
   "id": "de808c1f",
   "metadata": {},
   "source": [
    "## **Description:**"
   ]
  },
  {
   "cell_type": "markdown",
   "id": "d369f504",
   "metadata": {},
   "source": [
    "How would a financial institution determine if an applicant makes more or less than $50k/year?"
   ]
  },
  {
   "cell_type": "markdown",
   "id": "75f8b119",
   "metadata": {},
   "source": [
    "## **Solution:**"
   ]
  },
  {
   "cell_type": "code",
   "execution_count": null,
   "id": "c58d99eb",
   "metadata": {},
   "outputs": [],
   "source": []
  }
 ],
 "metadata": {},
 "nbformat": 4,
 "nbformat_minor": 5
}
