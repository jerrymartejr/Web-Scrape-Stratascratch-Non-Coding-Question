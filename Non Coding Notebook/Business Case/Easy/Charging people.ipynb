{
 "cells": [
  {
   "cell_type": "markdown",
   "id": "25d419cc",
   "metadata": {},
   "source": [
    "### **Link:** https://platform.stratascratch.com/technical/2141-charging-people"
   ]
  },
  {
   "cell_type": "markdown",
   "id": "ad9083c8",
   "metadata": {},
   "source": [
    "### **ID:** ID 2141"
   ]
  },
  {
   "cell_type": "markdown",
   "id": "5d0f6f34",
   "metadata": {},
   "source": [
    "# Charging people"
   ]
  },
  {
   "cell_type": "markdown",
   "id": "561d50c4",
   "metadata": {},
   "source": [
    "### **Difficulty:** Easy"
   ]
  },
  {
   "cell_type": "markdown",
   "id": "35b80aff",
   "metadata": {},
   "source": [
    "### **Question Type:** Business Case"
   ]
  },
  {
   "cell_type": "markdown",
   "id": "8ea799e3",
   "metadata": {},
   "source": [
    "### **Company:** Opendoor, Robinhood, Luxe Valet"
   ]
  },
  {
   "cell_type": "markdown",
   "id": "f71ccd89",
   "metadata": {},
   "source": [
    "## **Description:**"
   ]
  },
  {
   "cell_type": "markdown",
   "id": "993e7de2",
   "metadata": {},
   "source": [
    "How should we charge people who sell us their homes?"
   ]
  },
  {
   "cell_type": "markdown",
   "id": "3eeea591",
   "metadata": {},
   "source": [
    "## **Solution:**"
   ]
  },
  {
   "cell_type": "code",
   "execution_count": null,
   "id": "4500fbf4",
   "metadata": {},
   "outputs": [],
   "source": []
  }
 ],
 "metadata": {},
 "nbformat": 4,
 "nbformat_minor": 5
}
