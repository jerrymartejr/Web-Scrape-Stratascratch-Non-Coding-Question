{
 "cells": [
  {
   "cell_type": "markdown",
   "id": "71b5ec45",
   "metadata": {},
   "source": [
    "### **Link:** https://platform.stratascratch.com/technical/2262-roads-in-san-francisco"
   ]
  },
  {
   "cell_type": "markdown",
   "id": "92f053cd",
   "metadata": {},
   "source": [
    "### **ID:** ID 2262"
   ]
  },
  {
   "cell_type": "markdown",
   "id": "46f5b071",
   "metadata": {},
   "source": [
    "# Roads in San Francisco"
   ]
  },
  {
   "cell_type": "markdown",
   "id": "01e3bcea",
   "metadata": {},
   "source": [
    "### **Difficulty:** Easy"
   ]
  },
  {
   "cell_type": "markdown",
   "id": "73d5eff0",
   "metadata": {},
   "source": [
    "### **Question Type:** Business Case"
   ]
  },
  {
   "cell_type": "markdown",
   "id": "357f0049",
   "metadata": {},
   "source": [
    "### **Company:** Amazon, Ebay"
   ]
  },
  {
   "cell_type": "markdown",
   "id": "d3dd8148",
   "metadata": {},
   "source": [
    "## **Description:**"
   ]
  },
  {
   "cell_type": "markdown",
   "id": "af823b79",
   "metadata": {},
   "source": [
    "What is the total length of all the roads in San Francisco?"
   ]
  },
  {
   "cell_type": "markdown",
   "id": "1a289aad",
   "metadata": {},
   "source": [
    "## **Solution:**"
   ]
  },
  {
   "cell_type": "code",
   "execution_count": null,
   "id": "e59d2148",
   "metadata": {},
   "outputs": [],
   "source": []
  }
 ],
 "metadata": {},
 "nbformat": 4,
 "nbformat_minor": 5
}
