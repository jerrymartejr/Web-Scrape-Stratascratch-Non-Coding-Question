{
 "cells": [
  {
   "cell_type": "markdown",
   "id": "3794f148",
   "metadata": {},
   "source": [
    "### **Link:** https://platform.stratascratch.com/technical/2061-nyc-daily-trips"
   ]
  },
  {
   "cell_type": "markdown",
   "id": "480d5489",
   "metadata": {},
   "source": [
    "### **ID:** ID 2061"
   ]
  },
  {
   "cell_type": "markdown",
   "id": "96be9899",
   "metadata": {},
   "source": [
    "# NYC Daily Trips"
   ]
  },
  {
   "cell_type": "markdown",
   "id": "fb8d195e",
   "metadata": {},
   "source": [
    "### **Difficulty:** Easy"
   ]
  },
  {
   "cell_type": "markdown",
   "id": "4b58afca",
   "metadata": {},
   "source": [
    "### **Question Type:** Business Case"
   ]
  },
  {
   "cell_type": "markdown",
   "id": "e3b918a9",
   "metadata": {},
   "source": [
    "### **Company:** Capital One, Citadel"
   ]
  },
  {
   "cell_type": "markdown",
   "id": "f2272398",
   "metadata": {},
   "source": [
    "## **Description:**"
   ]
  },
  {
   "cell_type": "markdown",
   "id": "b6034c04",
   "metadata": {},
   "source": [
    "What's the distribution of the number of daily trips in NYC looks like?"
   ]
  },
  {
   "cell_type": "markdown",
   "id": "02be1692",
   "metadata": {},
   "source": [
    "## **Solution:**"
   ]
  },
  {
   "cell_type": "code",
   "execution_count": null,
   "id": "7a6b1554",
   "metadata": {},
   "outputs": [],
   "source": []
  }
 ],
 "metadata": {},
 "nbformat": 4,
 "nbformat_minor": 5
}
