{
 "cells": [
  {
   "cell_type": "markdown",
   "id": "5d9eaae7",
   "metadata": {},
   "source": [
    "### **Link:** https://platform.stratascratch.com/technical/2233-us-tobacco-market"
   ]
  },
  {
   "cell_type": "markdown",
   "id": "5f46068d",
   "metadata": {},
   "source": [
    "### **ID:** ID 2233"
   ]
  },
  {
   "cell_type": "markdown",
   "id": "38513cd9",
   "metadata": {},
   "source": [
    "# US Tobacco Market"
   ]
  },
  {
   "cell_type": "markdown",
   "id": "6cd27ec0",
   "metadata": {},
   "source": [
    "### **Difficulty:** Easy"
   ]
  },
  {
   "cell_type": "markdown",
   "id": "3c3b35f5",
   "metadata": {},
   "source": [
    "### **Question Type:** Business Case"
   ]
  },
  {
   "cell_type": "markdown",
   "id": "280a2750",
   "metadata": {},
   "source": [
    "### **Company:** CKM Advisors"
   ]
  },
  {
   "cell_type": "markdown",
   "id": "afaedc5d",
   "metadata": {},
   "source": [
    "## **Description:**"
   ]
  },
  {
   "cell_type": "markdown",
   "id": "2f779f46",
   "metadata": {},
   "source": [
    "Size of the tobacco market in the US?"
   ]
  },
  {
   "cell_type": "markdown",
   "id": "79035bd9",
   "metadata": {},
   "source": [
    "## **Solution:**"
   ]
  },
  {
   "cell_type": "code",
   "execution_count": null,
   "id": "3358f33a",
   "metadata": {},
   "outputs": [],
   "source": []
  }
 ],
 "metadata": {},
 "nbformat": 4,
 "nbformat_minor": 5
}
