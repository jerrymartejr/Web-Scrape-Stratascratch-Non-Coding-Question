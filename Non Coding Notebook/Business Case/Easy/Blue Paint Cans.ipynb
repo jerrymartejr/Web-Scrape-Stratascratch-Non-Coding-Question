{
 "cells": [
  {
   "cell_type": "markdown",
   "id": "cb21be9f",
   "metadata": {},
   "source": [
    "### **Link:** https://platform.stratascratch.com/technical/2087-blue-paint-cans"
   ]
  },
  {
   "cell_type": "markdown",
   "id": "bb831b28",
   "metadata": {},
   "source": [
    "### **ID:** ID 2087"
   ]
  },
  {
   "cell_type": "markdown",
   "id": "a1f67a16",
   "metadata": {},
   "source": [
    "# Blue Paint Cans"
   ]
  },
  {
   "cell_type": "markdown",
   "id": "cceabb2f",
   "metadata": {},
   "source": [
    "### **Difficulty:** Easy"
   ]
  },
  {
   "cell_type": "markdown",
   "id": "f7215c23",
   "metadata": {},
   "source": [
    "### **Question Type:** Business Case"
   ]
  },
  {
   "cell_type": "markdown",
   "id": "98e596d4",
   "metadata": {},
   "source": [
    "### **Company:** Google"
   ]
  },
  {
   "cell_type": "markdown",
   "id": "39b126fe",
   "metadata": {},
   "source": [
    "## **Description:**"
   ]
  },
  {
   "cell_type": "markdown",
   "id": "3382c875",
   "metadata": {},
   "source": [
    "How many cans of blue paint were sold in the United States last year?"
   ]
  },
  {
   "cell_type": "markdown",
   "id": "49153f8c",
   "metadata": {},
   "source": [
    "## **Solution:**"
   ]
  },
  {
   "cell_type": "code",
   "execution_count": null,
   "id": "b77fc831",
   "metadata": {},
   "outputs": [],
   "source": []
  }
 ],
 "metadata": {},
 "nbformat": 4,
 "nbformat_minor": 5
}
