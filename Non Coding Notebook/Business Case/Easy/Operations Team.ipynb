{
 "cells": [
  {
   "cell_type": "markdown",
   "id": "8c1947ce",
   "metadata": {},
   "source": [
    "### **Link:** https://platform.stratascratch.com/technical/2206-operations-team"
   ]
  },
  {
   "cell_type": "markdown",
   "id": "20e87146",
   "metadata": {},
   "source": [
    "### **ID:** ID 2206"
   ]
  },
  {
   "cell_type": "markdown",
   "id": "dfc919d9",
   "metadata": {},
   "source": [
    "# Operations Team"
   ]
  },
  {
   "cell_type": "markdown",
   "id": "3fde0c27",
   "metadata": {},
   "source": [
    "### **Difficulty:** Easy"
   ]
  },
  {
   "cell_type": "markdown",
   "id": "3f975d08",
   "metadata": {},
   "source": [
    "### **Question Type:** Business Case"
   ]
  },
  {
   "cell_type": "markdown",
   "id": "9248da2c",
   "metadata": {},
   "source": [
    "### **Company:** Airbnb"
   ]
  },
  {
   "cell_type": "markdown",
   "id": "bd041d56",
   "metadata": {},
   "source": [
    "## **Description:**"
   ]
  },
  {
   "cell_type": "markdown",
   "id": "b8e76cee",
   "metadata": {},
   "source": [
    "How would you measure the effectiveness of our operations team?"
   ]
  },
  {
   "cell_type": "markdown",
   "id": "38bcadff",
   "metadata": {},
   "source": [
    "## **Solution:**"
   ]
  },
  {
   "cell_type": "code",
   "execution_count": null,
   "id": "04319963",
   "metadata": {},
   "outputs": [],
   "source": []
  }
 ],
 "metadata": {},
 "nbformat": 4,
 "nbformat_minor": 5
}
