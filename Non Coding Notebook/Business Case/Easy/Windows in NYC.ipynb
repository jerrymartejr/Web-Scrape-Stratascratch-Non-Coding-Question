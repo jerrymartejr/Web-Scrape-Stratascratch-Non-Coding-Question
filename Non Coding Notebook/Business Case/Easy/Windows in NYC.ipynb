{
 "cells": [
  {
   "cell_type": "markdown",
   "id": "0321d48f",
   "metadata": {},
   "source": [
    "### **Link:** https://platform.stratascratch.com/technical/2090-windows-in-nyc"
   ]
  },
  {
   "cell_type": "markdown",
   "id": "691b1224",
   "metadata": {},
   "source": [
    "### **ID:** ID 2090"
   ]
  },
  {
   "cell_type": "markdown",
   "id": "01baf4d0",
   "metadata": {},
   "source": [
    "# Windows in NYC"
   ]
  },
  {
   "cell_type": "markdown",
   "id": "2169bca6",
   "metadata": {},
   "source": [
    "### **Difficulty:** Easy"
   ]
  },
  {
   "cell_type": "markdown",
   "id": "a615d483",
   "metadata": {},
   "source": [
    "### **Question Type:** Business Case"
   ]
  },
  {
   "cell_type": "markdown",
   "id": "8556854e",
   "metadata": {},
   "source": [
    "### **Company:** Travel Click"
   ]
  },
  {
   "cell_type": "markdown",
   "id": "9b708174",
   "metadata": {},
   "source": [
    "## **Description:**"
   ]
  },
  {
   "cell_type": "markdown",
   "id": "aedf81fe",
   "metadata": {},
   "source": [
    "How many windows are there in NYC?"
   ]
  },
  {
   "cell_type": "markdown",
   "id": "a7efca0a",
   "metadata": {},
   "source": [
    "## **Solution:**"
   ]
  },
  {
   "cell_type": "code",
   "execution_count": null,
   "id": "3e52163e",
   "metadata": {},
   "outputs": [],
   "source": []
  }
 ],
 "metadata": {},
 "nbformat": 4,
 "nbformat_minor": 5
}
