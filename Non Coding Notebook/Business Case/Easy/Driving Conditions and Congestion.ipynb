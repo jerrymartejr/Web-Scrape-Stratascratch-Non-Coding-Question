{
 "cells": [
  {
   "cell_type": "markdown",
   "id": "1c084397",
   "metadata": {},
   "source": [
    "### **Link:** https://platform.stratascratch.com/technical/2213-driving-conditions-and-congestion"
   ]
  },
  {
   "cell_type": "markdown",
   "id": "546ec118",
   "metadata": {},
   "source": [
    "### **ID:** ID 2213"
   ]
  },
  {
   "cell_type": "markdown",
   "id": "e7d5242a",
   "metadata": {},
   "source": [
    "# Driving Conditions and Congestion"
   ]
  },
  {
   "cell_type": "markdown",
   "id": "1d7f6ec8",
   "metadata": {},
   "source": [
    "### **Difficulty:** Easy"
   ]
  },
  {
   "cell_type": "markdown",
   "id": "8045dc9c",
   "metadata": {},
   "source": [
    "### **Question Type:** Business Case"
   ]
  },
  {
   "cell_type": "markdown",
   "id": "73da3f9d",
   "metadata": {},
   "source": [
    "### **Company:** Uber"
   ]
  },
  {
   "cell_type": "markdown",
   "id": "522609cc",
   "metadata": {},
   "source": [
    "## **Description:**"
   ]
  },
  {
   "cell_type": "markdown",
   "id": "b3a0242e",
   "metadata": {},
   "source": [
    "How do you estimate the impact that Uber has on driving conditions and congestion?"
   ]
  },
  {
   "cell_type": "markdown",
   "id": "302522b3",
   "metadata": {},
   "source": [
    "## **Solution:**"
   ]
  },
  {
   "cell_type": "code",
   "execution_count": null,
   "id": "c12259c2",
   "metadata": {},
   "outputs": [],
   "source": []
  }
 ],
 "metadata": {},
 "nbformat": 4,
 "nbformat_minor": 5
}
