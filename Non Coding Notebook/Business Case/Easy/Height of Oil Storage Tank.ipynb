{
 "cells": [
  {
   "cell_type": "markdown",
   "id": "dcbc83bd",
   "metadata": {},
   "source": [
    "### **Link:** https://platform.stratascratch.com/technical/2215-height-of-oil-storage-tank"
   ]
  },
  {
   "cell_type": "markdown",
   "id": "a74e614f",
   "metadata": {},
   "source": [
    "### **ID:** ID 2215"
   ]
  },
  {
   "cell_type": "markdown",
   "id": "a40d303d",
   "metadata": {},
   "source": [
    "# Height of Oil Storage Tank"
   ]
  },
  {
   "cell_type": "markdown",
   "id": "0e944127",
   "metadata": {},
   "source": [
    "### **Difficulty:** Easy"
   ]
  },
  {
   "cell_type": "markdown",
   "id": "aaf6473f",
   "metadata": {},
   "source": [
    "### **Question Type:** Business Case"
   ]
  },
  {
   "cell_type": "markdown",
   "id": "bcac8863",
   "metadata": {},
   "source": [
    "### **Company:** SparkCognition, Orbital Insight, Two Sigma"
   ]
  },
  {
   "cell_type": "markdown",
   "id": "3e31e4ce",
   "metadata": {},
   "source": [
    "## **Description:**"
   ]
  },
  {
   "cell_type": "markdown",
   "id": "b446e8e0",
   "metadata": {},
   "source": [
    "How to measure the height of an oil storage tank from a satellite image?"
   ]
  },
  {
   "cell_type": "markdown",
   "id": "d806c9bb",
   "metadata": {},
   "source": [
    "## **Solution:**"
   ]
  },
  {
   "cell_type": "code",
   "execution_count": null,
   "id": "8b32642c",
   "metadata": {},
   "outputs": [],
   "source": []
  }
 ],
 "metadata": {},
 "nbformat": 4,
 "nbformat_minor": 5
}
