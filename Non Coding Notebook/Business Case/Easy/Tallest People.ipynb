{
 "cells": [
  {
   "cell_type": "markdown",
   "id": "c2f314fc",
   "metadata": {},
   "source": [
    "### **Link:** https://platform.stratascratch.com/technical/2079-tallest-people"
   ]
  },
  {
   "cell_type": "markdown",
   "id": "5c6004dd",
   "metadata": {},
   "source": [
    "### **ID:** ID 2079"
   ]
  },
  {
   "cell_type": "markdown",
   "id": "adcb9eaf",
   "metadata": {},
   "source": [
    "# Tallest People"
   ]
  },
  {
   "cell_type": "markdown",
   "id": "90eac92f",
   "metadata": {},
   "source": [
    "### **Difficulty:** Easy"
   ]
  },
  {
   "cell_type": "markdown",
   "id": "ae88405d",
   "metadata": {},
   "source": [
    "### **Question Type:** Business Case"
   ]
  },
  {
   "cell_type": "markdown",
   "id": "7cf583de",
   "metadata": {},
   "source": [
    "### **Company:** Hewlett-Packard"
   ]
  },
  {
   "cell_type": "markdown",
   "id": "98e8bfb7",
   "metadata": {},
   "source": [
    "## **Description:**"
   ]
  },
  {
   "cell_type": "markdown",
   "id": "1845d187",
   "metadata": {},
   "source": [
    "If Germans were the tallest people in the world how would you prove it?"
   ]
  },
  {
   "cell_type": "markdown",
   "id": "f345ce48",
   "metadata": {},
   "source": [
    "## **Solution:**"
   ]
  },
  {
   "cell_type": "code",
   "execution_count": null,
   "id": "f54431a2",
   "metadata": {},
   "outputs": [],
   "source": []
  }
 ],
 "metadata": {},
 "nbformat": 4,
 "nbformat_minor": 5
}
