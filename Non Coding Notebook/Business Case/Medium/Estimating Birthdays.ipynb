{
 "cells": [
  {
   "cell_type": "markdown",
   "id": "7a6e31db",
   "metadata": {},
   "source": [
    "### **Link:** https://platform.stratascratch.com/technical/2007-estimating-birthdays"
   ]
  },
  {
   "cell_type": "markdown",
   "id": "4c6d7886",
   "metadata": {},
   "source": [
    "### **ID:** ID 2007"
   ]
  },
  {
   "cell_type": "markdown",
   "id": "193d552d",
   "metadata": {},
   "source": [
    "# Estimating Birthdays"
   ]
  },
  {
   "cell_type": "markdown",
   "id": "8d57ca01",
   "metadata": {},
   "source": [
    "### **Difficulty:** Medium"
   ]
  },
  {
   "cell_type": "markdown",
   "id": "ef358015",
   "metadata": {},
   "source": [
    "### **Question Type:** Business Case"
   ]
  },
  {
   "cell_type": "markdown",
   "id": "f0a39bf0",
   "metadata": {},
   "source": [
    "### **Company:** Meta"
   ]
  },
  {
   "cell_type": "markdown",
   "id": "e6a92bac",
   "metadata": {},
   "source": [
    "## **Description:**"
   ]
  },
  {
   "cell_type": "markdown",
   "id": "540ae217",
   "metadata": {},
   "source": [
    "We at Meta/Facebook would like to develop a way to estimate the month and day of people's birthdays, regardless of whether people give us that information directly. What methods would you propose, and data would you use, to help with that task?"
   ]
  },
  {
   "cell_type": "markdown",
   "id": "f21f832e",
   "metadata": {},
   "source": [
    "## **Solution:**"
   ]
  },
  {
   "cell_type": "code",
   "execution_count": null,
   "id": "8c74f146",
   "metadata": {},
   "outputs": [],
   "source": []
  }
 ],
 "metadata": {},
 "nbformat": 4,
 "nbformat_minor": 5
}
