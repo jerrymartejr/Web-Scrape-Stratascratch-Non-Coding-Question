{
 "cells": [
  {
   "cell_type": "markdown",
   "id": "f4a3a569",
   "metadata": {},
   "source": [
    "### **Link:** https://platform.stratascratch.com/technical/2046-finding-invalid-schools"
   ]
  },
  {
   "cell_type": "markdown",
   "id": "cebc29b3",
   "metadata": {},
   "source": [
    "### **ID:** ID 2046"
   ]
  },
  {
   "cell_type": "markdown",
   "id": "17bd746d",
   "metadata": {},
   "source": [
    "# Finding Invalid Schools"
   ]
  },
  {
   "cell_type": "markdown",
   "id": "30ffcb4b",
   "metadata": {},
   "source": [
    "### **Difficulty:** Medium"
   ]
  },
  {
   "cell_type": "markdown",
   "id": "5937942d",
   "metadata": {},
   "source": [
    "### **Question Type:** Business Case"
   ]
  },
  {
   "cell_type": "markdown",
   "id": "8257424d",
   "metadata": {},
   "source": [
    "### **Company:** Meta"
   ]
  },
  {
   "cell_type": "markdown",
   "id": "4991fec6",
   "metadata": {},
   "source": [
    "## **Description:**"
   ]
  },
  {
   "cell_type": "markdown",
   "id": "199ad242",
   "metadata": {},
   "source": [
    "How many high schools that people have listed on their Meta/Facebook profiles are real? How do we find out, and deploy at scale, a way of finding invalid schools?"
   ]
  },
  {
   "cell_type": "markdown",
   "id": "6746e1ea",
   "metadata": {},
   "source": [
    "## **Solution:**"
   ]
  },
  {
   "cell_type": "code",
   "execution_count": null,
   "id": "081c1718",
   "metadata": {},
   "outputs": [],
   "source": []
  }
 ],
 "metadata": {},
 "nbformat": 4,
 "nbformat_minor": 5
}
