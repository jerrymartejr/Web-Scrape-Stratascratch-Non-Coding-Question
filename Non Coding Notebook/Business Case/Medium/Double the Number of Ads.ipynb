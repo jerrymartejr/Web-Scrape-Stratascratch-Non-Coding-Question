{
 "cells": [
  {
   "cell_type": "markdown",
   "id": "7b68ce0a",
   "metadata": {},
   "source": [
    "### **Link:** https://platform.stratascratch.com/technical/2202-double-the-number-of-ads"
   ]
  },
  {
   "cell_type": "markdown",
   "id": "0a5bad1f",
   "metadata": {},
   "source": [
    "### **ID:** ID 2202"
   ]
  },
  {
   "cell_type": "markdown",
   "id": "2e1d7c62",
   "metadata": {},
   "source": [
    "# Double the Number of Ads"
   ]
  },
  {
   "cell_type": "markdown",
   "id": "2943f1eb",
   "metadata": {},
   "source": [
    "### **Difficulty:** Medium"
   ]
  },
  {
   "cell_type": "markdown",
   "id": "de7d2b72",
   "metadata": {},
   "source": [
    "### **Question Type:** Business Case"
   ]
  },
  {
   "cell_type": "markdown",
   "id": "b2237e09",
   "metadata": {},
   "source": [
    "### **Company:** Meta"
   ]
  },
  {
   "cell_type": "markdown",
   "id": "bc32bbe2",
   "metadata": {},
   "source": [
    "## **Description:**"
   ]
  },
  {
   "cell_type": "markdown",
   "id": "db24150d",
   "metadata": {},
   "source": [
    "If a PM says that they want to double the number of ads in Newsfeed, how would you figure out if this is a good idea or not?"
   ]
  },
  {
   "cell_type": "markdown",
   "id": "31be758b",
   "metadata": {},
   "source": [
    "## **Solution:**"
   ]
  },
  {
   "cell_type": "code",
   "execution_count": null,
   "id": "0fb9c326",
   "metadata": {},
   "outputs": [],
   "source": []
  }
 ],
 "metadata": {},
 "nbformat": 4,
 "nbformat_minor": 5
}
