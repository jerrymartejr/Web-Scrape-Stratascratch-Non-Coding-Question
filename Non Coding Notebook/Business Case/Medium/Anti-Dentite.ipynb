{
 "cells": [
  {
   "cell_type": "markdown",
   "id": "fb7f5a5f",
   "metadata": {},
   "source": [
    "### **Link:** https://platform.stratascratch.com/technical/2018-anti-dentite"
   ]
  },
  {
   "cell_type": "markdown",
   "id": "9cb12786",
   "metadata": {},
   "source": [
    "### **ID:** ID 2018"
   ]
  },
  {
   "cell_type": "markdown",
   "id": "0be943c8",
   "metadata": {},
   "source": [
    "# Anti-Dentite"
   ]
  },
  {
   "cell_type": "markdown",
   "id": "84ff97db",
   "metadata": {},
   "source": [
    "### **Difficulty:** Medium"
   ]
  },
  {
   "cell_type": "markdown",
   "id": "426cf8cd",
   "metadata": {},
   "source": [
    "### **Question Type:** Business Case"
   ]
  },
  {
   "cell_type": "markdown",
   "id": "106416b4",
   "metadata": {},
   "source": [
    "### **Company:** Meta"
   ]
  },
  {
   "cell_type": "markdown",
   "id": "a58e22fc",
   "metadata": {},
   "source": [
    "## **Description:**"
   ]
  },
  {
   "cell_type": "markdown",
   "id": "d96f0c0a",
   "metadata": {},
   "source": [
    "How many dentists are there in the US?"
   ]
  },
  {
   "cell_type": "markdown",
   "id": "6efb04db",
   "metadata": {},
   "source": [
    "## **Solution:**"
   ]
  },
  {
   "cell_type": "code",
   "execution_count": null,
   "id": "d5e7196e",
   "metadata": {},
   "outputs": [],
   "source": []
  }
 ],
 "metadata": {},
 "nbformat": 4,
 "nbformat_minor": 5
}
