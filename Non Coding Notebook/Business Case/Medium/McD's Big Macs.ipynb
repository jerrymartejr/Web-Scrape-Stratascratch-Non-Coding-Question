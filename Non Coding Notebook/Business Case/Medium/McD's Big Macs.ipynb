{
 "cells": [
  {
   "cell_type": "markdown",
   "id": "b0cdc133",
   "metadata": {},
   "source": [
    "### **Link:** https://platform.stratascratch.com/technical/2002-mcds-big-macs"
   ]
  },
  {
   "cell_type": "markdown",
   "id": "3206bfb6",
   "metadata": {},
   "source": [
    "### **ID:** ID 2002"
   ]
  },
  {
   "cell_type": "markdown",
   "id": "442f08fa",
   "metadata": {},
   "source": [
    "# McD's Big Macs"
   ]
  },
  {
   "cell_type": "markdown",
   "id": "8163f007",
   "metadata": {},
   "source": [
    "### **Difficulty:** Medium"
   ]
  },
  {
   "cell_type": "markdown",
   "id": "3e5916d3",
   "metadata": {},
   "source": [
    "### **Question Type:** Business Case"
   ]
  },
  {
   "cell_type": "markdown",
   "id": "957bf337",
   "metadata": {},
   "source": [
    "### **Company:** Meta"
   ]
  },
  {
   "cell_type": "markdown",
   "id": "ac9f9da3",
   "metadata": {},
   "source": [
    "## **Description:**"
   ]
  },
  {
   "cell_type": "markdown",
   "id": "bce59dc4",
   "metadata": {},
   "source": [
    "How many Big Mac does McDonald sell each year in the US?"
   ]
  },
  {
   "cell_type": "markdown",
   "id": "5d6d2961",
   "metadata": {},
   "source": [
    "## **Solution:**"
   ]
  },
  {
   "cell_type": "code",
   "execution_count": null,
   "id": "b558a337",
   "metadata": {},
   "outputs": [],
   "source": []
  }
 ],
 "metadata": {},
 "nbformat": 4,
 "nbformat_minor": 5
}
