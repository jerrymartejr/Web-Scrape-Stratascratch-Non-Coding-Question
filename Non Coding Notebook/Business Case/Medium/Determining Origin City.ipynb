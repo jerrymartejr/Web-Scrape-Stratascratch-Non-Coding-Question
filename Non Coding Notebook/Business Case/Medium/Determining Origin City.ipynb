{
 "cells": [
  {
   "cell_type": "markdown",
   "id": "612c08a1",
   "metadata": {},
   "source": [
    "### **Link:** https://platform.stratascratch.com/technical/2014-determining-origin-city"
   ]
  },
  {
   "cell_type": "markdown",
   "id": "b7a1f159",
   "metadata": {},
   "source": [
    "### **ID:** ID 2014"
   ]
  },
  {
   "cell_type": "markdown",
   "id": "f83952de",
   "metadata": {},
   "source": [
    "# Determining Origin City"
   ]
  },
  {
   "cell_type": "markdown",
   "id": "ca1ecf1a",
   "metadata": {},
   "source": [
    "### **Difficulty:** Medium"
   ]
  },
  {
   "cell_type": "markdown",
   "id": "99e064f6",
   "metadata": {},
   "source": [
    "### **Question Type:** Business Case"
   ]
  },
  {
   "cell_type": "markdown",
   "id": "af6004d4",
   "metadata": {},
   "source": [
    "### **Company:** Uber"
   ]
  },
  {
   "cell_type": "markdown",
   "id": "c27149c6",
   "metadata": {},
   "source": [
    "## **Description:**"
   ]
  },
  {
   "cell_type": "markdown",
   "id": "8dcda1a6",
   "metadata": {},
   "source": [
    "There is a pool of people who took Uber rides from two cities that were close in proximity, for example Menlo Park and Palo Alto, and any data you could think of could be collected. What data would you collect so that the city the passenger took a ride from could be determined?"
   ]
  },
  {
   "cell_type": "markdown",
   "id": "21fb5982",
   "metadata": {},
   "source": [
    "## **Solution:**"
   ]
  },
  {
   "cell_type": "code",
   "execution_count": null,
   "id": "e0d3b6fe",
   "metadata": {},
   "outputs": [],
   "source": []
  }
 ],
 "metadata": {},
 "nbformat": 4,
 "nbformat_minor": 5
}
