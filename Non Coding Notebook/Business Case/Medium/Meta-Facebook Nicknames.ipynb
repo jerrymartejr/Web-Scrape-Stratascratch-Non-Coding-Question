{
 "cells": [
  {
   "cell_type": "markdown",
   "id": "a3c389ef",
   "metadata": {},
   "source": [
    "### **Link:** https://platform.stratascratch.com/technical/2057-facebook-nicknames"
   ]
  },
  {
   "cell_type": "markdown",
   "id": "0d338976",
   "metadata": {},
   "source": [
    "### **ID:** ID 2057"
   ]
  },
  {
   "cell_type": "markdown",
   "id": "d627a60f",
   "metadata": {},
   "source": [
    "# Meta-Facebook Nicknames"
   ]
  },
  {
   "cell_type": "markdown",
   "id": "7403fa56",
   "metadata": {},
   "source": [
    "### **Difficulty:** Medium"
   ]
  },
  {
   "cell_type": "markdown",
   "id": "5f64ffe6",
   "metadata": {},
   "source": [
    "### **Question Type:** Business Case"
   ]
  },
  {
   "cell_type": "markdown",
   "id": "33ffc3d9",
   "metadata": {},
   "source": [
    "### **Company:** Meta"
   ]
  },
  {
   "cell_type": "markdown",
   "id": "cec90c90",
   "metadata": {},
   "source": [
    "## **Description:**"
   ]
  },
  {
   "cell_type": "markdown",
   "id": "6e656651",
   "metadata": {},
   "source": [
    "How do you map nicknames used in Meta/Facebook users names (Pete, Andy, Nick, Rob, etc) to real names?"
   ]
  },
  {
   "cell_type": "markdown",
   "id": "6eda38fa",
   "metadata": {},
   "source": [
    "## **Solution:**"
   ]
  },
  {
   "cell_type": "code",
   "execution_count": null,
   "id": "ee735516",
   "metadata": {},
   "outputs": [],
   "source": []
  }
 ],
 "metadata": {},
 "nbformat": 4,
 "nbformat_minor": 5
}
