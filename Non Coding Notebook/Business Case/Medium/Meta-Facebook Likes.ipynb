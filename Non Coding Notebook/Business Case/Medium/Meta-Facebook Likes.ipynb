{
 "cells": [
  {
   "cell_type": "markdown",
   "id": "9179b12f",
   "metadata": {},
   "source": [
    "### **Link:** https://platform.stratascratch.com/technical/2216-facebook-likes"
   ]
  },
  {
   "cell_type": "markdown",
   "id": "52049c2f",
   "metadata": {},
   "source": [
    "### **ID:** ID 2216"
   ]
  },
  {
   "cell_type": "markdown",
   "id": "ee7cf278",
   "metadata": {},
   "source": [
    "# Meta-Facebook Likes"
   ]
  },
  {
   "cell_type": "markdown",
   "id": "60aa88eb",
   "metadata": {},
   "source": [
    "### **Difficulty:** Medium"
   ]
  },
  {
   "cell_type": "markdown",
   "id": "c35d1f5d",
   "metadata": {},
   "source": [
    "### **Question Type:** Business Case"
   ]
  },
  {
   "cell_type": "markdown",
   "id": "20fcb147",
   "metadata": {},
   "source": [
    "### **Company:** Meta"
   ]
  },
  {
   "cell_type": "markdown",
   "id": "4c692d8f",
   "metadata": {},
   "source": [
    "## **Description:**"
   ]
  },
  {
   "cell_type": "markdown",
   "id": "e7c3ec1d",
   "metadata": {},
   "source": [
    "Meta/Facebook sees that likes are up 10% year over year, why could this be?"
   ]
  },
  {
   "cell_type": "markdown",
   "id": "040ae181",
   "metadata": {},
   "source": [
    "## **Solution:**"
   ]
  },
  {
   "cell_type": "code",
   "execution_count": null,
   "id": "fcc3dbd0",
   "metadata": {},
   "outputs": [],
   "source": []
  }
 ],
 "metadata": {},
 "nbformat": 4,
 "nbformat_minor": 5
}
