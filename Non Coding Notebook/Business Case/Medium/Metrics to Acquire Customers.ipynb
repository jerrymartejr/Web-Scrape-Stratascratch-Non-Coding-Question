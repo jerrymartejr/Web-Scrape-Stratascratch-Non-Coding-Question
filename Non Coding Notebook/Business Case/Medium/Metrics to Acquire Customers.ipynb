{
 "cells": [
  {
   "cell_type": "markdown",
   "id": "a2bcb252",
   "metadata": {},
   "source": [
    "### **Link:** https://platform.stratascratch.com/technical/2021-metrics-to-acquire-customers"
   ]
  },
  {
   "cell_type": "markdown",
   "id": "5c0ac0aa",
   "metadata": {},
   "source": [
    "### **ID:** ID 2021"
   ]
  },
  {
   "cell_type": "markdown",
   "id": "7a8bcc04",
   "metadata": {},
   "source": [
    "# Metrics to Acquire Customers"
   ]
  },
  {
   "cell_type": "markdown",
   "id": "5678b60a",
   "metadata": {},
   "source": [
    "### **Difficulty:** Medium"
   ]
  },
  {
   "cell_type": "markdown",
   "id": "e890bf89",
   "metadata": {},
   "source": [
    "### **Question Type:** Business Case"
   ]
  },
  {
   "cell_type": "markdown",
   "id": "95f04738",
   "metadata": {},
   "source": [
    "### **Company:** Uber"
   ]
  },
  {
   "cell_type": "markdown",
   "id": "8a3f97f4",
   "metadata": {},
   "source": [
    "## **Description:**"
   ]
  },
  {
   "cell_type": "markdown",
   "id": "2ff156e2",
   "metadata": {},
   "source": [
    "What metrics would you use to track whether Uber's strategy of using paid advertising to acquire customers works?"
   ]
  },
  {
   "cell_type": "markdown",
   "id": "816688fd",
   "metadata": {},
   "source": [
    "## **Solution:**"
   ]
  },
  {
   "cell_type": "code",
   "execution_count": null,
   "id": "3979b643",
   "metadata": {},
   "outputs": [],
   "source": []
  }
 ],
 "metadata": {},
 "nbformat": 4,
 "nbformat_minor": 5
}
