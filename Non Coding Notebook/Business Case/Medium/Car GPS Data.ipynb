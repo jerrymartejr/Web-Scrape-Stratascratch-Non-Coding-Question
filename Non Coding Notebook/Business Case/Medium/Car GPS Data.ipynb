{
 "cells": [
  {
   "cell_type": "markdown",
   "id": "e482c234",
   "metadata": {},
   "source": [
    "### **Link:** https://platform.stratascratch.com/technical/2059-car-gps-data"
   ]
  },
  {
   "cell_type": "markdown",
   "id": "0f85a50c",
   "metadata": {},
   "source": [
    "### **ID:** ID 2059"
   ]
  },
  {
   "cell_type": "markdown",
   "id": "6091266e",
   "metadata": {},
   "source": [
    "# Car GPS Data"
   ]
  },
  {
   "cell_type": "markdown",
   "id": "683ee9e7",
   "metadata": {},
   "source": [
    "### **Difficulty:** Medium"
   ]
  },
  {
   "cell_type": "markdown",
   "id": "ccda6cfa",
   "metadata": {},
   "source": [
    "### **Question Type:** Business Case"
   ]
  },
  {
   "cell_type": "markdown",
   "id": "7d34dfe6",
   "metadata": {},
   "source": [
    "### **Company:** State Farm, AXA"
   ]
  },
  {
   "cell_type": "markdown",
   "id": "2369d789",
   "metadata": {},
   "source": [
    "## **Description:**"
   ]
  },
  {
   "cell_type": "markdown",
   "id": "ff140758",
   "metadata": {},
   "source": [
    "How could you use GPS data from a car to determine the quality of a driver?"
   ]
  },
  {
   "cell_type": "markdown",
   "id": "afe385bf",
   "metadata": {},
   "source": [
    "## **Solution:**"
   ]
  },
  {
   "cell_type": "code",
   "execution_count": null,
   "id": "b84afe65",
   "metadata": {},
   "outputs": [],
   "source": []
  }
 ],
 "metadata": {},
 "nbformat": 4,
 "nbformat_minor": 5
}
