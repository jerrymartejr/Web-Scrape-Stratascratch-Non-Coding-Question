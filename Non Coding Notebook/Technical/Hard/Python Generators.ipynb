{
 "cells": [
  {
   "cell_type": "markdown",
   "id": "06f1b199",
   "metadata": {},
   "source": [
    "### **Link:** https://platform.stratascratch.com/technical/2388-python-generators"
   ]
  },
  {
   "cell_type": "markdown",
   "id": "0124435d",
   "metadata": {},
   "source": [
    "### **ID:** ID 2388"
   ]
  },
  {
   "cell_type": "markdown",
   "id": "0ac880c3",
   "metadata": {},
   "source": [
    "# Python Generators"
   ]
  },
  {
   "cell_type": "markdown",
   "id": "f5ab3257",
   "metadata": {},
   "source": [
    "### **Difficulty:** Hard"
   ]
  },
  {
   "cell_type": "markdown",
   "id": "5987ce95",
   "metadata": {},
   "source": [
    "### **Question Type:** Technical"
   ]
  },
  {
   "cell_type": "markdown",
   "id": "63bf7f24",
   "metadata": {},
   "source": [
    "### **Company:** SAP, Asana, Atlassian"
   ]
  },
  {
   "cell_type": "markdown",
   "id": "f0f071f5",
   "metadata": {},
   "source": [
    "## **Description:**"
   ]
  },
  {
   "cell_type": "markdown",
   "id": "a8c74da7",
   "metadata": {},
   "source": [
    "What do python generators do?"
   ]
  },
  {
   "cell_type": "markdown",
   "id": "68fbb402",
   "metadata": {},
   "source": [
    "## **Solution:**"
   ]
  },
  {
   "cell_type": "code",
   "execution_count": null,
   "id": "224f5ee5",
   "metadata": {},
   "outputs": [],
   "source": []
  }
 ],
 "metadata": {},
 "nbformat": 4,
 "nbformat_minor": 5
}
