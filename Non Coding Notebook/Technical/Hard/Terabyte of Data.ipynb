{
 "cells": [
  {
   "cell_type": "markdown",
   "id": "46b77561",
   "metadata": {},
   "source": [
    "### **Link:** https://platform.stratascratch.com/technical/2364-terabyte-of-data"
   ]
  },
  {
   "cell_type": "markdown",
   "id": "c18095ab",
   "metadata": {},
   "source": [
    "### **ID:** ID 2364"
   ]
  },
  {
   "cell_type": "markdown",
   "id": "d805be3d",
   "metadata": {},
   "source": [
    "# Terabyte of Data"
   ]
  },
  {
   "cell_type": "markdown",
   "id": "e0e1d4f1",
   "metadata": {},
   "source": [
    "### **Difficulty:** Hard"
   ]
  },
  {
   "cell_type": "markdown",
   "id": "e0462c1c",
   "metadata": {},
   "source": [
    "### **Question Type:** Technical"
   ]
  },
  {
   "cell_type": "markdown",
   "id": "5b95f3e9",
   "metadata": {},
   "source": [
    "### **Company:** Capital One, Citadel"
   ]
  },
  {
   "cell_type": "markdown",
   "id": "2d1450f8",
   "metadata": {},
   "source": [
    "## **Description:**"
   ]
  },
  {
   "cell_type": "markdown",
   "id": "eedcda9c",
   "metadata": {},
   "source": [
    "How would you approach the task of processing a Terabyte of data using a Python script?"
   ]
  },
  {
   "cell_type": "markdown",
   "id": "eafb4c9f",
   "metadata": {},
   "source": [
    "## **Solution:**"
   ]
  },
  {
   "cell_type": "code",
   "execution_count": null,
   "id": "38009b52",
   "metadata": {},
   "outputs": [],
   "source": []
  }
 ],
 "metadata": {},
 "nbformat": 4,
 "nbformat_minor": 5
}
