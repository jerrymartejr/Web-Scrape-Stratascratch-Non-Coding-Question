{
 "cells": [
  {
   "cell_type": "markdown",
   "id": "74f491bf",
   "metadata": {},
   "source": [
    "### **Link:** https://platform.stratascratch.com/technical/2158-impute-missing-information"
   ]
  },
  {
   "cell_type": "markdown",
   "id": "ec61bc49",
   "metadata": {},
   "source": [
    "### **ID:** ID 2158"
   ]
  },
  {
   "cell_type": "markdown",
   "id": "3e6dad14",
   "metadata": {},
   "source": [
    "# Impute Missing Information"
   ]
  },
  {
   "cell_type": "markdown",
   "id": "e7bbf793",
   "metadata": {},
   "source": [
    "### **Difficulty:** Medium"
   ]
  },
  {
   "cell_type": "markdown",
   "id": "b0a4e828",
   "metadata": {},
   "source": [
    "### **Question Type:** Technical"
   ]
  },
  {
   "cell_type": "markdown",
   "id": "a928af2f",
   "metadata": {},
   "source": [
    "### **Company:** Airbnb, Expedia"
   ]
  },
  {
   "cell_type": "markdown",
   "id": "5517968e",
   "metadata": {},
   "source": [
    "## **Description:**"
   ]
  },
  {
   "cell_type": "markdown",
   "id": "e716cd2c",
   "metadata": {},
   "source": [
    "How would you impute missing information?"
   ]
  },
  {
   "cell_type": "markdown",
   "id": "37fdd033",
   "metadata": {},
   "source": [
    "## **Solution:**"
   ]
  },
  {
   "cell_type": "code",
   "execution_count": null,
   "id": "3fb8994d",
   "metadata": {},
   "outputs": [],
   "source": []
  }
 ],
 "metadata": {},
 "nbformat": 4,
 "nbformat_minor": 5
}
