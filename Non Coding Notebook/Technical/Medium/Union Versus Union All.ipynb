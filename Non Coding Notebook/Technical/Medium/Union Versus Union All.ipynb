{
 "cells": [
  {
   "cell_type": "markdown",
   "id": "a592435a",
   "metadata": {},
   "source": [
    "### **Link:** https://platform.stratascratch.com/technical/2384-union-versus-union-all"
   ]
  },
  {
   "cell_type": "markdown",
   "id": "906a8a14",
   "metadata": {},
   "source": [
    "### **ID:** ID 2384"
   ]
  },
  {
   "cell_type": "markdown",
   "id": "eb57f2e2",
   "metadata": {},
   "source": [
    "# Union Versus Union All"
   ]
  },
  {
   "cell_type": "markdown",
   "id": "c67ee94e",
   "metadata": {},
   "source": [
    "### **Difficulty:** Medium"
   ]
  },
  {
   "cell_type": "markdown",
   "id": "4830ea81",
   "metadata": {},
   "source": [
    "### **Question Type:** Technical"
   ]
  },
  {
   "cell_type": "markdown",
   "id": "882cfe28",
   "metadata": {},
   "source": [
    "### **Company:** Meta"
   ]
  },
  {
   "cell_type": "markdown",
   "id": "136c2c88",
   "metadata": {},
   "source": [
    "## **Description:**"
   ]
  },
  {
   "cell_type": "markdown",
   "id": "cbad968f",
   "metadata": {},
   "source": [
    "What is the difference in query performance between using UNION versus UNION ALL in SQL?"
   ]
  },
  {
   "cell_type": "markdown",
   "id": "8696ca31",
   "metadata": {},
   "source": [
    "## **Solution:**"
   ]
  },
  {
   "cell_type": "code",
   "execution_count": null,
   "id": "1eae3cf7",
   "metadata": {},
   "outputs": [],
   "source": []
  }
 ],
 "metadata": {},
 "nbformat": 4,
 "nbformat_minor": 5
}
