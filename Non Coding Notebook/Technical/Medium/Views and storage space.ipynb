{
 "cells": [
  {
   "cell_type": "markdown",
   "id": "ccd8d8a1",
   "metadata": {},
   "source": [
    "### **Link:** https://platform.stratascratch.com/technical/2375-views-and-storage-space"
   ]
  },
  {
   "cell_type": "markdown",
   "id": "df548bcc",
   "metadata": {},
   "source": [
    "### **ID:** ID 2375"
   ]
  },
  {
   "cell_type": "markdown",
   "id": "db53618a",
   "metadata": {},
   "source": [
    "# Views and storage space"
   ]
  },
  {
   "cell_type": "markdown",
   "id": "796f6cca",
   "metadata": {},
   "source": [
    "### **Difficulty:** Medium"
   ]
  },
  {
   "cell_type": "markdown",
   "id": "5762f049",
   "metadata": {},
   "source": [
    "### **Question Type:** Technical"
   ]
  },
  {
   "cell_type": "markdown",
   "id": "257cbde3",
   "metadata": {},
   "source": [
    "### **Company:** Meta"
   ]
  },
  {
   "cell_type": "markdown",
   "id": "65a5e9e7",
   "metadata": {},
   "source": [
    "## **Description:**"
   ]
  },
  {
   "cell_type": "markdown",
   "id": "cc002559",
   "metadata": {},
   "source": [
    "Does creating an SQL view use storage space in a database?"
   ]
  },
  {
   "cell_type": "markdown",
   "id": "f37a208f",
   "metadata": {},
   "source": [
    "## **Solution:**"
   ]
  },
  {
   "cell_type": "code",
   "execution_count": null,
   "id": "218d65c8",
   "metadata": {},
   "outputs": [],
   "source": []
  }
 ],
 "metadata": {},
 "nbformat": 4,
 "nbformat_minor": 5
}
