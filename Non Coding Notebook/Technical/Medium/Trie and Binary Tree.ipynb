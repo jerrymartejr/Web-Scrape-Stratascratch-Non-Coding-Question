{
 "cells": [
  {
   "cell_type": "markdown",
   "id": "cf2c1d4b",
   "metadata": {},
   "source": [
    "### **Link:** https://platform.stratascratch.com/technical/2355-trie-and-binary-tree"
   ]
  },
  {
   "cell_type": "markdown",
   "id": "db63c547",
   "metadata": {},
   "source": [
    "### **ID:** ID 2355"
   ]
  },
  {
   "cell_type": "markdown",
   "id": "010f1ccb",
   "metadata": {},
   "source": [
    "# Trie and Binary Tree"
   ]
  },
  {
   "cell_type": "markdown",
   "id": "2788d920",
   "metadata": {},
   "source": [
    "### **Difficulty:** Medium"
   ]
  },
  {
   "cell_type": "markdown",
   "id": "1ebbdb32",
   "metadata": {},
   "source": [
    "### **Question Type:** Technical"
   ]
  },
  {
   "cell_type": "markdown",
   "id": "ca4806f2",
   "metadata": {},
   "source": [
    "### **Company:** ActiveCampaign, Adobe"
   ]
  },
  {
   "cell_type": "markdown",
   "id": "bc9af77b",
   "metadata": {},
   "source": [
    "## **Description:**"
   ]
  },
  {
   "cell_type": "markdown",
   "id": "12d5dde9",
   "metadata": {},
   "source": [
    "How is the trie data structure different from the binary tree data structure?"
   ]
  },
  {
   "cell_type": "markdown",
   "id": "c14286d2",
   "metadata": {},
   "source": [
    "## **Solution:**"
   ]
  },
  {
   "cell_type": "code",
   "execution_count": null,
   "id": "116da9b9",
   "metadata": {},
   "outputs": [],
   "source": []
  }
 ],
 "metadata": {},
 "nbformat": 4,
 "nbformat_minor": 5
}
