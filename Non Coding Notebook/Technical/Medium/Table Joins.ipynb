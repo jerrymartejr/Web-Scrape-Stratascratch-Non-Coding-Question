{
 "cells": [
  {
   "cell_type": "markdown",
   "id": "1500aea6",
   "metadata": {},
   "source": [
    "### **Link:** https://platform.stratascratch.com/technical/2387-table-joins"
   ]
  },
  {
   "cell_type": "markdown",
   "id": "3187af43",
   "metadata": {},
   "source": [
    "### **ID:** ID 2387"
   ]
  },
  {
   "cell_type": "markdown",
   "id": "ce05a663",
   "metadata": {},
   "source": [
    "# Table Joins"
   ]
  },
  {
   "cell_type": "markdown",
   "id": "ded21f10",
   "metadata": {},
   "source": [
    "### **Difficulty:** Medium"
   ]
  },
  {
   "cell_type": "markdown",
   "id": "888bf4f6",
   "metadata": {},
   "source": [
    "### **Question Type:** Technical"
   ]
  },
  {
   "cell_type": "markdown",
   "id": "c3641c44",
   "metadata": {},
   "source": [
    "### **Company:** Deloitte"
   ]
  },
  {
   "cell_type": "markdown",
   "id": "9bdc4e24",
   "metadata": {},
   "source": [
    "## **Description:**"
   ]
  },
  {
   "cell_type": "markdown",
   "id": "48ea5b4f",
   "metadata": {},
   "source": [
    "What is the difference between Cartesian product and outer join?"
   ]
  },
  {
   "cell_type": "markdown",
   "id": "19a6e8a2",
   "metadata": {},
   "source": [
    "## **Solution:**"
   ]
  },
  {
   "cell_type": "code",
   "execution_count": null,
   "id": "f0da3b42",
   "metadata": {},
   "outputs": [],
   "source": []
  }
 ],
 "metadata": {},
 "nbformat": 4,
 "nbformat_minor": 5
}
