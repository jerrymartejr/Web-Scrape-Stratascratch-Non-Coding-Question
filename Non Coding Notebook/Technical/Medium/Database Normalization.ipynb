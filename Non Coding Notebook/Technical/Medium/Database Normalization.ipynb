{
 "cells": [
  {
   "cell_type": "markdown",
   "id": "d06482e1",
   "metadata": {},
   "source": [
    "### **Link:** https://platform.stratascratch.com/technical/2330-database-normalization"
   ]
  },
  {
   "cell_type": "markdown",
   "id": "8faf7cd4",
   "metadata": {},
   "source": [
    "### **ID:** ID 2330"
   ]
  },
  {
   "cell_type": "markdown",
   "id": "5f11d4a9",
   "metadata": {},
   "source": [
    "# Database Normalization"
   ]
  },
  {
   "cell_type": "markdown",
   "id": "a14322f9",
   "metadata": {},
   "source": [
    "### **Difficulty:** Medium"
   ]
  },
  {
   "cell_type": "markdown",
   "id": "6f48eb56",
   "metadata": {},
   "source": [
    "### **Question Type:** Technical"
   ]
  },
  {
   "cell_type": "markdown",
   "id": "0a5b65db",
   "metadata": {},
   "source": [
    "### **Company:** Deloitte"
   ]
  },
  {
   "cell_type": "markdown",
   "id": "fff7a896",
   "metadata": {},
   "source": [
    "## **Description:**"
   ]
  },
  {
   "cell_type": "markdown",
   "id": "89d14cda",
   "metadata": {},
   "source": [
    "List and shortly explain the steps of the database normalization process."
   ]
  },
  {
   "cell_type": "markdown",
   "id": "c4ae08f0",
   "metadata": {},
   "source": [
    "## **Solution:**"
   ]
  },
  {
   "cell_type": "code",
   "execution_count": null,
   "id": "216fd293",
   "metadata": {},
   "outputs": [],
   "source": []
  }
 ],
 "metadata": {},
 "nbformat": 4,
 "nbformat_minor": 5
}
