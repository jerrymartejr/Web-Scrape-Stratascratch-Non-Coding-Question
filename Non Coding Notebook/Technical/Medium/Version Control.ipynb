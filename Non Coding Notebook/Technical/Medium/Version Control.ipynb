{
 "cells": [
  {
   "cell_type": "markdown",
   "id": "bda140f8",
   "metadata": {},
   "source": [
    "### **Link:** https://platform.stratascratch.com/technical/2383-version-control"
   ]
  },
  {
   "cell_type": "markdown",
   "id": "b836a52b",
   "metadata": {},
   "source": [
    "### **ID:** ID 2383"
   ]
  },
  {
   "cell_type": "markdown",
   "id": "5f6d6545",
   "metadata": {},
   "source": [
    "# Version Control"
   ]
  },
  {
   "cell_type": "markdown",
   "id": "07e0ebbd",
   "metadata": {},
   "source": [
    "### **Difficulty:** Medium"
   ]
  },
  {
   "cell_type": "markdown",
   "id": "c2b43050",
   "metadata": {},
   "source": [
    "### **Question Type:** Technical"
   ]
  },
  {
   "cell_type": "markdown",
   "id": "1f5bbac1",
   "metadata": {},
   "source": [
    "### **Company:** Capital One, Citadel, MetLife"
   ]
  },
  {
   "cell_type": "markdown",
   "id": "f485cba3",
   "metadata": {},
   "source": [
    "## **Description:**"
   ]
  },
  {
   "cell_type": "markdown",
   "id": "e1328df8",
   "metadata": {},
   "source": [
    "What tools and methods would you use to ensure version control when multiple data scientists are developing a single model?"
   ]
  },
  {
   "cell_type": "markdown",
   "id": "868b2aed",
   "metadata": {},
   "source": [
    "## **Solution:**"
   ]
  },
  {
   "cell_type": "code",
   "execution_count": null,
   "id": "efe5df12",
   "metadata": {},
   "outputs": [],
   "source": []
  }
 ],
 "metadata": {},
 "nbformat": 4,
 "nbformat_minor": 5
}
