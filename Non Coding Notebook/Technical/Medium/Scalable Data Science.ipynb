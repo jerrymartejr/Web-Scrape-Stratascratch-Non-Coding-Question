{
 "cells": [
  {
   "cell_type": "markdown",
   "id": "4f072fa5",
   "metadata": {},
   "source": [
    "### **Link:** https://platform.stratascratch.com/technical/2365-scalable-data-science"
   ]
  },
  {
   "cell_type": "markdown",
   "id": "a60f6778",
   "metadata": {},
   "source": [
    "### **ID:** ID 2365"
   ]
  },
  {
   "cell_type": "markdown",
   "id": "964a32e1",
   "metadata": {},
   "source": [
    "# Scalable Data Science"
   ]
  },
  {
   "cell_type": "markdown",
   "id": "de05e6d1",
   "metadata": {},
   "source": [
    "### **Difficulty:** Medium"
   ]
  },
  {
   "cell_type": "markdown",
   "id": "1f00ec36",
   "metadata": {},
   "source": [
    "### **Question Type:** Technical"
   ]
  },
  {
   "cell_type": "markdown",
   "id": "36322e36",
   "metadata": {},
   "source": [
    "### **Company:** EY, Deloitte"
   ]
  },
  {
   "cell_type": "markdown",
   "id": "2cfe91c7",
   "metadata": {},
   "source": [
    "## **Description:**"
   ]
  },
  {
   "cell_type": "markdown",
   "id": "310100bf",
   "metadata": {},
   "source": [
    "What is meant by scalable data science?"
   ]
  },
  {
   "cell_type": "markdown",
   "id": "fdee2053",
   "metadata": {},
   "source": [
    "## **Solution:**"
   ]
  },
  {
   "cell_type": "code",
   "execution_count": null,
   "id": "e581d427",
   "metadata": {},
   "outputs": [],
   "source": []
  }
 ],
 "metadata": {},
 "nbformat": 4,
 "nbformat_minor": 5
}
