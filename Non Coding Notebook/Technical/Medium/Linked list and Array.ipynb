{
 "cells": [
  {
   "cell_type": "markdown",
   "id": "8e193f13",
   "metadata": {},
   "source": [
    "### **Link:** https://platform.stratascratch.com/technical/2074-linked-list-and-array"
   ]
  },
  {
   "cell_type": "markdown",
   "id": "e21c2095",
   "metadata": {},
   "source": [
    "### **ID:** ID 2074"
   ]
  },
  {
   "cell_type": "markdown",
   "id": "5d9bf95b",
   "metadata": {},
   "source": [
    "# Linked list and Array"
   ]
  },
  {
   "cell_type": "markdown",
   "id": "a4885dd6",
   "metadata": {},
   "source": [
    "### **Difficulty:** Medium"
   ]
  },
  {
   "cell_type": "markdown",
   "id": "d9dc992b",
   "metadata": {},
   "source": [
    "### **Question Type:** Technical"
   ]
  },
  {
   "cell_type": "markdown",
   "id": "46b20391",
   "metadata": {},
   "source": [
    "### **Company:** Amazon, LinkedIn"
   ]
  },
  {
   "cell_type": "markdown",
   "id": "da0f2bec",
   "metadata": {},
   "source": [
    "## **Description:**"
   ]
  },
  {
   "cell_type": "markdown",
   "id": "fd9a29aa",
   "metadata": {},
   "source": [
    "What is the difference between a linked list and an array?"
   ]
  },
  {
   "cell_type": "markdown",
   "id": "c89ffec1",
   "metadata": {},
   "source": [
    "## **Solution:**"
   ]
  },
  {
   "cell_type": "code",
   "execution_count": null,
   "id": "808237ca",
   "metadata": {},
   "outputs": [],
   "source": []
  }
 ],
 "metadata": {},
 "nbformat": 4,
 "nbformat_minor": 5
}
