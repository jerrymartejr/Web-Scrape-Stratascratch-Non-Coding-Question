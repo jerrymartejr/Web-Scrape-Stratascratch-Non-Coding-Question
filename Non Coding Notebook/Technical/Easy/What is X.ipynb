{
 "cells": [
  {
   "cell_type": "markdown",
   "id": "8ae3aaba",
   "metadata": {},
   "source": [
    "### **Link:** https://platform.stratascratch.com/technical/2227-what-is-x"
   ]
  },
  {
   "cell_type": "markdown",
   "id": "8f362cae",
   "metadata": {},
   "source": [
    "### **ID:** ID 2227"
   ]
  },
  {
   "cell_type": "markdown",
   "id": "2c8becf6",
   "metadata": {},
   "source": [
    "# What is X"
   ]
  },
  {
   "cell_type": "markdown",
   "id": "de99f578",
   "metadata": {},
   "source": [
    "### **Difficulty:** Easy"
   ]
  },
  {
   "cell_type": "markdown",
   "id": "79346c3c",
   "metadata": {},
   "source": [
    "### **Question Type:** Technical"
   ]
  },
  {
   "cell_type": "markdown",
   "id": "2931d84c",
   "metadata": {},
   "source": [
    "### **Company:** Citadel"
   ]
  },
  {
   "cell_type": "markdown",
   "id": "7d85b40e",
   "metadata": {},
   "source": [
    "## **Description:**"
   ]
  },
  {
   "cell_type": "markdown",
   "id": "e5f4ab21",
   "metadata": {},
   "source": [
    "16p+1=x316p + 1 = x^316p+1=x3, and ppp is a prime number. What is xxx?"
   ]
  },
  {
   "cell_type": "markdown",
   "id": "7b7ddc0b",
   "metadata": {},
   "source": [
    "## **Solution:**"
   ]
  },
  {
   "cell_type": "code",
   "execution_count": null,
   "id": "43a9e65b",
   "metadata": {},
   "outputs": [],
   "source": []
  }
 ],
 "metadata": {},
 "nbformat": 4,
 "nbformat_minor": 5
}
