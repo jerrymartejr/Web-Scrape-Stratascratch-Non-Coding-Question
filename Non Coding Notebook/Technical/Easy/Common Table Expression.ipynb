{
 "cells": [
  {
   "cell_type": "markdown",
   "id": "ca916f21",
   "metadata": {},
   "source": [
    "### **Link:** https://platform.stratascratch.com/technical/2354-common-table-expression"
   ]
  },
  {
   "cell_type": "markdown",
   "id": "63910ffc",
   "metadata": {},
   "source": [
    "### **ID:** ID 2354"
   ]
  },
  {
   "cell_type": "markdown",
   "id": "6e8c2fa4",
   "metadata": {},
   "source": [
    "# Common Table Expression"
   ]
  },
  {
   "cell_type": "markdown",
   "id": "d504fed5",
   "metadata": {},
   "source": [
    "### **Difficulty:** Easy"
   ]
  },
  {
   "cell_type": "markdown",
   "id": "d4d0e7cd",
   "metadata": {},
   "source": [
    "### **Question Type:** Technical"
   ]
  },
  {
   "cell_type": "markdown",
   "id": "310d9fc5",
   "metadata": {},
   "source": [
    "### **Company:** Spotify"
   ]
  },
  {
   "cell_type": "markdown",
   "id": "cd5feb09",
   "metadata": {},
   "source": [
    "## **Description:**"
   ]
  },
  {
   "cell_type": "markdown",
   "id": "eb954440",
   "metadata": {},
   "source": [
    "In SQL, what is a Common Table Expression? Give an example of a situation when you would use it."
   ]
  },
  {
   "cell_type": "markdown",
   "id": "53b75a52",
   "metadata": {},
   "source": [
    "## **Solution:**"
   ]
  },
  {
   "cell_type": "code",
   "execution_count": null,
   "id": "18e39054",
   "metadata": {},
   "outputs": [],
   "source": []
  }
 ],
 "metadata": {},
 "nbformat": 4,
 "nbformat_minor": 5
}
