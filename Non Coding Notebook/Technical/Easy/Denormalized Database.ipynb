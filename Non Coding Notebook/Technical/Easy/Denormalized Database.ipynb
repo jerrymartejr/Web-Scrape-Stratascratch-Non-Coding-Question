{
 "cells": [
  {
   "cell_type": "markdown",
   "id": "cacd7a8d",
   "metadata": {},
   "source": [
    "### **Link:** https://platform.stratascratch.com/technical/2404-denormalized-database"
   ]
  },
  {
   "cell_type": "markdown",
   "id": "edaa4c43",
   "metadata": {},
   "source": [
    "### **ID:** ID 2404"
   ]
  },
  {
   "cell_type": "markdown",
   "id": "e42fb497",
   "metadata": {},
   "source": [
    "# Denormalized Database"
   ]
  },
  {
   "cell_type": "markdown",
   "id": "5f355798",
   "metadata": {},
   "source": [
    "### **Difficulty:** Easy"
   ]
  },
  {
   "cell_type": "markdown",
   "id": "ff5c6318",
   "metadata": {},
   "source": [
    "### **Question Type:** Technical"
   ]
  },
  {
   "cell_type": "markdown",
   "id": "b95632ee",
   "metadata": {},
   "source": [
    "### **Company:** Spotify, Stitch Fix"
   ]
  },
  {
   "cell_type": "markdown",
   "id": "16851629",
   "metadata": {},
   "source": [
    "## **Description:**"
   ]
  },
  {
   "cell_type": "markdown",
   "id": "5e63a41f",
   "metadata": {},
   "source": [
    "What is a denormalized database? What are its advantages?"
   ]
  },
  {
   "cell_type": "markdown",
   "id": "07ab2665",
   "metadata": {},
   "source": [
    "## **Solution:**"
   ]
  },
  {
   "cell_type": "code",
   "execution_count": null,
   "id": "f736ad2e",
   "metadata": {},
   "outputs": [],
   "source": []
  }
 ],
 "metadata": {},
 "nbformat": 4,
 "nbformat_minor": 5
}
