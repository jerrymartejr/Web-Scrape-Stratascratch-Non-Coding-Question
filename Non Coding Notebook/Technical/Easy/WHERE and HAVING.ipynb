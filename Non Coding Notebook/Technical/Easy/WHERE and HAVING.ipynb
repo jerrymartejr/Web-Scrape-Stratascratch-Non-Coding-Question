{
 "cells": [
  {
   "cell_type": "markdown",
   "id": "b1b7191b",
   "metadata": {},
   "source": [
    "### **Link:** https://platform.stratascratch.com/technical/2374-where-and-having"
   ]
  },
  {
   "cell_type": "markdown",
   "id": "7723ef45",
   "metadata": {},
   "source": [
    "### **ID:** ID 2374"
   ]
  },
  {
   "cell_type": "markdown",
   "id": "ecc7176e",
   "metadata": {},
   "source": [
    "# WHERE and HAVING"
   ]
  },
  {
   "cell_type": "markdown",
   "id": "72d6266f",
   "metadata": {},
   "source": [
    "### **Difficulty:** Easy"
   ]
  },
  {
   "cell_type": "markdown",
   "id": "a12878da",
   "metadata": {},
   "source": [
    "### **Question Type:** Technical"
   ]
  },
  {
   "cell_type": "markdown",
   "id": "08047c26",
   "metadata": {},
   "source": [
    "### **Company:** Spotify"
   ]
  },
  {
   "cell_type": "markdown",
   "id": "919eaca9",
   "metadata": {},
   "source": [
    "## **Description:**"
   ]
  },
  {
   "cell_type": "markdown",
   "id": "a18a5e40",
   "metadata": {},
   "source": [
    "What is the main difference between a WHERE clause and a HAVING clause in SQL?"
   ]
  },
  {
   "cell_type": "markdown",
   "id": "ed343564",
   "metadata": {},
   "source": [
    "## **Solution:**"
   ]
  },
  {
   "cell_type": "code",
   "execution_count": null,
   "id": "9d30c506",
   "metadata": {},
   "outputs": [],
   "source": []
  }
 ],
 "metadata": {},
 "nbformat": 4,
 "nbformat_minor": 5
}
