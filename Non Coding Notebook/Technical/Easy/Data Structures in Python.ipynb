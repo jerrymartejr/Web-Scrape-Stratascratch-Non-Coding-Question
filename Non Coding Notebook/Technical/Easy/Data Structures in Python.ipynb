{
 "cells": [
  {
   "cell_type": "markdown",
   "id": "74cd51c7",
   "metadata": {},
   "source": [
    "### **Link:** https://platform.stratascratch.com/technical/2072-data-structures-in-python"
   ]
  },
  {
   "cell_type": "markdown",
   "id": "3cc79b95",
   "metadata": {},
   "source": [
    "### **ID:** ID 2072"
   ]
  },
  {
   "cell_type": "markdown",
   "id": "029e9fce",
   "metadata": {},
   "source": [
    "# Data Structures in Python"
   ]
  },
  {
   "cell_type": "markdown",
   "id": "9b43d84f",
   "metadata": {},
   "source": [
    "### **Difficulty:** Easy"
   ]
  },
  {
   "cell_type": "markdown",
   "id": "51f2af1e",
   "metadata": {},
   "source": [
    "### **Question Type:** Technical"
   ]
  },
  {
   "cell_type": "markdown",
   "id": "569f3e03",
   "metadata": {},
   "source": [
    "### **Company:** Walmart, Sears"
   ]
  },
  {
   "cell_type": "markdown",
   "id": "a6f2fa1e",
   "metadata": {},
   "source": [
    "## **Description:**"
   ]
  },
  {
   "cell_type": "markdown",
   "id": "bd28b277",
   "metadata": {},
   "source": [
    "What are the data structures in Python?"
   ]
  },
  {
   "cell_type": "markdown",
   "id": "ea4f733a",
   "metadata": {},
   "source": [
    "## **Solution:**"
   ]
  },
  {
   "cell_type": "code",
   "execution_count": null,
   "id": "aab8a15d",
   "metadata": {},
   "outputs": [],
   "source": []
  }
 ],
 "metadata": {},
 "nbformat": 4,
 "nbformat_minor": 5
}
