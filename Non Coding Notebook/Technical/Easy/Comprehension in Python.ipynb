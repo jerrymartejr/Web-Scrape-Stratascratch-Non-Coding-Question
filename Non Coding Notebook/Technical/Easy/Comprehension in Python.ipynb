{
 "cells": [
  {
   "cell_type": "markdown",
   "id": "691775aa",
   "metadata": {},
   "source": [
    "### **Link:** https://platform.stratascratch.com/technical/2184-comprehension-in-python"
   ]
  },
  {
   "cell_type": "markdown",
   "id": "c0858112",
   "metadata": {},
   "source": [
    "### **ID:** ID 2184"
   ]
  },
  {
   "cell_type": "markdown",
   "id": "c72f5bc0",
   "metadata": {},
   "source": [
    "# Comprehension in Python"
   ]
  },
  {
   "cell_type": "markdown",
   "id": "f0ae2645",
   "metadata": {},
   "source": [
    "### **Difficulty:** Easy"
   ]
  },
  {
   "cell_type": "markdown",
   "id": "21d3fee3",
   "metadata": {},
   "source": [
    "### **Question Type:** Technical"
   ]
  },
  {
   "cell_type": "markdown",
   "id": "fbddd69e",
   "metadata": {},
   "source": [
    "### **Company:** Kaplan, Pearson"
   ]
  },
  {
   "cell_type": "markdown",
   "id": "8786595d",
   "metadata": {},
   "source": [
    "## **Description:**"
   ]
  },
  {
   "cell_type": "markdown",
   "id": "9a2275a5",
   "metadata": {},
   "source": [
    "What is a list comprehension in Python, and how you use it?"
   ]
  },
  {
   "cell_type": "markdown",
   "id": "fb6418e3",
   "metadata": {},
   "source": [
    "## **Solution:**"
   ]
  },
  {
   "cell_type": "code",
   "execution_count": null,
   "id": "211e320c",
   "metadata": {},
   "outputs": [],
   "source": []
  }
 ],
 "metadata": {},
 "nbformat": 4,
 "nbformat_minor": 5
}
