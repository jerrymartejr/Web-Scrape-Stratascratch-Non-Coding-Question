{
 "cells": [
  {
   "cell_type": "markdown",
   "id": "b1200278",
   "metadata": {},
   "source": [
    "### **Link:** https://platform.stratascratch.com/technical/2254-missing-values-in-data-set"
   ]
  },
  {
   "cell_type": "markdown",
   "id": "75294c75",
   "metadata": {},
   "source": [
    "### **ID:** ID 2254"
   ]
  },
  {
   "cell_type": "markdown",
   "id": "c11447d8",
   "metadata": {},
   "source": [
    "# Missing Values in Data Set"
   ]
  },
  {
   "cell_type": "markdown",
   "id": "a81b0488",
   "metadata": {},
   "source": [
    "### **Difficulty:** Easy"
   ]
  },
  {
   "cell_type": "markdown",
   "id": "91b8133a",
   "metadata": {},
   "source": [
    "### **Question Type:** Technical"
   ]
  },
  {
   "cell_type": "markdown",
   "id": "9f516e73",
   "metadata": {},
   "source": [
    "### **Company:** HERE Technologies"
   ]
  },
  {
   "cell_type": "markdown",
   "id": "d01a0a4f",
   "metadata": {},
   "source": [
    "## **Description:**"
   ]
  },
  {
   "cell_type": "markdown",
   "id": "857a7c22",
   "metadata": {},
   "source": [
    "How to identify missing values in a data set?"
   ]
  },
  {
   "cell_type": "markdown",
   "id": "3f1da623",
   "metadata": {},
   "source": [
    "## **Solution:**"
   ]
  },
  {
   "cell_type": "code",
   "execution_count": null,
   "id": "e0ff0b9d",
   "metadata": {},
   "outputs": [],
   "source": []
  }
 ],
 "metadata": {},
 "nbformat": 4,
 "nbformat_minor": 5
}
