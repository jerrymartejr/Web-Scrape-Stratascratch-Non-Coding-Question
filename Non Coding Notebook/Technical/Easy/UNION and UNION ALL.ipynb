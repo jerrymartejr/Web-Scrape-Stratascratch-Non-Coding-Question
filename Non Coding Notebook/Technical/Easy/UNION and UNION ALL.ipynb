{
 "cells": [
  {
   "cell_type": "markdown",
   "id": "464af8e2",
   "metadata": {},
   "source": [
    "### **Link:** https://platform.stratascratch.com/technical/2083-union-and-union-all"
   ]
  },
  {
   "cell_type": "markdown",
   "id": "36638f1f",
   "metadata": {},
   "source": [
    "### **ID:** ID 2083"
   ]
  },
  {
   "cell_type": "markdown",
   "id": "cbd3c12d",
   "metadata": {},
   "source": [
    "# UNION and UNION ALL"
   ]
  },
  {
   "cell_type": "markdown",
   "id": "c90f29fc",
   "metadata": {},
   "source": [
    "### **Difficulty:** Easy"
   ]
  },
  {
   "cell_type": "markdown",
   "id": "efdcca6c",
   "metadata": {},
   "source": [
    "### **Question Type:** Technical"
   ]
  },
  {
   "cell_type": "markdown",
   "id": "09ce8b03",
   "metadata": {},
   "source": [
    "### **Company:** Southwest Airlines, Delta Airlines"
   ]
  },
  {
   "cell_type": "markdown",
   "id": "e1715be4",
   "metadata": {},
   "source": [
    "## **Description:**"
   ]
  },
  {
   "cell_type": "markdown",
   "id": "550e5f9b",
   "metadata": {},
   "source": [
    "What is the difference between UNION and UNION ALL?"
   ]
  },
  {
   "cell_type": "markdown",
   "id": "25eb5a15",
   "metadata": {},
   "source": [
    "## **Solution:**"
   ]
  },
  {
   "cell_type": "code",
   "execution_count": null,
   "id": "9d0c4eb2",
   "metadata": {},
   "outputs": [],
   "source": []
  }
 ],
 "metadata": {},
 "nbformat": 4,
 "nbformat_minor": 5
}
