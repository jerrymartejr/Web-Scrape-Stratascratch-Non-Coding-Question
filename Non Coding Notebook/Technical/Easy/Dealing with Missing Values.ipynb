{
 "cells": [
  {
   "cell_type": "markdown",
   "id": "94983a46",
   "metadata": {},
   "source": [
    "### **Link:** https://platform.stratascratch.com/technical/2255-dealing-with-missing-values"
   ]
  },
  {
   "cell_type": "markdown",
   "id": "8e680873",
   "metadata": {},
   "source": [
    "### **ID:** ID 2255"
   ]
  },
  {
   "cell_type": "markdown",
   "id": "8f53c41e",
   "metadata": {},
   "source": [
    "# Dealing with Missing Values"
   ]
  },
  {
   "cell_type": "markdown",
   "id": "a1ece030",
   "metadata": {},
   "source": [
    "### **Difficulty:** Easy"
   ]
  },
  {
   "cell_type": "markdown",
   "id": "4c46954b",
   "metadata": {},
   "source": [
    "### **Question Type:** Technical"
   ]
  },
  {
   "cell_type": "markdown",
   "id": "4b40c0b1",
   "metadata": {},
   "source": [
    "### **Company:** Microsoft, IBM"
   ]
  },
  {
   "cell_type": "markdown",
   "id": "24e7fba1",
   "metadata": {},
   "source": [
    "## **Description:**"
   ]
  },
  {
   "cell_type": "markdown",
   "id": "fc186d1d",
   "metadata": {},
   "source": [
    "How do you deal with missing values?"
   ]
  },
  {
   "cell_type": "markdown",
   "id": "09d3bdc1",
   "metadata": {},
   "source": [
    "## **Solution:**"
   ]
  },
  {
   "cell_type": "code",
   "execution_count": null,
   "id": "9cdc4ca7",
   "metadata": {},
   "outputs": [],
   "source": []
  }
 ],
 "metadata": {},
 "nbformat": 4,
 "nbformat_minor": 5
}
