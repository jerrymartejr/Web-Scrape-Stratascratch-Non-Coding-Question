{
 "cells": [
  {
   "cell_type": "markdown",
   "id": "89a241ec",
   "metadata": {},
   "source": [
    "### **Link:** https://platform.stratascratch.com/technical/2091-python-dictionary"
   ]
  },
  {
   "cell_type": "markdown",
   "id": "ade3c6a1",
   "metadata": {},
   "source": [
    "### **ID:** ID 2091"
   ]
  },
  {
   "cell_type": "markdown",
   "id": "5ace53b2",
   "metadata": {},
   "source": [
    "# Python Dictionary"
   ]
  },
  {
   "cell_type": "markdown",
   "id": "8e5344c8",
   "metadata": {},
   "source": [
    "### **Difficulty:** Easy"
   ]
  },
  {
   "cell_type": "markdown",
   "id": "964738db",
   "metadata": {},
   "source": [
    "### **Question Type:** Technical"
   ]
  },
  {
   "cell_type": "markdown",
   "id": "5239b214",
   "metadata": {},
   "source": [
    "### **Company:** Moore Capital Management"
   ]
  },
  {
   "cell_type": "markdown",
   "id": "950e1859",
   "metadata": {},
   "source": [
    "## **Description:**"
   ]
  },
  {
   "cell_type": "markdown",
   "id": "a56f9953",
   "metadata": {},
   "source": [
    "How is memory stored and retrieved in Python's dictionary?"
   ]
  },
  {
   "cell_type": "markdown",
   "id": "96e4b722",
   "metadata": {},
   "source": [
    "## **Solution:**"
   ]
  },
  {
   "cell_type": "code",
   "execution_count": null,
   "id": "eb9764e4",
   "metadata": {},
   "outputs": [],
   "source": []
  }
 ],
 "metadata": {},
 "nbformat": 4,
 "nbformat_minor": 5
}
