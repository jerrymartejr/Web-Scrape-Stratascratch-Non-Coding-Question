{
 "cells": [
  {
   "cell_type": "markdown",
   "id": "647ce74b",
   "metadata": {},
   "source": [
    "### **Link:** https://platform.stratascratch.com/technical/2242-left-join-and-right-join"
   ]
  },
  {
   "cell_type": "markdown",
   "id": "3b8064b7",
   "metadata": {},
   "source": [
    "### **ID:** ID 2242"
   ]
  },
  {
   "cell_type": "markdown",
   "id": "c73c5d0b",
   "metadata": {},
   "source": [
    "# Left Join and Right Join"
   ]
  },
  {
   "cell_type": "markdown",
   "id": "a6d58b29",
   "metadata": {},
   "source": [
    "### **Difficulty:** Easy"
   ]
  },
  {
   "cell_type": "markdown",
   "id": "b1161761",
   "metadata": {},
   "source": [
    "### **Question Type:** Technical"
   ]
  },
  {
   "cell_type": "markdown",
   "id": "c009d839",
   "metadata": {},
   "source": [
    "### **Company:** Credit Acceptance"
   ]
  },
  {
   "cell_type": "markdown",
   "id": "7e352e65",
   "metadata": {},
   "source": [
    "## **Description:**"
   ]
  },
  {
   "cell_type": "markdown",
   "id": "f457aed8",
   "metadata": {},
   "source": [
    "What is the difference between a left join and a right join in SQL?"
   ]
  },
  {
   "cell_type": "markdown",
   "id": "208cee0f",
   "metadata": {},
   "source": [
    "## **Solution:**"
   ]
  },
  {
   "cell_type": "code",
   "execution_count": null,
   "id": "a5832da2",
   "metadata": {},
   "outputs": [],
   "source": []
  }
 ],
 "metadata": {},
 "nbformat": 4,
 "nbformat_minor": 5
}
