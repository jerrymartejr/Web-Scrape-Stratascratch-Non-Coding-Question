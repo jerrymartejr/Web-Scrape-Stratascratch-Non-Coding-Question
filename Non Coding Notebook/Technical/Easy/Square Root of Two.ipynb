{
 "cells": [
  {
   "cell_type": "markdown",
   "id": "7bfc707b",
   "metadata": {},
   "source": [
    "### **Link:** https://platform.stratascratch.com/technical/2229-square-root-of-two"
   ]
  },
  {
   "cell_type": "markdown",
   "id": "f4cd75d3",
   "metadata": {},
   "source": [
    "### **ID:** ID 2229"
   ]
  },
  {
   "cell_type": "markdown",
   "id": "21d651ac",
   "metadata": {},
   "source": [
    "# Square Root of Two"
   ]
  },
  {
   "cell_type": "markdown",
   "id": "f2a1dbd5",
   "metadata": {},
   "source": [
    "### **Difficulty:** Easy"
   ]
  },
  {
   "cell_type": "markdown",
   "id": "4ade5137",
   "metadata": {},
   "source": [
    "### **Question Type:** Technical"
   ]
  },
  {
   "cell_type": "markdown",
   "id": "4003448a",
   "metadata": {},
   "source": [
    "### **Company:** Goldman Sachs"
   ]
  },
  {
   "cell_type": "markdown",
   "id": "b64999d4",
   "metadata": {},
   "source": [
    "## **Description:**"
   ]
  },
  {
   "cell_type": "markdown",
   "id": "0d8f45e6",
   "metadata": {},
   "source": [
    "How would you prove that the square root of two is irrational?"
   ]
  },
  {
   "cell_type": "markdown",
   "id": "b75c917a",
   "metadata": {},
   "source": [
    "## **Solution:**"
   ]
  },
  {
   "cell_type": "code",
   "execution_count": null,
   "id": "f5037483",
   "metadata": {},
   "outputs": [],
   "source": []
  }
 ],
 "metadata": {},
 "nbformat": 4,
 "nbformat_minor": 5
}
