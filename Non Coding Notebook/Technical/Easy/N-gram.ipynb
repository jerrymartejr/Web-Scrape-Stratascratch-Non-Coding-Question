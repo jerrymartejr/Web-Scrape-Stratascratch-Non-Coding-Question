{
 "cells": [
  {
   "cell_type": "markdown",
   "id": "ba266235",
   "metadata": {},
   "source": [
    "### **Link:** https://platform.stratascratch.com/technical/2045-n-gram"
   ]
  },
  {
   "cell_type": "markdown",
   "id": "4ace6b69",
   "metadata": {},
   "source": [
    "### **ID:** ID 2045"
   ]
  },
  {
   "cell_type": "markdown",
   "id": "88507d2c",
   "metadata": {},
   "source": [
    "# N-gram"
   ]
  },
  {
   "cell_type": "markdown",
   "id": "d0028c87",
   "metadata": {},
   "source": [
    "### **Difficulty:** Easy"
   ]
  },
  {
   "cell_type": "markdown",
   "id": "69a9fa0c",
   "metadata": {},
   "source": [
    "### **Question Type:** Technical"
   ]
  },
  {
   "cell_type": "markdown",
   "id": "3e181d90",
   "metadata": {},
   "source": [
    "### **Company:** Yelp, Tripadvisor"
   ]
  },
  {
   "cell_type": "markdown",
   "id": "9b8669f0",
   "metadata": {},
   "source": [
    "## **Description:**"
   ]
  },
  {
   "cell_type": "markdown",
   "id": "b4f297af",
   "metadata": {},
   "source": [
    "What is a n-gram?"
   ]
  },
  {
   "cell_type": "markdown",
   "id": "fdba8e47",
   "metadata": {},
   "source": [
    "## **Solution:**"
   ]
  },
  {
   "cell_type": "code",
   "execution_count": null,
   "id": "bc7b2960",
   "metadata": {},
   "outputs": [],
   "source": []
  }
 ],
 "metadata": {},
 "nbformat": 4,
 "nbformat_minor": 5
}
