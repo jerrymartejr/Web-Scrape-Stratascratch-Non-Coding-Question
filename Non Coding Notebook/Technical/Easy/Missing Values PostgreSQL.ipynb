{
 "cells": [
  {
   "cell_type": "markdown",
   "id": "a8dedf90",
   "metadata": {},
   "source": [
    "### **Link:** https://platform.stratascratch.com/technical/2209-missing-values-postgresql"
   ]
  },
  {
   "cell_type": "markdown",
   "id": "86791e21",
   "metadata": {},
   "source": [
    "### **ID:** ID 2209"
   ]
  },
  {
   "cell_type": "markdown",
   "id": "1d7316ff",
   "metadata": {},
   "source": [
    "# Missing Values PostgreSQL"
   ]
  },
  {
   "cell_type": "markdown",
   "id": "cf57bbfa",
   "metadata": {},
   "source": [
    "### **Difficulty:** Easy"
   ]
  },
  {
   "cell_type": "markdown",
   "id": "6cef4bab",
   "metadata": {},
   "source": [
    "### **Question Type:** Technical"
   ]
  },
  {
   "cell_type": "markdown",
   "id": "ee5cbfb8",
   "metadata": {},
   "source": [
    "### **Company:** Commonwealth Computer Research"
   ]
  },
  {
   "cell_type": "markdown",
   "id": "8382c600",
   "metadata": {},
   "source": [
    "## **Description:**"
   ]
  },
  {
   "cell_type": "markdown",
   "id": "c3f5c68e",
   "metadata": {},
   "source": [
    "How to fill in missing values using PostgreSQL commands?"
   ]
  },
  {
   "cell_type": "markdown",
   "id": "be7ccd1b",
   "metadata": {},
   "source": [
    "## **Solution:**"
   ]
  },
  {
   "cell_type": "code",
   "execution_count": null,
   "id": "84057af3",
   "metadata": {},
   "outputs": [],
   "source": []
  }
 ],
 "metadata": {},
 "nbformat": 4,
 "nbformat_minor": 5
}
