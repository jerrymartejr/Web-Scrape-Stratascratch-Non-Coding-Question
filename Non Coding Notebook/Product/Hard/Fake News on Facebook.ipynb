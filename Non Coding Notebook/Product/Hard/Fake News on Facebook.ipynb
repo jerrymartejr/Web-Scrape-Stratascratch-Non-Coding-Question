{
 "cells": [
  {
   "cell_type": "markdown",
   "id": "7b425d7b",
   "metadata": {},
   "source": [
    "### **Link:** https://platform.stratascratch.com/technical/2350-fake-news-on-facebook"
   ]
  },
  {
   "cell_type": "markdown",
   "id": "5d94f1c3",
   "metadata": {},
   "source": [
    "### **ID:** ID 2350"
   ]
  },
  {
   "cell_type": "markdown",
   "id": "80e8d616",
   "metadata": {},
   "source": [
    "# Fake News on Facebook"
   ]
  },
  {
   "cell_type": "markdown",
   "id": "bce961ae",
   "metadata": {},
   "source": [
    "### **Difficulty:** Hard"
   ]
  },
  {
   "cell_type": "markdown",
   "id": "558a727f",
   "metadata": {},
   "source": [
    "### **Question Type:** Product"
   ]
  },
  {
   "cell_type": "markdown",
   "id": "ed6533e8",
   "metadata": {},
   "source": [
    "### **Company:** Meta"
   ]
  },
  {
   "cell_type": "markdown",
   "id": "9730d1d4",
   "metadata": {},
   "source": [
    "## **Description:**"
   ]
  },
  {
   "cell_type": "markdown",
   "id": "24532476",
   "metadata": {},
   "source": [
    "How would you estimate how much fake news there is on Facebook and how it impacts the users?"
   ]
  },
  {
   "cell_type": "markdown",
   "id": "7f2e7fac",
   "metadata": {},
   "source": [
    "## **Solution:**"
   ]
  },
  {
   "cell_type": "code",
   "execution_count": null,
   "id": "d1e71021",
   "metadata": {},
   "outputs": [],
   "source": []
  }
 ],
 "metadata": {},
 "nbformat": 4,
 "nbformat_minor": 5
}
