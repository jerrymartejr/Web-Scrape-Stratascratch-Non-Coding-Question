{
 "cells": [
  {
   "cell_type": "markdown",
   "id": "943bf56f",
   "metadata": {},
   "source": [
    "### **Link:** https://platform.stratascratch.com/technical/2359-estimated-time-to-arrive"
   ]
  },
  {
   "cell_type": "markdown",
   "id": "e30e766c",
   "metadata": {},
   "source": [
    "### **ID:** ID 2359"
   ]
  },
  {
   "cell_type": "markdown",
   "id": "886d1c48",
   "metadata": {},
   "source": [
    "# Estimated Time to Arrive"
   ]
  },
  {
   "cell_type": "markdown",
   "id": "f8c4a74d",
   "metadata": {},
   "source": [
    "### **Difficulty:** Hard"
   ]
  },
  {
   "cell_type": "markdown",
   "id": "161c695b",
   "metadata": {},
   "source": [
    "### **Question Type:** Product"
   ]
  },
  {
   "cell_type": "markdown",
   "id": "745f78b9",
   "metadata": {},
   "source": [
    "### **Company:** Lyft"
   ]
  },
  {
   "cell_type": "markdown",
   "id": "254f8d63",
   "metadata": {},
   "source": [
    "## **Description:**"
   ]
  },
  {
   "cell_type": "markdown",
   "id": "8e7a63eb",
   "metadata": {},
   "source": [
    "Currently, the Lyft app shows users the estimated time for a ride to arrive as a number of minutes (e.g. 5 minutes). The management plans to change how this estimation is shown and use a range instead (e.g. 3-5 minutes). The hypothesis is that the total ridership would increase following the change. How would you set up an experiment to verify this hypothesis?"
   ]
  },
  {
   "cell_type": "markdown",
   "id": "dece13ac",
   "metadata": {},
   "source": [
    "## **Solution:**"
   ]
  },
  {
   "cell_type": "code",
   "execution_count": null,
   "id": "5b429b0a",
   "metadata": {},
   "outputs": [],
   "source": []
  }
 ],
 "metadata": {},
 "nbformat": 4,
 "nbformat_minor": 5
}
