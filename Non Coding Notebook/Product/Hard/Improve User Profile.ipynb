{
 "cells": [
  {
   "cell_type": "markdown",
   "id": "bc25a449",
   "metadata": {},
   "source": [
    "### **Link:** https://platform.stratascratch.com/technical/2336-improve-user-profile"
   ]
  },
  {
   "cell_type": "markdown",
   "id": "2a4f4c5b",
   "metadata": {},
   "source": [
    "### **ID:** ID 2336"
   ]
  },
  {
   "cell_type": "markdown",
   "id": "8383d01c",
   "metadata": {},
   "source": [
    "# Improve User Profile"
   ]
  },
  {
   "cell_type": "markdown",
   "id": "350fa145",
   "metadata": {},
   "source": [
    "### **Difficulty:** Hard"
   ]
  },
  {
   "cell_type": "markdown",
   "id": "444cb367",
   "metadata": {},
   "source": [
    "### **Question Type:** Product"
   ]
  },
  {
   "cell_type": "markdown",
   "id": "3c229468",
   "metadata": {},
   "source": [
    "### **Company:** LinkedIn"
   ]
  },
  {
   "cell_type": "markdown",
   "id": "50a787ac",
   "metadata": {},
   "source": [
    "## **Description:**"
   ]
  },
  {
   "cell_type": "markdown",
   "id": "3e2bce76",
   "metadata": {},
   "source": [
    "What strategies would you implement to improve a user profile on LinkedIn? What metrics would you use to assess if your strategies were successful?"
   ]
  },
  {
   "cell_type": "markdown",
   "id": "13dcfe73",
   "metadata": {},
   "source": [
    "## **Solution:**"
   ]
  },
  {
   "cell_type": "code",
   "execution_count": null,
   "id": "fd24dc98",
   "metadata": {},
   "outputs": [],
   "source": []
  }
 ],
 "metadata": {},
 "nbformat": 4,
 "nbformat_minor": 5
}
