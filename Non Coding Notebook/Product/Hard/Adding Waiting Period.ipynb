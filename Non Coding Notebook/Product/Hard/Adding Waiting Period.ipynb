{
 "cells": [
  {
   "cell_type": "markdown",
   "id": "0818cd0e",
   "metadata": {},
   "source": [
    "### **Link:** https://platform.stratascratch.com/technical/2450-adding-waiting-period"
   ]
  },
  {
   "cell_type": "markdown",
   "id": "658bf965",
   "metadata": {},
   "source": [
    "### **ID:** ID 2450"
   ]
  },
  {
   "cell_type": "markdown",
   "id": "501a6957",
   "metadata": {},
   "source": [
    "# Adding Waiting Period"
   ]
  },
  {
   "cell_type": "markdown",
   "id": "d5b19e95",
   "metadata": {},
   "source": [
    "### **Difficulty:** Hard"
   ]
  },
  {
   "cell_type": "markdown",
   "id": "da8d2ea8",
   "metadata": {},
   "source": [
    "### **Question Type:** Product"
   ]
  },
  {
   "cell_type": "markdown",
   "id": "dcf588e4",
   "metadata": {},
   "source": [
    "### **Company:** Lyft"
   ]
  },
  {
   "cell_type": "markdown",
   "id": "f252ff07",
   "metadata": {},
   "source": [
    "## **Description:**"
   ]
  },
  {
   "cell_type": "markdown",
   "id": "29b1334e",
   "metadata": {},
   "source": [
    "Lyft implementing shared rides and considering adding in a 30 seconds waiting period for our algorithm to identify additional matches. What metrics would you use to evaluate this, and how would you run this experiment?"
   ]
  },
  {
   "cell_type": "markdown",
   "id": "9c42784f",
   "metadata": {},
   "source": [
    "## **Solution:**"
   ]
  },
  {
   "cell_type": "code",
   "execution_count": null,
   "id": "815a6570",
   "metadata": {},
   "outputs": [],
   "source": []
  }
 ],
 "metadata": {},
 "nbformat": 4,
 "nbformat_minor": 5
}
