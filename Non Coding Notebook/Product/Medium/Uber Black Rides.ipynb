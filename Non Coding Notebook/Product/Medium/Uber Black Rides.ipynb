{
 "cells": [
  {
   "cell_type": "markdown",
   "id": "68852ced",
   "metadata": {},
   "source": [
    "### **Link:** https://platform.stratascratch.com/technical/2305-uber-black-rides"
   ]
  },
  {
   "cell_type": "markdown",
   "id": "9c26efb5",
   "metadata": {},
   "source": [
    "### **ID:** ID 2305"
   ]
  },
  {
   "cell_type": "markdown",
   "id": "caa299cd",
   "metadata": {},
   "source": [
    "# Uber Black Rides"
   ]
  },
  {
   "cell_type": "markdown",
   "id": "aeaec7e7",
   "metadata": {},
   "source": [
    "### **Difficulty:** Medium"
   ]
  },
  {
   "cell_type": "markdown",
   "id": "da8e12f0",
   "metadata": {},
   "source": [
    "### **Question Type:** Product"
   ]
  },
  {
   "cell_type": "markdown",
   "id": "d1afbe56",
   "metadata": {},
   "source": [
    "### **Company:** Uber"
   ]
  },
  {
   "cell_type": "markdown",
   "id": "29e8d4ca",
   "metadata": {},
   "source": [
    "## **Description:**"
   ]
  },
  {
   "cell_type": "markdown",
   "id": "f060506a",
   "metadata": {},
   "source": [
    "Uber Black rides have dropped 10%. How would you investigate this reduction?"
   ]
  },
  {
   "cell_type": "markdown",
   "id": "73f9ea71",
   "metadata": {},
   "source": [
    "## **Solution:**"
   ]
  },
  {
   "cell_type": "code",
   "execution_count": null,
   "id": "b67a5005",
   "metadata": {},
   "outputs": [],
   "source": []
  }
 ],
 "metadata": {},
 "nbformat": 4,
 "nbformat_minor": 5
}
