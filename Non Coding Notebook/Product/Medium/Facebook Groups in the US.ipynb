{
 "cells": [
  {
   "cell_type": "markdown",
   "id": "b7f60435",
   "metadata": {},
   "source": [
    "### **Link:** https://platform.stratascratch.com/technical/2340-facebook-groups-in-the-us"
   ]
  },
  {
   "cell_type": "markdown",
   "id": "d07927f7",
   "metadata": {},
   "source": [
    "### **ID:** ID 2340"
   ]
  },
  {
   "cell_type": "markdown",
   "id": "9f19d61d",
   "metadata": {},
   "source": [
    "# Facebook Groups in the US"
   ]
  },
  {
   "cell_type": "markdown",
   "id": "6b99ac97",
   "metadata": {},
   "source": [
    "### **Difficulty:** Medium"
   ]
  },
  {
   "cell_type": "markdown",
   "id": "06273135",
   "metadata": {},
   "source": [
    "### **Question Type:** Product"
   ]
  },
  {
   "cell_type": "markdown",
   "id": "2332346c",
   "metadata": {},
   "source": [
    "### **Company:** Meta"
   ]
  },
  {
   "cell_type": "markdown",
   "id": "53054518",
   "metadata": {},
   "source": [
    "## **Description:**"
   ]
  },
  {
   "cell_type": "markdown",
   "id": "c045ad82",
   "metadata": {},
   "source": [
    "At Meta, we have realized that in the US the activity in Facebook Groups is considerably lower than the global average. What could be the reasons for this?"
   ]
  },
  {
   "cell_type": "markdown",
   "id": "ec35ee08",
   "metadata": {},
   "source": [
    "## **Solution:**"
   ]
  },
  {
   "cell_type": "code",
   "execution_count": null,
   "id": "cbbeccb9",
   "metadata": {},
   "outputs": [],
   "source": []
  }
 ],
 "metadata": {},
 "nbformat": 4,
 "nbformat_minor": 5
}
