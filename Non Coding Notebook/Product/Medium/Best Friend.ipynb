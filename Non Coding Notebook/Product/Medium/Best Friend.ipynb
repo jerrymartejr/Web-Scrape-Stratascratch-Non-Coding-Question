{
 "cells": [
  {
   "cell_type": "markdown",
   "id": "c473a255",
   "metadata": {},
   "source": [
    "### **Link:** https://platform.stratascratch.com/technical/2328-best-friend"
   ]
  },
  {
   "cell_type": "markdown",
   "id": "4d3598d1",
   "metadata": {},
   "source": [
    "### **ID:** ID 2328"
   ]
  },
  {
   "cell_type": "markdown",
   "id": "ca34dda0",
   "metadata": {},
   "source": [
    "# Best Friend"
   ]
  },
  {
   "cell_type": "markdown",
   "id": "8aa11e41",
   "metadata": {},
   "source": [
    "### **Difficulty:** Medium"
   ]
  },
  {
   "cell_type": "markdown",
   "id": "96f228b8",
   "metadata": {},
   "source": [
    "### **Question Type:** Product"
   ]
  },
  {
   "cell_type": "markdown",
   "id": "030299ca",
   "metadata": {},
   "source": [
    "### **Company:** Meta"
   ]
  },
  {
   "cell_type": "markdown",
   "id": "69b04d43",
   "metadata": {},
   "source": [
    "## **Description:**"
   ]
  },
  {
   "cell_type": "markdown",
   "id": "b1e0814a",
   "metadata": {},
   "source": [
    "Let’s say we want to figure out for any Meta/Facebook user, who their best friend is so we can prioritize showing their content in the News Feed. What product signals and metrics would you use to determine who a user’s best friend is?"
   ]
  },
  {
   "cell_type": "markdown",
   "id": "10b45f08",
   "metadata": {},
   "source": [
    "## **Solution:**"
   ]
  },
  {
   "cell_type": "code",
   "execution_count": null,
   "id": "0bb8ec96",
   "metadata": {},
   "outputs": [],
   "source": []
  }
 ],
 "metadata": {},
 "nbformat": 4,
 "nbformat_minor": 5
}
