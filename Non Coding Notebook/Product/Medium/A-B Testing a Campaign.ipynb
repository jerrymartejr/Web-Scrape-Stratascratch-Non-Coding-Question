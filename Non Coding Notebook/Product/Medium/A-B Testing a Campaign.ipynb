{
 "cells": [
  {
   "cell_type": "markdown",
   "id": "761b8eb9",
   "metadata": {},
   "source": [
    "### **Link:** https://platform.stratascratch.com/technical/2341-ab-testing-a-campaign"
   ]
  },
  {
   "cell_type": "markdown",
   "id": "8f44b952",
   "metadata": {},
   "source": [
    "### **ID:** ID 2341"
   ]
  },
  {
   "cell_type": "markdown",
   "id": "a8edd91e",
   "metadata": {},
   "source": [
    "# A-B Testing a Campaign"
   ]
  },
  {
   "cell_type": "markdown",
   "id": "04e15cdd",
   "metadata": {},
   "source": [
    "### **Difficulty:** Medium"
   ]
  },
  {
   "cell_type": "markdown",
   "id": "fda56d1c",
   "metadata": {},
   "source": [
    "### **Question Type:** Product"
   ]
  },
  {
   "cell_type": "markdown",
   "id": "1f4d119f",
   "metadata": {},
   "source": [
    "### **Company:** Robinhood"
   ]
  },
  {
   "cell_type": "markdown",
   "id": "8f172c3a",
   "metadata": {},
   "source": [
    "## **Description:**"
   ]
  },
  {
   "cell_type": "markdown",
   "id": "ee75858b",
   "metadata": {},
   "source": [
    "Robinhood wants to encourage more people to create an account and plans a campaign where they would give out a few free stocks to new users. Describe in detail how would you implement an A/B test to determine the success of this campaign."
   ]
  },
  {
   "cell_type": "markdown",
   "id": "cbe09380",
   "metadata": {},
   "source": [
    "## **Solution:**"
   ]
  },
  {
   "cell_type": "code",
   "execution_count": null,
   "id": "2ce5046c",
   "metadata": {},
   "outputs": [],
   "source": []
  }
 ],
 "metadata": {},
 "nbformat": 4,
 "nbformat_minor": 5
}
