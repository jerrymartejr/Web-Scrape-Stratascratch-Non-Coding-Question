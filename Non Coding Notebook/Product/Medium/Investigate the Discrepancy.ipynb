{
 "cells": [
  {
   "cell_type": "markdown",
   "id": "e19f0c99",
   "metadata": {},
   "source": [
    "### **Link:** https://platform.stratascratch.com/technical/2203-investigate-the-discrepancy"
   ]
  },
  {
   "cell_type": "markdown",
   "id": "e60ed7c8",
   "metadata": {},
   "source": [
    "### **ID:** ID 2203"
   ]
  },
  {
   "cell_type": "markdown",
   "id": "12c08493",
   "metadata": {},
   "source": [
    "# Investigate the Discrepancy"
   ]
  },
  {
   "cell_type": "markdown",
   "id": "88175f33",
   "metadata": {},
   "source": [
    "### **Difficulty:** Medium"
   ]
  },
  {
   "cell_type": "markdown",
   "id": "9367a61f",
   "metadata": {},
   "source": [
    "### **Question Type:** Product"
   ]
  },
  {
   "cell_type": "markdown",
   "id": "fb321447",
   "metadata": {},
   "source": [
    "### **Company:** Meta"
   ]
  },
  {
   "cell_type": "markdown",
   "id": "00f16442",
   "metadata": {},
   "source": [
    "## **Description:**"
   ]
  },
  {
   "cell_type": "markdown",
   "id": "3be56a7b",
   "metadata": {},
   "source": [
    "If 70% of Meta/Facebook users on iOS use Instagram, but only 35% of Meta/Facebook users on Android use Instagram, how would you investigate the discrepancy?"
   ]
  },
  {
   "cell_type": "markdown",
   "id": "9807073c",
   "metadata": {},
   "source": [
    "## **Solution:**"
   ]
  },
  {
   "cell_type": "code",
   "execution_count": null,
   "id": "6f20dd6f",
   "metadata": {},
   "outputs": [],
   "source": []
  }
 ],
 "metadata": {},
 "nbformat": 4,
 "nbformat_minor": 5
}
