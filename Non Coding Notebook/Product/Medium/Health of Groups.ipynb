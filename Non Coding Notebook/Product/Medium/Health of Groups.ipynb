{
 "cells": [
  {
   "cell_type": "markdown",
   "id": "7b4b0f2e",
   "metadata": {},
   "source": [
    "### **Link:** https://platform.stratascratch.com/technical/2329-health-of-groups"
   ]
  },
  {
   "cell_type": "markdown",
   "id": "d38d49dd",
   "metadata": {},
   "source": [
    "### **ID:** ID 2329"
   ]
  },
  {
   "cell_type": "markdown",
   "id": "150b9ba9",
   "metadata": {},
   "source": [
    "# Health of Groups"
   ]
  },
  {
   "cell_type": "markdown",
   "id": "8dfe6d57",
   "metadata": {},
   "source": [
    "### **Difficulty:** Medium"
   ]
  },
  {
   "cell_type": "markdown",
   "id": "9b631457",
   "metadata": {},
   "source": [
    "### **Question Type:** Product"
   ]
  },
  {
   "cell_type": "markdown",
   "id": "da07d562",
   "metadata": {},
   "source": [
    "### **Company:** Meta"
   ]
  },
  {
   "cell_type": "markdown",
   "id": "f279f164",
   "metadata": {},
   "source": [
    "## **Description:**"
   ]
  },
  {
   "cell_type": "markdown",
   "id": "d8a1e7d7",
   "metadata": {},
   "source": [
    "How would you determine the health of a Meta/Facebook Group?"
   ]
  },
  {
   "cell_type": "markdown",
   "id": "0a3e603b",
   "metadata": {},
   "source": [
    "## **Solution:**"
   ]
  },
  {
   "cell_type": "code",
   "execution_count": null,
   "id": "79d66a78",
   "metadata": {},
   "outputs": [],
   "source": []
  }
 ],
 "metadata": {},
 "nbformat": 4,
 "nbformat_minor": 5
}
