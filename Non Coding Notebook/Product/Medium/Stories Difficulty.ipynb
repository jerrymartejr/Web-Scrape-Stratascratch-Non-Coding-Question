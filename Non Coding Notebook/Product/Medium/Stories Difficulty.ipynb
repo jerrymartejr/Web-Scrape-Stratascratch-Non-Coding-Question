{
 "cells": [
  {
   "cell_type": "markdown",
   "id": "e973704f",
   "metadata": {},
   "source": [
    "### **Link:** https://platform.stratascratch.com/technical/2379-stories-difficulty"
   ]
  },
  {
   "cell_type": "markdown",
   "id": "0c5b8f4c",
   "metadata": {},
   "source": [
    "### **ID:** ID 2379"
   ]
  },
  {
   "cell_type": "markdown",
   "id": "c1917c21",
   "metadata": {},
   "source": [
    "# Stories Difficulty"
   ]
  },
  {
   "cell_type": "markdown",
   "id": "8365abe8",
   "metadata": {},
   "source": [
    "### **Difficulty:** Medium"
   ]
  },
  {
   "cell_type": "markdown",
   "id": "913159df",
   "metadata": {},
   "source": [
    "### **Question Type:** Product"
   ]
  },
  {
   "cell_type": "markdown",
   "id": "2c52ad84",
   "metadata": {},
   "source": [
    "### **Company:** Duolingo"
   ]
  },
  {
   "cell_type": "markdown",
   "id": "6e72f319",
   "metadata": {},
   "source": [
    "## **Description:**"
   ]
  },
  {
   "cell_type": "markdown",
   "id": "5ddce383",
   "metadata": {},
   "source": [
    "Duolingo is a platform for language learning. When a student is learning a new language, Duolingo wants to recommend increasingly difficult stories to read.\n",
    "How would you measure the difficulty level of a story based on how users interact with it?"
   ]
  },
  {
   "cell_type": "markdown",
   "id": "6baf1b41",
   "metadata": {},
   "source": [
    "## **Solution:**"
   ]
  },
  {
   "cell_type": "code",
   "execution_count": null,
   "id": "9eae93e6",
   "metadata": {},
   "outputs": [],
   "source": []
  }
 ],
 "metadata": {},
 "nbformat": 4,
 "nbformat_minor": 5
}
