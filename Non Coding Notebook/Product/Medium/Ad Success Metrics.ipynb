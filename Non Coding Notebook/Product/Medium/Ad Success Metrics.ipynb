{
 "cells": [
  {
   "cell_type": "markdown",
   "id": "7972a7c8",
   "metadata": {},
   "source": [
    "### **Link:** https://platform.stratascratch.com/technical/2308-ad-success-metrics"
   ]
  },
  {
   "cell_type": "markdown",
   "id": "9ae6c45c",
   "metadata": {},
   "source": [
    "### **ID:** ID 2308"
   ]
  },
  {
   "cell_type": "markdown",
   "id": "91195c2f",
   "metadata": {},
   "source": [
    "# Ad Success Metrics"
   ]
  },
  {
   "cell_type": "markdown",
   "id": "8bf38081",
   "metadata": {},
   "source": [
    "### **Difficulty:** Medium"
   ]
  },
  {
   "cell_type": "markdown",
   "id": "109ae34b",
   "metadata": {},
   "source": [
    "### **Question Type:** Product"
   ]
  },
  {
   "cell_type": "markdown",
   "id": "9eaffba8",
   "metadata": {},
   "source": [
    "### **Company:** Instagram"
   ]
  },
  {
   "cell_type": "markdown",
   "id": "9769bb38",
   "metadata": {},
   "source": [
    "## **Description:**"
   ]
  },
  {
   "cell_type": "markdown",
   "id": "c7da90c6",
   "metadata": {},
   "source": [
    "What metrics would you use to measure the success of an Instagram ad?"
   ]
  },
  {
   "cell_type": "markdown",
   "id": "a083c79a",
   "metadata": {},
   "source": [
    "## **Solution:**"
   ]
  },
  {
   "cell_type": "code",
   "execution_count": null,
   "id": "af4fd970",
   "metadata": {},
   "outputs": [],
   "source": []
  }
 ],
 "metadata": {},
 "nbformat": 4,
 "nbformat_minor": 5
}
