{
 "cells": [
  {
   "cell_type": "markdown",
   "id": "822a4ad5",
   "metadata": {},
   "source": [
    "### **Link:** https://platform.stratascratch.com/technical/2304-two-metrics-discrepancy"
   ]
  },
  {
   "cell_type": "markdown",
   "id": "b0f0a48d",
   "metadata": {},
   "source": [
    "### **ID:** ID 2304"
   ]
  },
  {
   "cell_type": "markdown",
   "id": "56e20f51",
   "metadata": {},
   "source": [
    "# Two Metrics Discrepancy"
   ]
  },
  {
   "cell_type": "markdown",
   "id": "38f78368",
   "metadata": {},
   "source": [
    "### **Difficulty:** Medium"
   ]
  },
  {
   "cell_type": "markdown",
   "id": "f337aedb",
   "metadata": {},
   "source": [
    "### **Question Type:** Product"
   ]
  },
  {
   "cell_type": "markdown",
   "id": "553919a3",
   "metadata": {},
   "source": [
    "### **Company:** Google"
   ]
  },
  {
   "cell_type": "markdown",
   "id": "f5ea3e2a",
   "metadata": {},
   "source": [
    "## **Description:**"
   ]
  },
  {
   "cell_type": "markdown",
   "id": "bbcb32b7",
   "metadata": {},
   "source": [
    "There is an increase of users who feel their privacy is respected by 8%, but the engagement to Google Play Services has decreased by 14%. How would you investigate this discrepancy?"
   ]
  },
  {
   "cell_type": "markdown",
   "id": "41011461",
   "metadata": {},
   "source": [
    "## **Solution:**"
   ]
  },
  {
   "cell_type": "code",
   "execution_count": null,
   "id": "d00d54d8",
   "metadata": {},
   "outputs": [],
   "source": []
  }
 ],
 "metadata": {},
 "nbformat": 4,
 "nbformat_minor": 5
}
