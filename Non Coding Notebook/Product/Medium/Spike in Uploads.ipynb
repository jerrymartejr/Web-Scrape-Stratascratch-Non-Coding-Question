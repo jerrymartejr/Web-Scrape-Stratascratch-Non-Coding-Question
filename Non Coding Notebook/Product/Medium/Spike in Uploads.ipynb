{
 "cells": [
  {
   "cell_type": "markdown",
   "id": "83a6a705",
   "metadata": {},
   "source": [
    "### **Link:** https://platform.stratascratch.com/technical/2044-spike-in-uploads"
   ]
  },
  {
   "cell_type": "markdown",
   "id": "18874d9b",
   "metadata": {},
   "source": [
    "### **ID:** ID 2044"
   ]
  },
  {
   "cell_type": "markdown",
   "id": "40a430fa",
   "metadata": {},
   "source": [
    "# Spike in Uploads"
   ]
  },
  {
   "cell_type": "markdown",
   "id": "bb880a13",
   "metadata": {},
   "source": [
    "### **Difficulty:** Medium"
   ]
  },
  {
   "cell_type": "markdown",
   "id": "5803b361",
   "metadata": {},
   "source": [
    "### **Question Type:** Product"
   ]
  },
  {
   "cell_type": "markdown",
   "id": "fc3af00d",
   "metadata": {},
   "source": [
    "### **Company:** Yammer, Yelp"
   ]
  },
  {
   "cell_type": "markdown",
   "id": "78cd32b4",
   "metadata": {},
   "source": [
    "## **Description:**"
   ]
  },
  {
   "cell_type": "markdown",
   "id": "0d480ec3",
   "metadata": {},
   "source": [
    "You are compiling a report for user content uploaded every month and notice a spike in uploads in October. In particular, a spike in picture uploads. What might you think is the cause of this, and how would you test it?"
   ]
  },
  {
   "cell_type": "markdown",
   "id": "7ea36edb",
   "metadata": {},
   "source": [
    "## **Solution:**"
   ]
  },
  {
   "cell_type": "code",
   "execution_count": null,
   "id": "beb315f5",
   "metadata": {},
   "outputs": [],
   "source": []
  }
 ],
 "metadata": {},
 "nbformat": 4,
 "nbformat_minor": 5
}
