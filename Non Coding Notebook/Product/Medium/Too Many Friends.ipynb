{
 "cells": [
  {
   "cell_type": "markdown",
   "id": "3086c0f5",
   "metadata": {},
   "source": [
    "### **Link:** https://platform.stratascratch.com/technical/2337-too-many-friends"
   ]
  },
  {
   "cell_type": "markdown",
   "id": "6e975588",
   "metadata": {},
   "source": [
    "### **ID:** ID 2337"
   ]
  },
  {
   "cell_type": "markdown",
   "id": "960198f5",
   "metadata": {},
   "source": [
    "# Too Many Friends"
   ]
  },
  {
   "cell_type": "markdown",
   "id": "ef78d5b6",
   "metadata": {},
   "source": [
    "### **Difficulty:** Medium"
   ]
  },
  {
   "cell_type": "markdown",
   "id": "578a4c1a",
   "metadata": {},
   "source": [
    "### **Question Type:** Product"
   ]
  },
  {
   "cell_type": "markdown",
   "id": "6a1cbf4c",
   "metadata": {},
   "source": [
    "### **Company:** Meta"
   ]
  },
  {
   "cell_type": "markdown",
   "id": "6aa3c4a1",
   "metadata": {},
   "source": [
    "## **Description:**"
   ]
  },
  {
   "cell_type": "markdown",
   "id": "c2bca3a7",
   "metadata": {},
   "source": [
    "What technical problems may arise from a Meta/Facebook user having significantly more friends than an average user?"
   ]
  },
  {
   "cell_type": "markdown",
   "id": "c35d9b90",
   "metadata": {},
   "source": [
    "## **Solution:**"
   ]
  },
  {
   "cell_type": "code",
   "execution_count": null,
   "id": "1db04f34",
   "metadata": {},
   "outputs": [],
   "source": []
  }
 ],
 "metadata": {},
 "nbformat": 4,
 "nbformat_minor": 5
}
