{
 "cells": [
  {
   "cell_type": "markdown",
   "id": "bed281f2",
   "metadata": {},
   "source": [
    "### **Link:** https://platform.stratascratch.com/technical/2025-search-toolbar-change"
   ]
  },
  {
   "cell_type": "markdown",
   "id": "421cf680",
   "metadata": {},
   "source": [
    "### **ID:** ID 2025"
   ]
  },
  {
   "cell_type": "markdown",
   "id": "c06e8930",
   "metadata": {},
   "source": [
    "# Search Toolbar Change"
   ]
  },
  {
   "cell_type": "markdown",
   "id": "174588c9",
   "metadata": {},
   "source": [
    "### **Difficulty:** Medium"
   ]
  },
  {
   "cell_type": "markdown",
   "id": "719a26aa",
   "metadata": {},
   "source": [
    "### **Question Type:** Product"
   ]
  },
  {
   "cell_type": "markdown",
   "id": "00856810",
   "metadata": {},
   "source": [
    "### **Company:** Quora"
   ]
  },
  {
   "cell_type": "markdown",
   "id": "4a304bad",
   "metadata": {},
   "source": [
    "## **Description:**"
   ]
  },
  {
   "cell_type": "markdown",
   "id": "cd66a07b",
   "metadata": {},
   "source": [
    "What metric would you use to measure the impact of a search toolbar change?"
   ]
  },
  {
   "cell_type": "markdown",
   "id": "3dc39a18",
   "metadata": {},
   "source": [
    "## **Solution:**"
   ]
  },
  {
   "cell_type": "code",
   "execution_count": null,
   "id": "6e96f31c",
   "metadata": {},
   "outputs": [],
   "source": []
  }
 ],
 "metadata": {},
 "nbformat": 4,
 "nbformat_minor": 5
}
