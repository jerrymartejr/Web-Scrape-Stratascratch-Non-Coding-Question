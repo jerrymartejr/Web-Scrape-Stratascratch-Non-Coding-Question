{
 "cells": [
  {
   "cell_type": "markdown",
   "id": "230728f9",
   "metadata": {},
   "source": [
    "### **Link:** https://platform.stratascratch.com/technical/2301-recommended-news-metrics"
   ]
  },
  {
   "cell_type": "markdown",
   "id": "809b00d8",
   "metadata": {},
   "source": [
    "### **ID:** ID 2301"
   ]
  },
  {
   "cell_type": "markdown",
   "id": "d28a461e",
   "metadata": {},
   "source": [
    "# Recommended News Metrics"
   ]
  },
  {
   "cell_type": "markdown",
   "id": "ae44fd2a",
   "metadata": {},
   "source": [
    "### **Difficulty:** Medium"
   ]
  },
  {
   "cell_type": "markdown",
   "id": "b5eeaa68",
   "metadata": {},
   "source": [
    "### **Question Type:** Product"
   ]
  },
  {
   "cell_type": "markdown",
   "id": "a707606e",
   "metadata": {},
   "source": [
    "### **Company:** Google"
   ]
  },
  {
   "cell_type": "markdown",
   "id": "0a2313b4",
   "metadata": {},
   "source": [
    "## **Description:**"
   ]
  },
  {
   "cell_type": "markdown",
   "id": "7012966f",
   "metadata": {},
   "source": [
    "How would you measure the success of recommended news based on a searched topic"
   ]
  },
  {
   "cell_type": "markdown",
   "id": "18bd8235",
   "metadata": {},
   "source": [
    "## **Solution:**"
   ]
  },
  {
   "cell_type": "code",
   "execution_count": null,
   "id": "80192122",
   "metadata": {},
   "outputs": [],
   "source": []
  }
 ],
 "metadata": {},
 "nbformat": 4,
 "nbformat_minor": 5
}
