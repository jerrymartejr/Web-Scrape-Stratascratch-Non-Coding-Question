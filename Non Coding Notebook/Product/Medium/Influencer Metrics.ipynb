{
 "cells": [
  {
   "cell_type": "markdown",
   "id": "ac7f1920",
   "metadata": {},
   "source": [
    "### **Link:** https://platform.stratascratch.com/technical/2051-influencer-metrics"
   ]
  },
  {
   "cell_type": "markdown",
   "id": "01113eb6",
   "metadata": {},
   "source": [
    "### **ID:** ID 2051"
   ]
  },
  {
   "cell_type": "markdown",
   "id": "0924bee6",
   "metadata": {},
   "source": [
    "# Influencer Metrics"
   ]
  },
  {
   "cell_type": "markdown",
   "id": "5e2c885c",
   "metadata": {},
   "source": [
    "### **Difficulty:** Medium"
   ]
  },
  {
   "cell_type": "markdown",
   "id": "c6238ff5",
   "metadata": {},
   "source": [
    "### **Question Type:** Product"
   ]
  },
  {
   "cell_type": "markdown",
   "id": "e05a64d7",
   "metadata": {},
   "source": [
    "### **Company:** Twitter"
   ]
  },
  {
   "cell_type": "markdown",
   "id": "75425e18",
   "metadata": {},
   "source": [
    "## **Description:**"
   ]
  },
  {
   "cell_type": "markdown",
   "id": "216b768f",
   "metadata": {},
   "source": [
    "How would you quantify the influence of a Twitter user?"
   ]
  },
  {
   "cell_type": "markdown",
   "id": "94f0f134",
   "metadata": {},
   "source": [
    "## **Solution:**"
   ]
  },
  {
   "cell_type": "code",
   "execution_count": null,
   "id": "107b2ba0",
   "metadata": {},
   "outputs": [],
   "source": []
  }
 ],
 "metadata": {},
 "nbformat": 4,
 "nbformat_minor": 5
}
