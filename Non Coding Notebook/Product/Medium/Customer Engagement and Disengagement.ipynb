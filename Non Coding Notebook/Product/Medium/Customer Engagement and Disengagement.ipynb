{
 "cells": [
  {
   "cell_type": "markdown",
   "id": "68589895",
   "metadata": {},
   "source": [
    "### **Link:** https://platform.stratascratch.com/technical/2392-customer-engagement-and-disengagement"
   ]
  },
  {
   "cell_type": "markdown",
   "id": "67b6859f",
   "metadata": {},
   "source": [
    "### **ID:** ID 2392"
   ]
  },
  {
   "cell_type": "markdown",
   "id": "90e12ea4",
   "metadata": {},
   "source": [
    "# Customer Engagement and Disengagement"
   ]
  },
  {
   "cell_type": "markdown",
   "id": "5aa44bbf",
   "metadata": {},
   "source": [
    "### **Difficulty:** Medium"
   ]
  },
  {
   "cell_type": "markdown",
   "id": "a8049689",
   "metadata": {},
   "source": [
    "### **Question Type:** Product"
   ]
  },
  {
   "cell_type": "markdown",
   "id": "c9726698",
   "metadata": {},
   "source": [
    "### **Company:** DoorDash, Meta"
   ]
  },
  {
   "cell_type": "markdown",
   "id": "3780e9c2",
   "metadata": {},
   "source": [
    "## **Description:**"
   ]
  },
  {
   "cell_type": "markdown",
   "id": "6d0b23f5",
   "metadata": {},
   "source": [
    "How do you measure customer engagement and disengagement?"
   ]
  },
  {
   "cell_type": "markdown",
   "id": "6fd412b9",
   "metadata": {},
   "source": [
    "## **Solution:**"
   ]
  },
  {
   "cell_type": "code",
   "execution_count": null,
   "id": "844fff2b",
   "metadata": {},
   "outputs": [],
   "source": []
  }
 ],
 "metadata": {},
 "nbformat": 4,
 "nbformat_minor": 5
}
