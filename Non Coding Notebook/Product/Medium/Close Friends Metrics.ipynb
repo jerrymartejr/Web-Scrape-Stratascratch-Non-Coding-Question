{
 "cells": [
  {
   "cell_type": "markdown",
   "id": "0efc956c",
   "metadata": {},
   "source": [
    "### **Link:** https://platform.stratascratch.com/technical/2307-close-friends-metrics"
   ]
  },
  {
   "cell_type": "markdown",
   "id": "5a60980e",
   "metadata": {},
   "source": [
    "### **ID:** ID 2307"
   ]
  },
  {
   "cell_type": "markdown",
   "id": "d45b5fb3",
   "metadata": {},
   "source": [
    "# Close Friends Metrics"
   ]
  },
  {
   "cell_type": "markdown",
   "id": "acccef55",
   "metadata": {},
   "source": [
    "### **Difficulty:** Medium"
   ]
  },
  {
   "cell_type": "markdown",
   "id": "30380dc4",
   "metadata": {},
   "source": [
    "### **Question Type:** Product"
   ]
  },
  {
   "cell_type": "markdown",
   "id": "848d26e1",
   "metadata": {},
   "source": [
    "### **Company:** Meta"
   ]
  },
  {
   "cell_type": "markdown",
   "id": "72de0b06",
   "metadata": {},
   "source": [
    "## **Description:**"
   ]
  },
  {
   "cell_type": "markdown",
   "id": "bfb5d155",
   "metadata": {},
   "source": [
    "What metrics would you use to determine how “close” two friends on Meta/Facebook are? Close in a sense they're close friends that often hangout and/or talk with each other."
   ]
  },
  {
   "cell_type": "markdown",
   "id": "f0cb8c00",
   "metadata": {},
   "source": [
    "## **Solution:**"
   ]
  },
  {
   "cell_type": "code",
   "execution_count": null,
   "id": "a57f1eb1",
   "metadata": {},
   "outputs": [],
   "source": []
  }
 ],
 "metadata": {},
 "nbformat": 4,
 "nbformat_minor": 5
}
