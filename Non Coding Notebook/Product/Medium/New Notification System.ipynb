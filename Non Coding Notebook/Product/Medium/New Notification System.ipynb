{
 "cells": [
  {
   "cell_type": "markdown",
   "id": "c9df5958",
   "metadata": {},
   "source": [
    "### **Link:** https://platform.stratascratch.com/technical/2360-new-notification-system"
   ]
  },
  {
   "cell_type": "markdown",
   "id": "a9b1f6ad",
   "metadata": {},
   "source": [
    "### **ID:** ID 2360"
   ]
  },
  {
   "cell_type": "markdown",
   "id": "2dca0fa2",
   "metadata": {},
   "source": [
    "# New Notification System"
   ]
  },
  {
   "cell_type": "markdown",
   "id": "3cff7db7",
   "metadata": {},
   "source": [
    "### **Difficulty:** Medium"
   ]
  },
  {
   "cell_type": "markdown",
   "id": "fe2d922c",
   "metadata": {},
   "source": [
    "### **Question Type:** Product"
   ]
  },
  {
   "cell_type": "markdown",
   "id": "18032248",
   "metadata": {},
   "source": [
    "### **Company:** Meta"
   ]
  },
  {
   "cell_type": "markdown",
   "id": "7ea60d7f",
   "metadata": {},
   "source": [
    "## **Description:**"
   ]
  },
  {
   "cell_type": "markdown",
   "id": "9ccf334a",
   "metadata": {},
   "source": [
    "After launching a new notification system on Facebook, the acceptance rate of friendship requests has decreased by 15%. How would you investigate the exact cause of this change and the relationship between the new system and the acceptance rate metric?"
   ]
  },
  {
   "cell_type": "markdown",
   "id": "c09bf69e",
   "metadata": {},
   "source": [
    "## **Solution:**"
   ]
  },
  {
   "cell_type": "code",
   "execution_count": null,
   "id": "53aba0eb",
   "metadata": {},
   "outputs": [],
   "source": []
  }
 ],
 "metadata": {},
 "nbformat": 4,
 "nbformat_minor": 5
}
