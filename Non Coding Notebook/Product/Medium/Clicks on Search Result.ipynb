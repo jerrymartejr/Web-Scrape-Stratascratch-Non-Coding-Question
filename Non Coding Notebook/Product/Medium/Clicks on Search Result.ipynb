{
 "cells": [
  {
   "cell_type": "markdown",
   "id": "926bf4fa",
   "metadata": {},
   "source": [
    "### **Link:** https://platform.stratascratch.com/technical/2378-clicks-on-search-result"
   ]
  },
  {
   "cell_type": "markdown",
   "id": "481fcbc4",
   "metadata": {},
   "source": [
    "### **ID:** ID 2378"
   ]
  },
  {
   "cell_type": "markdown",
   "id": "8618cd78",
   "metadata": {},
   "source": [
    "# Clicks on Search Result"
   ]
  },
  {
   "cell_type": "markdown",
   "id": "72cedf9b",
   "metadata": {},
   "source": [
    "### **Difficulty:** Medium"
   ]
  },
  {
   "cell_type": "markdown",
   "id": "071d06bc",
   "metadata": {},
   "source": [
    "### **Question Type:** Product"
   ]
  },
  {
   "cell_type": "markdown",
   "id": "9a51377f",
   "metadata": {},
   "source": [
    "### **Company:** Meta"
   ]
  },
  {
   "cell_type": "markdown",
   "id": "43118193",
   "metadata": {},
   "source": [
    "## **Description:**"
   ]
  },
  {
   "cell_type": "markdown",
   "id": "450386fe",
   "metadata": {},
   "source": [
    "You notice that the number of users that clicked on a search result about a Facebook Event increased 10% week-over-week. What steps would you take to investigate the reason behind the change? How do you decide if the change has a good or bad impact on the business?"
   ]
  },
  {
   "cell_type": "markdown",
   "id": "75eddf6f",
   "metadata": {},
   "source": [
    "## **Solution:**"
   ]
  },
  {
   "cell_type": "code",
   "execution_count": null,
   "id": "7b6076b5",
   "metadata": {},
   "outputs": [],
   "source": []
  }
 ],
 "metadata": {},
 "nbformat": 4,
 "nbformat_minor": 5
}
