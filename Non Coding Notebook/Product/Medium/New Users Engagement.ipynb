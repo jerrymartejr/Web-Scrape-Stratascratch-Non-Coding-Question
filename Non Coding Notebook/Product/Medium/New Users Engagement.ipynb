{
 "cells": [
  {
   "cell_type": "markdown",
   "id": "aa3cdc79",
   "metadata": {},
   "source": [
    "### **Link:** https://platform.stratascratch.com/technical/2370-new-users-engagement"
   ]
  },
  {
   "cell_type": "markdown",
   "id": "04e4a09f",
   "metadata": {},
   "source": [
    "### **ID:** ID 2370"
   ]
  },
  {
   "cell_type": "markdown",
   "id": "f8d1dcec",
   "metadata": {},
   "source": [
    "# New Users Engagement"
   ]
  },
  {
   "cell_type": "markdown",
   "id": "836aaf32",
   "metadata": {},
   "source": [
    "### **Difficulty:** Medium"
   ]
  },
  {
   "cell_type": "markdown",
   "id": "fea8abf1",
   "metadata": {},
   "source": [
    "### **Question Type:** Product"
   ]
  },
  {
   "cell_type": "markdown",
   "id": "a915662e",
   "metadata": {},
   "source": [
    "### **Company:** Twitter, LinkedIn"
   ]
  },
  {
   "cell_type": "markdown",
   "id": "8b044829",
   "metadata": {},
   "source": [
    "## **Description:**"
   ]
  },
  {
   "cell_type": "markdown",
   "id": "e7222c01",
   "metadata": {},
   "source": [
    "How would you evaluate the engagement of the new users? Clearly define the metrics and KPIs that you would use."
   ]
  },
  {
   "cell_type": "markdown",
   "id": "78ccd25b",
   "metadata": {},
   "source": [
    "## **Solution:**"
   ]
  },
  {
   "cell_type": "code",
   "execution_count": null,
   "id": "7af012a5",
   "metadata": {},
   "outputs": [],
   "source": []
  }
 ],
 "metadata": {},
 "nbformat": 4,
 "nbformat_minor": 5
}
