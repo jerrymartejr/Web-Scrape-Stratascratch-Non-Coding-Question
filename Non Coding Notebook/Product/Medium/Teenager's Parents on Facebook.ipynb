{
 "cells": [
  {
   "cell_type": "markdown",
   "id": "61ddca1e",
   "metadata": {},
   "source": [
    "### **Link:** https://platform.stratascratch.com/technical/2391-teenagers-parents-on-facebook"
   ]
  },
  {
   "cell_type": "markdown",
   "id": "f62a5d5d",
   "metadata": {},
   "source": [
    "### **ID:** ID 2391"
   ]
  },
  {
   "cell_type": "markdown",
   "id": "8c407fa4",
   "metadata": {},
   "source": [
    "# Teenager's Parents on Facebook"
   ]
  },
  {
   "cell_type": "markdown",
   "id": "bbcc3c5f",
   "metadata": {},
   "source": [
    "### **Difficulty:** Medium"
   ]
  },
  {
   "cell_type": "markdown",
   "id": "a781d498",
   "metadata": {},
   "source": [
    "### **Question Type:** Product"
   ]
  },
  {
   "cell_type": "markdown",
   "id": "3d851f5f",
   "metadata": {},
   "source": [
    "### **Company:** Meta"
   ]
  },
  {
   "cell_type": "markdown",
   "id": "d4e1c4f4",
   "metadata": {},
   "source": [
    "## **Description:**"
   ]
  },
  {
   "cell_type": "markdown",
   "id": "a85c1311",
   "metadata": {},
   "source": [
    "How do we evaluate the impact on teenagers when their parents join Facebook?"
   ]
  },
  {
   "cell_type": "markdown",
   "id": "0fc98370",
   "metadata": {},
   "source": [
    "## **Solution:**"
   ]
  },
  {
   "cell_type": "code",
   "execution_count": null,
   "id": "560c6289",
   "metadata": {},
   "outputs": [],
   "source": []
  }
 ],
 "metadata": {},
 "nbformat": 4,
 "nbformat_minor": 5
}
