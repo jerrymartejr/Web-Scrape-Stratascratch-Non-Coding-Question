{
 "cells": [
  {
   "cell_type": "markdown",
   "id": "3db73d03",
   "metadata": {},
   "source": [
    "### **Link:** https://platform.stratascratch.com/technical/2302-shorts-success-metrics"
   ]
  },
  {
   "cell_type": "markdown",
   "id": "eaef7e1c",
   "metadata": {},
   "source": [
    "### **ID:** ID 2302"
   ]
  },
  {
   "cell_type": "markdown",
   "id": "3ce3ed26",
   "metadata": {},
   "source": [
    "# Shorts Success Metrics"
   ]
  },
  {
   "cell_type": "markdown",
   "id": "ea15adde",
   "metadata": {},
   "source": [
    "### **Difficulty:** Medium"
   ]
  },
  {
   "cell_type": "markdown",
   "id": "95f6eeeb",
   "metadata": {},
   "source": [
    "### **Question Type:** Product"
   ]
  },
  {
   "cell_type": "markdown",
   "id": "4ed0c98c",
   "metadata": {},
   "source": [
    "### **Company:** YouTube"
   ]
  },
  {
   "cell_type": "markdown",
   "id": "285a633b",
   "metadata": {},
   "source": [
    "## **Description:**"
   ]
  },
  {
   "cell_type": "markdown",
   "id": "41436e0d",
   "metadata": {},
   "source": [
    "How would you measure the success of YouTube shorts?"
   ]
  },
  {
   "cell_type": "markdown",
   "id": "e8c85812",
   "metadata": {},
   "source": [
    "## **Solution:**"
   ]
  },
  {
   "cell_type": "code",
   "execution_count": null,
   "id": "ecec8819",
   "metadata": {},
   "outputs": [],
   "source": []
  }
 ],
 "metadata": {},
 "nbformat": 4,
 "nbformat_minor": 5
}
