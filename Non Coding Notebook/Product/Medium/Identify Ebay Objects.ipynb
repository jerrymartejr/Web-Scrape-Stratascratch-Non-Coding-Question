{
 "cells": [
  {
   "cell_type": "markdown",
   "id": "b4216b05",
   "metadata": {},
   "source": [
    "### **Link:** https://platform.stratascratch.com/technical/2075-identify-ebay-objects"
   ]
  },
  {
   "cell_type": "markdown",
   "id": "b3dd6aa6",
   "metadata": {},
   "source": [
    "### **ID:** ID 2075"
   ]
  },
  {
   "cell_type": "markdown",
   "id": "4deb6439",
   "metadata": {},
   "source": [
    "# Identify Ebay Objects"
   ]
  },
  {
   "cell_type": "markdown",
   "id": "16e56121",
   "metadata": {},
   "source": [
    "### **Difficulty:** Medium"
   ]
  },
  {
   "cell_type": "markdown",
   "id": "5101b502",
   "metadata": {},
   "source": [
    "### **Question Type:** Product"
   ]
  },
  {
   "cell_type": "markdown",
   "id": "a57b9f0e",
   "metadata": {},
   "source": [
    "### **Company:** Ebay"
   ]
  },
  {
   "cell_type": "markdown",
   "id": "90607d43",
   "metadata": {},
   "source": [
    "## **Description:**"
   ]
  },
  {
   "cell_type": "markdown",
   "id": "83713b64",
   "metadata": {},
   "source": [
    "Ebay has to identify the cameras from the other objects like tripods, cables and batteries. What would be your approach? Data include ads title, description of the product, price, images etc."
   ]
  },
  {
   "cell_type": "markdown",
   "id": "6ac0e370",
   "metadata": {},
   "source": [
    "## **Solution:**"
   ]
  },
  {
   "cell_type": "code",
   "execution_count": null,
   "id": "80149fff",
   "metadata": {},
   "outputs": [],
   "source": []
  }
 ],
 "metadata": {},
 "nbformat": 4,
 "nbformat_minor": 5
}
