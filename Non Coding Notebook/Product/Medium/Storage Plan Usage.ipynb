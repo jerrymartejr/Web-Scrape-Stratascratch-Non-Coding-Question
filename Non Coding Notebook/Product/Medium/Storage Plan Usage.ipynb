{
 "cells": [
  {
   "cell_type": "markdown",
   "id": "c1a10e26",
   "metadata": {},
   "source": [
    "### **Link:** https://platform.stratascratch.com/technical/2303-storage-plan-usage"
   ]
  },
  {
   "cell_type": "markdown",
   "id": "aae1c7d3",
   "metadata": {},
   "source": [
    "### **ID:** ID 2303"
   ]
  },
  {
   "cell_type": "markdown",
   "id": "8e55417c",
   "metadata": {},
   "source": [
    "# Storage Plan Usage"
   ]
  },
  {
   "cell_type": "markdown",
   "id": "a0023893",
   "metadata": {},
   "source": [
    "### **Difficulty:** Medium"
   ]
  },
  {
   "cell_type": "markdown",
   "id": "4ee3a357",
   "metadata": {},
   "source": [
    "### **Question Type:** Product"
   ]
  },
  {
   "cell_type": "markdown",
   "id": "d8fd7e96",
   "metadata": {},
   "source": [
    "### **Company:** Google"
   ]
  },
  {
   "cell_type": "markdown",
   "id": "9b0ad30c",
   "metadata": {},
   "source": [
    "## **Description:**"
   ]
  },
  {
   "cell_type": "markdown",
   "id": "419c35a3",
   "metadata": {},
   "source": [
    "There is an increase of users buying Google One 100GB storage plan by 15%. How would you find the reasoning behind this?"
   ]
  },
  {
   "cell_type": "markdown",
   "id": "5deadaac",
   "metadata": {},
   "source": [
    "## **Solution:**"
   ]
  },
  {
   "cell_type": "code",
   "execution_count": null,
   "id": "161f8abc",
   "metadata": {},
   "outputs": [],
   "source": []
  }
 ],
 "metadata": {},
 "nbformat": 4,
 "nbformat_minor": 5
}
