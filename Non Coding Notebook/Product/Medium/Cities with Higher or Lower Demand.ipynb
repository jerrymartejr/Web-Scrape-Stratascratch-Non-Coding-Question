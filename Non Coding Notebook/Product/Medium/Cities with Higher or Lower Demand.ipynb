{
 "cells": [
  {
   "cell_type": "markdown",
   "id": "62e4ab09",
   "metadata": {},
   "source": [
    "### **Link:** https://platform.stratascratch.com/technical/2349-cities-with-higher-or-lower-demand"
   ]
  },
  {
   "cell_type": "markdown",
   "id": "9c5aef82",
   "metadata": {},
   "source": [
    "### **ID:** ID 2349"
   ]
  },
  {
   "cell_type": "markdown",
   "id": "03194ef7",
   "metadata": {},
   "source": [
    "# Cities with Higher or Lower Demand"
   ]
  },
  {
   "cell_type": "markdown",
   "id": "0624b450",
   "metadata": {},
   "source": [
    "### **Difficulty:** Medium"
   ]
  },
  {
   "cell_type": "markdown",
   "id": "269d8067",
   "metadata": {},
   "source": [
    "### **Question Type:** Product"
   ]
  },
  {
   "cell_type": "markdown",
   "id": "0e74d106",
   "metadata": {},
   "source": [
    "### **Company:** Lyft"
   ]
  },
  {
   "cell_type": "markdown",
   "id": "301b5019",
   "metadata": {},
   "source": [
    "## **Description:**"
   ]
  },
  {
   "cell_type": "markdown",
   "id": "5e5594b6",
   "metadata": {},
   "source": [
    "Lyft offers ride-sharing services in over 640 cities in the United States. In what way and using which metrics would you detect a city with the current demand significantly higher or lower than the average?"
   ]
  },
  {
   "cell_type": "markdown",
   "id": "2376ec6a",
   "metadata": {},
   "source": [
    "## **Solution:**"
   ]
  },
  {
   "cell_type": "code",
   "execution_count": null,
   "id": "38584a02",
   "metadata": {},
   "outputs": [],
   "source": []
  }
 ],
 "metadata": {},
 "nbformat": 4,
 "nbformat_minor": 5
}
