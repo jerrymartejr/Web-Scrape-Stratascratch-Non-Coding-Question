{
 "cells": [
  {
   "cell_type": "markdown",
   "id": "e48b37ff",
   "metadata": {},
   "source": [
    "### **Link:** https://platform.stratascratch.com/technical/2306-metrics-tracking"
   ]
  },
  {
   "cell_type": "markdown",
   "id": "768d6e77",
   "metadata": {},
   "source": [
    "### **ID:** ID 2306"
   ]
  },
  {
   "cell_type": "markdown",
   "id": "c91b0823",
   "metadata": {},
   "source": [
    "# Metrics Tracking"
   ]
  },
  {
   "cell_type": "markdown",
   "id": "2d2c0720",
   "metadata": {},
   "source": [
    "### **Difficulty:** Medium"
   ]
  },
  {
   "cell_type": "markdown",
   "id": "30c151ba",
   "metadata": {},
   "source": [
    "### **Question Type:** Product"
   ]
  },
  {
   "cell_type": "markdown",
   "id": "bbd0458f",
   "metadata": {},
   "source": [
    "### **Company:** LinkedIn"
   ]
  },
  {
   "cell_type": "markdown",
   "id": "102218ac",
   "metadata": {},
   "source": [
    "## **Description:**"
   ]
  },
  {
   "cell_type": "markdown",
   "id": "7060ad37",
   "metadata": {},
   "source": [
    "What metrics would you track after a user follows a new page and why?"
   ]
  },
  {
   "cell_type": "markdown",
   "id": "46b092ad",
   "metadata": {},
   "source": [
    "## **Solution:**"
   ]
  },
  {
   "cell_type": "code",
   "execution_count": null,
   "id": "27bf24a2",
   "metadata": {},
   "outputs": [],
   "source": []
  }
 ],
 "metadata": {},
 "nbformat": 4,
 "nbformat_minor": 5
}
