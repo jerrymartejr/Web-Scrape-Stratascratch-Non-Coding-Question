{
 "cells": [
  {
   "cell_type": "markdown",
   "id": "cfa0641c",
   "metadata": {},
   "source": [
    "### **Link:** https://platform.stratascratch.com/technical/2026-twitter-feed"
   ]
  },
  {
   "cell_type": "markdown",
   "id": "e1a89895",
   "metadata": {},
   "source": [
    "### **ID:** ID 2026"
   ]
  },
  {
   "cell_type": "markdown",
   "id": "77b12b0e",
   "metadata": {},
   "source": [
    "# Twitter Feed"
   ]
  },
  {
   "cell_type": "markdown",
   "id": "b5cf840a",
   "metadata": {},
   "source": [
    "### **Difficulty:** Medium"
   ]
  },
  {
   "cell_type": "markdown",
   "id": "961d2929",
   "metadata": {},
   "source": [
    "### **Question Type:** Product"
   ]
  },
  {
   "cell_type": "markdown",
   "id": "a415e294",
   "metadata": {},
   "source": [
    "### **Company:** Microsoft, Twitter"
   ]
  },
  {
   "cell_type": "markdown",
   "id": "b98460ce",
   "metadata": {},
   "source": [
    "## **Description:**"
   ]
  },
  {
   "cell_type": "markdown",
   "id": "15906177",
   "metadata": {},
   "source": [
    "What would you do to summarize a twitter feed?"
   ]
  },
  {
   "cell_type": "markdown",
   "id": "9dca0446",
   "metadata": {},
   "source": [
    "## **Solution:**"
   ]
  },
  {
   "cell_type": "code",
   "execution_count": null,
   "id": "159c42d2",
   "metadata": {},
   "outputs": [],
   "source": []
  }
 ],
 "metadata": {},
 "nbformat": 4,
 "nbformat_minor": 5
}
