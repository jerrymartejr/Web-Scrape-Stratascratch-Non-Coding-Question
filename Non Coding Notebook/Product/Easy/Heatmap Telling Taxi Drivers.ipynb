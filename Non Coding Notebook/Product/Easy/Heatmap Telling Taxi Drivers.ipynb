{
 "cells": [
  {
   "cell_type": "markdown",
   "id": "7b863fbe",
   "metadata": {},
   "source": [
    "### **Link:** https://platform.stratascratch.com/technical/2035-heatmap-telling-taxi-drivers"
   ]
  },
  {
   "cell_type": "markdown",
   "id": "df26b777",
   "metadata": {},
   "source": [
    "### **ID:** ID 2035"
   ]
  },
  {
   "cell_type": "markdown",
   "id": "dbe5d6bb",
   "metadata": {},
   "source": [
    "# Heatmap Telling Taxi Drivers"
   ]
  },
  {
   "cell_type": "markdown",
   "id": "07834d61",
   "metadata": {},
   "source": [
    "### **Difficulty:** Easy"
   ]
  },
  {
   "cell_type": "markdown",
   "id": "2cef9c8a",
   "metadata": {},
   "source": [
    "### **Question Type:** Product"
   ]
  },
  {
   "cell_type": "markdown",
   "id": "dff00ef7",
   "metadata": {},
   "source": [
    "### **Company:** Lyft"
   ]
  },
  {
   "cell_type": "markdown",
   "id": "08f22b82",
   "metadata": {},
   "source": [
    "## **Description:**"
   ]
  },
  {
   "cell_type": "markdown",
   "id": "3869edd4",
   "metadata": {},
   "source": [
    "Describe how to engineer the heatmap telling taxi drivers where to go to maximize their probability to get a client. How do you define which area will have high demand next and who do you want to go there?"
   ]
  },
  {
   "cell_type": "markdown",
   "id": "14c68b13",
   "metadata": {},
   "source": [
    "## **Solution:**"
   ]
  },
  {
   "cell_type": "code",
   "execution_count": null,
   "id": "77bfe9ef",
   "metadata": {},
   "outputs": [],
   "source": []
  }
 ],
 "metadata": {},
 "nbformat": 4,
 "nbformat_minor": 5
}
