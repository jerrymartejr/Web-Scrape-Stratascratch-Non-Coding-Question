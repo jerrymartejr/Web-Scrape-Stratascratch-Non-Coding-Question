{
 "cells": [
  {
   "cell_type": "markdown",
   "id": "eda276aa",
   "metadata": {},
   "source": [
    "### **Link:** https://platform.stratascratch.com/technical/2335-accepting-rides"
   ]
  },
  {
   "cell_type": "markdown",
   "id": "6a7bd604",
   "metadata": {},
   "source": [
    "### **ID:** ID 2335"
   ]
  },
  {
   "cell_type": "markdown",
   "id": "08891065",
   "metadata": {},
   "source": [
    "# Accepting Rides"
   ]
  },
  {
   "cell_type": "markdown",
   "id": "f7048ee6",
   "metadata": {},
   "source": [
    "### **Difficulty:** Easy"
   ]
  },
  {
   "cell_type": "markdown",
   "id": "f640afd5",
   "metadata": {},
   "source": [
    "### **Question Type:** Product"
   ]
  },
  {
   "cell_type": "markdown",
   "id": "2ae0e4e5",
   "metadata": {},
   "source": [
    "### **Company:** Uber"
   ]
  },
  {
   "cell_type": "markdown",
   "id": "bc205318",
   "metadata": {},
   "source": [
    "## **Description:**"
   ]
  },
  {
   "cell_type": "markdown",
   "id": "fe1a94b8",
   "metadata": {},
   "source": [
    "Can you think of examples of situations when an Uber driver would accept a ride even if it doesn't make financial sense for them?"
   ]
  },
  {
   "cell_type": "markdown",
   "id": "90b39f27",
   "metadata": {},
   "source": [
    "## **Solution:**"
   ]
  },
  {
   "cell_type": "code",
   "execution_count": null,
   "id": "f9a4c759",
   "metadata": {},
   "outputs": [],
   "source": []
  }
 ],
 "metadata": {},
 "nbformat": 4,
 "nbformat_minor": 5
}
