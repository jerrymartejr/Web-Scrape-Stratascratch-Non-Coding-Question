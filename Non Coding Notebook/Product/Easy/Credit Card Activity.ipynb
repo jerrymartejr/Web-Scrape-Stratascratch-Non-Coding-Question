{
 "cells": [
  {
   "cell_type": "markdown",
   "id": "72bc4af2",
   "metadata": {},
   "source": [
    "### **Link:** https://platform.stratascratch.com/technical/2342-credit-card-activity"
   ]
  },
  {
   "cell_type": "markdown",
   "id": "39e542ad",
   "metadata": {},
   "source": [
    "### **ID:** ID 2342"
   ]
  },
  {
   "cell_type": "markdown",
   "id": "96370d2a",
   "metadata": {},
   "source": [
    "# Credit Card Activity"
   ]
  },
  {
   "cell_type": "markdown",
   "id": "b6644e2d",
   "metadata": {},
   "source": [
    "### **Difficulty:** Easy"
   ]
  },
  {
   "cell_type": "markdown",
   "id": "aef67ede",
   "metadata": {},
   "source": [
    "### **Question Type:** Product"
   ]
  },
  {
   "cell_type": "markdown",
   "id": "a8494a77",
   "metadata": {},
   "source": [
    "### **Company:** Visa"
   ]
  },
  {
   "cell_type": "markdown",
   "id": "8e600240",
   "metadata": {},
   "source": [
    "## **Description:**"
   ]
  },
  {
   "cell_type": "markdown",
   "id": "64acc41a",
   "metadata": {},
   "source": [
    "How can you identify where a person lives based solely on their credit card activity?"
   ]
  },
  {
   "cell_type": "markdown",
   "id": "619e5fbb",
   "metadata": {},
   "source": [
    "## **Solution:**"
   ]
  },
  {
   "cell_type": "code",
   "execution_count": null,
   "id": "b75bb65f",
   "metadata": {},
   "outputs": [],
   "source": []
  }
 ],
 "metadata": {},
 "nbformat": 4,
 "nbformat_minor": 5
}
