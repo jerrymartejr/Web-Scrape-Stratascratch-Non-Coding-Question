{
 "cells": [
  {
   "cell_type": "markdown",
   "id": "80a6ef51",
   "metadata": {},
   "source": [
    "### **Link:** https://platform.stratascratch.com/technical/2321-skype-usage"
   ]
  },
  {
   "cell_type": "markdown",
   "id": "7bed62c7",
   "metadata": {},
   "source": [
    "### **ID:** ID 2321"
   ]
  },
  {
   "cell_type": "markdown",
   "id": "44ee7ef1",
   "metadata": {},
   "source": [
    "# Skype Usage"
   ]
  },
  {
   "cell_type": "markdown",
   "id": "173143eb",
   "metadata": {},
   "source": [
    "### **Difficulty:** Easy"
   ]
  },
  {
   "cell_type": "markdown",
   "id": "4801e278",
   "metadata": {},
   "source": [
    "### **Question Type:** Product"
   ]
  },
  {
   "cell_type": "markdown",
   "id": "609b4bcc",
   "metadata": {},
   "source": [
    "### **Company:** Microsoft"
   ]
  },
  {
   "cell_type": "markdown",
   "id": "efa10a90",
   "metadata": {},
   "source": [
    "## **Description:**"
   ]
  },
  {
   "cell_type": "markdown",
   "id": "4f5647f8",
   "metadata": {},
   "source": [
    "When the Covid-19 pandemic initially started, Microsoft predicted that there would be an increase in Skype daily active users. Later it was found that the daily active users actually decreased by 4%. How would you determine the reason behind this?"
   ]
  },
  {
   "cell_type": "markdown",
   "id": "67f9d837",
   "metadata": {},
   "source": [
    "## **Solution:**"
   ]
  },
  {
   "cell_type": "code",
   "execution_count": null,
   "id": "b8d2b690",
   "metadata": {},
   "outputs": [],
   "source": []
  }
 ],
 "metadata": {},
 "nbformat": 4,
 "nbformat_minor": 5
}
