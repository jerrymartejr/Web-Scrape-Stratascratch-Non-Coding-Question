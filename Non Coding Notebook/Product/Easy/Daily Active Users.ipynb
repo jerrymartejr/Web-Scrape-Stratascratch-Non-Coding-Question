{
 "cells": [
  {
   "cell_type": "markdown",
   "id": "c47635dd",
   "metadata": {},
   "source": [
    "### **Link:** https://platform.stratascratch.com/technical/2322-daily-active-users"
   ]
  },
  {
   "cell_type": "markdown",
   "id": "79566e9b",
   "metadata": {},
   "source": [
    "### **ID:** ID 2322"
   ]
  },
  {
   "cell_type": "markdown",
   "id": "8cb90a60",
   "metadata": {},
   "source": [
    "# Daily Active Users"
   ]
  },
  {
   "cell_type": "markdown",
   "id": "de9ec2c5",
   "metadata": {},
   "source": [
    "### **Difficulty:** Easy"
   ]
  },
  {
   "cell_type": "markdown",
   "id": "c1ae81d2",
   "metadata": {},
   "source": [
    "### **Question Type:** Product"
   ]
  },
  {
   "cell_type": "markdown",
   "id": "b8a36cad",
   "metadata": {},
   "source": [
    "### **Company:** Twitch"
   ]
  },
  {
   "cell_type": "markdown",
   "id": "1f30db30",
   "metadata": {},
   "source": [
    "## **Description:**"
   ]
  },
  {
   "cell_type": "markdown",
   "id": "64b0b382",
   "metadata": {},
   "source": [
    "Daily active users have fallen by 5%. What steps would you take to determine why this issue occurred?"
   ]
  },
  {
   "cell_type": "markdown",
   "id": "2968bc21",
   "metadata": {},
   "source": [
    "## **Solution:**"
   ]
  },
  {
   "cell_type": "code",
   "execution_count": null,
   "id": "49935b97",
   "metadata": {},
   "outputs": [],
   "source": []
  }
 ],
 "metadata": {},
 "nbformat": 4,
 "nbformat_minor": 5
}
