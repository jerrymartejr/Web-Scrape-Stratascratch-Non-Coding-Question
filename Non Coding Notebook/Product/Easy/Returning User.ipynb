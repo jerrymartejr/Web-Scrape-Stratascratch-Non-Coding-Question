{
 "cells": [
  {
   "cell_type": "markdown",
   "id": "0913d8e4",
   "metadata": {},
   "source": [
    "### **Link:** https://platform.stratascratch.com/technical/2339-returning-user"
   ]
  },
  {
   "cell_type": "markdown",
   "id": "9c616b61",
   "metadata": {},
   "source": [
    "### **ID:** ID 2339"
   ]
  },
  {
   "cell_type": "markdown",
   "id": "71c95560",
   "metadata": {},
   "source": [
    "# Returning User"
   ]
  },
  {
   "cell_type": "markdown",
   "id": "166d0f9d",
   "metadata": {},
   "source": [
    "### **Difficulty:** Easy"
   ]
  },
  {
   "cell_type": "markdown",
   "id": "21ee91a3",
   "metadata": {},
   "source": [
    "### **Question Type:** Product"
   ]
  },
  {
   "cell_type": "markdown",
   "id": "fe065dcf",
   "metadata": {},
   "source": [
    "### **Company:** Meta"
   ]
  },
  {
   "cell_type": "markdown",
   "id": "e9b0ff7e",
   "metadata": {},
   "source": [
    "## **Description:**"
   ]
  },
  {
   "cell_type": "markdown",
   "id": "789116ee",
   "metadata": {},
   "source": [
    "What metrics can be used to determine if a certain user is a returning one?"
   ]
  },
  {
   "cell_type": "markdown",
   "id": "9f98971a",
   "metadata": {},
   "source": [
    "## **Solution:**"
   ]
  },
  {
   "cell_type": "code",
   "execution_count": null,
   "id": "17d66397",
   "metadata": {},
   "outputs": [],
   "source": []
  }
 ],
 "metadata": {},
 "nbformat": 4,
 "nbformat_minor": 5
}
