{
 "cells": [
  {
   "cell_type": "markdown",
   "id": "209a6be1",
   "metadata": {},
   "source": [
    "### **Link:** https://platform.stratascratch.com/technical/2369-graph-of-sales-and-revenue"
   ]
  },
  {
   "cell_type": "markdown",
   "id": "1c826936",
   "metadata": {},
   "source": [
    "### **ID:** ID 2369"
   ]
  },
  {
   "cell_type": "markdown",
   "id": "cf182233",
   "metadata": {},
   "source": [
    "# Graph of Sales and Revenue"
   ]
  },
  {
   "cell_type": "markdown",
   "id": "bf165362",
   "metadata": {},
   "source": [
    "### **Difficulty:** Easy"
   ]
  },
  {
   "cell_type": "markdown",
   "id": "481211e1",
   "metadata": {},
   "source": [
    "### **Question Type:** Product"
   ]
  },
  {
   "cell_type": "markdown",
   "id": "84b36d9a",
   "metadata": {},
   "source": [
    "### **Company:** Google, Microsoft"
   ]
  },
  {
   "cell_type": "markdown",
   "id": "b69f75da",
   "metadata": {},
   "source": [
    "## **Description:**"
   ]
  },
  {
   "cell_type": "markdown",
   "id": "8792dc53",
   "metadata": {},
   "source": [
    "You are given a graph presenting changes in sales and revenue over time. You can see that while the revenue graph looks like a U-shaped parabola (first decreases and then increases), the graph of the number of sold units has a shape of an inverted letter U (first increases, then decreases).\n",
    "Explain to a stakeholder why the graph looks like that."
   ]
  },
  {
   "cell_type": "markdown",
   "id": "ef0978a4",
   "metadata": {},
   "source": [
    "## **Solution:**"
   ]
  },
  {
   "cell_type": "code",
   "execution_count": null,
   "id": "750818d2",
   "metadata": {},
   "outputs": [],
   "source": []
  }
 ],
 "metadata": {},
 "nbformat": 4,
 "nbformat_minor": 5
}
