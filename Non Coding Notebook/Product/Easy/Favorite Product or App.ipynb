{
 "cells": [
  {
   "cell_type": "markdown",
   "id": "a58d66e1",
   "metadata": {},
   "source": [
    "### **Link:** https://platform.stratascratch.com/technical/2192-favorite-product-or-app"
   ]
  },
  {
   "cell_type": "markdown",
   "id": "d4f4c114",
   "metadata": {},
   "source": [
    "### **ID:** ID 2192"
   ]
  },
  {
   "cell_type": "markdown",
   "id": "58c64027",
   "metadata": {},
   "source": [
    "# Favorite Product or App"
   ]
  },
  {
   "cell_type": "markdown",
   "id": "39fe2964",
   "metadata": {},
   "source": [
    "### **Difficulty:** Easy"
   ]
  },
  {
   "cell_type": "markdown",
   "id": "79728696",
   "metadata": {},
   "source": [
    "### **Question Type:** Product"
   ]
  },
  {
   "cell_type": "markdown",
   "id": "6f13037a",
   "metadata": {},
   "source": [
    "### **Company:** Uber, Lyft"
   ]
  },
  {
   "cell_type": "markdown",
   "id": "4623aaa1",
   "metadata": {},
   "source": [
    "## **Description:**"
   ]
  },
  {
   "cell_type": "markdown",
   "id": "1cb8caa6",
   "metadata": {},
   "source": [
    "Pick your favorite product or app and describe how you would improve it or design it."
   ]
  },
  {
   "cell_type": "markdown",
   "id": "86207a2e",
   "metadata": {},
   "source": [
    "## **Solution:**"
   ]
  },
  {
   "cell_type": "code",
   "execution_count": null,
   "id": "08f5994e",
   "metadata": {},
   "outputs": [],
   "source": []
  }
 ],
 "metadata": {},
 "nbformat": 4,
 "nbformat_minor": 5
}
