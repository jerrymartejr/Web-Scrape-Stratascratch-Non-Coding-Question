{
 "cells": [
  {
   "cell_type": "markdown",
   "id": "838b1577",
   "metadata": {},
   "source": [
    "### **Link:** https://platform.stratascratch.com/technical/2300-translator-improvement"
   ]
  },
  {
   "cell_type": "markdown",
   "id": "8d0e7cdc",
   "metadata": {},
   "source": [
    "### **ID:** ID 2300"
   ]
  },
  {
   "cell_type": "markdown",
   "id": "7863c6b2",
   "metadata": {},
   "source": [
    "# Translator Improvement"
   ]
  },
  {
   "cell_type": "markdown",
   "id": "493ef6da",
   "metadata": {},
   "source": [
    "### **Difficulty:** Easy"
   ]
  },
  {
   "cell_type": "markdown",
   "id": "102f7215",
   "metadata": {},
   "source": [
    "### **Question Type:** Product"
   ]
  },
  {
   "cell_type": "markdown",
   "id": "4056e4be",
   "metadata": {},
   "source": [
    "### **Company:** Google"
   ]
  },
  {
   "cell_type": "markdown",
   "id": "681550d0",
   "metadata": {},
   "source": [
    "## **Description:**"
   ]
  },
  {
   "cell_type": "markdown",
   "id": "814196db",
   "metadata": {},
   "source": [
    "How would you improve Google Translate?"
   ]
  },
  {
   "cell_type": "markdown",
   "id": "aecdedd5",
   "metadata": {},
   "source": [
    "## **Solution:**"
   ]
  },
  {
   "cell_type": "code",
   "execution_count": null,
   "id": "4ec75e8e",
   "metadata": {},
   "outputs": [],
   "source": []
  }
 ],
 "metadata": {},
 "nbformat": 4,
 "nbformat_minor": 5
}
