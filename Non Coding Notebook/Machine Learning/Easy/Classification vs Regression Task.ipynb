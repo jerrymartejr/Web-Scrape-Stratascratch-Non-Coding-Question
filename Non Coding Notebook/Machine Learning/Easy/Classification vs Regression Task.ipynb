{
 "cells": [
  {
   "cell_type": "markdown",
   "id": "22e3dea5",
   "metadata": {},
   "source": [
    "### **Link:** https://platform.stratascratch.com/technical/2409-classification-vs-regression-task"
   ]
  },
  {
   "cell_type": "markdown",
   "id": "12156ac1",
   "metadata": {},
   "source": [
    "### **ID:** ID 2409"
   ]
  },
  {
   "cell_type": "markdown",
   "id": "cf01c886",
   "metadata": {},
   "source": [
    "# Classification vs Regression Task"
   ]
  },
  {
   "cell_type": "markdown",
   "id": "77ebf4bc",
   "metadata": {},
   "source": [
    "### **Difficulty:** Easy"
   ]
  },
  {
   "cell_type": "markdown",
   "id": "0d6c6c65",
   "metadata": {},
   "source": [
    "### **Question Type:** Machine Learning"
   ]
  },
  {
   "cell_type": "markdown",
   "id": "a11ddbb0",
   "metadata": {},
   "source": [
    "### **Company:** Airbnb, Expedia"
   ]
  },
  {
   "cell_type": "markdown",
   "id": "aa89f2fc",
   "metadata": {},
   "source": [
    "## **Description:**"
   ]
  },
  {
   "cell_type": "markdown",
   "id": "25264619",
   "metadata": {},
   "source": [
    "Describe the difference between a classification task and a regression task."
   ]
  },
  {
   "cell_type": "markdown",
   "id": "f57c4a19",
   "metadata": {},
   "source": [
    "## **Solution:**"
   ]
  },
  {
   "cell_type": "code",
   "execution_count": null,
   "id": "a8f60055",
   "metadata": {},
   "outputs": [],
   "source": []
  }
 ],
 "metadata": {},
 "nbformat": 4,
 "nbformat_minor": 5
}
