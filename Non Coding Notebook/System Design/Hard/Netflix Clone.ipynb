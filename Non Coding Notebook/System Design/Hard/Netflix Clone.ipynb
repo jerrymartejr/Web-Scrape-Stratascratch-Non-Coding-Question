{
 "cells": [
  {
   "cell_type": "markdown",
   "id": "543f2d5d",
   "metadata": {},
   "source": [
    "### **Link:** https://platform.stratascratch.com/technical/2451-netflix-clone"
   ]
  },
  {
   "cell_type": "markdown",
   "id": "fae169a1",
   "metadata": {},
   "source": [
    "### **ID:** ID 2451"
   ]
  },
  {
   "cell_type": "markdown",
   "id": "d952f194",
   "metadata": {},
   "source": [
    "# Netflix Clone"
   ]
  },
  {
   "cell_type": "markdown",
   "id": "eff9cde3",
   "metadata": {},
   "source": [
    "### **Difficulty:** Hard"
   ]
  },
  {
   "cell_type": "markdown",
   "id": "db21b3a9",
   "metadata": {},
   "source": [
    "### **Question Type:** System Design"
   ]
  },
  {
   "cell_type": "markdown",
   "id": "6cacab89",
   "metadata": {},
   "source": [
    "### **Company:** Netflix"
   ]
  },
  {
   "cell_type": "markdown",
   "id": "af67d60b",
   "metadata": {},
   "source": [
    "## **Description:**"
   ]
  },
  {
   "cell_type": "markdown",
   "id": "afedf038",
   "metadata": {},
   "source": [
    "If you were to build a Netflix clone, how would you build a system that predicts when a user stops watching a TV show, whether they are tired of that show or they’re just taking a break"
   ]
  },
  {
   "cell_type": "markdown",
   "id": "50c78ab9",
   "metadata": {},
   "source": [
    "## **Solution:**"
   ]
  },
  {
   "cell_type": "code",
   "execution_count": null,
   "id": "4770a601",
   "metadata": {},
   "outputs": [],
   "source": []
  }
 ],
 "metadata": {},
 "nbformat": 4,
 "nbformat_minor": 5
}
