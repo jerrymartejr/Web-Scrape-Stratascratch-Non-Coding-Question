{
 "cells": [
  {
   "cell_type": "markdown",
   "id": "4418c3c4",
   "metadata": {},
   "source": [
    "### **Link:** https://platform.stratascratch.com/technical/2353-friends-you-may-know"
   ]
  },
  {
   "cell_type": "markdown",
   "id": "1757b183",
   "metadata": {},
   "source": [
    "### **ID:** ID 2353"
   ]
  },
  {
   "cell_type": "markdown",
   "id": "e55802be",
   "metadata": {},
   "source": [
    "# Friends You May Know"
   ]
  },
  {
   "cell_type": "markdown",
   "id": "54b39a14",
   "metadata": {},
   "source": [
    "### **Difficulty:** Hard"
   ]
  },
  {
   "cell_type": "markdown",
   "id": "fa2ecd3a",
   "metadata": {},
   "source": [
    "### **Question Type:** System Design"
   ]
  },
  {
   "cell_type": "markdown",
   "id": "52560edd",
   "metadata": {},
   "source": [
    "### **Company:** Meta"
   ]
  },
  {
   "cell_type": "markdown",
   "id": "e6bfd300",
   "metadata": {},
   "source": [
    "## **Description:**"
   ]
  },
  {
   "cell_type": "markdown",
   "id": "1760a3ed",
   "metadata": {},
   "source": [
    "How would you design a 'friends you may know' feature on Facebook? This feature is meant to recommend people that a user may know, based on the list of this user's friends and possibly other data.\n",
    "Explain clearly what data would you need and how to best structure them. Suggest a specific model or an algorithm that can be used."
   ]
  },
  {
   "cell_type": "markdown",
   "id": "01d75791",
   "metadata": {},
   "source": [
    "## **Solution:**"
   ]
  },
  {
   "cell_type": "code",
   "execution_count": null,
   "id": "c86a6f9d",
   "metadata": {},
   "outputs": [],
   "source": []
  }
 ],
 "metadata": {},
 "nbformat": 4,
 "nbformat_minor": 5
}
