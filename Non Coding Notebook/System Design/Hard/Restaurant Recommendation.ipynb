{
 "cells": [
  {
   "cell_type": "markdown",
   "id": "0f797000",
   "metadata": {},
   "source": [
    "### **Link:** https://platform.stratascratch.com/technical/2394-restaurant-recommendation"
   ]
  },
  {
   "cell_type": "markdown",
   "id": "5e9d2a48",
   "metadata": {},
   "source": [
    "### **ID:** ID 2394"
   ]
  },
  {
   "cell_type": "markdown",
   "id": "958730b0",
   "metadata": {},
   "source": [
    "# Restaurant Recommendation"
   ]
  },
  {
   "cell_type": "markdown",
   "id": "cd34d67b",
   "metadata": {},
   "source": [
    "### **Difficulty:** Hard"
   ]
  },
  {
   "cell_type": "markdown",
   "id": "239eb919",
   "metadata": {},
   "source": [
    "### **Question Type:** System Design"
   ]
  },
  {
   "cell_type": "markdown",
   "id": "7e74dc33",
   "metadata": {},
   "source": [
    "### **Company:** Meta"
   ]
  },
  {
   "cell_type": "markdown",
   "id": "9c45a6c6",
   "metadata": {},
   "source": [
    "## **Description:**"
   ]
  },
  {
   "cell_type": "markdown",
   "id": "0cff8168",
   "metadata": {},
   "source": [
    "How would you build a 'restaurants you may like' recommender system on the news feed?"
   ]
  },
  {
   "cell_type": "markdown",
   "id": "8cc47548",
   "metadata": {},
   "source": [
    "## **Solution:**"
   ]
  },
  {
   "cell_type": "code",
   "execution_count": null,
   "id": "17489c48",
   "metadata": {},
   "outputs": [],
   "source": []
  }
 ],
 "metadata": {},
 "nbformat": 4,
 "nbformat_minor": 5
}
