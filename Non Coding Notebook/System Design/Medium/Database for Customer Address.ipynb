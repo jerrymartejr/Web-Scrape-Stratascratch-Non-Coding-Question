{
 "cells": [
  {
   "cell_type": "markdown",
   "id": "beb2de2c",
   "metadata": {},
   "source": [
    "### **Link:** https://platform.stratascratch.com/technical/2363-database-for-customer-address"
   ]
  },
  {
   "cell_type": "markdown",
   "id": "c5edccbc",
   "metadata": {},
   "source": [
    "### **ID:** ID 2363"
   ]
  },
  {
   "cell_type": "markdown",
   "id": "418941f7",
   "metadata": {},
   "source": [
    "# Database for Customer Address"
   ]
  },
  {
   "cell_type": "markdown",
   "id": "c19c4747",
   "metadata": {},
   "source": [
    "### **Difficulty:** Medium"
   ]
  },
  {
   "cell_type": "markdown",
   "id": "39e6c742",
   "metadata": {},
   "source": [
    "### **Question Type:** System Design"
   ]
  },
  {
   "cell_type": "markdown",
   "id": "3ec24c80",
   "metadata": {},
   "source": [
    "### **Company:** Amazon, Ebay"
   ]
  },
  {
   "cell_type": "markdown",
   "id": "96887887",
   "metadata": {},
   "source": [
    "## **Description:**"
   ]
  },
  {
   "cell_type": "markdown",
   "id": "a884b1cf",
   "metadata": {},
   "source": [
    "How would you design a database schema for storing customers' address information, given that the address of some customers changes in time?"
   ]
  },
  {
   "cell_type": "markdown",
   "id": "341080c3",
   "metadata": {},
   "source": [
    "## **Solution:**"
   ]
  },
  {
   "cell_type": "code",
   "execution_count": null,
   "id": "f44877e3",
   "metadata": {},
   "outputs": [],
   "source": []
  }
 ],
 "metadata": {},
 "nbformat": 4,
 "nbformat_minor": 5
}
