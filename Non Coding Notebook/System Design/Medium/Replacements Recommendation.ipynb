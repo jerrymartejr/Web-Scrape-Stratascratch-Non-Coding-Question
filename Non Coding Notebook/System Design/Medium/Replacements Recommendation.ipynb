{
 "cells": [
  {
   "cell_type": "markdown",
   "id": "778c4b77",
   "metadata": {},
   "source": [
    "### **Link:** https://platform.stratascratch.com/technical/2373-replacements-recommendation"
   ]
  },
  {
   "cell_type": "markdown",
   "id": "b1f2660e",
   "metadata": {},
   "source": [
    "### **ID:** ID 2373"
   ]
  },
  {
   "cell_type": "markdown",
   "id": "4fdac1bc",
   "metadata": {},
   "source": [
    "# Replacements Recommendation"
   ]
  },
  {
   "cell_type": "markdown",
   "id": "c8747a79",
   "metadata": {},
   "source": [
    "### **Difficulty:** Medium"
   ]
  },
  {
   "cell_type": "markdown",
   "id": "ec558211",
   "metadata": {},
   "source": [
    "### **Question Type:** System Design"
   ]
  },
  {
   "cell_type": "markdown",
   "id": "76b63662",
   "metadata": {},
   "source": [
    "### **Company:** Amazon"
   ]
  },
  {
   "cell_type": "markdown",
   "id": "f9216cde",
   "metadata": {},
   "source": [
    "## **Description:**"
   ]
  },
  {
   "cell_type": "markdown",
   "id": "6cb0a109",
   "metadata": {},
   "source": [
    "On e-commerce websites, such as Amazon, users sometimes want to buy products that are out of stock. How would you design a recommendation system to suggest the replacement for these products?"
   ]
  },
  {
   "cell_type": "markdown",
   "id": "27d6b369",
   "metadata": {},
   "source": [
    "## **Solution:**"
   ]
  },
  {
   "cell_type": "code",
   "execution_count": null,
   "id": "05245888",
   "metadata": {},
   "outputs": [],
   "source": []
  }
 ],
 "metadata": {},
 "nbformat": 4,
 "nbformat_minor": 5
}
