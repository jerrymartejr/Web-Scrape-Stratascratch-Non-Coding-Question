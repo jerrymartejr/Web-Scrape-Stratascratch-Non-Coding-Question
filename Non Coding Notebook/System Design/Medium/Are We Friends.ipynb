{
 "cells": [
  {
   "cell_type": "markdown",
   "id": "d0fdd198",
   "metadata": {},
   "source": [
    "### **Link:** https://platform.stratascratch.com/technical/2008-are-we-friends"
   ]
  },
  {
   "cell_type": "markdown",
   "id": "d07c1170",
   "metadata": {},
   "source": [
    "### **ID:** ID 2008"
   ]
  },
  {
   "cell_type": "markdown",
   "id": "40b9c658",
   "metadata": {},
   "source": [
    "# Are We Friends"
   ]
  },
  {
   "cell_type": "markdown",
   "id": "01045938",
   "metadata": {},
   "source": [
    "### **Difficulty:** Medium"
   ]
  },
  {
   "cell_type": "markdown",
   "id": "0df14267",
   "metadata": {},
   "source": [
    "### **Question Type:** System Design"
   ]
  },
  {
   "cell_type": "markdown",
   "id": "5576df72",
   "metadata": {},
   "source": [
    "### **Company:** Meta"
   ]
  },
  {
   "cell_type": "markdown",
   "id": "4dc920b0",
   "metadata": {},
   "source": [
    "## **Description:**"
   ]
  },
  {
   "cell_type": "markdown",
   "id": "25a410d7",
   "metadata": {},
   "source": [
    "Given data on Meta/Facebook members friending/defriending each other on Meta/Facebook, find out whether a given pair of members are currently friends."
   ]
  },
  {
   "cell_type": "markdown",
   "id": "8e500a62",
   "metadata": {},
   "source": [
    "## **Solution:**"
   ]
  },
  {
   "cell_type": "code",
   "execution_count": null,
   "id": "3aa5f74e",
   "metadata": {},
   "outputs": [],
   "source": []
  }
 ],
 "metadata": {},
 "nbformat": 4,
 "nbformat_minor": 5
}
