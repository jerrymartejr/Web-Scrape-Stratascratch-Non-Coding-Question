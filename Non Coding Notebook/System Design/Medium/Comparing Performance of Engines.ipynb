{
 "cells": [
  {
   "cell_type": "markdown",
   "id": "7195daec",
   "metadata": {},
   "source": [
    "### **Link:** https://platform.stratascratch.com/technical/2006-comparing-performance-of-engines"
   ]
  },
  {
   "cell_type": "markdown",
   "id": "4d87082f",
   "metadata": {},
   "source": [
    "### **ID:** ID 2006"
   ]
  },
  {
   "cell_type": "markdown",
   "id": "1d57f027",
   "metadata": {},
   "source": [
    "# Comparing Performance of Engines"
   ]
  },
  {
   "cell_type": "markdown",
   "id": "96fcff1b",
   "metadata": {},
   "source": [
    "### **Difficulty:** Medium"
   ]
  },
  {
   "cell_type": "markdown",
   "id": "9da88c83",
   "metadata": {},
   "source": [
    "### **Question Type:** System Design"
   ]
  },
  {
   "cell_type": "markdown",
   "id": "df2e88db",
   "metadata": {},
   "source": [
    "### **Company:** Meta"
   ]
  },
  {
   "cell_type": "markdown",
   "id": "3a594f1d",
   "metadata": {},
   "source": [
    "## **Description:**"
   ]
  },
  {
   "cell_type": "markdown",
   "id": "db87acad",
   "metadata": {},
   "source": [
    "How would you compare the relative performance of two different backend engines for automated generation of Meta/Facebook \"Friend\" suggestions?"
   ]
  },
  {
   "cell_type": "markdown",
   "id": "76383bb0",
   "metadata": {},
   "source": [
    "## **Solution:**"
   ]
  },
  {
   "cell_type": "code",
   "execution_count": null,
   "id": "15a464ca",
   "metadata": {},
   "outputs": [],
   "source": []
  }
 ],
 "metadata": {},
 "nbformat": 4,
 "nbformat_minor": 5
}
