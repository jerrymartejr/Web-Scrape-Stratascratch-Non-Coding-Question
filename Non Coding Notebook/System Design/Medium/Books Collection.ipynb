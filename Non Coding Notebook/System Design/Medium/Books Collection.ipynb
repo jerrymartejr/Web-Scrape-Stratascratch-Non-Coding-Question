{
 "cells": [
  {
   "cell_type": "markdown",
   "id": "e714ea17",
   "metadata": {},
   "source": [
    "### **Link:** https://platform.stratascratch.com/technical/2039-books-collection"
   ]
  },
  {
   "cell_type": "markdown",
   "id": "47096be4",
   "metadata": {},
   "source": [
    "### **ID:** ID 2039"
   ]
  },
  {
   "cell_type": "markdown",
   "id": "581d867e",
   "metadata": {},
   "source": [
    "# Books Collection"
   ]
  },
  {
   "cell_type": "markdown",
   "id": "6d2d008f",
   "metadata": {},
   "source": [
    "### **Difficulty:** Medium"
   ]
  },
  {
   "cell_type": "markdown",
   "id": "f7470b2f",
   "metadata": {},
   "source": [
    "### **Question Type:** System Design"
   ]
  },
  {
   "cell_type": "markdown",
   "id": "cbb66595",
   "metadata": {},
   "source": [
    "### **Company:** Workday, Asana"
   ]
  },
  {
   "cell_type": "markdown",
   "id": "fd292fae",
   "metadata": {},
   "source": [
    "## **Description:**"
   ]
  },
  {
   "cell_type": "markdown",
   "id": "c98a3935",
   "metadata": {},
   "source": [
    "Given a huge collection of books, how would you tag each book based on genre?"
   ]
  },
  {
   "cell_type": "markdown",
   "id": "c6ee9981",
   "metadata": {},
   "source": [
    "## **Solution:**"
   ]
  },
  {
   "cell_type": "code",
   "execution_count": null,
   "id": "64f43ff2",
   "metadata": {},
   "outputs": [],
   "source": []
  }
 ],
 "metadata": {},
 "nbformat": 4,
 "nbformat_minor": 5
}
