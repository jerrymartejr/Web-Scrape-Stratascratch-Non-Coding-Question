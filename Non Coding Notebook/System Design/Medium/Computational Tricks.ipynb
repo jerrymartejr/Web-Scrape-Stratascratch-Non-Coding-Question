{
 "cells": [
  {
   "cell_type": "markdown",
   "id": "b73c03aa",
   "metadata": {},
   "source": [
    "### **Link:** https://platform.stratascratch.com/technical/2047-computational-tricks"
   ]
  },
  {
   "cell_type": "markdown",
   "id": "98c789f3",
   "metadata": {},
   "source": [
    "### **ID:** ID 2047"
   ]
  },
  {
   "cell_type": "markdown",
   "id": "1787e0b6",
   "metadata": {},
   "source": [
    "# Computational Tricks"
   ]
  },
  {
   "cell_type": "markdown",
   "id": "e914d8fe",
   "metadata": {},
   "source": [
    "### **Difficulty:** Medium"
   ]
  },
  {
   "cell_type": "markdown",
   "id": "ca82ab89",
   "metadata": {},
   "source": [
    "### **Question Type:** System Design"
   ]
  },
  {
   "cell_type": "markdown",
   "id": "6c87c8be",
   "metadata": {},
   "source": [
    "### **Company:** Microsoft"
   ]
  },
  {
   "cell_type": "markdown",
   "id": "220721eb",
   "metadata": {},
   "source": [
    "## **Description:**"
   ]
  },
  {
   "cell_type": "markdown",
   "id": "e07bc7bb",
   "metadata": {},
   "source": [
    "How to compute an inverse matrix faster by playing around with some computational tricks?"
   ]
  },
  {
   "cell_type": "markdown",
   "id": "d591d2a3",
   "metadata": {},
   "source": [
    "## **Solution:**"
   ]
  },
  {
   "cell_type": "code",
   "execution_count": null,
   "id": "33c43a77",
   "metadata": {},
   "outputs": [],
   "source": []
  }
 ],
 "metadata": {},
 "nbformat": 4,
 "nbformat_minor": 5
}
