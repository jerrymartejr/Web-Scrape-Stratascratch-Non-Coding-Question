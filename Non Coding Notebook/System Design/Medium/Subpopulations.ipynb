{
 "cells": [
  {
   "cell_type": "markdown",
   "id": "ea0515e9",
   "metadata": {},
   "source": [
    "### **Link:** https://platform.stratascratch.com/technical/2004-subpopulations"
   ]
  },
  {
   "cell_type": "markdown",
   "id": "e0c9fc1f",
   "metadata": {},
   "source": [
    "### **ID:** ID 2004"
   ]
  },
  {
   "cell_type": "markdown",
   "id": "1e7ae403",
   "metadata": {},
   "source": [
    "# Subpopulations"
   ]
  },
  {
   "cell_type": "markdown",
   "id": "359a9b4b",
   "metadata": {},
   "source": [
    "### **Difficulty:** Medium"
   ]
  },
  {
   "cell_type": "markdown",
   "id": "5c183208",
   "metadata": {},
   "source": [
    "### **Question Type:** System Design"
   ]
  },
  {
   "cell_type": "markdown",
   "id": "a9416e1a",
   "metadata": {},
   "source": [
    "### **Company:** Meta"
   ]
  },
  {
   "cell_type": "markdown",
   "id": "6ea427d7",
   "metadata": {},
   "source": [
    "## **Description:**"
   ]
  },
  {
   "cell_type": "markdown",
   "id": "be0044ea",
   "metadata": {},
   "source": [
    "Given a series of tables, write the SQL code you would need to count subpopulations through joins."
   ]
  },
  {
   "cell_type": "markdown",
   "id": "e22ed79b",
   "metadata": {},
   "source": [
    "## **Solution:**"
   ]
  },
  {
   "cell_type": "code",
   "execution_count": null,
   "id": "926f999b",
   "metadata": {},
   "outputs": [],
   "source": []
  }
 ],
 "metadata": {},
 "nbformat": 4,
 "nbformat_minor": 5
}
