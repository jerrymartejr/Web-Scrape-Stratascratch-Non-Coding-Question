{
 "cells": [
  {
   "cell_type": "markdown",
   "id": "7db6faf5",
   "metadata": {},
   "source": [
    "### **Link:** https://platform.stratascratch.com/technical/2382-automating-traffic-lights"
   ]
  },
  {
   "cell_type": "markdown",
   "id": "24a3139c",
   "metadata": {},
   "source": [
    "### **ID:** ID 2382"
   ]
  },
  {
   "cell_type": "markdown",
   "id": "f5344068",
   "metadata": {},
   "source": [
    "# Automating Traffic Lights"
   ]
  },
  {
   "cell_type": "markdown",
   "id": "b47ecad5",
   "metadata": {},
   "source": [
    "### **Difficulty:** Medium"
   ]
  },
  {
   "cell_type": "markdown",
   "id": "465f40d8",
   "metadata": {},
   "source": [
    "### **Question Type:** System Design"
   ]
  },
  {
   "cell_type": "markdown",
   "id": "ace1d618",
   "metadata": {},
   "source": [
    "### **Company:** EY, KPMG, Accenture"
   ]
  },
  {
   "cell_type": "markdown",
   "id": "5b19d526",
   "metadata": {},
   "source": [
    "## **Description:**"
   ]
  },
  {
   "cell_type": "markdown",
   "id": "b53399d7",
   "metadata": {},
   "source": [
    "Describe how would you approach a task of automating traffic lights. What factors will influence your choice of how much time to allocate for each phase of a cycle?"
   ]
  },
  {
   "cell_type": "markdown",
   "id": "fbe6d9c4",
   "metadata": {},
   "source": [
    "## **Solution:**"
   ]
  },
  {
   "cell_type": "code",
   "execution_count": null,
   "id": "6bd7306b",
   "metadata": {},
   "outputs": [],
   "source": []
  }
 ],
 "metadata": {},
 "nbformat": 4,
 "nbformat_minor": 5
}
