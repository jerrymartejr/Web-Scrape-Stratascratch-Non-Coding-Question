{
 "cells": [
  {
   "cell_type": "markdown",
   "id": "d9628081",
   "metadata": {},
   "source": [
    "### **Link:** https://platform.stratascratch.com/technical/2170-group-or-order-by"
   ]
  },
  {
   "cell_type": "markdown",
   "id": "5ab7ef3b",
   "metadata": {},
   "source": [
    "### **ID:** ID 2170"
   ]
  },
  {
   "cell_type": "markdown",
   "id": "f6a81754",
   "metadata": {},
   "source": [
    "# GROUP or ORDER BY"
   ]
  },
  {
   "cell_type": "markdown",
   "id": "e8ac606b",
   "metadata": {},
   "source": [
    "### **Difficulty:** Medium"
   ]
  },
  {
   "cell_type": "markdown",
   "id": "9392b193",
   "metadata": {},
   "source": [
    "### **Question Type:** System Design"
   ]
  },
  {
   "cell_type": "markdown",
   "id": "18f992cb",
   "metadata": {},
   "source": [
    "### **Company:** Meta"
   ]
  },
  {
   "cell_type": "markdown",
   "id": "5a980655",
   "metadata": {},
   "source": [
    "## **Description:**"
   ]
  },
  {
   "cell_type": "markdown",
   "id": "6d1611b8",
   "metadata": {},
   "source": [
    "Write a SQL query to compute a frequency table of a certain attribute involving two joins. What if you want to GROUP or ORDER BY some attribute? What changes would you need to make? How would you account for NULLs?"
   ]
  },
  {
   "cell_type": "markdown",
   "id": "526820c8",
   "metadata": {},
   "source": [
    "## **Solution:**"
   ]
  },
  {
   "cell_type": "code",
   "execution_count": null,
   "id": "ab0868b5",
   "metadata": {},
   "outputs": [],
   "source": []
  }
 ],
 "metadata": {},
 "nbformat": 4,
 "nbformat_minor": 5
}
