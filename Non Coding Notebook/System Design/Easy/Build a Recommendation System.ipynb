{
 "cells": [
  {
   "cell_type": "markdown",
   "id": "05ad8b5b",
   "metadata": {},
   "source": [
    "### **Link:** https://platform.stratascratch.com/technical/2148-build-a-recommendation-system"
   ]
  },
  {
   "cell_type": "markdown",
   "id": "495d30ea",
   "metadata": {},
   "source": [
    "### **ID:** ID 2148"
   ]
  },
  {
   "cell_type": "markdown",
   "id": "b4fe5022",
   "metadata": {},
   "source": [
    "# Build a Recommendation System"
   ]
  },
  {
   "cell_type": "markdown",
   "id": "77dc3465",
   "metadata": {},
   "source": [
    "### **Difficulty:** Easy"
   ]
  },
  {
   "cell_type": "markdown",
   "id": "b5292f4f",
   "metadata": {},
   "source": [
    "### **Question Type:** System Design"
   ]
  },
  {
   "cell_type": "markdown",
   "id": "4102b885",
   "metadata": {},
   "source": [
    "### **Company:** Audible, BuzzFeed, Disney"
   ]
  },
  {
   "cell_type": "markdown",
   "id": "299466d2",
   "metadata": {},
   "source": [
    "## **Description:**"
   ]
  },
  {
   "cell_type": "markdown",
   "id": "66d8ecf6",
   "metadata": {},
   "source": [
    "Can you walk us through how you would build a recommendation system?"
   ]
  },
  {
   "cell_type": "markdown",
   "id": "d02b0efc",
   "metadata": {},
   "source": [
    "## **Solution:**"
   ]
  },
  {
   "cell_type": "code",
   "execution_count": null,
   "id": "891629ad",
   "metadata": {},
   "outputs": [],
   "source": []
  }
 ],
 "metadata": {},
 "nbformat": 4,
 "nbformat_minor": 5
}
