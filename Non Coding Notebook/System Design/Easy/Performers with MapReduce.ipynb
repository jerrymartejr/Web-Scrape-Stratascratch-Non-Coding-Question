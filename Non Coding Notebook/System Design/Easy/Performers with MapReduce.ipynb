{
 "cells": [
  {
   "cell_type": "markdown",
   "id": "f1b0f6c0",
   "metadata": {},
   "source": [
    "### **Link:** https://platform.stratascratch.com/technical/2037-performers-with-mapreduce"
   ]
  },
  {
   "cell_type": "markdown",
   "id": "1def4dc3",
   "metadata": {},
   "source": [
    "### **ID:** ID 2037"
   ]
  },
  {
   "cell_type": "markdown",
   "id": "79244a2f",
   "metadata": {},
   "source": [
    "# Performers with MapReduce"
   ]
  },
  {
   "cell_type": "markdown",
   "id": "b2062b17",
   "metadata": {},
   "source": [
    "### **Difficulty:** Easy"
   ]
  },
  {
   "cell_type": "markdown",
   "id": "8ac4faf4",
   "metadata": {},
   "source": [
    "### **Question Type:** System Design"
   ]
  },
  {
   "cell_type": "markdown",
   "id": "8186fb1f",
   "metadata": {},
   "source": [
    "### **Company:** Kabbage, Capital One, MetLife"
   ]
  },
  {
   "cell_type": "markdown",
   "id": "93842538",
   "metadata": {},
   "source": [
    "## **Description:**"
   ]
  },
  {
   "cell_type": "markdown",
   "id": "7658b4bb",
   "metadata": {},
   "source": [
    "How would you join two data files (customers, sales) and report top 10 performers with MapReduce?"
   ]
  },
  {
   "cell_type": "markdown",
   "id": "62484aab",
   "metadata": {},
   "source": [
    "## **Solution:**"
   ]
  },
  {
   "cell_type": "code",
   "execution_count": null,
   "id": "beea510b",
   "metadata": {},
   "outputs": [],
   "source": []
  }
 ],
 "metadata": {},
 "nbformat": 4,
 "nbformat_minor": 5
}
