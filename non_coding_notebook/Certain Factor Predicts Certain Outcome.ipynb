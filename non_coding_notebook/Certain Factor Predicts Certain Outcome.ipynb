{
    "cells": [
        {
            "cell_type": "markdown",
            "metadata": {},
            "source": [
                "### **Link:** https://platform.stratascratch.com/technical/2236-certain-factor-predicts-certain-outcome"
            ]
        },
        {
            "cell_type": "markdown",
            "metadata": {},
            "source": [
                "# Certain Factor Predicts Certain Outcome"
            ]
        },
        {
            "cell_type": "markdown",
            "metadata": {},
            "source": [
                "##### **Company:** General Assembly, Pearson, Treehouse"
            ]
        },
        {
            "cell_type": "markdown",
            "metadata": {},
            "source": [
                "##### **Difficulty:** Easy"
            ]
        },
        {
            "cell_type": "markdown",
            "metadata": {},
            "source": [
                "##### **ID:** ID 2236"
            ]
        },
        {
            "cell_type": "markdown",
            "metadata": {},
            "source": [
                "##### Suppose you run an analysis that suggests a certain factor predicts a certain outcome. How would you gauge whether it's actually causation or just correlation?"
            ]
        },
        {
            "cell_type": "markdown",
            "metadata": {},
            "source": [
                "## **Solution:** "
            ]
        },
        {
            "cell_type": "code",
            "execution_count": null,
            "metadata": [
                {}
            ],
            "source": [
                ""
            ]
        }
    ],
    "metadata": {
        "kernelspec": {
            "display_name": "Python 3",
            "language": "python",
            "name": "python3"
        },
        "language_info": {
            "codemirror_mode": {
                "name": "ipython",
                "version": 3
            },
            "file_extension": ".py",
            "mimetype": "text/x-python",
            "name": "python",
            "nbconvert_exporter": "python",
            "pygments_lexer": "ipython3",
            "version": "3.11.4"
        }
    },
    "nbformat": 4,
    "nbformat_minor": 2,
    "name_of_the_file": "Certain Factor Predicts Certain Outcome.ipynb"
}