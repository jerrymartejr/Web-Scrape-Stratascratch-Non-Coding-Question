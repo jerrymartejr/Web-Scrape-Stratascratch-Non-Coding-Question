{
    "cells": [
        {
            "cell_type": "markdown",
            "metadata": {},
            "source": [
                "### **Link:** https://platform.stratascratch.com/technical/2428-statistical-hypothesis"
            ]
        },
        {
            "cell_type": "markdown",
            "metadata": {},
            "source": [
                "# Statistical Hypothesis"
            ]
        },
        {
            "cell_type": "markdown",
            "metadata": {},
            "source": [
                "##### **Company:** Amazon"
            ]
        },
        {
            "cell_type": "markdown",
            "metadata": {},
            "source": [
                "##### **Difficulty:** Medium"
            ]
        },
        {
            "cell_type": "markdown",
            "metadata": {},
            "source": [
                "##### **ID:** ID 2428"
            ]
        },
        {
            "cell_type": "markdown",
            "metadata": {},
            "source": [
                "##### How does statistical hypothesis testing work?"
            ]
        },
        {
            "cell_type": "markdown",
            "metadata": {},
            "source": [
                "## **Solution:** "
            ]
        },
        {
            "cell_type": "code",
            "execution_count": null,
            "metadata": [
                {}
            ],
            "source": [
                ""
            ]
        }
    ],
    "metadata": {
        "kernelspec": {
            "display_name": "Python 3",
            "language": "python",
            "name": "python3"
        },
        "language_info": {
            "codemirror_mode": {
                "name": "ipython",
                "version": 3
            },
            "file_extension": ".py",
            "mimetype": "text/x-python",
            "name": "python",
            "nbconvert_exporter": "python",
            "pygments_lexer": "ipython3",
            "version": "3.11.4"
        }
    },
    "nbformat": 4,
    "nbformat_minor": 2,
    "name_of_the_file": "Statistical Hypothesis.ipynb"
}