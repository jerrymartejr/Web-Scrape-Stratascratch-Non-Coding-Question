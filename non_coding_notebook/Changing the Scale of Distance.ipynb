{
    "cells": [
        {
            "cell_type": "markdown",
            "metadata": {},
            "source": [
                "### **Link:** https://platform.stratascratch.com/technical/2260-changing-the-scale-of-distance"
            ]
        },
        {
            "cell_type": "markdown",
            "metadata": {},
            "source": [
                "# Changing the Scale of Distance"
            ]
        },
        {
            "cell_type": "markdown",
            "metadata": {},
            "source": [
                "##### **Company:** Uber, Via Transportation (New York)"
            ]
        },
        {
            "cell_type": "markdown",
            "metadata": {},
            "source": [
                "##### **Difficulty:** Easy"
            ]
        },
        {
            "cell_type": "markdown",
            "metadata": {},
            "source": [
                "##### **ID:** ID 2260"
            ]
        },
        {
            "cell_type": "markdown",
            "metadata": {},
            "source": [
                "##### If we want to build a logistic regression model with the distance (between the rider's current location and the pickup location) as the feature and the rider's acceptance as output, what would be the meaning of the coefficient of the feature? What will happen to the model if we change the scale of the distance (from the mile to km, or from km to m)?"
            ]
        },
        {
            "cell_type": "markdown",
            "metadata": {},
            "source": [
                "## **Solution:** "
            ]
        },
        {
            "cell_type": "code",
            "execution_count": null,
            "metadata": [
                {}
            ],
            "source": [
                ""
            ]
        }
    ],
    "metadata": {
        "kernelspec": {
            "display_name": "Python 3",
            "language": "python",
            "name": "python3"
        },
        "language_info": {
            "codemirror_mode": {
                "name": "ipython",
                "version": 3
            },
            "file_extension": ".py",
            "mimetype": "text/x-python",
            "name": "python",
            "nbconvert_exporter": "python",
            "pygments_lexer": "ipython3",
            "version": "3.11.4"
        }
    },
    "nbformat": 4,
    "nbformat_minor": 2,
    "name_of_the_file": "Changing the Scale of Distance.ipynb"
}