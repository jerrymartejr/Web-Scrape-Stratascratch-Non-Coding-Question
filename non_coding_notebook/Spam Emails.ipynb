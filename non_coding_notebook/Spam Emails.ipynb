{
    "cells": [
        {
            "cell_type": "markdown",
            "metadata": {},
            "source": [
                "### **Link:** https://platform.stratascratch.com/technical/2435-spam-emails"
            ]
        },
        {
            "cell_type": "markdown",
            "metadata": {},
            "source": [
                "# Spam Emails"
            ]
        },
        {
            "cell_type": "markdown",
            "metadata": {},
            "source": [
                "##### **Company:** Google"
            ]
        },
        {
            "cell_type": "markdown",
            "metadata": {},
            "source": [
                "##### **Difficulty:** Hard"
            ]
        },
        {
            "cell_type": "markdown",
            "metadata": {},
            "source": [
                "##### **ID:** ID 2435"
            ]
        },
        {
            "cell_type": "markdown",
            "metadata": {},
            "source": [
                "##### A cybersecurity firm reports that 10% of all emails sent are spam. If a user receives 100 emails, what is the probability that at least 5 of them are spam?"
            ]
        },
        {
            "cell_type": "markdown",
            "metadata": {},
            "source": [
                "## **Solution:** "
            ]
        },
        {
            "cell_type": "code",
            "execution_count": null,
            "metadata": [
                {}
            ],
            "source": [
                ""
            ]
        }
    ],
    "metadata": {
        "kernelspec": {
            "display_name": "Python 3",
            "language": "python",
            "name": "python3"
        },
        "language_info": {
            "codemirror_mode": {
                "name": "ipython",
                "version": 3
            },
            "file_extension": ".py",
            "mimetype": "text/x-python",
            "name": "python",
            "nbconvert_exporter": "python",
            "pygments_lexer": "ipython3",
            "version": "3.11.4"
        }
    },
    "nbformat": 4,
    "nbformat_minor": 2,
    "name_of_the_file": "Spam Emails.ipynb"
}