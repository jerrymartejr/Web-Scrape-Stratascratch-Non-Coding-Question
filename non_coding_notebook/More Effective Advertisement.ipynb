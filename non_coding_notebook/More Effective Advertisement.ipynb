{
    "cells": [
        {
            "cell_type": "markdown",
            "metadata": {},
            "source": [
                "### **Link:** https://platform.stratascratch.com/technical/2434-more-effective-advertisement"
            ]
        },
        {
            "cell_type": "markdown",
            "metadata": {},
            "source": [
                "# More Effective Advertisement"
            ]
        },
        {
            "cell_type": "markdown",
            "metadata": {},
            "source": [
                "##### **Company:** Amazon"
            ]
        },
        {
            "cell_type": "markdown",
            "metadata": {},
            "source": [
                "##### **Difficulty:** Medium"
            ]
        },
        {
            "cell_type": "markdown",
            "metadata": {},
            "source": [
                "##### **ID:** ID 2434"
            ]
        },
        {
            "cell_type": "markdown",
            "metadata": {},
            "source": [
                "##### A website has two versions of an advertisement: one with a blue background and one with a red background. You want to determine which version is more effective at getting users to click on the ad. You randomly show one version to 100 users and the other version to another 100 users. The blue ad is clicked on by 30 users and the red ad is clicked on by 40 users. What is the probability that the red ad is more effective, given this data?"
            ]
        },
        {
            "cell_type": "markdown",
            "metadata": {},
            "source": [
                "## **Solution:** "
            ]
        },
        {
            "cell_type": "code",
            "execution_count": null,
            "metadata": [
                {}
            ],
            "source": [
                ""
            ]
        }
    ],
    "metadata": {
        "kernelspec": {
            "display_name": "Python 3",
            "language": "python",
            "name": "python3"
        },
        "language_info": {
            "codemirror_mode": {
                "name": "ipython",
                "version": 3
            },
            "file_extension": ".py",
            "mimetype": "text/x-python",
            "name": "python",
            "nbconvert_exporter": "python",
            "pygments_lexer": "ipython3",
            "version": "3.11.4"
        }
    },
    "nbformat": 4,
    "nbformat_minor": 2,
    "name_of_the_file": "More Effective Advertisement.ipynb"
}